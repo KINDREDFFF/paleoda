{
 "cells": [
  {
   "cell_type": "markdown",
   "id": "c05c800d-1fea-4f63-9b42-f2cf916f420a",
   "metadata": {},
   "source": [
    "# Climate Reconstruction from Real Speleothem Proxies\n",
    "\n",
    "* Objective:\n",
    "    - Get the GMT curves for all 5 Models + the Multimodel ensemble.\n",
    "    - **Objective:** The curves should look similar\n",
    "    - Test the full Multitimescale (1,5,10,20,40) on the Anomalies, no psm.\n",
    "    - Use downsampled models first.\n",
    "    - Play around with the anomaly mean windows (1600 - 1800?). 1900 may already have some global warming in it."
   ]
  },
  {
   "cell_type": "code",
   "execution_count": 10,
   "id": "b8750051-3019-417d-bfc7-fab0d171308f",
   "metadata": {},
   "outputs": [],
   "source": [
    "cfg = {\n",
    "#BASIC PARAMS\n",
    "'vp':{\n",
    "'d18O':'/home/mchoblet/paleoda/data/model_data/ECHAM5_d18O_850_1849.nc',\n",
    "'prec':'/home/mchoblet/paleoda/data/model_data/ECHAM5_prec_850_1849.nc',\n",
    "'tsurf': '/home/mchoblet/paleoda/data/model_data/ECHAM5_tsurf_850_1849.nc',\n",
    "'evap': '/home/mchoblet/paleoda/data/model_data/ECHAM5_evap_850_1849.nc',\n",
    "'slp': None,\n",
    "},\n",
    "'oro': None,\n",
    "'reconstruct':['tsurf','d18O','prec'], \n",
    "'output_folder':'GMT_from_speleos_normalres', #in cwd\n",
    "'output_file':'Echam_1_10_20',\n",
    "'multi_model_prior': None, #None or a list where the first entry is a dictionary of dictionaries for the file paths and secord a dictionary with the orography files\n",
    "'avg':None, \n",
    "'seed': 42, \n",
    "'check_nan':False, #mainly needed for iHadCM3, because of its missing years nans are introduced with 'resampled'\n",
    "###PROXYS\n",
    "#'obsdata':['/home/mchoblet/paleoda/data/proxy_dbs/sisal_db.nc'],#['/home/mchoblet/paleoda/data/proxy_dbs/sisal_db.nc'],#,'/home/mchoblet/paleoda/data/proxy_dbs/iso2k_db.nc'],\n",
    "'obsdata':['/home/mchoblet/paleoda/data/proxy_dbs/sisal_1600_1800.nc'],\n",
    "'obs_var':[['d18O','d18O_precision']],#,['d18O','d18O_precision']], #name of variables and uncertainties in proxy_db files\n",
    "'proxy_error': [0.1], #irrelevant for PPE\n",
    "'time_scales': ['median'], \n",
    "'proxy_time':['0800','1999'], \n",
    "'resample': True,#True,\n",
    "'resample_mode': 'linear',#'nearest',\n",
    "'mask': 3, \n",
    "###MULTI-TIMESCALE\n",
    "#'timescales':[1,5,10,20,40], #list of timescales (have to be true divisors of longest timescale (block size)) Timescale 1 always required! \n",
    "#'timescales':[1],\n",
    "'timescales':[1,5,10,20,40],\n",
    "'reuse': True,#True, #e.g if a yearly resolved proxy is also to be used in the 5,10 year mean reconstruction\n",
    "###PSM\n",
    "'psm':['speleo'], \n",
    "'interpol':None, #None/'dw'\n",
    "'var_psm': ['d18O'] ,\n",
    "'speleo':{\n",
    "    'weighting': None,#'inf', #None(pure d18O) / prec (d180 prec weighted)/ inf (d18O prec-evap weighted)\n",
    "    'height': False, #height correction: True requires orography of model + proxy_db must have a coordinate 'elev'. Lapse rate assumed -0.28 for isotopes and -0.65 for temperature\n",
    "    'fractionation': False, #requires tsurf (in 'vp')\n",
    "    'fractionation_temp': 'regular', #'regular'\n",
    "    'filter': False, #True: convolution of yearly means with 2.5 year transit time, or float: transit time\n",
    "    't_time': 2.5, #if filter equal true, use this as a transit time\n",
    "},\n",
    "'icecore':{\n",
    "    'weighting':'prec', #None(pure d18O) / prec (d180 prec weighted)\n",
    "    'height': False, #height correction: True requires orography of model and 'elev' coordinate for proxy_db. Requires that proxy_db has a coordinate 'lapse rate' (e.g. i attributed -0.15 to non polar porxies and -0.28 to polar ones (per 100m)\n",
    "    'filter': False, #If True the PSM-function from PRYSM which takes into account diffusion is applied. \n",
    "},\n",
    "#currently this only works for one Database files, probably at some point that needs to be more flexible\n",
    "'linear':{\n",
    "    'variable': 'tsurf' , #variable to regress against\n",
    "    'type': 'anom' , #absolute value or anomaly\n",
    "    'anom_time': None , #None for full simulation, or time-list \n",
    "    'uniform': None, # if you just want one linear formula to rule them all [slope, intercept]\n",
    "    #names of the regression parameters in the proxy-db\n",
    "    'slope': 'slope' ,\n",
    "    'intercept': 'intercept',\n",
    "    'error': 'error', #make sure that the error in the database info is really the regression error *variance*, not standard error.\n",
    "},\n",
    "###PSEUDOPROXY-EXPERIMENTS (variable comes from var_psm)\n",
    "'ppe': {\n",
    "    'use': False,\n",
    "    'SNR': [5,5], #signal to noise variance ratio\n",
    "    'noise_type': 'w', #'w'/'r'\n",
    "    'red_noise_a': 0.32, #autocorrelation for red noise\n",
    "    'multi_timescale': [[1],[1]], \n",
    "    'source': 'external', #internal/external\n",
    "    'other_model': \n",
    "    {'vp':{'tsurf':'/home/ldap-server/draco/cleaned_data/final/CESM_tsurf_850_1850.nc',\n",
    "    'prec':'/home/ldap-server/draco/cleaned_data/final/CESM_prec_850_1850.nc',\n",
    "    'd18O':'/home/ldap-server/draco/cleaned_data/final/CESM_d18O_850_1850.nc',\n",
    "    'evap': '/home/ldap-server/draco/cleaned_data/final/CESM_evap_850_1850.nc'}},\n",
    "    'oro': '/home/ldap-server/draco/orographies/final/icesm_oro.nc',\n",
    "    'metrics_ppe': ['Corr','p_value','p_bootstrap','eff_p_value','CE','RMSE','RMSPE','MAE','MAPE'],\n",
    "    'psm' : {'speleo':{   'weighting':'inf', #None(pure d18O) / prec (d180 prec weighted)/ inf (d18O prec-evap weighted)\n",
    "    'height': False, #height correction: True requires orography of model + proxy_db must have a coordinate 'elev'. Lapse rate assumed -0.28 for isotopes and -0.65 for temperature\n",
    "    'fractionation':True, #requires tsurf (in 'vp')\n",
    "    'fractionation_temp': 'regular', #'regular'\n",
    "    'filter': False, #True: convolution of yearly means with 2.5 year transit time, or float: transit time\n",
    "    't_time': 2.5, #if filter equal true, use this as a transit time\n",
    "}, 'icecore': None},\n",
    "},\n",
    "    # cfg['ppe']['psm']= {'speleo':None, 'icecore': None} # if the config from above for the psm (which gives the obs-from-model) shall be different for the pseudoproxies.\n",
    "#else just leave it as {'speleo':None, 'icecore': None} \n",
    "    \n",
    "###KALMAN-FILTER\n",
    "'time': ['0800','1999'], #covered by all models\n",
    "'nens':100, #ensemble members\n",
    "'reps':1, #Monte Carlo\n",
    "'full_fields': False, \n",
    "'proxy_frac': None, #choose 100 random proxies\n",
    "'extra_assi': \n",
    "    {\n",
    "        'globalmean': ['tsurf','d18O','prec'], #None or list of variables\n",
    "        'lat_mean': ['tsurf'], #None or list of variables\n",
    "        'regionalmean': None, #None or list of variables\n",
    "        'region':None, #None or list of list [[latS,latN],[latW,latE]] #specify the regions in 0-360 longitude system\n",
    "        'prec_weighted': False, #if you want to get the precipitation weighted d18O\n",
    "    },\n",
    "'error_scale':1, \n",
    "'anomaly': 'BG+HX', #/ 'HX'\n",
    "'anomaly_time': ['1600','1800'],#None,#['1500','1750'],#None,\n",
    "'cov_loc': None,\n",
    "#evaluation metrics (which do not rely on a true state)\n",
    "'metrics': [None],#['rank_histogram','rank_histogram_posterior','CD'], #['None']\n",
    "}"
   ]
  },
  {
   "cell_type": "code",
   "execution_count": 3,
   "id": "d924a1c4-9f3c-46a5-859e-33c8b52089a0",
   "metadata": {},
   "outputs": [],
   "source": [
    "downsampled_paths={\n",
    "'iCESM':{'d18O':'/home/mchoblet/paleoda/data/model_data/downsampled/CESM_d18O_850_1850.nc',\n",
    "'evap':'/home/mchoblet/paleoda/data/model_data/downsampled/CESM_evap_850_1850.nc',\n",
    "'prec':'/home/mchoblet/paleoda/data/model_data/downsampled/CESM_prec_850_1850.nc',\n",
    "'tsurf':'/home/mchoblet/paleoda/data/model_data/downsampled/CESM_tsurf_850_1850.nc',\n",
    "       },\n",
    "'isoGSM':{'d18O':'/home/mchoblet/paleoda/data/model_data/downsampled/CCSM_d18O_851_1850.nc',\n",
    "'evap':'/home/mchoblet/paleoda/data/model_data/downsampled/CCSM_evap_851_1850.nc',\n",
    "'prec':'/home/mchoblet/paleoda/data/model_data/downsampled/CCSM_prec_851_1850.nc',\n",
    "'tsurf':'/home/mchoblet/paleoda/data/model_data/downsampled/CCSM_tsurf_851_1850.nc',\n",
    "       },    \n",
    "'Echam':{'d18O':'/home/mchoblet/paleoda/data/model_data/downsampled/ECHAM5_d18O_850_1849.nc',\n",
    "'evap':'/home/mchoblet/paleoda/data/model_data/downsampled/ECHAM5_evap_850_1849.nc',\n",
    "'prec':'/home/mchoblet/paleoda/data/model_data/downsampled/ECHAM5_prec_850_1849.nc',\n",
    "'tsurf':'/home/mchoblet/paleoda/data/model_data/downsampled/ECHAM5_tsurf_850_1849.nc',\n",
    "       },\n",
    "'GISS':{'d18O':'/home/mchoblet/paleoda/data/model_data/downsampled/GISS_d18O_850_1849.nc',\n",
    "'evap':'/home/mchoblet/paleoda/data/model_data/downsampled/GISS_evap_850_1849.nc',\n",
    "'prec':'/home/mchoblet/paleoda/data/model_data/downsampled/GISS_prec_850_1849.nc',\n",
    "'tsurf':'/home/mchoblet/paleoda/data/model_data/downsampled/GISS_tsurf_850_1849.nc',\n",
    "'slp': '/home/mchoblet/paleoda/data/model_data/downsampled/GISS_slp_850_1849.nc',\n",
    "       },\n",
    "'iHadCM3':{'d18O':'/home/mchoblet/paleoda/data/model_data/downsampled/iHADCM3_d18O_801_1952.nc',\n",
    "'evap':'/home/mchoblet/paleoda/data/model_data/downsampled/iHADCM3_evap_801_1952.nc',\n",
    "'prec':'/home/mchoblet/paleoda/data/model_data/downsampled/iHADCM3_prec_801_1952.nc',\n",
    "'tsurf':'/home/mchoblet/paleoda/data/model_data/downsampled/iHADCM3_tsurf_801_1952.nc',\n",
    "'slp':'/home/mchoblet/paleoda/data/model_data/downsampled/iHADCM3_slp_801_1952.nc',\n",
    "       }\n",
    "}"
   ]
  },
  {
   "cell_type": "code",
   "execution_count": 4,
   "id": "081a5126-032a-4147-bb29-862a604d735a",
   "metadata": {},
   "outputs": [],
   "source": [
    "downsampled_paths_nogiss={\n",
    "'iCESM':{'d18O':'/home/mchoblet/paleoda/data/model_data/downsampled/CESM_d18O_850_1850.nc',\n",
    "'evap':'/home/mchoblet/paleoda/data/model_data/downsampled/CESM_evap_850_1850.nc',\n",
    "'prec':'/home/mchoblet/paleoda/data/model_data/downsampled/CESM_prec_850_1850.nc',\n",
    "'tsurf':'/home/mchoblet/paleoda/data/model_data/downsampled/CESM_tsurf_850_1850.nc',\n",
    "       },\n",
    "'isoGSM':{'d18O':'/home/mchoblet/paleoda/data/model_data/downsampled/CCSM_d18O_851_1850.nc',\n",
    "'evap':'/home/mchoblet/paleoda/data/model_data/downsampled/CCSM_evap_851_1850.nc',\n",
    "'prec':'/home/mchoblet/paleoda/data/model_data/downsampled/CCSM_prec_851_1850.nc',\n",
    "'tsurf':'/home/mchoblet/paleoda/data/model_data/downsampled/CCSM_tsurf_851_1850.nc',\n",
    "       },    \n",
    "'Echam':{'d18O':'/home/mchoblet/paleoda/data/model_data/downsampled/ECHAM5_d18O_850_1849.nc',\n",
    "'evap':'/home/mchoblet/paleoda/data/model_data/downsampled/ECHAM5_evap_850_1849.nc',\n",
    "'prec':'/home/mchoblet/paleoda/data/model_data/downsampled/ECHAM5_prec_850_1849.nc',\n",
    "'tsurf':'/home/mchoblet/paleoda/data/model_data/downsampled/ECHAM5_tsurf_850_1849.nc',\n",
    "       },\n",
    "'iHadCM3':{'d18O':'/home/mchoblet/paleoda/data/model_data/downsampled/iHADCM3_d18O_801_1952.nc',\n",
    "'evap':'/home/mchoblet/paleoda/data/model_data/downsampled/iHADCM3_evap_801_1952.nc',\n",
    "'prec':'/home/mchoblet/paleoda/data/model_data/downsampled/iHADCM3_prec_801_1952.nc',\n",
    "'tsurf':'/home/mchoblet/paleoda/data/model_data/downsampled/iHADCM3_tsurf_801_1952.nc',\n",
    "'slp':'/home/mchoblet/paleoda/data/model_data/downsampled/iHADCM3_slp_801_1952.nc',\n",
    "       }\n",
    "}"
   ]
  },
  {
   "cell_type": "code",
   "execution_count": 5,
   "id": "8cfad492-7585-405f-8f1f-f69bcde1aeb6",
   "metadata": {},
   "outputs": [],
   "source": [
    "import sys\n",
    "sys.path.append('/home/mchoblet/paleoda')\n",
    "\n",
    "import xarray as xr\n",
    "import wrapper\n",
    "import dataloader\n",
    "import tqdm\n",
    "import numpy as np\n",
    "\n",
    "import matplotlib.pyplot as plt\n",
    "import seaborn as sns\n",
    "\n",
    "import cartopy.crs as ccrs\n",
    "from cartopy.util import add_cyclic_point\n",
    "import cartopy.feature as cfeature  \n",
    "from matplotlib.offsetbox import AnchoredText    \n",
    "import utils\n",
    "\n",
    "import copy\n",
    "\n",
    "%load_ext autoreload\n",
    "%autoreload 2"
   ]
  },
  {
   "cell_type": "code",
   "execution_count": 70,
   "id": "bd19ffb0-9686-4b1d-99ee-c6c49a16c3cf",
   "metadata": {},
   "outputs": [
    {
     "data": {
      "text/plain": [
       "False"
      ]
     },
     "execution_count": 70,
     "metadata": {},
     "output_type": "execute_result"
    }
   ],
   "source": [
    "cfg['full_fields']"
   ]
  },
  {
   "cell_type": "code",
   "execution_count": 11,
   "id": "e0e95a39-11d8-4b07-ad4d-7f8babd01df0",
   "metadata": {},
   "outputs": [],
   "source": [
    "def experiment_speleo_gmt(paths,cfg,multi_model,multi_model_nogiss):\n",
    "    \"\"\"\n",
    "     - Reconstruction of GMT anomaly (full_fields=False)\n",
    "     - Anomalies with respect to 1600-1800 (BG + HX)\n",
    "     - No Psm \n",
    "     - 'timescales':[1,5,10,20,40],\n",
    "     - 'reuse': True,\n",
    "     - 10 repetitions with 80 percent of the proxies\n",
    "    \"\"\"\n",
    "    cfg['cov_loc']=None\n",
    "    cfg['reps']=10\n",
    "    cfg['proxy_frac']=0.8\n",
    "    for i,p in paths.items():\n",
    "\n",
    "        cfg=cfg.copy()\n",
    "        \"\"\"\n",
    "        if i=='GISS':\n",
    "            cfg['cov_loc']=12000\n",
    "            cfg['full_fields']=True\n",
    "        else:\n",
    "            cfg['full_fields']=False\n",
    "        \"\"\"\n",
    "        if i=='iHadCM3':\n",
    "            cfg['check_nan']=True\n",
    "        else:\n",
    "            cfg['check_nan']=False\n",
    "        \n",
    "        print(i)\n",
    "        cfg['check_nan']=True\n",
    "        cfg['multi_model_prior']=None\n",
    "        #echange paths\n",
    "        cfg['vp']=p\n",
    "\n",
    "        cfg['output_file']=str(i)+'_800_1999'\n",
    "\n",
    "        wrapper.paleoda_wrapper(cfg)\n",
    "    \n",
    "    #multi_model_ensemble\n",
    "    cfg['multi_model_prior']=multi_model\n",
    "    cfg['output_file']='mme'+'_800_1999'\n",
    "    wrapper.paleoda_wrapper(cfg)\n",
    "    \n",
    "    #multi_model_ensemble\n",
    "    cfg['multi_model_prior']=multi_model_nogiss\n",
    "    cfg['output_file']='mme_nogiss'+'_800_1999'\n",
    "    wrapper.paleoda_wrapper(cfg)\n",
    "    \n",
    "    ##same with mini_r\n",
    "    #mini-r (give more weight to the proxies)\n",
    "    cfg['proxy_error']=0.01\n",
    "    cfg['output_folder']='GMT_from_speleos_minir_normalres'\n",
    "    \n",
    "    for i,p in paths.items():\n",
    "\n",
    "        cfg=cfg.copy()\n",
    "        \"\"\"\n",
    "        if i=='GISS':\n",
    "            cfg['cov_loc']=12000\n",
    "            cfg['full_fields']=True\n",
    "        else:\n",
    "            cfg['full_fields']=False\n",
    "        print(i)\n",
    "        \"\"\"\n",
    "        \n",
    "        if i=='iHadCM3':\n",
    "            cfg['check_nan']=True\n",
    "        else:\n",
    "            cfg['check_nan']=False\n",
    "            \n",
    "        cfg['multi_model_prior']=None\n",
    "        #echange paths\n",
    "        cfg['vp']=p\n",
    "        cfg['output_file']=str(i)+'_800_1999'\n",
    "\n",
    "        wrapper.paleoda_wrapper(cfg)\n",
    "    \n",
    "    #multi_model_ensemble\n",
    "    cfg['multi_model_prior']=multi_model\n",
    "    cfg['output_file']='mme'+'_800_1999'\n",
    "    wrapper.paleoda_wrapper(cfg)\n",
    "    \n",
    "    #multi_model_ensemble no giss\n",
    "    cfg['multi_model_prior']=multi_model_nogiss\n",
    "    cfg['output_file']='mme_nogiss'+'_800_1999'\n",
    "    wrapper.paleoda_wrapper(cfg)\n",
    "    "
   ]
  },
  {
   "cell_type": "code",
   "execution_count": null,
   "id": "0581ded9-a016-45b1-a796-ab99173308f3",
   "metadata": {
    "collapsed": true,
    "jupyter": {
     "outputs_hidden": true
    },
    "tags": []
   },
   "outputs": [
    {
     "name": "stdout",
     "output_type": "stream",
     "text": [
      "iCESM\n",
      ">>>>>LOADING PROXY DATA\n",
      "COMPUTE TIMERESOLUTION OF PROXIES\n",
      "RESAMPLING THE PROXIES\n",
      "resampling of proxies in each database\n"
     ]
    },
    {
     "name": "stderr",
     "output_type": "stream",
     "text": [
      "100%|██████████| 113/113 [00:13<00:00,  8.33it/s]\n"
     ]
    },
    {
     "name": "stdout",
     "output_type": "stream",
     "text": [
      "Load d18O  from  /home/mchoblet/paleoda/data/model_data/downsampled/CESM_d18O_850_1850.nc\n",
      "computing yearly average\n",
      "Checking prior for nans\n",
      "Load evap  from  /home/mchoblet/paleoda/data/model_data/downsampled/CESM_evap_850_1850.nc\n",
      "computing yearly average\n",
      "Checking prior for nans\n",
      "Load prec  from  /home/mchoblet/paleoda/data/model_data/downsampled/CESM_prec_850_1850.nc\n",
      "computing yearly average\n",
      "Checking prior for nans\n",
      "Load tsurf  from  /home/mchoblet/paleoda/data/model_data/downsampled/CESM_tsurf_850_1850.nc\n",
      "computing yearly average\n",
      "Checking prior for nans\n",
      "USING SPELEO PSM\n",
      "COMPUTE ANOMALIES IN MODE: BG+HX\n",
      "Compute anomaly for proxies\n",
      "Start Multitimescale DA loop.\n"
     ]
    },
    {
     "name": "stderr",
     "output_type": "stream",
     "text": [
      "100%|██████████| 10/10 [06:10<00:00, 37.08s/it]\n"
     ]
    },
    {
     "name": "stdout",
     "output_type": "stream",
     "text": [
      "Finished multitimescale DA\n",
      "Save variables\n",
      "Output written to iCESM_800_1999.nc\n",
      "isoGSM\n",
      ">>>>>LOADING PROXY DATA\n",
      "COMPUTE TIMERESOLUTION OF PROXIES\n",
      "RESAMPLING THE PROXIES\n",
      "resampling of proxies in each database\n"
     ]
    },
    {
     "name": "stderr",
     "output_type": "stream",
     "text": [
      "100%|██████████| 113/113 [00:13<00:00,  8.18it/s]\n"
     ]
    },
    {
     "name": "stdout",
     "output_type": "stream",
     "text": [
      "Load d18O  from  /home/mchoblet/paleoda/data/model_data/downsampled/CCSM_d18O_851_1850.nc\n",
      "computing yearly average\n",
      "Checking prior for nans\n",
      "Load evap  from  /home/mchoblet/paleoda/data/model_data/downsampled/CCSM_evap_851_1850.nc\n",
      "computing yearly average\n",
      "Checking prior for nans\n",
      "Load prec  from  /home/mchoblet/paleoda/data/model_data/downsampled/CCSM_prec_851_1850.nc\n",
      "computing yearly average\n",
      "Checking prior for nans\n",
      "Load tsurf  from  /home/mchoblet/paleoda/data/model_data/downsampled/CCSM_tsurf_851_1850.nc\n",
      "computing yearly average\n",
      "Checking prior for nans\n",
      "USING SPELEO PSM\n",
      "COMPUTE ANOMALIES IN MODE: BG+HX\n",
      "Compute anomaly for proxies\n",
      "Start Multitimescale DA loop.\n"
     ]
    },
    {
     "name": "stderr",
     "output_type": "stream",
     "text": [
      "100%|██████████| 10/10 [06:08<00:00, 36.85s/it]\n"
     ]
    },
    {
     "name": "stdout",
     "output_type": "stream",
     "text": [
      "Finished multitimescale DA\n",
      "Save variables\n",
      "Output written to isoGSM_800_1999.nc\n",
      "Echam\n",
      ">>>>>LOADING PROXY DATA\n",
      "COMPUTE TIMERESOLUTION OF PROXIES\n",
      "RESAMPLING THE PROXIES\n",
      "resampling of proxies in each database\n"
     ]
    },
    {
     "name": "stderr",
     "output_type": "stream",
     "text": [
      "100%|██████████| 113/113 [00:13<00:00,  8.18it/s]\n"
     ]
    },
    {
     "name": "stdout",
     "output_type": "stream",
     "text": [
      "Load d18O  from  /home/mchoblet/paleoda/data/model_data/downsampled/ECHAM5_d18O_850_1849.nc\n",
      "computing yearly average\n",
      "Checking prior for nans\n",
      "Load evap  from  /home/mchoblet/paleoda/data/model_data/downsampled/ECHAM5_evap_850_1849.nc\n",
      "computing yearly average\n",
      "Checking prior for nans\n",
      "Load prec  from  /home/mchoblet/paleoda/data/model_data/downsampled/ECHAM5_prec_850_1849.nc\n",
      "computing yearly average\n",
      "Checking prior for nans\n",
      "Load tsurf  from  /home/mchoblet/paleoda/data/model_data/downsampled/ECHAM5_tsurf_850_1849.nc\n",
      "computing yearly average\n",
      "Checking prior for nans\n",
      "USING SPELEO PSM\n",
      "COMPUTE ANOMALIES IN MODE: BG+HX\n",
      "Compute anomaly for proxies\n",
      "Start Multitimescale DA loop.\n"
     ]
    },
    {
     "name": "stderr",
     "output_type": "stream",
     "text": [
      "100%|██████████| 10/10 [06:08<00:00, 36.87s/it]\n"
     ]
    },
    {
     "name": "stdout",
     "output_type": "stream",
     "text": [
      "Finished multitimescale DA\n",
      "Save variables\n",
      "Output written to Echam_800_1999.nc\n",
      "GISS\n",
      ">>>>>LOADING PROXY DATA\n",
      "COMPUTE TIMERESOLUTION OF PROXIES\n",
      "RESAMPLING THE PROXIES\n",
      "resampling of proxies in each database\n"
     ]
    },
    {
     "name": "stderr",
     "output_type": "stream",
     "text": [
      "100%|██████████| 113/113 [00:14<00:00,  8.06it/s]\n"
     ]
    },
    {
     "name": "stdout",
     "output_type": "stream",
     "text": [
      "Load d18O  from  /home/mchoblet/paleoda/data/model_data/downsampled/GISS_d18O_850_1849.nc\n",
      "computing yearly average\n",
      "Checking prior for nans\n",
      "Load evap  from  /home/mchoblet/paleoda/data/model_data/downsampled/GISS_evap_850_1849.nc\n",
      "computing yearly average\n",
      "Checking prior for nans\n",
      "Load prec  from  /home/mchoblet/paleoda/data/model_data/downsampled/GISS_prec_850_1849.nc\n",
      "computing yearly average\n",
      "Checking prior for nans\n",
      "Load tsurf  from  /home/mchoblet/paleoda/data/model_data/downsampled/GISS_tsurf_850_1849.nc\n",
      "computing yearly average\n",
      "Checking prior for nans\n",
      "Load slp  from  /home/mchoblet/paleoda/data/model_data/downsampled/GISS_slp_850_1849.nc\n",
      "computing yearly average\n",
      "Checking prior for nans\n",
      "USING SPELEO PSM\n",
      "COMPUTE ANOMALIES IN MODE: BG+HX\n",
      "Compute anomaly for proxies\n",
      "Start Multitimescale DA loop.\n"
     ]
    },
    {
     "name": "stderr",
     "output_type": "stream",
     "text": [
      "100%|██████████| 10/10 [06:06<00:00, 36.62s/it]\n"
     ]
    },
    {
     "name": "stdout",
     "output_type": "stream",
     "text": [
      "Finished multitimescale DA\n",
      "Save variables\n",
      "Output written to GISS_800_1999.nc\n",
      "iHadCM3\n",
      ">>>>>LOADING PROXY DATA\n",
      "COMPUTE TIMERESOLUTION OF PROXIES\n",
      "RESAMPLING THE PROXIES\n",
      "resampling of proxies in each database\n"
     ]
    },
    {
     "name": "stderr",
     "output_type": "stream",
     "text": [
      "100%|██████████| 113/113 [00:14<00:00,  8.02it/s]\n"
     ]
    },
    {
     "name": "stdout",
     "output_type": "stream",
     "text": [
      "Load d18O  from  /home/mchoblet/paleoda/data/model_data/downsampled/iHADCM3_d18O_801_1952.nc\n",
      "computing yearly average\n",
      "Checking prior for nans\n",
      "Only nans in year 1426-01-01 00:00:00 . Replaced values with previous year\n",
      "Only nans in year 1427-01-01 00:00:00 . Replaced values with previous year\n",
      "Only nans in year 1428-01-01 00:00:00 . Replaced values with previous year\n",
      "Load evap  from  /home/mchoblet/paleoda/data/model_data/downsampled/iHADCM3_evap_801_1952.nc\n",
      "computing yearly average\n",
      "Checking prior for nans\n",
      "Only nans in year 1426-01-01 00:00:00 . Replaced values with previous year\n",
      "Only nans in year 1427-01-01 00:00:00 . Replaced values with previous year\n",
      "Only nans in year 1428-01-01 00:00:00 . Replaced values with previous year\n",
      "Load prec  from  /home/mchoblet/paleoda/data/model_data/downsampled/iHADCM3_prec_801_1952.nc\n",
      "computing yearly average\n",
      "Checking prior for nans\n",
      "Only nans in year 1426-01-01 00:00:00 . Replaced values with previous year\n",
      "Only nans in year 1427-01-01 00:00:00 . Replaced values with previous year\n",
      "Only nans in year 1428-01-01 00:00:00 . Replaced values with previous year\n",
      "Load tsurf  from  /home/mchoblet/paleoda/data/model_data/downsampled/iHADCM3_tsurf_801_1952.nc\n",
      "computing yearly average\n",
      "Checking prior for nans\n",
      "Only nans in year 1426-01-01 00:00:00 . Replaced values with previous year\n",
      "Only nans in year 1427-01-01 00:00:00 . Replaced values with previous year\n",
      "Only nans in year 1428-01-01 00:00:00 . Replaced values with previous year\n",
      "Load slp  from  /home/mchoblet/paleoda/data/model_data/downsampled/iHADCM3_slp_801_1952.nc\n",
      "computing yearly average\n",
      "Checking prior for nans\n",
      "Only nans in year 1426-01-01 00:00:00 . Replaced values with previous year\n",
      "Only nans in year 1427-01-01 00:00:00 . Replaced values with previous year\n",
      "Only nans in year 1428-01-01 00:00:00 . Replaced values with previous year\n",
      "USING SPELEO PSM\n",
      "COMPUTE ANOMALIES IN MODE: BG+HX\n",
      "Compute anomaly for proxies\n",
      "Start Multitimescale DA loop.\n"
     ]
    },
    {
     "name": "stderr",
     "output_type": "stream",
     "text": [
      "100%|██████████| 10/10 [06:07<00:00, 36.79s/it]\n"
     ]
    },
    {
     "name": "stdout",
     "output_type": "stream",
     "text": [
      "Finished multitimescale DA\n",
      "Save variables\n",
      "Output written to iHadCM3_800_1999.nc\n",
      ">>>>>LOADING PROXY DATA\n",
      "COMPUTE TIMERESOLUTION OF PROXIES\n",
      "RESAMPLING THE PROXIES\n",
      "resampling of proxies in each database\n"
     ]
    },
    {
     "name": "stderr",
     "output_type": "stream",
     "text": [
      "100%|██████████| 113/113 [00:14<00:00,  7.99it/s]\n"
     ]
    },
    {
     "name": "stdout",
     "output_type": "stream",
     "text": [
      "Will compute a multi-model-prior!\n",
      "Load d18O  from  /home/mchoblet/paleoda/data/model_data/downsampled/CESM_d18O_850_1850.nc\n",
      "computing yearly average\n",
      "Load evap  from  /home/mchoblet/paleoda/data/model_data/downsampled/CESM_evap_850_1850.nc\n",
      "computing yearly average\n",
      "Load prec  from  /home/mchoblet/paleoda/data/model_data/downsampled/CESM_prec_850_1850.nc\n",
      "computing yearly average\n",
      "Load tsurf  from  /home/mchoblet/paleoda/data/model_data/downsampled/CESM_tsurf_850_1850.nc\n",
      "computing yearly average\n",
      "USING SPELEO PSM\n",
      "COMPUTE ANOMALIES IN MODE: BG+HX\n",
      "Load d18O  from  /home/mchoblet/paleoda/data/model_data/downsampled/CCSM_d18O_851_1850.nc\n",
      "computing yearly average\n",
      "Load evap  from  /home/mchoblet/paleoda/data/model_data/downsampled/CCSM_evap_851_1850.nc\n",
      "computing yearly average\n",
      "Load prec  from  /home/mchoblet/paleoda/data/model_data/downsampled/CCSM_prec_851_1850.nc\n",
      "computing yearly average\n",
      "Load tsurf  from  /home/mchoblet/paleoda/data/model_data/downsampled/CCSM_tsurf_851_1850.nc\n",
      "computing yearly average\n",
      "USING SPELEO PSM\n",
      "COMPUTE ANOMALIES IN MODE: BG+HX\n",
      "Load d18O  from  /home/mchoblet/paleoda/data/model_data/downsampled/ECHAM5_d18O_850_1849.nc\n",
      "computing yearly average\n",
      "Load evap  from  /home/mchoblet/paleoda/data/model_data/downsampled/ECHAM5_evap_850_1849.nc\n",
      "computing yearly average\n",
      "Load prec  from  /home/mchoblet/paleoda/data/model_data/downsampled/ECHAM5_prec_850_1849.nc\n",
      "computing yearly average\n",
      "Load tsurf  from  /home/mchoblet/paleoda/data/model_data/downsampled/ECHAM5_tsurf_850_1849.nc\n",
      "computing yearly average\n",
      "USING SPELEO PSM\n",
      "COMPUTE ANOMALIES IN MODE: BG+HX\n",
      "Load d18O  from  /home/mchoblet/paleoda/data/model_data/downsampled/GISS_d18O_850_1849.nc\n",
      "computing yearly average\n",
      "Load evap  from  /home/mchoblet/paleoda/data/model_data/downsampled/GISS_evap_850_1849.nc\n",
      "computing yearly average\n",
      "Load prec  from  /home/mchoblet/paleoda/data/model_data/downsampled/GISS_prec_850_1849.nc\n",
      "computing yearly average\n",
      "Load tsurf  from  /home/mchoblet/paleoda/data/model_data/downsampled/GISS_tsurf_850_1849.nc\n",
      "computing yearly average\n",
      "Load slp  from  /home/mchoblet/paleoda/data/model_data/downsampled/GISS_slp_850_1849.nc\n",
      "computing yearly average\n",
      "USING SPELEO PSM\n",
      "COMPUTE ANOMALIES IN MODE: BG+HX\n",
      "Load d18O  from  /home/mchoblet/paleoda/data/model_data/downsampled/iHADCM3_d18O_801_1952.nc\n",
      "computing yearly average\n",
      "Checking prior for nans\n",
      "Only nans in year 1426-01-01 00:00:00 . Replaced values with previous year\n",
      "Only nans in year 1427-01-01 00:00:00 . Replaced values with previous year\n",
      "Only nans in year 1428-01-01 00:00:00 . Replaced values with previous year\n",
      "Load evap  from  /home/mchoblet/paleoda/data/model_data/downsampled/iHADCM3_evap_801_1952.nc\n",
      "computing yearly average\n",
      "Checking prior for nans\n",
      "Only nans in year 1426-01-01 00:00:00 . Replaced values with previous year\n",
      "Only nans in year 1427-01-01 00:00:00 . Replaced values with previous year\n",
      "Only nans in year 1428-01-01 00:00:00 . Replaced values with previous year\n",
      "Load prec  from  /home/mchoblet/paleoda/data/model_data/downsampled/iHADCM3_prec_801_1952.nc\n",
      "computing yearly average\n",
      "Checking prior for nans\n",
      "Only nans in year 1426-01-01 00:00:00 . Replaced values with previous year\n",
      "Only nans in year 1427-01-01 00:00:00 . Replaced values with previous year\n",
      "Only nans in year 1428-01-01 00:00:00 . Replaced values with previous year\n",
      "Load tsurf  from  /home/mchoblet/paleoda/data/model_data/downsampled/iHADCM3_tsurf_801_1952.nc\n",
      "computing yearly average\n",
      "Checking prior for nans\n",
      "Only nans in year 1426-01-01 00:00:00 . Replaced values with previous year\n",
      "Only nans in year 1427-01-01 00:00:00 . Replaced values with previous year\n",
      "Only nans in year 1428-01-01 00:00:00 . Replaced values with previous year\n",
      "Load slp  from  /home/mchoblet/paleoda/data/model_data/downsampled/iHADCM3_slp_801_1952.nc\n",
      "computing yearly average\n",
      "Checking prior for nans\n",
      "Only nans in year 1426-01-01 00:00:00 . Replaced values with previous year\n",
      "Only nans in year 1427-01-01 00:00:00 . Replaced values with previous year\n",
      "Only nans in year 1428-01-01 00:00:00 . Replaced values with previous year\n",
      "USING SPELEO PSM\n",
      "COMPUTE ANOMALIES IN MODE: BG+HX\n",
      "Compute anomaly for proxies\n",
      "Start Multitimescale DA loop.\n"
     ]
    },
    {
     "name": "stderr",
     "output_type": "stream",
     "text": [
      " 30%|███       | 3/10 [12:06<28:15, 242.21s/it]"
     ]
    }
   ],
   "source": [
    "experiment_speleo_gmt(downsampled_paths,cfg,downsampled_paths,downsampled_paths_nogiss)"
   ]
  },
  {
   "cell_type": "markdown",
   "id": "016ab83c-0bc1-4d55-9754-dd2d6b9878a9",
   "metadata": {},
   "source": [
    "# Experiments with original model resolution"
   ]
  },
  {
   "cell_type": "code",
   "execution_count": 12,
   "id": "ea2e1de3-763c-4f24-8406-8f9c6c13d6e8",
   "metadata": {},
   "outputs": [],
   "source": [
    "normal_paths={\n",
    "'iCESM':{'d18O':'/home/mchoblet/paleoda/data/model_data/CESM_d18O_850_1850.nc',\n",
    "'evap':'/home/mchoblet/paleoda/data/model_data/CESM_evap_850_1850.nc',\n",
    "'prec':'/home/mchoblet/paleoda/data/model_data/CESM_prec_850_1850.nc',\n",
    "'tsurf':'/home/mchoblet/paleoda/data/model_data/CESM_tsurf_850_1850.nc',\n",
    "       },\n",
    "'isoGSM':{'d18O':'/home/mchoblet/paleoda/data/model_data/CCSM_d18O_851_1850.nc',\n",
    "'evap':'/home/mchoblet/paleoda/data/model_data/CCSM_evap_851_1850.nc',\n",
    "'prec':'/home/mchoblet/paleoda/data/model_data/CCSM_prec_851_1850.nc',\n",
    "'tsurf':'/home/mchoblet/paleoda/data/model_data/CCSM_tsurf_851_1850.nc',\n",
    "       },    \n",
    "'Echam':{'d18O':'/home/mchoblet/paleoda/data/model_data/ECHAM5_d18O_850_1849.nc',\n",
    "'evap':'/home/mchoblet/paleoda/data/model_data/ECHAM5_evap_850_1849.nc',\n",
    "'prec':'/home/mchoblet/paleoda/data/model_data/ECHAM5_prec_850_1849.nc',\n",
    "'tsurf':'/home/mchoblet/paleoda/data/model_data/ECHAM5_tsurf_850_1849.nc',\n",
    "       },\n",
    "'GISS':{'d18O':'/home/mchoblet/paleoda/data/model_data/GISS_d18O_850_1849.nc',\n",
    "'evap':'/home/mchoblet/paleoda/data/model_data/GISS_evap_850_1849.nc',\n",
    "'prec':'/home/mchoblet/paleoda/data/model_data/GISS_prec_850_1849.nc',\n",
    "'tsurf':'/home/mchoblet/paleoda/data/model_data/GISS_tsurf_850_1849.nc',\n",
    "'slp': '/home/mchoblet/paleoda/data/model_data/GISS_slp_850_1849.nc',\n",
    "       },\n",
    "'iHadCM3':{'d18O':'/home/mchoblet/paleoda/data/model_data/iHADCM3_d18O_801_1952.nc',\n",
    "'evap':'/home/mchoblet/paleoda/data/model_data/iHADCM3_evap_801_1952.nc',\n",
    "'prec':'/home/mchoblet/paleoda/data/model_data/iHADCM3_prec_801_1952.nc',\n",
    "'tsurf':'/home/mchoblet/paleoda/data/model_data/iHADCM3_tsurf_801_1952.nc',\n",
    "'slp':'/home/mchoblet/paleoda/data/model_data/iHADCM3_slp_801_1952.nc',\n",
    "       }\n",
    "}\n",
    "\n",
    "upsampled_paths_nogiss={\n",
    "'iCESM':{'d18O':'/home/mchoblet/paleoda/data/model_data/upsampled/CESM_d18O_850_1850.nc',\n",
    "'evap':'/home/mchoblet/paleoda/data/model_data/upsampled/CESM_evap_850_1850.nc',\n",
    "'prec':'/home/mchoblet/paleoda/data/model_data/upsampled/CESM_prec_850_1850.nc',\n",
    "'tsurf':'/home/mchoblet/paleoda/data/model_data/upsampled/CESM_tsurf_850_1850.nc',\n",
    "       },\n",
    "'isoGSM':{'d18O':'/home/mchoblet/paleoda/data/model_data/upsampled/CCSM_d18O_851_1850.nc',\n",
    "'evap':'/home/mchoblet/paleoda/data/model_data/upsampled/CCSM_evap_851_1850.nc',\n",
    "'prec':'/home/mchoblet/paleoda/data/model_data/upsampled/CCSM_prec_851_1850.nc',\n",
    "'tsurf':'/home/mchoblet/paleoda/data/model_data/upsampled/CCSM_tsurf_851_1850.nc',\n",
    "       },    \n",
    "'Echam':{'d18O':'/home/mchoblet/paleoda/data/model_data/upsampled/ECHAM5_d18O_850_1849.nc',\n",
    "'evap':'/home/mchoblet/paleoda/data/model_data/upsampled/ECHAM5_evap_850_1849.nc',\n",
    "'prec':'/home/mchoblet/paleoda/data/model_data/upsampled/ECHAM5_prec_850_1849.nc',\n",
    "'tsurf':'/home/mchoblet/paleoda/data/model_data/upsampled/ECHAM5_tsurf_850_1849.nc',\n",
    "       },\n",
    "'iHadCM3':{'d18O':'/home/mchoblet/paleoda/data/model_data/upsampled/iHADCM3_d18O_801_1952.nc',\n",
    "'evap':'/home/mchoblet/paleoda/data/model_data/upsampled/iHADCM3_evap_801_1952.nc',\n",
    "'prec':'/home/mchoblet/paleoda/data/model_data/upsampled/iHADCM3_prec_801_1952.nc',\n",
    "'tsurf':'/home/mchoblet/paleoda/data/model_data/upsampled/iHADCM3_tsurf_801_1952.nc',\n",
    "'slp':'/home/mchoblet/paleoda/data/model_data/upsampled/iHADCM3_slp_801_1952.nc',\n",
    "       }\n",
    "}\n",
    "\n",
    "upsampled_paths={\n",
    "'iCESM':{'d18O':'/home/mchoblet/paleoda/data/model_data/upsampled/CESM_d18O_850_1850.nc',\n",
    "'evap':'/home/mchoblet/paleoda/data/model_data/upsampled/CESM_evap_850_1850.nc',\n",
    "'prec':'/home/mchoblet/paleoda/data/model_data/upsampled/CESM_prec_850_1850.nc',\n",
    "'tsurf':'/home/mchoblet/paleoda/data/model_data/upsampled/CESM_tsurf_850_1850.nc',\n",
    "       },\n",
    "'isoGSM':{'d18O':'/home/mchoblet/paleoda/data/model_data/upsampled/CCSM_d18O_851_1850.nc',\n",
    "'evap':'/home/mchoblet/paleoda/data/model_data/upsampled/CCSM_evap_851_1850.nc',\n",
    "'prec':'/home/mchoblet/paleoda/data/model_data/upsampled/CCSM_prec_851_1850.nc',\n",
    "'tsurf':'/home/mchoblet/paleoda/data/model_data/upsampled/CCSM_tsurf_851_1850.nc',\n",
    "       },    \n",
    "'Echam':{'d18O':'/home/mchoblet/paleoda/data/model_data/upsampled/ECHAM5_d18O_850_1849.nc',\n",
    "'evap':'/home/mchoblet/paleoda/data/model_data/upsampled/ECHAM5_evap_850_1849.nc',\n",
    "'prec':'/home/mchoblet/paleoda/data/model_data/upsampled/ECHAM5_prec_850_1849.nc',\n",
    "'tsurf':'/home/mchoblet/paleoda/data/model_data/upsampled/ECHAM5_tsurf_850_1849.nc',\n",
    "       },\n",
    "'GISS':{'d18O':'/home/mchoblet/paleoda/data/model_data/upsampled/GISS_d18O_850_1849.nc',\n",
    "'evap':'/home/mchoblet/paleoda/data/model_data/upsampled/GISS_evap_850_1849.nc',\n",
    "'prec':'/home/mchoblet/paleoda/data/model_data/upsampled/GISS_prec_850_1849.nc',\n",
    "'tsurf':'/home/mchoblet/paleoda/data/model_data/upsampled/GISS_tsurf_850_1849.nc',\n",
    "'slp': '/home/mchoblet/paleoda/data/model_data/upsampled/GISS_slp_850_1849.nc',\n",
    "       },\n",
    "'iHadCM3':{'d18O':'/home/mchoblet/paleoda/data/model_data/upsampled/iHADCM3_d18O_801_1952.nc',\n",
    "'evap':'/home/mchoblet/paleoda/data/model_data/upsampled/iHADCM3_evap_801_1952.nc',\n",
    "'prec':'/home/mchoblet/paleoda/data/model_data/upsampled/iHADCM3_prec_801_1952.nc',\n",
    "'tsurf':'/home/mchoblet/paleoda/data/model_data/upsampled/iHADCM3_tsurf_801_1952.nc',\n",
    "'slp':'/home/mchoblet/paleoda/data/model_data/upsampled/iHADCM3_slp_801_1952.nc',\n",
    "       }\n",
    "}\n"
   ]
  },
  {
   "cell_type": "code",
   "execution_count": 13,
   "id": "a8e84595-f764-463e-8713-527a6eaf2a39",
   "metadata": {},
   "outputs": [
    {
     "name": "stdout",
     "output_type": "stream",
     "text": [
      "iCESM\n",
      ">>>>>LOADING PROXY DATA\n",
      "COMPUTE TIMERESOLUTION OF PROXIES\n",
      "RESAMPLING THE PROXIES\n",
      "resampling of proxies in each database\n"
     ]
    },
    {
     "name": "stderr",
     "output_type": "stream",
     "text": [
      "100%|██████████| 113/113 [00:13<00:00,  8.31it/s]\n"
     ]
    },
    {
     "name": "stdout",
     "output_type": "stream",
     "text": [
      "Load d18O  from  /home/mchoblet/paleoda/data/model_data/CESM_d18O_850_1850.nc\n",
      "computing yearly average\n",
      "Checking prior for nans\n",
      "Load evap  from  /home/mchoblet/paleoda/data/model_data/CESM_evap_850_1850.nc\n",
      "computing yearly average\n",
      "Checking prior for nans\n",
      "Load prec  from  /home/mchoblet/paleoda/data/model_data/CESM_prec_850_1850.nc\n",
      "computing yearly average\n",
      "Checking prior for nans\n",
      "Load tsurf  from  /home/mchoblet/paleoda/data/model_data/CESM_tsurf_850_1850.nc\n",
      "computing yearly average\n",
      "Checking prior for nans\n",
      "USING SPELEO PSM\n",
      "COMPUTE ANOMALIES IN MODE: BG+HX\n",
      "Compute anomaly for proxies\n",
      "Start Multitimescale DA loop.\n"
     ]
    },
    {
     "name": "stderr",
     "output_type": "stream",
     "text": [
      "  0%|          | 0/10 [00:00<?, ?it/s]OMP: Info #276: omp_set_nested routine deprecated, please use omp_set_max_active_levels instead.\n",
      "100%|██████████| 10/10 [00:37<00:00,  3.75s/it]\n"
     ]
    },
    {
     "name": "stdout",
     "output_type": "stream",
     "text": [
      "Finished multitimescale DA\n",
      "Save variables\n",
      "Output written to iCESM_800_1999.nc\n",
      "isoGSM\n",
      ">>>>>LOADING PROXY DATA\n",
      "COMPUTE TIMERESOLUTION OF PROXIES\n",
      "RESAMPLING THE PROXIES\n",
      "resampling of proxies in each database\n"
     ]
    },
    {
     "name": "stderr",
     "output_type": "stream",
     "text": [
      "100%|██████████| 113/113 [00:13<00:00,  8.11it/s]\n"
     ]
    },
    {
     "name": "stdout",
     "output_type": "stream",
     "text": [
      "Load d18O  from  /home/mchoblet/paleoda/data/model_data/CCSM_d18O_851_1850.nc\n",
      "computing yearly average\n",
      "Checking prior for nans\n",
      "Load evap  from  /home/mchoblet/paleoda/data/model_data/CCSM_evap_851_1850.nc\n",
      "computing yearly average\n",
      "Checking prior for nans\n",
      "Load prec  from  /home/mchoblet/paleoda/data/model_data/CCSM_prec_851_1850.nc\n",
      "computing yearly average\n",
      "Checking prior for nans\n",
      "Load tsurf  from  /home/mchoblet/paleoda/data/model_data/CCSM_tsurf_851_1850.nc\n",
      "computing yearly average\n",
      "Checking prior for nans\n",
      "USING SPELEO PSM\n",
      "COMPUTE ANOMALIES IN MODE: BG+HX\n",
      "Compute anomaly for proxies\n",
      "Start Multitimescale DA loop.\n"
     ]
    },
    {
     "name": "stderr",
     "output_type": "stream",
     "text": [
      "100%|██████████| 10/10 [01:49<00:00, 10.99s/it]\n"
     ]
    },
    {
     "name": "stdout",
     "output_type": "stream",
     "text": [
      "Finished multitimescale DA\n",
      "Save variables\n",
      "Output written to isoGSM_800_1999.nc\n",
      "Echam\n",
      ">>>>>LOADING PROXY DATA\n",
      "COMPUTE TIMERESOLUTION OF PROXIES\n",
      "RESAMPLING THE PROXIES\n",
      "resampling of proxies in each database\n"
     ]
    },
    {
     "name": "stderr",
     "output_type": "stream",
     "text": [
      "100%|██████████| 113/113 [00:14<00:00,  7.84it/s]\n"
     ]
    },
    {
     "name": "stdout",
     "output_type": "stream",
     "text": [
      "Load d18O  from  /home/mchoblet/paleoda/data/model_data/ECHAM5_d18O_850_1849.nc\n",
      "computing yearly average\n",
      "Checking prior for nans\n",
      "Load evap  from  /home/mchoblet/paleoda/data/model_data/ECHAM5_evap_850_1849.nc\n",
      "computing yearly average\n",
      "Checking prior for nans\n",
      "Load prec  from  /home/mchoblet/paleoda/data/model_data/ECHAM5_prec_850_1849.nc\n",
      "computing yearly average\n",
      "Checking prior for nans\n",
      "Load tsurf  from  /home/mchoblet/paleoda/data/model_data/ECHAM5_tsurf_850_1849.nc\n",
      "computing yearly average\n",
      "Checking prior for nans\n",
      "USING SPELEO PSM\n",
      "COMPUTE ANOMALIES IN MODE: BG+HX\n",
      "Compute anomaly for proxies\n",
      "Start Multitimescale DA loop.\n"
     ]
    },
    {
     "name": "stderr",
     "output_type": "stream",
     "text": [
      "100%|██████████| 10/10 [01:50<00:00, 11.09s/it]\n"
     ]
    },
    {
     "name": "stdout",
     "output_type": "stream",
     "text": [
      "Finished multitimescale DA\n",
      "Save variables\n",
      "Output written to Echam_800_1999.nc\n",
      "GISS\n",
      ">>>>>LOADING PROXY DATA\n",
      "COMPUTE TIMERESOLUTION OF PROXIES\n",
      "RESAMPLING THE PROXIES\n",
      "resampling of proxies in each database\n"
     ]
    },
    {
     "name": "stderr",
     "output_type": "stream",
     "text": [
      "100%|██████████| 113/113 [00:17<00:00,  6.55it/s]\n"
     ]
    },
    {
     "name": "stdout",
     "output_type": "stream",
     "text": [
      "Load d18O  from  /home/mchoblet/paleoda/data/model_data/GISS_d18O_850_1849.nc\n",
      "computing yearly average\n",
      "Checking prior for nans\n",
      "Load evap  from  /home/mchoblet/paleoda/data/model_data/GISS_evap_850_1849.nc\n",
      "computing yearly average\n",
      "Checking prior for nans\n",
      "Load prec  from  /home/mchoblet/paleoda/data/model_data/GISS_prec_850_1849.nc\n",
      "computing yearly average\n",
      "Checking prior for nans\n",
      "Load tsurf  from  /home/mchoblet/paleoda/data/model_data/GISS_tsurf_850_1849.nc\n",
      "computing yearly average\n",
      "Checking prior for nans\n",
      "Load slp  from  /home/mchoblet/paleoda/data/model_data/GISS_slp_850_1849.nc\n",
      "computing yearly average\n",
      "Checking prior for nans\n",
      "USING SPELEO PSM\n",
      "COMPUTE ANOMALIES IN MODE: BG+HX\n",
      "Compute anomaly for proxies\n",
      "Start Multitimescale DA loop.\n"
     ]
    },
    {
     "name": "stderr",
     "output_type": "stream",
     "text": [
      "100%|██████████| 10/10 [03:30<00:00, 21.03s/it]\n"
     ]
    },
    {
     "name": "stdout",
     "output_type": "stream",
     "text": [
      "Finished multitimescale DA\n",
      "Save variables\n",
      "Output written to GISS_800_1999.nc\n",
      "iHadCM3\n",
      ">>>>>LOADING PROXY DATA\n",
      "COMPUTE TIMERESOLUTION OF PROXIES\n",
      "RESAMPLING THE PROXIES\n",
      "resampling of proxies in each database\n"
     ]
    },
    {
     "name": "stderr",
     "output_type": "stream",
     "text": [
      "100%|██████████| 113/113 [00:19<00:00,  5.91it/s]\n"
     ]
    },
    {
     "name": "stdout",
     "output_type": "stream",
     "text": [
      "Load d18O  from  /home/mchoblet/paleoda/data/model_data/iHADCM3_d18O_801_1952.nc\n",
      "computing yearly average\n",
      "Checking prior for nans\n",
      "Only nans in year 1426-01-01 00:00:00 . Replaced values with previous year\n",
      "Only nans in year 1427-01-01 00:00:00 . Replaced values with previous year\n",
      "Only nans in year 1428-01-01 00:00:00 . Replaced values with previous year\n",
      "Load evap  from  /home/mchoblet/paleoda/data/model_data/iHADCM3_evap_801_1952.nc\n",
      "computing yearly average\n",
      "Checking prior for nans\n",
      "Only nans in year 1426-01-01 00:00:00 . Replaced values with previous year\n",
      "Only nans in year 1427-01-01 00:00:00 . Replaced values with previous year\n",
      "Only nans in year 1428-01-01 00:00:00 . Replaced values with previous year\n",
      "Load prec  from  /home/mchoblet/paleoda/data/model_data/iHADCM3_prec_801_1952.nc\n",
      "computing yearly average\n",
      "Checking prior for nans\n",
      "Only nans in year 1426-01-01 00:00:00 . Replaced values with previous year\n",
      "Only nans in year 1427-01-01 00:00:00 . Replaced values with previous year\n",
      "Only nans in year 1428-01-01 00:00:00 . Replaced values with previous year\n",
      "Load tsurf  from  /home/mchoblet/paleoda/data/model_data/iHADCM3_tsurf_801_1952.nc\n",
      "computing yearly average\n",
      "Checking prior for nans\n",
      "Only nans in year 1426-01-01 00:00:00 . Replaced values with previous year\n",
      "Only nans in year 1427-01-01 00:00:00 . Replaced values with previous year\n",
      "Only nans in year 1428-01-01 00:00:00 . Replaced values with previous year\n",
      "Load slp  from  /home/mchoblet/paleoda/data/model_data/iHADCM3_slp_801_1952.nc\n",
      "computing yearly average\n",
      "Checking prior for nans\n",
      "Only nans in year 1426-01-01 00:00:00 . Replaced values with previous year\n",
      "Only nans in year 1427-01-01 00:00:00 . Replaced values with previous year\n",
      "Only nans in year 1428-01-01 00:00:00 . Replaced values with previous year\n",
      "USING SPELEO PSM\n",
      "COMPUTE ANOMALIES IN MODE: BG+HX\n",
      "Compute anomaly for proxies\n",
      "Start Multitimescale DA loop.\n"
     ]
    },
    {
     "name": "stderr",
     "output_type": "stream",
     "text": [
      "100%|██████████| 10/10 [02:31<00:00, 15.14s/it]\n"
     ]
    },
    {
     "name": "stdout",
     "output_type": "stream",
     "text": [
      "Finished multitimescale DA\n",
      "Save variables\n",
      "Output written to iHadCM3_800_1999.nc\n",
      ">>>>>LOADING PROXY DATA\n",
      "COMPUTE TIMERESOLUTION OF PROXIES\n",
      "RESAMPLING THE PROXIES\n",
      "resampling of proxies in each database\n"
     ]
    },
    {
     "name": "stderr",
     "output_type": "stream",
     "text": [
      "100%|██████████| 113/113 [00:19<00:00,  5.84it/s]\n"
     ]
    },
    {
     "name": "stdout",
     "output_type": "stream",
     "text": [
      "Will compute a multi-model-prior!\n",
      "Load d18O  from  /home/mchoblet/paleoda/data/model_data/upsampled/CESM_d18O_850_1850.nc\n",
      "computing yearly average\n",
      "Load evap  from  /home/mchoblet/paleoda/data/model_data/upsampled/CESM_evap_850_1850.nc\n",
      "computing yearly average\n",
      "Load prec  from  /home/mchoblet/paleoda/data/model_data/upsampled/CESM_prec_850_1850.nc\n",
      "computing yearly average\n",
      "Load tsurf  from  /home/mchoblet/paleoda/data/model_data/upsampled/CESM_tsurf_850_1850.nc\n",
      "computing yearly average\n",
      "USING SPELEO PSM\n",
      "COMPUTE ANOMALIES IN MODE: BG+HX\n",
      "Load d18O  from  /home/mchoblet/paleoda/data/model_data/upsampled/CCSM_d18O_851_1850.nc\n",
      "computing yearly average\n",
      "Load evap  from  /home/mchoblet/paleoda/data/model_data/upsampled/CCSM_evap_851_1850.nc\n",
      "computing yearly average\n",
      "Load prec  from  /home/mchoblet/paleoda/data/model_data/upsampled/CCSM_prec_851_1850.nc\n",
      "computing yearly average\n",
      "Load tsurf  from  /home/mchoblet/paleoda/data/model_data/upsampled/CCSM_tsurf_851_1850.nc\n",
      "computing yearly average\n",
      "USING SPELEO PSM\n",
      "COMPUTE ANOMALIES IN MODE: BG+HX\n",
      "Load d18O  from  /home/mchoblet/paleoda/data/model_data/upsampled/ECHAM5_d18O_850_1849.nc\n",
      "computing yearly average\n",
      "Load evap  from  /home/mchoblet/paleoda/data/model_data/upsampled/ECHAM5_evap_850_1849.nc\n",
      "computing yearly average\n",
      "Load prec  from  /home/mchoblet/paleoda/data/model_data/upsampled/ECHAM5_prec_850_1849.nc\n",
      "computing yearly average\n",
      "Load tsurf  from  /home/mchoblet/paleoda/data/model_data/upsampled/ECHAM5_tsurf_850_1849.nc\n",
      "computing yearly average\n",
      "USING SPELEO PSM\n",
      "COMPUTE ANOMALIES IN MODE: BG+HX\n",
      "Load d18O  from  /home/mchoblet/paleoda/data/model_data/upsampled/GISS_d18O_850_1849.nc\n",
      "computing yearly average\n",
      "Load evap  from  /home/mchoblet/paleoda/data/model_data/upsampled/GISS_evap_850_1849.nc\n",
      "computing yearly average\n",
      "Load prec  from  /home/mchoblet/paleoda/data/model_data/upsampled/GISS_prec_850_1849.nc\n",
      "computing yearly average\n",
      "Load tsurf  from  /home/mchoblet/paleoda/data/model_data/upsampled/GISS_tsurf_850_1849.nc\n",
      "computing yearly average\n",
      "Load slp  from  /home/mchoblet/paleoda/data/model_data/upsampled/GISS_slp_850_1849.nc\n",
      "computing yearly average\n",
      "USING SPELEO PSM\n",
      "COMPUTE ANOMALIES IN MODE: BG+HX\n",
      "Load d18O  from  /home/mchoblet/paleoda/data/model_data/upsampled/iHADCM3_d18O_801_1952.nc\n",
      "computing yearly average\n",
      "Checking prior for nans\n",
      "Only nans in year 1426-01-01 00:00:00 . Replaced values with previous year\n",
      "Only nans in year 1427-01-01 00:00:00 . Replaced values with previous year\n",
      "Only nans in year 1428-01-01 00:00:00 . Replaced values with previous year\n",
      "Load evap  from  /home/mchoblet/paleoda/data/model_data/upsampled/iHADCM3_evap_801_1952.nc\n",
      "computing yearly average\n",
      "Checking prior for nans\n",
      "Only nans in year 1426-01-01 00:00:00 . Replaced values with previous year\n",
      "Only nans in year 1427-01-01 00:00:00 . Replaced values with previous year\n",
      "Only nans in year 1428-01-01 00:00:00 . Replaced values with previous year\n",
      "Load prec  from  /home/mchoblet/paleoda/data/model_data/upsampled/iHADCM3_prec_801_1952.nc\n",
      "computing yearly average\n",
      "Checking prior for nans\n",
      "Only nans in year 1426-01-01 00:00:00 . Replaced values with previous year\n",
      "Only nans in year 1427-01-01 00:00:00 . Replaced values with previous year\n",
      "Only nans in year 1428-01-01 00:00:00 . Replaced values with previous year\n",
      "Load tsurf  from  /home/mchoblet/paleoda/data/model_data/upsampled/iHADCM3_tsurf_801_1952.nc\n",
      "computing yearly average\n",
      "Checking prior for nans\n",
      "Only nans in year 1426-01-01 00:00:00 . Replaced values with previous year\n",
      "Only nans in year 1427-01-01 00:00:00 . Replaced values with previous year\n",
      "Only nans in year 1428-01-01 00:00:00 . Replaced values with previous year\n",
      "Load slp  from  /home/mchoblet/paleoda/data/model_data/upsampled/iHADCM3_slp_801_1952.nc\n",
      "computing yearly average\n",
      "Checking prior for nans\n",
      "Only nans in year 1426-01-01 00:00:00 . Replaced values with previous year\n",
      "Only nans in year 1427-01-01 00:00:00 . Replaced values with previous year\n",
      "Only nans in year 1428-01-01 00:00:00 . Replaced values with previous year\n",
      "USING SPELEO PSM\n",
      "COMPUTE ANOMALIES IN MODE: BG+HX\n",
      "Compute anomaly for proxies\n",
      "Start Multitimescale DA loop.\n"
     ]
    },
    {
     "name": "stderr",
     "output_type": "stream",
     "text": [
      "100%|██████████| 10/10 [42:45<00:00, 256.59s/it]\n"
     ]
    },
    {
     "name": "stdout",
     "output_type": "stream",
     "text": [
      "Finished multitimescale DA\n",
      "Save variables\n",
      "Output written to mme_800_1999.nc\n",
      ">>>>>LOADING PROXY DATA\n",
      "COMPUTE TIMERESOLUTION OF PROXIES\n",
      "RESAMPLING THE PROXIES\n",
      "resampling of proxies in each database\n"
     ]
    },
    {
     "name": "stderr",
     "output_type": "stream",
     "text": [
      "100%|██████████| 113/113 [00:19<00:00,  5.74it/s]\n"
     ]
    },
    {
     "name": "stdout",
     "output_type": "stream",
     "text": [
      "Will compute a multi-model-prior!\n",
      "Load d18O  from  /home/mchoblet/paleoda/data/model_data/upsampled/CESM_d18O_850_1850.nc\n",
      "computing yearly average\n",
      "Load evap  from  /home/mchoblet/paleoda/data/model_data/upsampled/CESM_evap_850_1850.nc\n",
      "computing yearly average\n",
      "Load prec  from  /home/mchoblet/paleoda/data/model_data/upsampled/CESM_prec_850_1850.nc\n",
      "computing yearly average\n",
      "Load tsurf  from  /home/mchoblet/paleoda/data/model_data/upsampled/CESM_tsurf_850_1850.nc\n",
      "computing yearly average\n",
      "USING SPELEO PSM\n",
      "COMPUTE ANOMALIES IN MODE: BG+HX\n",
      "Load d18O  from  /home/mchoblet/paleoda/data/model_data/upsampled/CCSM_d18O_851_1850.nc\n",
      "computing yearly average\n",
      "Load evap  from  /home/mchoblet/paleoda/data/model_data/upsampled/CCSM_evap_851_1850.nc\n",
      "computing yearly average\n",
      "Load prec  from  /home/mchoblet/paleoda/data/model_data/upsampled/CCSM_prec_851_1850.nc\n",
      "computing yearly average\n",
      "Load tsurf  from  /home/mchoblet/paleoda/data/model_data/upsampled/CCSM_tsurf_851_1850.nc\n",
      "computing yearly average\n",
      "USING SPELEO PSM\n",
      "COMPUTE ANOMALIES IN MODE: BG+HX\n",
      "Load d18O  from  /home/mchoblet/paleoda/data/model_data/upsampled/ECHAM5_d18O_850_1849.nc\n",
      "computing yearly average\n",
      "Load evap  from  /home/mchoblet/paleoda/data/model_data/upsampled/ECHAM5_evap_850_1849.nc\n",
      "computing yearly average\n",
      "Load prec  from  /home/mchoblet/paleoda/data/model_data/upsampled/ECHAM5_prec_850_1849.nc\n",
      "computing yearly average\n",
      "Load tsurf  from  /home/mchoblet/paleoda/data/model_data/upsampled/ECHAM5_tsurf_850_1849.nc\n",
      "computing yearly average\n",
      "USING SPELEO PSM\n",
      "COMPUTE ANOMALIES IN MODE: BG+HX\n",
      "Load d18O  from  /home/mchoblet/paleoda/data/model_data/upsampled/iHADCM3_d18O_801_1952.nc\n",
      "computing yearly average\n",
      "Checking prior for nans\n",
      "Only nans in year 1426-01-01 00:00:00 . Replaced values with previous year\n",
      "Only nans in year 1427-01-01 00:00:00 . Replaced values with previous year\n",
      "Only nans in year 1428-01-01 00:00:00 . Replaced values with previous year\n",
      "Load evap  from  /home/mchoblet/paleoda/data/model_data/upsampled/iHADCM3_evap_801_1952.nc\n",
      "computing yearly average\n",
      "Checking prior for nans\n",
      "Only nans in year 1426-01-01 00:00:00 . Replaced values with previous year\n",
      "Only nans in year 1427-01-01 00:00:00 . Replaced values with previous year\n",
      "Only nans in year 1428-01-01 00:00:00 . Replaced values with previous year\n",
      "Load prec  from  /home/mchoblet/paleoda/data/model_data/upsampled/iHADCM3_prec_801_1952.nc\n",
      "computing yearly average\n",
      "Checking prior for nans\n",
      "Only nans in year 1426-01-01 00:00:00 . Replaced values with previous year\n",
      "Only nans in year 1427-01-01 00:00:00 . Replaced values with previous year\n",
      "Only nans in year 1428-01-01 00:00:00 . Replaced values with previous year\n",
      "Load tsurf  from  /home/mchoblet/paleoda/data/model_data/upsampled/iHADCM3_tsurf_801_1952.nc\n",
      "computing yearly average\n",
      "Checking prior for nans\n",
      "Only nans in year 1426-01-01 00:00:00 . Replaced values with previous year\n",
      "Only nans in year 1427-01-01 00:00:00 . Replaced values with previous year\n",
      "Only nans in year 1428-01-01 00:00:00 . Replaced values with previous year\n",
      "Load slp  from  /home/mchoblet/paleoda/data/model_data/upsampled/iHADCM3_slp_801_1952.nc\n",
      "computing yearly average\n",
      "Checking prior for nans\n",
      "Only nans in year 1426-01-01 00:00:00 . Replaced values with previous year\n",
      "Only nans in year 1427-01-01 00:00:00 . Replaced values with previous year\n",
      "Only nans in year 1428-01-01 00:00:00 . Replaced values with previous year\n",
      "USING SPELEO PSM\n",
      "COMPUTE ANOMALIES IN MODE: BG+HX\n",
      "Compute anomaly for proxies\n",
      "Start Multitimescale DA loop.\n"
     ]
    },
    {
     "name": "stderr",
     "output_type": "stream",
     "text": [
      "100%|██████████| 10/10 [31:42<00:00, 190.28s/it]\n"
     ]
    },
    {
     "name": "stdout",
     "output_type": "stream",
     "text": [
      "Finished multitimescale DA\n",
      "Save variables\n",
      "Output written to mme_nogiss_800_1999.nc\n",
      ">>>>>LOADING PROXY DATA\n",
      "COMPUTE TIMERESOLUTION OF PROXIES\n",
      "RESAMPLING THE PROXIES\n",
      "resampling of proxies in each database\n"
     ]
    },
    {
     "name": "stderr",
     "output_type": "stream",
     "text": [
      "100%|██████████| 113/113 [00:19<00:00,  5.78it/s]\n"
     ]
    },
    {
     "name": "stdout",
     "output_type": "stream",
     "text": [
      "Load d18O  from  /home/mchoblet/paleoda/data/model_data/CESM_d18O_850_1850.nc\n",
      "computing yearly average\n",
      "Load evap  from  /home/mchoblet/paleoda/data/model_data/CESM_evap_850_1850.nc\n",
      "computing yearly average\n",
      "Load prec  from  /home/mchoblet/paleoda/data/model_data/CESM_prec_850_1850.nc\n",
      "computing yearly average\n",
      "Load tsurf  from  /home/mchoblet/paleoda/data/model_data/CESM_tsurf_850_1850.nc\n",
      "computing yearly average\n",
      "USING SPELEO PSM\n",
      "COMPUTE ANOMALIES IN MODE: BG+HX\n",
      "Compute anomaly for proxies\n",
      "Start Multitimescale DA loop.\n"
     ]
    },
    {
     "name": "stderr",
     "output_type": "stream",
     "text": [
      "100%|██████████| 10/10 [03:43<00:00, 22.40s/it]\n"
     ]
    },
    {
     "name": "stdout",
     "output_type": "stream",
     "text": [
      "Finished multitimescale DA\n",
      "Save variables\n",
      "Output written to iCESM_800_1999.nc\n",
      ">>>>>LOADING PROXY DATA\n",
      "COMPUTE TIMERESOLUTION OF PROXIES\n",
      "RESAMPLING THE PROXIES\n",
      "resampling of proxies in each database\n"
     ]
    },
    {
     "name": "stderr",
     "output_type": "stream",
     "text": [
      "100%|██████████| 113/113 [00:19<00:00,  5.89it/s]\n"
     ]
    },
    {
     "name": "stdout",
     "output_type": "stream",
     "text": [
      "Load d18O  from  /home/mchoblet/paleoda/data/model_data/CCSM_d18O_851_1850.nc\n",
      "computing yearly average\n",
      "Load evap  from  /home/mchoblet/paleoda/data/model_data/CCSM_evap_851_1850.nc\n",
      "computing yearly average\n",
      "Load prec  from  /home/mchoblet/paleoda/data/model_data/CCSM_prec_851_1850.nc\n",
      "computing yearly average\n",
      "Load tsurf  from  /home/mchoblet/paleoda/data/model_data/CCSM_tsurf_851_1850.nc\n",
      "computing yearly average\n",
      "USING SPELEO PSM\n",
      "COMPUTE ANOMALIES IN MODE: BG+HX\n",
      "Compute anomaly for proxies\n",
      "Start Multitimescale DA loop.\n"
     ]
    },
    {
     "name": "stderr",
     "output_type": "stream",
     "text": [
      "100%|██████████| 10/10 [03:39<00:00, 21.96s/it]\n"
     ]
    },
    {
     "name": "stdout",
     "output_type": "stream",
     "text": [
      "Finished multitimescale DA\n",
      "Save variables\n",
      "Output written to isoGSM_800_1999.nc\n",
      ">>>>>LOADING PROXY DATA\n",
      "COMPUTE TIMERESOLUTION OF PROXIES\n",
      "RESAMPLING THE PROXIES\n",
      "resampling of proxies in each database\n"
     ]
    },
    {
     "name": "stderr",
     "output_type": "stream",
     "text": [
      "100%|██████████| 113/113 [00:19<00:00,  5.85it/s]\n"
     ]
    },
    {
     "name": "stdout",
     "output_type": "stream",
     "text": [
      "Load d18O  from  /home/mchoblet/paleoda/data/model_data/ECHAM5_d18O_850_1849.nc\n",
      "computing yearly average\n",
      "Load evap  from  /home/mchoblet/paleoda/data/model_data/ECHAM5_evap_850_1849.nc\n",
      "computing yearly average\n",
      "Load prec  from  /home/mchoblet/paleoda/data/model_data/ECHAM5_prec_850_1849.nc\n",
      "computing yearly average\n",
      "Load tsurf  from  /home/mchoblet/paleoda/data/model_data/ECHAM5_tsurf_850_1849.nc\n",
      "computing yearly average\n",
      "USING SPELEO PSM\n",
      "COMPUTE ANOMALIES IN MODE: BG+HX\n",
      "Compute anomaly for proxies\n",
      "Start Multitimescale DA loop.\n"
     ]
    },
    {
     "name": "stderr",
     "output_type": "stream",
     "text": [
      "100%|██████████| 10/10 [03:39<00:00, 21.90s/it]\n"
     ]
    },
    {
     "name": "stdout",
     "output_type": "stream",
     "text": [
      "Finished multitimescale DA\n",
      "Save variables\n",
      "Output written to Echam_800_1999.nc\n",
      ">>>>>LOADING PROXY DATA\n",
      "COMPUTE TIMERESOLUTION OF PROXIES\n",
      "RESAMPLING THE PROXIES\n",
      "resampling of proxies in each database\n"
     ]
    },
    {
     "name": "stderr",
     "output_type": "stream",
     "text": [
      "100%|██████████| 113/113 [00:19<00:00,  5.75it/s]\n"
     ]
    },
    {
     "name": "stdout",
     "output_type": "stream",
     "text": [
      "Load d18O  from  /home/mchoblet/paleoda/data/model_data/GISS_d18O_850_1849.nc\n",
      "computing yearly average\n",
      "Load evap  from  /home/mchoblet/paleoda/data/model_data/GISS_evap_850_1849.nc\n",
      "computing yearly average\n",
      "Load prec  from  /home/mchoblet/paleoda/data/model_data/GISS_prec_850_1849.nc\n",
      "computing yearly average\n",
      "Load tsurf  from  /home/mchoblet/paleoda/data/model_data/GISS_tsurf_850_1849.nc\n",
      "computing yearly average\n",
      "Load slp  from  /home/mchoblet/paleoda/data/model_data/GISS_slp_850_1849.nc\n",
      "computing yearly average\n",
      "USING SPELEO PSM\n",
      "COMPUTE ANOMALIES IN MODE: BG+HX\n",
      "Compute anomaly for proxies\n",
      "Start Multitimescale DA loop.\n"
     ]
    },
    {
     "name": "stderr",
     "output_type": "stream",
     "text": [
      "100%|██████████| 10/10 [03:51<00:00, 23.19s/it]\n"
     ]
    },
    {
     "name": "stdout",
     "output_type": "stream",
     "text": [
      "Finished multitimescale DA\n",
      "Save variables\n",
      "Output written to GISS_800_1999.nc\n",
      ">>>>>LOADING PROXY DATA\n",
      "COMPUTE TIMERESOLUTION OF PROXIES\n",
      "RESAMPLING THE PROXIES\n",
      "resampling of proxies in each database\n"
     ]
    },
    {
     "name": "stderr",
     "output_type": "stream",
     "text": [
      "100%|██████████| 113/113 [00:19<00:00,  5.85it/s]\n"
     ]
    },
    {
     "name": "stdout",
     "output_type": "stream",
     "text": [
      "Load d18O  from  /home/mchoblet/paleoda/data/model_data/iHADCM3_d18O_801_1952.nc\n",
      "computing yearly average\n",
      "Checking prior for nans\n",
      "Only nans in year 1426-01-01 00:00:00 . Replaced values with previous year\n",
      "Only nans in year 1427-01-01 00:00:00 . Replaced values with previous year\n",
      "Only nans in year 1428-01-01 00:00:00 . Replaced values with previous year\n",
      "Load evap  from  /home/mchoblet/paleoda/data/model_data/iHADCM3_evap_801_1952.nc\n",
      "computing yearly average\n",
      "Checking prior for nans\n",
      "Only nans in year 1426-01-01 00:00:00 . Replaced values with previous year\n",
      "Only nans in year 1427-01-01 00:00:00 . Replaced values with previous year\n",
      "Only nans in year 1428-01-01 00:00:00 . Replaced values with previous year\n",
      "Load prec  from  /home/mchoblet/paleoda/data/model_data/iHADCM3_prec_801_1952.nc\n",
      "computing yearly average\n",
      "Checking prior for nans\n",
      "Only nans in year 1426-01-01 00:00:00 . Replaced values with previous year\n",
      "Only nans in year 1427-01-01 00:00:00 . Replaced values with previous year\n",
      "Only nans in year 1428-01-01 00:00:00 . Replaced values with previous year\n",
      "Load tsurf  from  /home/mchoblet/paleoda/data/model_data/iHADCM3_tsurf_801_1952.nc\n",
      "computing yearly average\n",
      "Checking prior for nans\n",
      "Only nans in year 1426-01-01 00:00:00 . Replaced values with previous year\n",
      "Only nans in year 1427-01-01 00:00:00 . Replaced values with previous year\n",
      "Only nans in year 1428-01-01 00:00:00 . Replaced values with previous year\n",
      "Load slp  from  /home/mchoblet/paleoda/data/model_data/iHADCM3_slp_801_1952.nc\n",
      "computing yearly average\n",
      "Checking prior for nans\n",
      "Only nans in year 1426-01-01 00:00:00 . Replaced values with previous year\n",
      "Only nans in year 1427-01-01 00:00:00 . Replaced values with previous year\n",
      "Only nans in year 1428-01-01 00:00:00 . Replaced values with previous year\n",
      "USING SPELEO PSM\n",
      "COMPUTE ANOMALIES IN MODE: BG+HX\n",
      "Compute anomaly for proxies\n",
      "Start Multitimescale DA loop.\n"
     ]
    },
    {
     "name": "stderr",
     "output_type": "stream",
     "text": [
      "100%|██████████| 10/10 [04:18<00:00, 25.86s/it]\n"
     ]
    },
    {
     "name": "stdout",
     "output_type": "stream",
     "text": [
      "Finished multitimescale DA\n",
      "Save variables\n",
      "Output written to iHadCM3_800_1999.nc\n",
      ">>>>>LOADING PROXY DATA\n",
      "COMPUTE TIMERESOLUTION OF PROXIES\n",
      "RESAMPLING THE PROXIES\n",
      "resampling of proxies in each database\n"
     ]
    },
    {
     "name": "stderr",
     "output_type": "stream",
     "text": [
      "100%|██████████| 113/113 [00:19<00:00,  5.92it/s]\n"
     ]
    },
    {
     "name": "stdout",
     "output_type": "stream",
     "text": [
      "Will compute a multi-model-prior!\n",
      "Load d18O  from  /home/mchoblet/paleoda/data/model_data/upsampled/CESM_d18O_850_1850.nc\n",
      "computing yearly average\n",
      "Load evap  from  /home/mchoblet/paleoda/data/model_data/upsampled/CESM_evap_850_1850.nc\n",
      "computing yearly average\n",
      "Load prec  from  /home/mchoblet/paleoda/data/model_data/upsampled/CESM_prec_850_1850.nc\n",
      "computing yearly average\n",
      "Load tsurf  from  /home/mchoblet/paleoda/data/model_data/upsampled/CESM_tsurf_850_1850.nc\n",
      "computing yearly average\n",
      "USING SPELEO PSM\n",
      "COMPUTE ANOMALIES IN MODE: BG+HX\n",
      "Load d18O  from  /home/mchoblet/paleoda/data/model_data/upsampled/CCSM_d18O_851_1850.nc\n",
      "computing yearly average\n",
      "Load evap  from  /home/mchoblet/paleoda/data/model_data/upsampled/CCSM_evap_851_1850.nc\n",
      "computing yearly average\n",
      "Load prec  from  /home/mchoblet/paleoda/data/model_data/upsampled/CCSM_prec_851_1850.nc\n",
      "computing yearly average\n",
      "Load tsurf  from  /home/mchoblet/paleoda/data/model_data/upsampled/CCSM_tsurf_851_1850.nc\n",
      "computing yearly average\n",
      "USING SPELEO PSM\n",
      "COMPUTE ANOMALIES IN MODE: BG+HX\n",
      "Load d18O  from  /home/mchoblet/paleoda/data/model_data/upsampled/ECHAM5_d18O_850_1849.nc\n",
      "computing yearly average\n",
      "Load evap  from  /home/mchoblet/paleoda/data/model_data/upsampled/ECHAM5_evap_850_1849.nc\n",
      "computing yearly average\n",
      "Load prec  from  /home/mchoblet/paleoda/data/model_data/upsampled/ECHAM5_prec_850_1849.nc\n",
      "computing yearly average\n",
      "Load tsurf  from  /home/mchoblet/paleoda/data/model_data/upsampled/ECHAM5_tsurf_850_1849.nc\n",
      "computing yearly average\n",
      "USING SPELEO PSM\n",
      "COMPUTE ANOMALIES IN MODE: BG+HX\n",
      "Load d18O  from  /home/mchoblet/paleoda/data/model_data/upsampled/GISS_d18O_850_1849.nc\n",
      "computing yearly average\n",
      "Load evap  from  /home/mchoblet/paleoda/data/model_data/upsampled/GISS_evap_850_1849.nc\n",
      "computing yearly average\n",
      "Load prec  from  /home/mchoblet/paleoda/data/model_data/upsampled/GISS_prec_850_1849.nc\n",
      "computing yearly average\n",
      "Load tsurf  from  /home/mchoblet/paleoda/data/model_data/upsampled/GISS_tsurf_850_1849.nc\n",
      "computing yearly average\n",
      "Load slp  from  /home/mchoblet/paleoda/data/model_data/upsampled/GISS_slp_850_1849.nc\n",
      "computing yearly average\n",
      "USING SPELEO PSM\n",
      "COMPUTE ANOMALIES IN MODE: BG+HX\n",
      "Load d18O  from  /home/mchoblet/paleoda/data/model_data/upsampled/iHADCM3_d18O_801_1952.nc\n",
      "computing yearly average\n",
      "Checking prior for nans\n",
      "Only nans in year 1426-01-01 00:00:00 . Replaced values with previous year\n",
      "Only nans in year 1427-01-01 00:00:00 . Replaced values with previous year\n",
      "Only nans in year 1428-01-01 00:00:00 . Replaced values with previous year\n",
      "Load evap  from  /home/mchoblet/paleoda/data/model_data/upsampled/iHADCM3_evap_801_1952.nc\n",
      "computing yearly average\n",
      "Checking prior for nans\n",
      "Only nans in year 1426-01-01 00:00:00 . Replaced values with previous year\n",
      "Only nans in year 1427-01-01 00:00:00 . Replaced values with previous year\n",
      "Only nans in year 1428-01-01 00:00:00 . Replaced values with previous year\n",
      "Load prec  from  /home/mchoblet/paleoda/data/model_data/upsampled/iHADCM3_prec_801_1952.nc\n",
      "computing yearly average\n",
      "Checking prior for nans\n",
      "Only nans in year 1426-01-01 00:00:00 . Replaced values with previous year\n",
      "Only nans in year 1427-01-01 00:00:00 . Replaced values with previous year\n",
      "Only nans in year 1428-01-01 00:00:00 . Replaced values with previous year\n",
      "Load tsurf  from  /home/mchoblet/paleoda/data/model_data/upsampled/iHADCM3_tsurf_801_1952.nc\n",
      "computing yearly average\n",
      "Checking prior for nans\n",
      "Only nans in year 1426-01-01 00:00:00 . Replaced values with previous year\n",
      "Only nans in year 1427-01-01 00:00:00 . Replaced values with previous year\n",
      "Only nans in year 1428-01-01 00:00:00 . Replaced values with previous year\n",
      "Load slp  from  /home/mchoblet/paleoda/data/model_data/upsampled/iHADCM3_slp_801_1952.nc\n",
      "computing yearly average\n",
      "Checking prior for nans\n",
      "Only nans in year 1426-01-01 00:00:00 . Replaced values with previous year\n",
      "Only nans in year 1427-01-01 00:00:00 . Replaced values with previous year\n",
      "Only nans in year 1428-01-01 00:00:00 . Replaced values with previous year\n",
      "USING SPELEO PSM\n",
      "COMPUTE ANOMALIES IN MODE: BG+HX\n",
      "Compute anomaly for proxies\n",
      "Start Multitimescale DA loop.\n"
     ]
    },
    {
     "name": "stderr",
     "output_type": "stream",
     "text": [
      "100%|██████████| 10/10 [39:59<00:00, 239.99s/it]\n"
     ]
    },
    {
     "name": "stdout",
     "output_type": "stream",
     "text": [
      "Finished multitimescale DA\n",
      "Save variables\n",
      "Output written to mme_800_1999.nc\n",
      ">>>>>LOADING PROXY DATA\n",
      "COMPUTE TIMERESOLUTION OF PROXIES\n",
      "RESAMPLING THE PROXIES\n",
      "resampling of proxies in each database\n"
     ]
    },
    {
     "name": "stderr",
     "output_type": "stream",
     "text": [
      "100%|██████████| 113/113 [00:19<00:00,  5.76it/s]\n"
     ]
    },
    {
     "name": "stdout",
     "output_type": "stream",
     "text": [
      "Will compute a multi-model-prior!\n",
      "Load d18O  from  /home/mchoblet/paleoda/data/model_data/upsampled/CESM_d18O_850_1850.nc\n",
      "computing yearly average\n",
      "Load evap  from  /home/mchoblet/paleoda/data/model_data/upsampled/CESM_evap_850_1850.nc\n",
      "computing yearly average\n",
      "Load prec  from  /home/mchoblet/paleoda/data/model_data/upsampled/CESM_prec_850_1850.nc\n",
      "computing yearly average\n",
      "Load tsurf  from  /home/mchoblet/paleoda/data/model_data/upsampled/CESM_tsurf_850_1850.nc\n",
      "computing yearly average\n",
      "USING SPELEO PSM\n",
      "COMPUTE ANOMALIES IN MODE: BG+HX\n",
      "Load d18O  from  /home/mchoblet/paleoda/data/model_data/upsampled/CCSM_d18O_851_1850.nc\n",
      "computing yearly average\n",
      "Load evap  from  /home/mchoblet/paleoda/data/model_data/upsampled/CCSM_evap_851_1850.nc\n",
      "computing yearly average\n",
      "Load prec  from  /home/mchoblet/paleoda/data/model_data/upsampled/CCSM_prec_851_1850.nc\n",
      "computing yearly average\n",
      "Load tsurf  from  /home/mchoblet/paleoda/data/model_data/upsampled/CCSM_tsurf_851_1850.nc\n",
      "computing yearly average\n",
      "USING SPELEO PSM\n",
      "COMPUTE ANOMALIES IN MODE: BG+HX\n",
      "Load d18O  from  /home/mchoblet/paleoda/data/model_data/upsampled/ECHAM5_d18O_850_1849.nc\n",
      "computing yearly average\n",
      "Load evap  from  /home/mchoblet/paleoda/data/model_data/upsampled/ECHAM5_evap_850_1849.nc\n",
      "computing yearly average\n",
      "Load prec  from  /home/mchoblet/paleoda/data/model_data/upsampled/ECHAM5_prec_850_1849.nc\n",
      "computing yearly average\n",
      "Load tsurf  from  /home/mchoblet/paleoda/data/model_data/upsampled/ECHAM5_tsurf_850_1849.nc\n",
      "computing yearly average\n",
      "USING SPELEO PSM\n",
      "COMPUTE ANOMALIES IN MODE: BG+HX\n",
      "Load d18O  from  /home/mchoblet/paleoda/data/model_data/upsampled/iHADCM3_d18O_801_1952.nc\n",
      "computing yearly average\n",
      "Checking prior for nans\n",
      "Only nans in year 1426-01-01 00:00:00 . Replaced values with previous year\n",
      "Only nans in year 1427-01-01 00:00:00 . Replaced values with previous year\n",
      "Only nans in year 1428-01-01 00:00:00 . Replaced values with previous year\n",
      "Load evap  from  /home/mchoblet/paleoda/data/model_data/upsampled/iHADCM3_evap_801_1952.nc\n",
      "computing yearly average\n",
      "Checking prior for nans\n",
      "Only nans in year 1426-01-01 00:00:00 . Replaced values with previous year\n",
      "Only nans in year 1427-01-01 00:00:00 . Replaced values with previous year\n",
      "Only nans in year 1428-01-01 00:00:00 . Replaced values with previous year\n",
      "Load prec  from  /home/mchoblet/paleoda/data/model_data/upsampled/iHADCM3_prec_801_1952.nc\n",
      "computing yearly average\n",
      "Checking prior for nans\n",
      "Only nans in year 1426-01-01 00:00:00 . Replaced values with previous year\n",
      "Only nans in year 1427-01-01 00:00:00 . Replaced values with previous year\n",
      "Only nans in year 1428-01-01 00:00:00 . Replaced values with previous year\n",
      "Load tsurf  from  /home/mchoblet/paleoda/data/model_data/upsampled/iHADCM3_tsurf_801_1952.nc\n",
      "computing yearly average\n",
      "Checking prior for nans\n",
      "Only nans in year 1426-01-01 00:00:00 . Replaced values with previous year\n",
      "Only nans in year 1427-01-01 00:00:00 . Replaced values with previous year\n",
      "Only nans in year 1428-01-01 00:00:00 . Replaced values with previous year\n",
      "Load slp  from  /home/mchoblet/paleoda/data/model_data/upsampled/iHADCM3_slp_801_1952.nc\n",
      "computing yearly average\n",
      "Checking prior for nans\n",
      "Only nans in year 1426-01-01 00:00:00 . Replaced values with previous year\n",
      "Only nans in year 1427-01-01 00:00:00 . Replaced values with previous year\n",
      "Only nans in year 1428-01-01 00:00:00 . Replaced values with previous year\n",
      "USING SPELEO PSM\n",
      "COMPUTE ANOMALIES IN MODE: BG+HX\n",
      "Compute anomaly for proxies\n",
      "Start Multitimescale DA loop.\n"
     ]
    },
    {
     "name": "stderr",
     "output_type": "stream",
     "text": [
      "100%|██████████| 10/10 [14:34<00:00, 87.46s/it]"
     ]
    },
    {
     "name": "stdout",
     "output_type": "stream",
     "text": [
      "Finished multitimescale DA\n",
      "Save variables\n",
      "Output written to mme_nogiss_800_1999.nc\n"
     ]
    },
    {
     "name": "stderr",
     "output_type": "stream",
     "text": [
      "\n"
     ]
    }
   ],
   "source": [
    "experiment_speleo_gmt(normal_paths,cfg,upsampled_paths,upsampled_paths_nogiss)"
   ]
  },
  {
   "cell_type": "code",
   "execution_count": null,
   "id": "41ce024b-4d9f-4a0b-b5f8-a89c147c8b1b",
   "metadata": {},
   "outputs": [],
   "source": [
    "def gmt_together(folder='/home/mchoblet/paleoda/results/experiments/GMT_from_speleos/', names=['Echam','GISS','iCESM','isoGSM','iHadCM3','mme',' mme_nogiss']):\n",
    "    \"\"\"\n",
    "    Which timescales are used? First 1,5,10,20,40\n",
    "    \"\"\"\n",
    "    plt.figure(figsize=(12,8))\n",
    "    plt.locator_params(nbins=10)\n",
    "    colors=sns.color_palette('colorblind', n_colors=len(names))\n",
    "    plt.title('GMT Anomaly using different model priors', fontsize=20)\n",
    "    \n",
    "    for i,n in enumerate(names):\n",
    "        string=folder + n + '_800_1999.nc'\n",
    "        tsurf=xr.open_dataset(string)['gm_tsurf']\n",
    "        tsurf=quick_filt(tsurf-tsurf[800:1000].mean('time'),cutoff=1/30)\n",
    "        #choose different cut off\n",
    "        std=quick_filt(xr.open_dataset(string)['gm_tsurf_std'],cutoff=1/40)\n",
    "        plt.plot(tsurf,label=n, color=colors[i])\n",
    "        plt.fill_between(tsurf, tsurf - std, tsurf + std, color=colors[i], alpha=0.2)\n",
    "    \n",
    "    plt.ylabel(r'\\Delta T')\n",
    "    plt.legend(loc='lower right')\n",
    "    plt.xticks(ticks=np.arange(0,1200,200),labels=list(map(str,np.arange(800,2000,200))))"
   ]
  },
  {
   "cell_type": "code",
   "execution_count": null,
   "id": "bc9a0d59-235b-4277-a87f-2d75e4697c55",
   "metadata": {},
   "outputs": [],
   "source": [
    "def gmt_separate(folder='/home/mchoblet/paleoda/results/experiments/GMT_from_speleos/', names=['Echam','GISS','iCESM','isoGSM','iHadCM3'],paths=downsampled_paths):\n",
    "    \"\"\"\n",
    "    Which timescales are used? First 1,5,10,20,40\n",
    "    \"\"\"\n",
    "    colors=sns.color_palette('colorblind', n_colors=len(names))\n",
    "    \n",
    "    for i,n in enumerate(names):\n",
    "        plt.figure(figsize=(12,8))\n",
    "        plt.locator_params(nbins=10)\n",
    "        plt.title(('GMT for model'+n), fontsize=20)\n",
    "        \n",
    "        string=folder + n + '_800_1999.nc'\n",
    "        tsurf=xr.open_dataset(string)['gm_tsurf']\n",
    "        tsurf=quick_filt(tsurf-tsurf[800:1000].mean('time'))\n",
    "        std=quick_filt(xr.open_dataset(string)['gm_tsurf_std'],cutoff=1/40)\n",
    "        plt.plot(tsurf,label='reconstruction', color=colors[i])\n",
    "        plt.fill_between(tsurf, tsurf - std, tsurf + std, color=colors[i], alpha=0.2)\n",
    "    \n",
    "        #load prior model\n",
    "        tsurf=xr.open_dataset(paths[n]['tsurf'])['tsurf']\n",
    "        tsurf=utils.globalmean(tsurf)\n",
    "        tsurf=tsurf-tsurf.sel(time=slice('1600','1800')).mean('time')\n",
    "    \n",
    "        plt.plot(tsurf,label='model', color=colors[i])\n",
    "    \n",
    "        plt.ylabel(r'\\Delta T')\n",
    "        plt.legend(loc='lower right')\n",
    "        \n",
    "        plt.xticks(ticks=np.arange(0,1200,200),labels=list(map(str,np.arange(800,2000,200))))\n",
    "        plt.show()"
   ]
  },
  {
   "cell_type": "code",
   "execution_count": 56,
   "id": "f00f52b6-16af-472e-ae20-60956cfd3558",
   "metadata": {},
   "outputs": [
    {
     "data": {
      "text/plain": [
       "[<matplotlib.lines.Line2D at 0x7f53d3c96080>]"
      ]
     },
     "execution_count": 56,
     "metadata": {},
     "output_type": "execute_result"
    },
    {
     "data": {
      "image/png": "[encoded data removed]",
      "text/plain": [
       "<Figure size 432x288 with 1 Axes>"
      ]
     },
     "metadata": {
      "needs_background": "light"
     },
     "output_type": "display_data"
    }
   ],
   "source": [
    "echam=xr.open_dataset('/home/mchoblet/paleoda/results/experiments/GMT_from_speleos/iHadCM3_800_1999_0.nc')['gm_tsurf']\n",
    "plt.plot(quick_filt(echam,cutoff=1/30))"
   ]
  },
  {
   "cell_type": "code",
   "execution_count": 35,
   "id": "6cd80d3e-4e2a-44fb-acee-1b53d299e15d",
   "metadata": {},
   "outputs": [],
   "source": [
    "def quick_filt(ts,cutoff=1/30):\n",
    "    from scipy.signal import butter, lfilter, filtfilt\n",
    "\n",
    "    def butter_lowpass(cutoff, fs, order=6, kf=1.2):\n",
    "        # kf:  scaling factor for the lowpass frequency; 1 = Nyquist, 1.2 =\n",
    "        #' 1.2xNyquist is a tradeoff between reducing variance loss and keeping\n",
    "        #' aliasing small\n",
    "        #fs is basic timestep (min_ts)\n",
    "        #nyquist frequency\n",
    "        nyq = 0.5 * fs \n",
    "        normal_cutoff = cutoff / nyq * kf\n",
    "        b, a = butter(order, normal_cutoff, btype='low', analog=False)\n",
    "        return b, a\n",
    "\n",
    "    def butter_lowpass_filter(data, cutoff, fs, order=6):\n",
    "        #filtfilt does not introduce a time-lag in comparison to butterworth \n",
    "        b, a = butter_lowpass(cutoff, fs, order=order)\n",
    "        y = filtfilt(b, a, data)\n",
    "        #y = lfilter(b, a, data)\n",
    "        return y\n",
    "\n",
    "    return butter_lowpass_filter(ts,cutoff,fs=1,order=4)"
   ]
  },
  {
   "cell_type": "code",
   "execution_count": 19,
   "id": "b5d632e7-6ec3-453a-a954-a5fd869c4936",
   "metadata": {},
   "outputs": [],
   "source": [
    "\n",
    "/home/mchoblet/paleoda/results/experiments/GMT_from_speleos/GISS_800_1999.nc\n",
    "/home/mchoblet/paleoda/results/experiments/GMT_from_speleos/iCESM_800_1999.nc\n",
    "/home/mchoblet/paleoda/results/experiments/GMT_from_speleos/iHadCM3_800_1999.nc\n",
    "/home/mchoblet/paleoda/results/experiments/GMT_from_speleos/isoGSM_800_1999.nc\n",
    "/home/mchoblet/paleoda/results/experiments/GMT_from_speleos/mme_800_1999.nc\n"
   ]
  },
  {
   "cell_type": "code",
   "execution_count": null,
   "id": "953b494c-065e-4d5e-9ded-eabf58ed6264",
   "metadata": {},
   "outputs": [],
   "source": [
    "def plot_gmt(folder_name,model_names):\n",
    "    \n",
    "    "
   ]
  },
  {
   "cell_type": "code",
   "execution_count": 38,
   "id": "9da6a624-0d3b-4c84-b46b-881e948c5718",
   "metadata": {},
   "outputs": [
    {
     "data": {
      "text/plain": [
       "[<matplotlib.lines.Line2D at 0x7f53d2dded70>]"
      ]
     },
     "execution_count": 38,
     "metadata": {},
     "output_type": "execute_result"
    },
    {
     "data": {
      "image/png": "[encoded data removed]",
      "text/plain": [
       "<Figure size 432x288 with 1 Axes>"
      ]
     },
     "metadata": {
      "needs_background": "light"
     },
     "output_type": "display_data"
    }
   ],
   "source": [
    "echam=xr.open_dataset('/home/mchoblet/paleoda/results/experiments/GMT_from_speleos/Echam_800_1999.nc')['gm_tsurf']\n",
    "plt.plot(quick_filt(echam,cutoff=1/30))"
   ]
  },
  {
   "cell_type": "code",
   "execution_count": 57,
   "id": "0a942e6f-e736-40e7-b266-3067361ba593",
   "metadata": {},
   "outputs": [
    {
     "data": {
      "text/plain": [
       "[<matplotlib.lines.Line2D at 0x7f53d3be05e0>]"
      ]
     },
     "execution_count": 57,
     "metadata": {},
     "output_type": "execute_result"
    },
    {
     "data": {
      "image/png": "[encoded data removed]",
      "text/plain": [
       "<Figure size 432x288 with 1 Axes>"
      ]
     },
     "metadata": {
      "needs_background": "light"
     },
     "output_type": "display_data"
    }
   ],
   "source": [
    "ihad=xr.open_dataset('/home/mchoblet/paleoda/results/experiments/GMT_from_speleos/iHadCM3_800_1999_0.nc')['gm_tsurf']\n",
    "plt.plot(quick_filt(ihad,cutoff=1/30))"
   ]
  },
  {
   "cell_type": "code",
   "execution_count": 58,
   "id": "058b2ede-b6fb-4973-aa5e-79c8e25b846e",
   "metadata": {},
   "outputs": [
    {
     "data": {
      "text/plain": [
       "[<matplotlib.lines.Line2D at 0x7f53d46ff460>]"
      ]
     },
     "execution_count": 58,
     "metadata": {},
     "output_type": "execute_result"
    },
    {
     "data": {
      "image/png": "[encoded data removed]",
      "text/plain": [
       "<Figure size 432x288 with 1 Axes>"
      ]
     },
     "metadata": {
      "needs_background": "light"
     },
     "output_type": "display_data"
    }
   ],
   "source": [
    "mme=xr.open_dataset('/home/mchoblet/paleoda/results/experiments/GMT_from_speleos/mme_800_1999_0.nc')['gm_tsurf']\n",
    "plt.plot(quick_filt(mme,cutoff=1/30))"
   ]
  },
  {
   "cell_type": "code",
   "execution_count": 39,
   "id": "380e3df9-3438-44a1-b814-60395ff9dc1e",
   "metadata": {},
   "outputs": [
    {
     "data": {
      "text/plain": [
       "[<matplotlib.lines.Line2D at 0x7f53d2e39180>]"
      ]
     },
     "execution_count": 39,
     "metadata": {},
     "output_type": "execute_result"
    },
    {
     "data": {
      "image/png": "[encoded data removed]",
      "text/plain": [
       "<Figure size 432x288 with 1 Axes>"
      ]
     },
     "metadata": {
      "needs_background": "light"
     },
     "output_type": "display_data"
    }
   ],
   "source": [
    "echam=xr.open_dataset('/home/mchoblet/paleoda/results/experiments/GMT_from_speleos/GISS_800_1999.nc')['gm_tsurf']\n",
    "plt.plot(quick_filt(echam,cutoff=1/30))"
   ]
  },
  {
   "cell_type": "code",
   "execution_count": 40,
   "id": "e0feef4b-af18-4ebb-8733-79d1da5d2434",
   "metadata": {},
   "outputs": [
    {
     "data": {
      "text/plain": [
       "[<matplotlib.lines.Line2D at 0x7f53d62e0040>]"
      ]
     },
     "execution_count": 40,
     "metadata": {},
     "output_type": "execute_result"
    },
    {
     "data": {
      "image/png": "[encoded data removed]",
      "text/plain": [
       "<Figure size 432x288 with 1 Axes>"
      ]
     },
     "metadata": {
      "needs_background": "light"
     },
     "output_type": "display_data"
    }
   ],
   "source": [
    "echam=xr.open_dataset('/home/mchoblet/paleoda/results/experiments/GMT_from_speleos/iCESM_800_1999.nc')['gm_tsurf']\n",
    "plt.plot(quick_filt(echam,cutoff=1/30))"
   ]
  },
  {
   "cell_type": "code",
   "execution_count": 41,
   "id": "f6c063fc-c780-42fd-a2ed-b53f383b4262",
   "metadata": {},
   "outputs": [
    {
     "data": {
      "text/plain": [
       "[<matplotlib.lines.Line2D at 0x7f53d621b3d0>]"
      ]
     },
     "execution_count": 41,
     "metadata": {},
     "output_type": "execute_result"
    },
    {
     "data": {
      "image/png": "[encoded data removed]",
      "text/plain": [
       "<Figure size 432x288 with 1 Axes>"
      ]
     },
     "metadata": {
      "needs_background": "light"
     },
     "output_type": "display_data"
    }
   ],
   "source": [
    "echam=xr.open_dataset('/home/mchoblet/paleoda/results/experiments/GMT_from_speleos/iHadCM3_800_1999.nc')['gm_tsurf']\n",
    "plt.plot(quick_filt(echam,cutoff=1/30))"
   ]
  },
  {
   "cell_type": "code",
   "execution_count": 43,
   "id": "73b73bd5-16d2-4d10-8c04-410481923187",
   "metadata": {},
   "outputs": [
    {
     "data": {
      "text/plain": [
       "[<matplotlib.lines.Line2D at 0x7f53d6000f10>]"
      ]
     },
     "execution_count": 43,
     "metadata": {},
     "output_type": "execute_result"
    },
    {
     "data": {
      "image/png": "[encoded data removed]",
      "text/plain": [
       "<Figure size 432x288 with 1 Axes>"
      ]
     },
     "metadata": {
      "needs_background": "light"
     },
     "output_type": "display_data"
    }
   ],
   "source": [
    "echam=xr.open_dataset('/home/mchoblet/paleoda/results/experiments/GMT_from_speleos/isoGSM_800_1999.nc')['gm_tsurf']\n",
    "plt.plot(quick_filt(echam,cutoff=1/30))"
   ]
  },
  {
   "cell_type": "code",
   "execution_count": 44,
   "id": "7e7db3d1-7f71-4ec4-a6f2-6dd4701f4dda",
   "metadata": {},
   "outputs": [
    {
     "data": {
      "text/plain": [
       "[<matplotlib.lines.Line2D at 0x7f53d607ed70>]"
      ]
     },
     "execution_count": 44,
     "metadata": {},
     "output_type": "execute_result"
    },
    {
     "data": {
      "image/png": "[encoded data removed]",
      "text/plain": [
       "<Figure size 432x288 with 1 Axes>"
      ]
     },
     "metadata": {
      "needs_background": "light"
     },
     "output_type": "display_data"
    }
   ],
   "source": [
    "echam=xr.open_dataset('/home/mchoblet/paleoda/results/experiments/GMT_from_speleos/mme_800_1999.nc')['gm_tsurf']\n",
    "plt.plot(quick_filt(echam,cutoff=1/30))"
   ]
  },
  {
   "cell_type": "code",
   "execution_count": null,
   "id": "708cdc41-7cf4-4cb8-8126-141b3926940b",
   "metadata": {},
   "outputs": [],
   "source": []
  },
  {
   "cell_type": "code",
   "execution_count": null,
   "id": "f6346f95-f32a-4ea5-af85-c5e8b33a4ded",
   "metadata": {},
   "outputs": [],
   "source": []
  }
 ],
 "metadata": {
  "kernelspec": {
   "display_name": "paleoda_kernel",
   "language": "python",
   "name": "paleoda_kernel"
  },
  "language_info": {
   "codemirror_mode": {
    "name": "ipython",
    "version": 3
   },
   "file_extension": ".py",
   "mimetype": "text/x-python",
   "name": "python",
   "nbconvert_exporter": "python",
   "pygments_lexer": "ipython3",
   "version": "3.10.4"
  }
 },
 "nbformat": 4,
 "nbformat_minor": 5
}
