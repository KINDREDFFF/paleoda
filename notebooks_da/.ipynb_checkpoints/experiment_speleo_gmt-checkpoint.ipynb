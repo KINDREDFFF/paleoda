{
 "cells": [
  {
   "cell_type": "markdown",
   "id": "c05c800d-1fea-4f63-9b42-f2cf916f420a",
   "metadata": {},
   "source": [
    "# Climate Reconstruction from Real Speleothem Proxies\n",
    "\n",
    "* Objective:\n",
    "    - Get the GMT curves for all 5 Models + the Multimodel ensemble.\n",
    "    - **Objective:** The curves should look similar\n",
    "    - Test the full Multitimescale (1,5,10,20,40) on the Anomalies, no psm.\n",
    "    - Use downsampled models first.\n",
    "    - Play around with the anomaly mean windows (1600 - 1800?). 1900 may already have some global warming in it."
   ]
  },
  {
   "cell_type": "code",
   "execution_count": 2,
   "id": "b8750051-3019-417d-bfc7-fab0d171308f",
   "metadata": {},
   "outputs": [],
   "source": [
    "cfg = {\n",
    "#BASIC PARAMS\n",
    "'vp':{\n",
    "'d18O':'/home/mchoblet/paleoda/data/model_data/ECHAM5_d18O_850_1849.nc',\n",
    "'prec':'/home/mchoblet/paleoda/data/model_data/ECHAM5_prec_850_1849.nc',\n",
    "'tsurf': '/home/mchoblet/paleoda/data/model_data/ECHAM5_tsurf_850_1849.nc',\n",
    "'evap': '/home/mchoblet/paleoda/data/model_data/ECHAM5_evap_850_1849.nc',\n",
    "'slp': None,\n",
    "},\n",
    "'oro': None,\n",
    "'reconstruct':['tsurf','d18O','prec'], \n",
    "'output_folder':'GMT_from_speleos', #in cwd\n",
    "'output_file':'Echam_1_10_20',\n",
    "'multi_model_prior': None, #None or a list where the first entry is a dictionary of dictionaries for the file paths and secord a dictionary with the orography files\n",
    "'avg':None, \n",
    "'seed': 42, \n",
    "'check_nan':False, #mainly needed for iHadCM3, because of its missing years nans are introduced with 'resampled'\n",
    "###PROXYS\n",
    "#'obsdata':['/home/mchoblet/paleoda/data/proxy_dbs/sisal_db.nc'],#['/home/mchoblet/paleoda/data/proxy_dbs/sisal_db.nc'],#,'/home/mchoblet/paleoda/data/proxy_dbs/iso2k_db.nc'],\n",
    "'obsdata':['/home/mchoblet/paleoda/data/proxy_dbs/sisal_1600_1800.nc'],\n",
    "'obs_var':[['d18O','d18O_precision']],#,['d18O','d18O_precision']], #name of variables and uncertainties in proxy_db files\n",
    "'proxy_error': [0.1], #irrelevant for PPE\n",
    "'time_scales': ['median'], \n",
    "'proxy_time':['0800','1999'], \n",
    "'resample': True,#True,\n",
    "'resample_mode': 'linear',#'nearest',\n",
    "'mask': 10, \n",
    "###MULTI-TIMESCALE\n",
    "#'timescales':[1,5,10,20,40], #list of timescales (have to be true divisors of longest timescale (block size)) Timescale 1 always required! \n",
    "#'timescales':[1],\n",
    "'timescales':[1,5,10,20,40],\n",
    "'reuse': True,#True, #e.g if a yearly resolved proxy is also to be used in the 5,10 year mean reconstruction\n",
    "###PSM\n",
    "'psm':['speleo'], \n",
    "'interpol':None, #None/'dw'\n",
    "'var_psm': ['d18O'] ,\n",
    "'speleo':{\n",
    "    'weighting': None,#'inf', #None(pure d18O) / prec (d180 prec weighted)/ inf (d18O prec-evap weighted)\n",
    "    'height': False, #height correction: True requires orography of model + proxy_db must have a coordinate 'elev'. Lapse rate assumed -0.28 for isotopes and -0.65 for temperature\n",
    "    'fractionation': False, #requires tsurf (in 'vp')\n",
    "    'fractionation_temp': 'regular', #'regular'\n",
    "    'filter': False, #True: convolution of yearly means with 2.5 year transit time, or float: transit time\n",
    "    't_time': 2.5, #if filter equal true, use this as a transit time\n",
    "},\n",
    "'icecore':{\n",
    "    'weighting':'prec', #None(pure d18O) / prec (d180 prec weighted)\n",
    "    'height': False, #height correction: True requires orography of model and 'elev' coordinate for proxy_db. Requires that proxy_db has a coordinate 'lapse rate' (e.g. i attributed -0.15 to non polar porxies and -0.28 to polar ones (per 100m)\n",
    "    'filter': False, #If True the PSM-function from PRYSM which takes into account diffusion is applied. \n",
    "},\n",
    "#currently this only works for one Database files, probably at some point that needs to be more flexible\n",
    "'linear':{\n",
    "    'variable': 'tsurf' , #variable to regress against\n",
    "    'type': 'anom' , #absolute value or anomaly\n",
    "    'anom_time': None , #None for full simulation, or time-list \n",
    "    'uniform': None, # if you just want one linear formula to rule them all [slope, intercept]\n",
    "    #names of the regression parameters in the proxy-db\n",
    "    'slope': 'slope' ,\n",
    "    'intercept': 'intercept',\n",
    "    'error': 'error', #make sure that the error in the database info is really the regression error *variance*, not standard error.\n",
    "},\n",
    "###PSEUDOPROXY-EXPERIMENTS (variable comes from var_psm)\n",
    "'ppe': {\n",
    "    'use': False,\n",
    "    'SNR': [5,5], #signal to noise variance ratio\n",
    "    'noise_type': 'w', #'w'/'r'\n",
    "    'red_noise_a': 0.32, #autocorrelation for red noise\n",
    "    'multi_timescale': [[1],[1]], \n",
    "    'source': 'external', #internal/external\n",
    "    'other_model': \n",
    "    {'vp':{'tsurf':'/home/ldap-server/draco/cleaned_data/final/CESM_tsurf_850_1850.nc',\n",
    "    'prec':'/home/ldap-server/draco/cleaned_data/final/CESM_prec_850_1850.nc',\n",
    "    'd18O':'/home/ldap-server/draco/cleaned_data/final/CESM_d18O_850_1850.nc',\n",
    "    'evap': '/home/ldap-server/draco/cleaned_data/final/CESM_evap_850_1850.nc'}},\n",
    "    'oro': '/home/ldap-server/draco/orographies/final/icesm_oro.nc',\n",
    "    'metrics_ppe': ['Corr','p_value','p_bootstrap','eff_p_value','CE','RMSE','RMSPE','MAE','MAPE'],\n",
    "    'psm' : {'speleo':{   'weighting':'inf', #None(pure d18O) / prec (d180 prec weighted)/ inf (d18O prec-evap weighted)\n",
    "    'height': False, #height correction: True requires orography of model + proxy_db must have a coordinate 'elev'. Lapse rate assumed -0.28 for isotopes and -0.65 for temperature\n",
    "    'fractionation':True, #requires tsurf (in 'vp')\n",
    "    'fractionation_temp': 'regular', #'regular'\n",
    "    'filter': False, #True: convolution of yearly means with 2.5 year transit time, or float: transit time\n",
    "    't_time': 2.5, #if filter equal true, use this as a transit time\n",
    "}, 'icecore': None},\n",
    "},\n",
    "    # cfg['ppe']['psm']= {'speleo':None, 'icecore': None} # if the config from above for the psm (which gives the obs-from-model) shall be different for the pseudoproxies.\n",
    "#else just leave it as {'speleo':None, 'icecore': None} \n",
    "    \n",
    "###KALMAN-FILTER\n",
    "'time': ['0800','1999'], #covered by all models\n",
    "'nens':100, #ensemble members\n",
    "'reps':1, #Monte Carlo\n",
    "'full_fields': False, \n",
    "'proxy_frac': None, #choose 100 random proxies\n",
    "'extra_assi': \n",
    "    {\n",
    "        'globalmean': ['tsurf','d18O','prec'], #None or list of variables\n",
    "        'lat_mean': ['tsurf'], #None or list of variables\n",
    "        'regionalmean': None, #None or list of variables\n",
    "        'region':None, #None or list of list [[latS,latN],[latW,latE]] #specify the regions in 0-360 longitude system\n",
    "        'prec_weighted': False, #if you want to get the precipitation weighted d18O\n",
    "    },\n",
    "'error_scale':1, \n",
    "'anomaly': 'BG+HX', #/ 'HX'\n",
    "'anomaly_time': ['1600','1800'],#None,#['1500','1750'],#None,\n",
    "'cov_loc': None,\n",
    "#evaluation metrics (which do not rely on a true state)\n",
    "'metrics': [None],#['rank_histogram','rank_histogram_posterior','CD'], #['None']\n",
    "}"
   ]
  },
  {
   "cell_type": "code",
   "execution_count": 11,
   "id": "d924a1c4-9f3c-46a5-859e-33c8b52089a0",
   "metadata": {},
   "outputs": [],
   "source": [
    "downsampled_paths={\n",
    "'iCESM':{'d18O':'/home/mchoblet/paleoda/data/model_data/downsampled/CESM_d18O_850_1850.nc',\n",
    "'evap':'/home/mchoblet/paleoda/data/model_data/downsampled/CESM_evap_850_1850.nc',\n",
    "'prec':'/home/mchoblet/paleoda/data/model_data/downsampled/CESM_prec_850_1850.nc',\n",
    "'tsurf':'/home/mchoblet/paleoda/data/model_data/downsampled/CESM_tsurf_850_1850.nc',\n",
    "       },\n",
    "'isoGSM':{'d18O':'/home/mchoblet/paleoda/data/model_data/downsampled/CCSM_d18O_851_1850.nc',\n",
    "'evap':'/home/mchoblet/paleoda/data/model_data/downsampled/CCSM_evap_851_1850.nc',\n",
    "'prec':'/home/mchoblet/paleoda/data/model_data/downsampled/CCSM_prec_851_1850.nc',\n",
    "'tsurf':'/home/mchoblet/paleoda/data/model_data/downsampled/CCSM_tsurf_851_1850.nc',\n",
    "       },    \n",
    "'Echam':{'d18O':'/home/mchoblet/paleoda/data/model_data/downsampled/ECHAM5_d18O_850_1849.nc',\n",
    "'evap':'/home/mchoblet/paleoda/data/model_data/downsampled/ECHAM5_evap_850_1849.nc',\n",
    "'prec':'/home/mchoblet/paleoda/data/model_data/downsampled/ECHAM5_prec_850_1849.nc',\n",
    "'tsurf':'/home/mchoblet/paleoda/data/model_data/downsampled/ECHAM5_tsurf_850_1849.nc',\n",
    "       },\n",
    "'GISS':{'d18O':'/home/mchoblet/paleoda/data/model_data/downsampled/GISS_d18O_850_1849.nc',\n",
    "'evap':'/home/mchoblet/paleoda/data/model_data/downsampled/GISS_evap_850_1849.nc',\n",
    "'prec':'/home/mchoblet/paleoda/data/model_data/downsampled/GISS_prec_850_1849.nc',\n",
    "'tsurf':'/home/mchoblet/paleoda/data/model_data/downsampled/GISS_tsurf_850_1849.nc',\n",
    "'slp': '/home/mchoblet/paleoda/data/model_data/downsampled/GISS_slp_850_1849.nc',\n",
    "       },\n",
    "'iHadCM3':{'d18O':'/home/mchoblet/paleoda/data/model_data/downsampled/iHADCM3_d18O_801_1952.nc',\n",
    "'evap':'/home/mchoblet/paleoda/data/model_data/downsampled/iHADCM3_evap_801_1952.nc',\n",
    "'prec':'/home/mchoblet/paleoda/data/model_data/downsampled/iHADCM3_prec_801_1952.nc',\n",
    "'tsurf':'/home/mchoblet/paleoda/data/model_data/downsampled/iHADCM3_tsurf_801_1952.nc',\n",
    "'slp':'/home/mchoblet/paleoda/data/model_data/downsampled/iHADCM3_slp_801_1952.nc',\n",
    "       }\n",
    "}"
   ]
  },
  {
   "cell_type": "code",
   "execution_count": 4,
   "id": "8cfad492-7585-405f-8f1f-f69bcde1aeb6",
   "metadata": {},
   "outputs": [
    {
     "name": "stdout",
     "output_type": "stream",
     "text": [
      "The autoreload extension is already loaded. To reload it, use:\n",
      "  %reload_ext autoreload\n"
     ]
    }
   ],
   "source": [
    "import sys\n",
    "sys.path.append('/home/mchoblet/paleoda')\n",
    "\n",
    "import xarray as xr\n",
    "import wrapper\n",
    "import dataloader\n",
    "import tqdm\n",
    "import numpy as np\n",
    "\n",
    "import matplotlib.pyplot as plt\n",
    "import seaborn as sns\n",
    "\n",
    "import cartopy.crs as ccrs\n",
    "from cartopy.util import add_cyclic_point\n",
    "import cartopy.feature as cfeature  \n",
    "from matplotlib.offsetbox import AnchoredText    \n",
    "import utils\n",
    "\n",
    "import copy\n",
    "\n",
    "%load_ext autoreload\n",
    "%autoreload 2"
   ]
  },
  {
   "cell_type": "code",
   "execution_count": 16,
   "id": "e0e95a39-11d8-4b07-ad4d-7f8babd01df0",
   "metadata": {},
   "outputs": [],
   "source": [
    "def experiment_speleo_gmt(paths,cfg):\n",
    "    \"\"\"\n",
    "     - Reconstruction of GMT anomaly (full_fields=False)\n",
    "     - Anomalies with respect to 1600-1800 (BG + HX)\n",
    "     - No Psm \n",
    "     - 'timescales':[1,5,10,20,40],\n",
    "     - 'reuse': True,\n",
    "    \"\"\"\n",
    "    \"\"\"\n",
    "    for i,p in paths.items():\n",
    "        #if i=='iHadCM3':\n",
    "        print(i)\n",
    "        cfg=cfg.copy()\n",
    "        #echange paths\n",
    "        cfg['vp']=p\n",
    "\n",
    "        cfg['output_file']=str(i)+'_800_1999'\n",
    "        wrapper.paleoda_wrapper(cfg)\n",
    "    \"\"\"\n",
    "    #multi_model_ensemble\n",
    "    cfg['multi_model_prior']=paths\n",
    "    cfg['output_file']='mme'+'_800_1999'\n",
    "    wrapper.paleoda_wrapper(cfg)"
   ]
  },
  {
   "cell_type": "code",
   "execution_count": 21,
   "id": "7e0a4df2-c003-4755-b0ca-744168e2d0d6",
   "metadata": {},
   "outputs": [
    {
     "data": {
      "text/plain": [
       "['iCESM', 'isoGSM', 'Echam', 'GISS', 'iHadCM3']"
      ]
     },
     "execution_count": 21,
     "metadata": {},
     "output_type": "execute_result"
    }
   ],
   "source": [
    "list(downsampled_paths.keys())"
   ]
  },
  {
   "cell_type": "code",
   "execution_count": 17,
   "id": "e0e433e5-2411-4421-a2d0-1b93950cae31",
   "metadata": {},
   "outputs": [
    {
     "name": "stdout",
     "output_type": "stream",
     "text": [
      "iCESM\n",
      ">>>>>LOADING PROXY DATA\n",
      "COMPUTE TIMERESOLUTION OF PROXIES\n",
      "RESAMPLING THE PROXIES\n",
      "resampling of proxies in each database\n"
     ]
    },
    {
     "name": "stderr",
     "output_type": "stream",
     "text": [
      "100%|██████████| 113/113 [00:09<00:00, 11.79it/s]\n"
     ]
    },
    {
     "name": "stdout",
     "output_type": "stream",
     "text": [
      "Load d18O  from  /home/mchoblet/paleoda/data/model_data/downsampled/CESM_d18O_850_1850.nc\n",
      "computing yearly average\n",
      "Load evap  from  /home/mchoblet/paleoda/data/model_data/downsampled/CESM_evap_850_1850.nc\n",
      "computing yearly average\n",
      "Load prec  from  /home/mchoblet/paleoda/data/model_data/downsampled/CESM_prec_850_1850.nc\n",
      "computing yearly average\n",
      "Load tsurf  from  /home/mchoblet/paleoda/data/model_data/downsampled/CESM_tsurf_850_1850.nc\n",
      "computing yearly average\n",
      "USING SPELEO PSM\n",
      "COMPUTE ANOMALIES IN MODE: BG+HX\n",
      "Compute anomaly for proxies\n",
      "Start Multitimescale DA loop.\n"
     ]
    },
    {
     "name": "stderr",
     "output_type": "stream",
     "text": [
      "  0%|          | 0/1 [00:00<?, ?it/s]OMP: Info #276: omp_set_nested routine deprecated, please use omp_set_max_active_levels instead.\n",
      "100%|██████████| 1/1 [00:04<00:00,  4.69s/it]\n"
     ]
    },
    {
     "name": "stdout",
     "output_type": "stream",
     "text": [
      "Finished multitimescale DA\n",
      "Save variables\n",
      "Output written to iCESM_800_1999.nc\n",
      "isoGSM\n",
      ">>>>>LOADING PROXY DATA\n",
      "COMPUTE TIMERESOLUTION OF PROXIES\n",
      "RESAMPLING THE PROXIES\n",
      "resampling of proxies in each database\n"
     ]
    },
    {
     "name": "stderr",
     "output_type": "stream",
     "text": [
      "100%|██████████| 113/113 [00:09<00:00, 11.74it/s]\n"
     ]
    },
    {
     "name": "stdout",
     "output_type": "stream",
     "text": [
      "Load d18O  from  /home/mchoblet/paleoda/data/model_data/downsampled/CCSM_d18O_851_1850.nc\n",
      "computing yearly average\n",
      "Load evap  from  /home/mchoblet/paleoda/data/model_data/downsampled/CCSM_evap_851_1850.nc\n",
      "computing yearly average\n",
      "Load prec  from  /home/mchoblet/paleoda/data/model_data/downsampled/CCSM_prec_851_1850.nc\n",
      "computing yearly average\n",
      "Load tsurf  from  /home/mchoblet/paleoda/data/model_data/downsampled/CCSM_tsurf_851_1850.nc\n",
      "computing yearly average\n",
      "USING SPELEO PSM\n",
      "COMPUTE ANOMALIES IN MODE: BG+HX\n",
      "Compute anomaly for proxies\n",
      "Start Multitimescale DA loop.\n"
     ]
    },
    {
     "name": "stderr",
     "output_type": "stream",
     "text": [
      "100%|██████████| 1/1 [00:03<00:00,  3.46s/it]\n"
     ]
    },
    {
     "name": "stdout",
     "output_type": "stream",
     "text": [
      "Finished multitimescale DA\n",
      "Save variables\n",
      "Output written to isoGSM_800_1999.nc\n",
      "Echam\n",
      ">>>>>LOADING PROXY DATA\n",
      "COMPUTE TIMERESOLUTION OF PROXIES\n",
      "RESAMPLING THE PROXIES\n",
      "resampling of proxies in each database\n"
     ]
    },
    {
     "name": "stderr",
     "output_type": "stream",
     "text": [
      "100%|██████████| 113/113 [00:09<00:00, 11.89it/s]\n"
     ]
    },
    {
     "name": "stdout",
     "output_type": "stream",
     "text": [
      "Load d18O  from  /home/mchoblet/paleoda/data/model_data/downsampled/ECHAM5_d18O_850_1849.nc\n",
      "computing yearly average\n",
      "Load evap  from  /home/mchoblet/paleoda/data/model_data/downsampled/ECHAM5_evap_850_1849.nc\n",
      "computing yearly average\n",
      "Load prec  from  /home/mchoblet/paleoda/data/model_data/downsampled/ECHAM5_prec_850_1849.nc\n",
      "computing yearly average\n",
      "Load tsurf  from  /home/mchoblet/paleoda/data/model_data/downsampled/ECHAM5_tsurf_850_1849.nc\n",
      "computing yearly average\n",
      "USING SPELEO PSM\n",
      "COMPUTE ANOMALIES IN MODE: BG+HX\n",
      "Compute anomaly for proxies\n",
      "Start Multitimescale DA loop.\n"
     ]
    },
    {
     "name": "stderr",
     "output_type": "stream",
     "text": [
      "100%|██████████| 1/1 [00:03<00:00,  3.44s/it]\n"
     ]
    },
    {
     "name": "stdout",
     "output_type": "stream",
     "text": [
      "Finished multitimescale DA\n",
      "Save variables\n",
      "Output written to Echam_800_1999.nc\n",
      "GISS\n",
      ">>>>>LOADING PROXY DATA\n",
      "COMPUTE TIMERESOLUTION OF PROXIES\n",
      "RESAMPLING THE PROXIES\n",
      "resampling of proxies in each database\n"
     ]
    },
    {
     "name": "stderr",
     "output_type": "stream",
     "text": [
      "100%|██████████| 113/113 [00:09<00:00, 11.87it/s]\n"
     ]
    },
    {
     "name": "stdout",
     "output_type": "stream",
     "text": [
      "Load d18O  from  /home/mchoblet/paleoda/data/model_data/downsampled/GISS_d18O_850_1849.nc\n",
      "computing yearly average\n",
      "Load evap  from  /home/mchoblet/paleoda/data/model_data/downsampled/GISS_evap_850_1849.nc\n",
      "computing yearly average\n",
      "Load prec  from  /home/mchoblet/paleoda/data/model_data/downsampled/GISS_prec_850_1849.nc\n",
      "computing yearly average\n",
      "Load tsurf  from  /home/mchoblet/paleoda/data/model_data/downsampled/GISS_tsurf_850_1849.nc\n",
      "computing yearly average\n",
      "Load slp  from  /home/mchoblet/paleoda/data/model_data/downsampled/GISS_slp_850_1849.nc\n",
      "computing yearly average\n",
      "USING SPELEO PSM\n",
      "COMPUTE ANOMALIES IN MODE: BG+HX\n",
      "Compute anomaly for proxies\n",
      "Start Multitimescale DA loop.\n"
     ]
    },
    {
     "name": "stderr",
     "output_type": "stream",
     "text": [
      "100%|██████████| 1/1 [00:03<00:00,  3.51s/it]\n"
     ]
    },
    {
     "name": "stdout",
     "output_type": "stream",
     "text": [
      "Finished multitimescale DA\n",
      "Save variables\n",
      "Output written to GISS_800_1999.nc\n",
      "iHadCM3\n",
      ">>>>>LOADING PROXY DATA\n",
      "COMPUTE TIMERESOLUTION OF PROXIES\n",
      "RESAMPLING THE PROXIES\n",
      "resampling of proxies in each database\n"
     ]
    },
    {
     "name": "stderr",
     "output_type": "stream",
     "text": [
      "100%|██████████| 113/113 [00:09<00:00, 11.85it/s]\n"
     ]
    },
    {
     "name": "stdout",
     "output_type": "stream",
     "text": [
      "Load d18O  from  /home/mchoblet/paleoda/data/model_data/downsampled/iHADCM3_d18O_801_1952.nc\n",
      "computing yearly average\n",
      "Load evap  from  /home/mchoblet/paleoda/data/model_data/downsampled/iHADCM3_evap_801_1952.nc\n",
      "computing yearly average\n",
      "Load prec  from  /home/mchoblet/paleoda/data/model_data/downsampled/iHADCM3_prec_801_1952.nc\n",
      "computing yearly average\n",
      "Load tsurf  from  /home/mchoblet/paleoda/data/model_data/downsampled/iHADCM3_tsurf_801_1952.nc\n",
      "computing yearly average\n",
      "Load slp  from  /home/mchoblet/paleoda/data/model_data/downsampled/iHADCM3_slp_801_1952.nc\n",
      "computing yearly average\n",
      "USING SPELEO PSM\n",
      "COMPUTE ANOMALIES IN MODE: BG+HX\n",
      "Compute anomaly for proxies\n",
      "Start Multitimescale DA loop.\n"
     ]
    },
    {
     "name": "stderr",
     "output_type": "stream",
     "text": [
      "100%|██████████| 1/1 [00:03<00:00,  3.36s/it]\n"
     ]
    },
    {
     "name": "stdout",
     "output_type": "stream",
     "text": [
      "Finished multitimescale DA\n",
      "Save variables\n",
      "Output written to iHadCM3_800_1999.nc\n",
      ">>>>>LOADING PROXY DATA\n",
      "COMPUTE TIMERESOLUTION OF PROXIES\n",
      "RESAMPLING THE PROXIES\n",
      "resampling of proxies in each database\n"
     ]
    },
    {
     "name": "stderr",
     "output_type": "stream",
     "text": [
      "100%|██████████| 113/113 [00:09<00:00, 11.71it/s]\n"
     ]
    },
    {
     "name": "stdout",
     "output_type": "stream",
     "text": [
      "Will compute a multi-model-prior!\n"
     ]
    },
    {
     "ename": "KeyError",
     "evalue": "0",
     "output_type": "error",
     "traceback": [
      "\u001b[0;31m---------------------------------------------------------------------------\u001b[0m",
      "\u001b[0;31mKeyError\u001b[0m                                  Traceback (most recent call last)",
      "Input \u001b[0;32mIn [17]\u001b[0m, in \u001b[0;36m<cell line: 1>\u001b[0;34m()\u001b[0m\n\u001b[0;32m----> 1\u001b[0m \u001b[43mexperiment_speleo_gmt\u001b[49m\u001b[43m(\u001b[49m\u001b[43mdownsampled_paths\u001b[49m\u001b[43m,\u001b[49m\u001b[43mcfg\u001b[49m\u001b[43m)\u001b[49m\n",
      "Input \u001b[0;32mIn [16]\u001b[0m, in \u001b[0;36mexperiment_speleo_gmt\u001b[0;34m(paths, cfg)\u001b[0m\n\u001b[1;32m     20\u001b[0m cfg[\u001b[38;5;124m'\u001b[39m\u001b[38;5;124mmulti_model_prior\u001b[39m\u001b[38;5;124m'\u001b[39m]\u001b[38;5;241m=\u001b[39mpaths\n\u001b[1;32m     21\u001b[0m cfg[\u001b[38;5;124m'\u001b[39m\u001b[38;5;124moutput_file\u001b[39m\u001b[38;5;124m'\u001b[39m]\u001b[38;5;241m=\u001b[39m\u001b[38;5;124m'\u001b[39m\u001b[38;5;124mmme\u001b[39m\u001b[38;5;124m'\u001b[39m\u001b[38;5;241m+\u001b[39m\u001b[38;5;124m'\u001b[39m\u001b[38;5;124m_800_1999\u001b[39m\u001b[38;5;124m'\u001b[39m\n\u001b[0;32m---> 22\u001b[0m \u001b[43mwrapper\u001b[49m\u001b[38;5;241;43m.\u001b[39;49m\u001b[43mpaleoda_wrapper\u001b[49m\u001b[43m(\u001b[49m\u001b[43mcfg\u001b[49m\u001b[43m)\u001b[49m\n",
      "File \u001b[0;32m~/paleoda/wrapper.py:71\u001b[0m, in \u001b[0;36mpaleoda_wrapper\u001b[0;34m(cfg)\u001b[0m\n\u001b[1;32m     69\u001b[0m         \u001b[38;5;28;01mpass\u001b[39;00m\n\u001b[1;32m     70\u001b[0m     ran\u001b[38;5;241m=\u001b[39m\u001b[38;5;28mlen\u001b[39m(dicts_paths)\n\u001b[0;32m---> 71\u001b[0m     model_names\u001b[38;5;241m=\u001b[39m\u001b[38;5;28mlist\u001b[39m(\u001b[43mc\u001b[49m\u001b[38;5;241;43m.\u001b[39;49m\u001b[43mmulti_model_prior\u001b[49m\u001b[43m[\u001b[49m\u001b[38;5;241;43m0\u001b[39;49m\u001b[43m]\u001b[49m)\n\u001b[1;32m     73\u001b[0m \u001b[38;5;66;03m#empty list where I am going to save the values vectors!\u001b[39;00m\n\u001b[1;32m     74\u001b[0m values_vector_list\u001b[38;5;241m=\u001b[39m[]\n",
      "\u001b[0;31mKeyError\u001b[0m: 0"
     ]
    }
   ],
   "source": [
    "experiment_speleo_gmt(downsampled_paths,cfg)"
   ]
  },
  {
   "cell_type": "code",
   "execution_count": 19,
   "id": "b5d632e7-6ec3-453a-a954-a5fd869c4936",
   "metadata": {},
   "outputs": [],
   "source": [
    "    "
   ]
  },
  {
   "cell_type": "code",
   "execution_count": null,
   "id": "9da6a624-0d3b-4c84-b46b-881e948c5718",
   "metadata": {},
   "outputs": [],
   "source": []
  }
 ],
 "metadata": {
  "kernelspec": {
   "display_name": "paleoda_kernel",
   "language": "python",
   "name": "paleoda_kernel"
  },
  "language_info": {
   "codemirror_mode": {
    "name": "ipython",
    "version": 3
   },
   "file_extension": ".py",
   "mimetype": "text/x-python",
   "name": "python",
   "nbconvert_exporter": "python",
   "pygments_lexer": "ipython3",
   "version": "3.10.4"
  }
 },
 "nbformat": 4,
 "nbformat_minor": 5
}
