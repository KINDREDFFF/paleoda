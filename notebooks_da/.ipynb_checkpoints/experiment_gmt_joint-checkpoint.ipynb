{
 "cells": [
  {
   "cell_type": "markdown",
   "id": "b870633b-e47f-4248-837b-8d64697ba02c",
   "metadata": {},
   "source": [
    "# Experiments for GMT with both databases"
   ]
  },
  {
   "cell_type": "code",
   "execution_count": null,
   "id": "986aec79-5724-4899-be99-9720750bdd11",
   "metadata": {},
   "outputs": [],
   "source": []
  },
  {
   "cell_type": "code",
   "execution_count": 22,
   "id": "a8ecaca1-1b0b-4023-b37c-c8ea81853cd7",
   "metadata": {},
   "outputs": [],
   "source": [
    "cfg = {\n",
    "#BASIC PARAMS\n",
    "'vp':{\n",
    "'d18O':'/home/mchoblet/paleoda/data/model_data/ECHAM5_d18O_850_1849.nc',\n",
    "'prec':'/home/mchoblet/paleoda/data/model_data/ECHAM5_prec_850_1849.nc',\n",
    "'tsurf': '/home/mchoblet/paleoda/data/model_data/ECHAM5_tsurf_850_1849.nc',\n",
    "'evap': '/home/mchoblet/paleoda/data/model_data/ECHAM5_evap_850_1849.nc',\n",
    "'slp': None,\n",
    "},\n",
    "'oro': None,\n",
    "'reconstruct':['tsurf','d18O','prec'], \n",
    "'output_folder':'GMT_from_allproxies_normalres', #in cwd\n",
    "'output_file':'Echam_1_10_20',\n",
    "'multi_model_prior': None, #None or a list where the first entry is a dictionary of dictionaries for the file paths and secord a dictionary with the orography files\n",
    "'avg':None, \n",
    "'seed': 42, \n",
    "'check_nan':False, #mainly needed for iHadCM3, because of its missing years nans are introduced with 'resampled'\n",
    "###PROXYS\n",
    "#'obsdata':['/home/mchoblet/paleoda/data/proxy_dbs/sisal_db.nc'],#['/home/mchoblet/paleoda/data/proxy_dbs/sisal_db.nc'],#,'/home/mchoblet/paleoda/data/proxy_dbs/iso2k_db.nc'],\n",
    "'obsdata':['/home/mchoblet/paleoda/data/proxy_dbs/sisal_1600_1800.nc','/home/mchoblet/paleoda/data/proxy_dbs/iso2k_db_1600_1800.nc'],\n",
    "'obs_var':[['d18O','d18O_precision'],['d18O','d18O_precision']],#,['d18O','d18O_precision']], #name of variables and uncertainties in proxy_db files\n",
    "'proxy_error': [0.1,0.1], #irrelevant for PPE\n",
    "'time_scales': ['median'], \n",
    "'proxy_time':['0800','1999'], \n",
    "'resample': True,#True,\n",
    "'resample_mode': 'linear',#'nearest',\n",
    "'mask': 3, \n",
    "###MULTI-TIMESCALE\n",
    "#'timescales':[1,5,10,20,40], #list of timescales (have to be true divisors of longest timescale (block size)) Timescale 1 always required! \n",
    "#'timescales':[1],\n",
    "'timescales':[1,5,10,20,40],\n",
    "'reuse': True,#True, #e.g if a yearly resolved proxy is also to be used in the 5,10 year mean reconstruction\n",
    "###PSM\n",
    "'psm':['speleo','icecore'], \n",
    "'interpol':None, #None/'dw'\n",
    "'var_psm': ['d18O','d18O'] ,\n",
    "'speleo':{\n",
    "    'weighting': None,#'inf', #None(pure d18O) / prec (d180 prec weighted)/ inf (d18O prec-evap weighted)\n",
    "    'height': False, #height correction: True requires orography of model + proxy_db must have a coordinate 'elev'. Lapse rate assumed -0.28 for isotopes and -0.65 for temperature\n",
    "    'fractionation': False, #requires tsurf (in 'vp')\n",
    "    'fractionation_temp': 'regular', #'regular'\n",
    "    'filter': False, #True: convolution of yearly means with 2.5 year transit time, or float: transit time\n",
    "    't_time': 2.5, #if filter equal true, use this as a transit time\n",
    "},\n",
    "'icecore':{\n",
    "    'weighting':None, #None(pure d18O) / prec (d180 prec weighted)\n",
    "    'height': False, #height correction: True requires orography of model and 'elev' coordinate for proxy_db. Requires that proxy_db has a coordinate 'lapse rate' (e.g. i attributed -0.15 to non polar porxies and -0.28 to polar ones (per 100m)\n",
    "    'filter': False, #If True the PSM-function from PRYSM which takes into account diffusion is applied. \n",
    "},\n",
    "#currently this only works for one Database files, probably at some point that needs to be more flexible\n",
    "'linear':{\n",
    "    'variable': 'tsurf' , #variable to regress against\n",
    "    'type': 'anom' , #absolute value or anomaly\n",
    "    'anom_time': None , #None for full simulation, or time-list \n",
    "    'uniform': None, # if you just want one linear formula to rule them all [slope, intercept]\n",
    "    #names of the regression parameters in the proxy-db\n",
    "    'slope': 'slope' ,\n",
    "    'intercept': 'intercept',\n",
    "    'error': 'error', #make sure that the error in the database info is really the regression error *variance*, not standard error.\n",
    "},\n",
    "###PSEUDOPROXY-EXPERIMENTS (variable comes from var_psm)\n",
    "'ppe': {\n",
    "    'use': False,\n",
    "    'SNR': [5,5], #signal to noise variance ratio\n",
    "    'noise_type': 'w', #'w'/'r'\n",
    "    'red_noise_a': 0.32, #autocorrelation for red noise\n",
    "    'multi_timescale': [[1],[1]], \n",
    "    'source': 'external', #internal/external\n",
    "    'other_model': \n",
    "    {'vp':{'tsurf':'/home/ldap-server/draco/cleaned_data/final/CESM_tsurf_850_1850.nc',\n",
    "    'prec':'/home/ldap-server/draco/cleaned_data/final/CESM_prec_850_1850.nc',\n",
    "    'd18O':'/home/ldap-server/draco/cleaned_data/final/CESM_d18O_850_1850.nc',\n",
    "    'evap': '/home/ldap-server/draco/cleaned_data/final/CESM_evap_850_1850.nc'}},\n",
    "    'oro': '/home/ldap-server/draco/orographies/final/icesm_oro.nc',\n",
    "    'metrics_ppe': ['Corr','p_value','p_bootstrap','eff_p_value','CE','RMSE','RMSPE','MAE','MAPE'],\n",
    "    'psm' : {'speleo':{   'weighting':'inf', #None(pure d18O) / prec (d180 prec weighted)/ inf (d18O prec-evap weighted)\n",
    "    'height': False, #height correction: True requires orography of model + proxy_db must have a coordinate 'elev'. Lapse rate assumed -0.28 for isotopes and -0.65 for temperature\n",
    "    'fractionation':True, #requires tsurf (in 'vp')\n",
    "    'fractionation_temp': 'regular', #'regular'\n",
    "    'filter': False, #True: convolution of yearly means with 2.5 year transit time, or float: transit time\n",
    "    't_time': 2.5, #if filter equal true, use this as a transit time\n",
    "}, 'icecore': None},\n",
    "},\n",
    "    # cfg['ppe']['psm']= {'speleo':None, 'icecore': None} # if the config from above for the psm (which gives the obs-from-model) shall be different for the pseudoproxies.\n",
    "#else just leave it as {'speleo':None, 'icecore': None} \n",
    "    \n",
    "###KALMAN-FILTER\n",
    "'time': ['0800','1999'], #covered by all models\n",
    "'nens':100, #ensemble members\n",
    "'reps':1, #Monte Carlo\n",
    "'full_fields': False, \n",
    "'proxy_frac': None, #choose 100 random proxies\n",
    "'extra_assi': \n",
    "    {\n",
    "        'globalmean': ['tsurf','d18O','prec'], #None or list of variables\n",
    "        'lat_mean': ['tsurf'], #None or list of variables\n",
    "        'regionalmean': None, #None or list of variables\n",
    "        'region':None, #None or list of list [[latS,latN],[latW,latE]] #specify the regions in 0-360 longitude system\n",
    "        'prec_weighted': False, #if you want to get the precipitation weighted d18O\n",
    "    },\n",
    "'error_scale':1, \n",
    "'anomaly': 'BG+HX', #/ 'HX'\n",
    "'anomaly_time': ['1600','1800'],#None,#['1500','1750'],#None,\n",
    "'cov_loc': None,\n",
    "#evaluation metrics (which do not rely on a true state)\n",
    "'metrics': [None],#['rank_histogram','rank_histogram_posterior','CD'], #['None']\n",
    "}"
   ]
  },
  {
   "cell_type": "code",
   "execution_count": 3,
   "id": "2deaebd0-89ab-4bcf-8b90-dcbf6944ec6d",
   "metadata": {},
   "outputs": [],
   "source": [
    "downsampled_paths={\n",
    "'iCESM':{'d18O':'/home/mchoblet/paleoda/data/model_data/downsampled/CESM_d18O_850_1850.nc',\n",
    "'evap':'/home/mchoblet/paleoda/data/model_data/downsampled/CESM_evap_850_1850.nc',\n",
    "'prec':'/home/mchoblet/paleoda/data/model_data/downsampled/CESM_prec_850_1850.nc',\n",
    "'tsurf':'/home/mchoblet/paleoda/data/model_data/downsampled/CESM_tsurf_850_1850.nc',\n",
    "       },\n",
    "'isoGSM':{'d18O':'/home/mchoblet/paleoda/data/model_data/downsampled/CCSM_d18O_851_1850.nc',\n",
    "'evap':'/home/mchoblet/paleoda/data/model_data/downsampled/CCSM_evap_851_1850.nc',\n",
    "'prec':'/home/mchoblet/paleoda/data/model_data/downsampled/CCSM_prec_851_1850.nc',\n",
    "'tsurf':'/home/mchoblet/paleoda/data/model_data/downsampled/CCSM_tsurf_851_1850.nc',\n",
    "       },    \n",
    "'Echam':{'d18O':'/home/mchoblet/paleoda/data/model_data/downsampled/ECHAM5_d18O_850_1849.nc',\n",
    "'evap':'/home/mchoblet/paleoda/data/model_data/downsampled/ECHAM5_evap_850_1849.nc',\n",
    "'prec':'/home/mchoblet/paleoda/data/model_data/downsampled/ECHAM5_prec_850_1849.nc',\n",
    "'tsurf':'/home/mchoblet/paleoda/data/model_data/downsampled/ECHAM5_tsurf_850_1849.nc',\n",
    "       },\n",
    "'GISS':{'d18O':'/home/mchoblet/paleoda/data/model_data/downsampled/GISS_d18O_850_1849.nc',\n",
    "'evap':'/home/mchoblet/paleoda/data/model_data/downsampled/GISS_evap_850_1849.nc',\n",
    "'prec':'/home/mchoblet/paleoda/data/model_data/downsampled/GISS_prec_850_1849.nc',\n",
    "'tsurf':'/home/mchoblet/paleoda/data/model_data/downsampled/GISS_tsurf_850_1849.nc',\n",
    "'slp': '/home/mchoblet/paleoda/data/model_data/downsampled/GISS_slp_850_1849.nc',\n",
    "       },\n",
    "'iHadCM3':{'d18O':'/home/mchoblet/paleoda/data/model_data/downsampled/iHADCM3_d18O_801_1952.nc',\n",
    "'evap':'/home/mchoblet/paleoda/data/model_data/downsampled/iHADCM3_evap_801_1952.nc',\n",
    "'prec':'/home/mchoblet/paleoda/data/model_data/downsampled/iHADCM3_prec_801_1952.nc',\n",
    "'tsurf':'/home/mchoblet/paleoda/data/model_data/downsampled/iHADCM3_tsurf_801_1952.nc',\n",
    "'slp':'/home/mchoblet/paleoda/data/model_data/downsampled/iHADCM3_slp_801_1952.nc',\n",
    "       }\n",
    "}"
   ]
  },
  {
   "cell_type": "code",
   "execution_count": 4,
   "id": "64ece9cd-e410-4630-9bbd-bc20fb55fb8b",
   "metadata": {},
   "outputs": [],
   "source": [
    "downsampled_paths_nogiss={\n",
    "'iCESM':{'d18O':'/home/mchoblet/paleoda/data/model_data/downsampled/CESM_d18O_850_1850.nc',\n",
    "'evap':'/home/mchoblet/paleoda/data/model_data/downsampled/CESM_evap_850_1850.nc',\n",
    "'prec':'/home/mchoblet/paleoda/data/model_data/downsampled/CESM_prec_850_1850.nc',\n",
    "'tsurf':'/home/mchoblet/paleoda/data/model_data/downsampled/CESM_tsurf_850_1850.nc',\n",
    "       },\n",
    "'isoGSM':{'d18O':'/home/mchoblet/paleoda/data/model_data/downsampled/CCSM_d18O_851_1850.nc',\n",
    "'evap':'/home/mchoblet/paleoda/data/model_data/downsampled/CCSM_evap_851_1850.nc',\n",
    "'prec':'/home/mchoblet/paleoda/data/model_data/downsampled/CCSM_prec_851_1850.nc',\n",
    "'tsurf':'/home/mchoblet/paleoda/data/model_data/downsampled/CCSM_tsurf_851_1850.nc',\n",
    "       },    \n",
    "'Echam':{'d18O':'/home/mchoblet/paleoda/data/model_data/downsampled/ECHAM5_d18O_850_1849.nc',\n",
    "'evap':'/home/mchoblet/paleoda/data/model_data/downsampled/ECHAM5_evap_850_1849.nc',\n",
    "'prec':'/home/mchoblet/paleoda/data/model_data/downsampled/ECHAM5_prec_850_1849.nc',\n",
    "'tsurf':'/home/mchoblet/paleoda/data/model_data/downsampled/ECHAM5_tsurf_850_1849.nc',\n",
    "       },\n",
    "'iHadCM3':{'d18O':'/home/mchoblet/paleoda/data/model_data/downsampled/iHADCM3_d18O_801_1952.nc',\n",
    "'evap':'/home/mchoblet/paleoda/data/model_data/downsampled/iHADCM3_evap_801_1952.nc',\n",
    "'prec':'/home/mchoblet/paleoda/data/model_data/downsampled/iHADCM3_prec_801_1952.nc',\n",
    "'tsurf':'/home/mchoblet/paleoda/data/model_data/downsampled/iHADCM3_tsurf_801_1952.nc',\n",
    "'slp':'/home/mchoblet/paleoda/data/model_data/downsampled/iHADCM3_slp_801_1952.nc',\n",
    "       }\n",
    "}"
   ]
  },
  {
   "cell_type": "code",
   "execution_count": 1,
   "id": "c0ac4b2f-b7ab-4ae6-9108-280d70b8746d",
   "metadata": {},
   "outputs": [],
   "source": [
    "import sys\n",
    "sys.path.append('/home/mchoblet/paleoda')\n",
    "\n",
    "import xarray as xr\n",
    "import wrapper\n",
    "import dataloader\n",
    "import tqdm\n",
    "import numpy as np\n",
    "\n",
    "import matplotlib.pyplot as plt\n",
    "import seaborn as sns\n",
    "\n",
    "import cartopy.crs as ccrs\n",
    "from cartopy.util import add_cyclic_point\n",
    "import cartopy.feature as cfeature  \n",
    "from matplotlib.offsetbox import AnchoredText    \n",
    "import utils\n",
    "\n",
    "import copy\n",
    "\n",
    "%load_ext autoreload\n",
    "%autoreload 2"
   ]
  },
  {
   "cell_type": "code",
   "execution_count": 7,
   "id": "6cb605b2-0792-4cd7-85db-bfa6189c5b25",
   "metadata": {},
   "outputs": [],
   "source": [
    "def experiment_allproxies_gmt(paths,cfg,multi_model,multi_model_nogiss):\n",
    "    \"\"\"\n",
    "     - Reconstruction of GMT anomaly (full_fields=False)\n",
    "     - Anomalies with respect to 1600-1800 (BG + HX)\n",
    "     - No Psm \n",
    "     - 'timescales':[1,5,10],\n",
    "     - 'reuse': True,\n",
    "     - 10 repetitions with 80 percent of the proxies\n",
    "    \"\"\"\n",
    "    cfg['output_folder']='GMT_from_allproxies'\n",
    "    cfg['cov_loc']=None\n",
    "    cfg['reps']=10\n",
    "    cfg['proxy_frac']=0.8\n",
    "    for i,p in paths.items():\n",
    "\n",
    "        cfg=cfg.copy()\n",
    "\n",
    "        if i=='iHadCM3':\n",
    "            cfg['check_nan']=True\n",
    "        else:\n",
    "            cfg['check_nan']=False\n",
    "        \n",
    "        print(i)\n",
    "        cfg['multi_model_prior']=None\n",
    "        #echange paths\n",
    "        cfg['vp']=p\n",
    "        print(p)\n",
    "        cfg['output_file']=str(i)+'_800_1999'\n",
    "\n",
    "        wrapper.paleoda_wrapper(cfg)\n",
    "    \n",
    "    #multi_model_ensemble\n",
    "    cfg['multi_model_prior']=multi_model\n",
    "    cfg['output_file']='mme'+'_800_1999'\n",
    "    wrapper.paleoda_wrapper(cfg)\n",
    "    \n",
    "    #multi_model_ensemble\n",
    "    cfg['multi_model_prior']=multi_model_nogiss\n",
    "    cfg['output_file']='mme_nogiss'+'_800_1999'\n",
    "    wrapper.paleoda_wrapper(cfg)\n",
    "    \n",
    "    ##same with mini_r\n",
    "    #mini-r (give more weight to the proxies)\n",
    "    cfg['proxy_error']=0.01\n",
    "    cfg['output_folder']='GMT_from_allproxies_minir_normalres'\n",
    "    \n",
    "    for i,p in paths.items():\n",
    "\n",
    "        cfg=cfg.copy()\n",
    "        \"\"\"\n",
    "        if i=='GISS':\n",
    "            cfg['cov_loc']=12000\n",
    "            cfg['full_fields']=True\n",
    "        else:\n",
    "            cfg['full_fields']=False\n",
    "        print(i)\n",
    "        \"\"\"\n",
    "        \n",
    "        if i=='iHadCM3':\n",
    "            cfg['check_nan']=True\n",
    "        else:\n",
    "            cfg['check_nan']=False\n",
    "            \n",
    "        cfg['multi_model_prior']=None\n",
    "        #echange paths\n",
    "        cfg['vp']=p\n",
    "        cfg['output_file']=str(i)+'_800_1999'\n",
    "\n",
    "        wrapper.paleoda_wrapper(cfg)\n",
    "    \n",
    "    #multi_model_ensemble\n",
    "    cfg['multi_model_prior']=multi_model\n",
    "    cfg['output_file']='mme'+'_800_1999'\n",
    "    wrapper.paleoda_wrapper(cfg)\n",
    "    \n",
    "    #multi_model_ensemble no giss\n",
    "    cfg['multi_model_prior']=multi_model_nogiss\n",
    "    cfg['output_file']='mme_nogiss'+'_800_1999'\n",
    "    wrapper.paleoda_wrapper(cfg)\n",
    "    "
   ]
  },
  {
   "cell_type": "code",
   "execution_count": null,
   "id": "e2ef67d0-44fe-4672-ba2a-d3df9b28c905",
   "metadata": {},
   "outputs": [
    {
     "name": "stdout",
     "output_type": "stream",
     "text": [
      "iCESM\n",
      "{'d18O': '/home/mchoblet/paleoda/data/model_data/downsampled/CESM_d18O_850_1850.nc', 'evap': '/home/mchoblet/paleoda/data/model_data/downsampled/CESM_evap_850_1850.nc', 'prec': '/home/mchoblet/paleoda/data/model_data/downsampled/CESM_prec_850_1850.nc', 'tsurf': '/home/mchoblet/paleoda/data/model_data/downsampled/CESM_tsurf_850_1850.nc'}\n",
      ">>>>>LOADING PROXY DATA\n",
      "COMPUTE TIMERESOLUTION OF PROXIES\n",
      "RESAMPLING THE PROXIES\n",
      "resampling of proxies in each database\n"
     ]
    },
    {
     "name": "stderr",
     "output_type": "stream",
     "text": [
      "100%|██████████| 113/113 [00:15<00:00,  7.26it/s]\n",
      "100%|██████████| 103/103 [00:15<00:00,  6.49it/s]\n"
     ]
    },
    {
     "name": "stdout",
     "output_type": "stream",
     "text": [
      "Load d18O  from  /home/mchoblet/paleoda/data/model_data/downsampled/CESM_d18O_850_1850.nc\n",
      "computing yearly average\n",
      "Load evap  from  /home/mchoblet/paleoda/data/model_data/downsampled/CESM_evap_850_1850.nc\n",
      "computing yearly average\n",
      "Load prec  from  /home/mchoblet/paleoda/data/model_data/downsampled/CESM_prec_850_1850.nc\n",
      "computing yearly average\n",
      "Load tsurf  from  /home/mchoblet/paleoda/data/model_data/downsampled/CESM_tsurf_850_1850.nc\n",
      "computing yearly average\n",
      "USING SPELEO PSM\n",
      "USING ICECORE PSM\n",
      "COMPUTE ANOMALIES IN MODE: BG+HX\n",
      "Compute anomaly for proxies\n",
      "Start Multitimescale DA loop.\n"
     ]
    },
    {
     "name": "stderr",
     "output_type": "stream",
     "text": [
      "  0%|          | 0/10 [00:00<?, ?it/s]OMP: Info #276: omp_set_nested routine deprecated, please use omp_set_max_active_levels instead.\n",
      "100%|██████████| 10/10 [01:35<00:00,  9.58s/it]\n"
     ]
    },
    {
     "name": "stdout",
     "output_type": "stream",
     "text": [
      "Finished multitimescale DA\n",
      "Save variables\n",
      "Output written to iCESM_800_1999.nc\n",
      "isoGSM\n",
      "{'d18O': '/home/mchoblet/paleoda/data/model_data/downsampled/CCSM_d18O_851_1850.nc', 'evap': '/home/mchoblet/paleoda/data/model_data/downsampled/CCSM_evap_851_1850.nc', 'prec': '/home/mchoblet/paleoda/data/model_data/downsampled/CCSM_prec_851_1850.nc', 'tsurf': '/home/mchoblet/paleoda/data/model_data/downsampled/CCSM_tsurf_851_1850.nc'}\n",
      ">>>>>LOADING PROXY DATA\n",
      "COMPUTE TIMERESOLUTION OF PROXIES\n",
      "RESAMPLING THE PROXIES\n",
      "resampling of proxies in each database\n"
     ]
    },
    {
     "name": "stderr",
     "output_type": "stream",
     "text": [
      "100%|██████████| 113/113 [00:24<00:00,  4.60it/s]\n",
      "100%|██████████| 103/103 [00:12<00:00,  8.40it/s]\n"
     ]
    },
    {
     "name": "stdout",
     "output_type": "stream",
     "text": [
      "Load d18O  from  /home/mchoblet/paleoda/data/model_data/downsampled/CCSM_d18O_851_1850.nc\n",
      "computing yearly average\n",
      "Load evap  from  /home/mchoblet/paleoda/data/model_data/downsampled/CCSM_evap_851_1850.nc\n",
      "computing yearly average\n",
      "Load prec  from  /home/mchoblet/paleoda/data/model_data/downsampled/CCSM_prec_851_1850.nc\n",
      "computing yearly average\n",
      "Load tsurf  from  /home/mchoblet/paleoda/data/model_data/downsampled/CCSM_tsurf_851_1850.nc\n",
      "computing yearly average\n",
      "USING SPELEO PSM\n",
      "USING ICECORE PSM\n",
      "COMPUTE ANOMALIES IN MODE: BG+HX\n",
      "Compute anomaly for proxies\n",
      "Start Multitimescale DA loop.\n"
     ]
    },
    {
     "name": "stderr",
     "output_type": "stream",
     "text": [
      " 30%|███       | 3/10 [00:28<01:15, 10.76s/it]"
     ]
    }
   ],
   "source": [
    "experiment_allproxies_gmt(downsampled_paths,cfg,downsampled_paths,downsampled_paths_nogiss)"
   ]
  },
  {
   "cell_type": "code",
   "execution_count": 20,
   "id": "fb31d2fb-4541-423f-847d-90677a96f771",
   "metadata": {},
   "outputs": [],
   "source": [
    "normal_paths={\n",
    "'iCESM':{'d18O':'/home/mchoblet/paleoda/data/model_data/CESM_d18O_850_1850.nc',\n",
    "'evap':'/home/mchoblet/paleoda/data/model_data/CESM_evap_850_1850.nc',\n",
    "'prec':'/home/mchoblet/paleoda/data/model_data/CESM_prec_850_1850.nc',\n",
    "'tsurf':'/home/mchoblet/paleoda/data/model_data/CESM_tsurf_850_1850.nc',\n",
    "       },\n",
    "'isoGSM':{'d18O':'/home/mchoblet/paleoda/data/model_data/CCSM_d18O_851_1850.nc',\n",
    "'evap':'/home/mchoblet/paleoda/data/model_data/CCSM_evap_851_1850.nc',\n",
    "'prec':'/home/mchoblet/paleoda/data/model_data/CCSM_prec_851_1850.nc',\n",
    "'tsurf':'/home/mchoblet/paleoda/data/model_data/CCSM_tsurf_851_1850.nc',\n",
    "       },    \n",
    "'Echam':{'d18O':'/home/mchoblet/paleoda/data/model_data/ECHAM5_d18O_850_1849.nc',\n",
    "'evap':'/home/mchoblet/paleoda/data/model_data/ECHAM5_evap_850_1849.nc',\n",
    "'prec':'/home/mchoblet/paleoda/data/model_data/ECHAM5_prec_850_1849.nc',\n",
    "'tsurf':'/home/mchoblet/paleoda/data/model_data/ECHAM5_tsurf_850_1849.nc',\n",
    "       },\n",
    "'GISS':{'d18O':'/home/mchoblet/paleoda/data/model_data/GISS_d18O_850_1849.nc',\n",
    "'evap':'/home/mchoblet/paleoda/data/model_data/GISS_evap_850_1849.nc',\n",
    "'prec':'/home/mchoblet/paleoda/data/model_data/GISS_prec_850_1849.nc',\n",
    "'tsurf':'/home/mchoblet/paleoda/data/model_data/GISS_tsurf_850_1849.nc',\n",
    "'slp': '/home/mchoblet/paleoda/data/model_data/GISS_slp_850_1849.nc',\n",
    "       },\n",
    "'iHadCM3':{'d18O':'/home/mchoblet/paleoda/data/model_data/iHADCM3_d18O_801_1952.nc',\n",
    "'evap':'/home/mchoblet/paleoda/data/model_data/iHADCM3_evap_801_1952.nc',\n",
    "'prec':'/home/mchoblet/paleoda/data/model_data/iHADCM3_prec_801_1952.nc',\n",
    "'tsurf':'/home/mchoblet/paleoda/data/model_data/iHADCM3_tsurf_801_1952.nc',\n",
    "'slp':'/home/mchoblet/paleoda/data/model_data/iHADCM3_slp_801_1952.nc',\n",
    "       }\n",
    "}\n",
    "\n",
    "upsampled_paths_nogiss={\n",
    "'iCESM':{'d18O':'/home/mchoblet/paleoda/data/model_data/upsampled/CESM_d18O_850_1850.nc',\n",
    "'evap':'/home/mchoblet/paleoda/data/model_data/upsampled/CESM_evap_850_1850.nc',\n",
    "'prec':'/home/mchoblet/paleoda/data/model_data/upsampled/CESM_prec_850_1850.nc',\n",
    "'tsurf':'/home/mchoblet/paleoda/data/model_data/upsampled/CESM_tsurf_850_1850.nc',\n",
    "       },\n",
    "'isoGSM':{'d18O':'/home/mchoblet/paleoda/data/model_data/upsampled/CCSM_d18O_851_1850.nc',\n",
    "'evap':'/home/mchoblet/paleoda/data/model_data/upsampled/CCSM_evap_851_1850.nc',\n",
    "'prec':'/home/mchoblet/paleoda/data/model_data/upsampled/CCSM_prec_851_1850.nc',\n",
    "'tsurf':'/home/mchoblet/paleoda/data/model_data/upsampled/CCSM_tsurf_851_1850.nc',\n",
    "       },    \n",
    "'Echam':{'d18O':'/home/mchoblet/paleoda/data/model_data/upsampled/ECHAM5_d18O_850_1849.nc',\n",
    "'evap':'/home/mchoblet/paleoda/data/model_data/upsampled/ECHAM5_evap_850_1849.nc',\n",
    "'prec':'/home/mchoblet/paleoda/data/model_data/upsampled/ECHAM5_prec_850_1849.nc',\n",
    "'tsurf':'/home/mchoblet/paleoda/data/model_data/upsampled/ECHAM5_tsurf_850_1849.nc',\n",
    "       },\n",
    "'iHadCM3':{'d18O':'/home/mchoblet/paleoda/data/model_data/upsampled/iHADCM3_d18O_801_1952.nc',\n",
    "'evap':'/home/mchoblet/paleoda/data/model_data/upsampled/iHADCM3_evap_801_1952.nc',\n",
    "'prec':'/home/mchoblet/paleoda/data/model_data/upsampled/iHADCM3_prec_801_1952.nc',\n",
    "'tsurf':'/home/mchoblet/paleoda/data/model_data/upsampled/iHADCM3_tsurf_801_1952.nc',\n",
    "'slp':'/home/mchoblet/paleoda/data/model_data/upsampled/iHADCM3_slp_801_1952.nc',\n",
    "       }\n",
    "}\n",
    "\n",
    "upsampled_paths={\n",
    "'iCESM':{'d18O':'/home/mchoblet/paleoda/data/model_data/upsampled/CESM_d18O_850_1850.nc',\n",
    "'evap':'/home/mchoblet/paleoda/data/model_data/upsampled/CESM_evap_850_1850.nc',\n",
    "'prec':'/home/mchoblet/paleoda/data/model_data/upsampled/CESM_prec_850_1850.nc',\n",
    "'tsurf':'/home/mchoblet/paleoda/data/model_data/upsampled/CESM_tsurf_850_1850.nc',\n",
    "       },\n",
    "'isoGSM':{'d18O':'/home/mchoblet/paleoda/data/model_data/upsampled/CCSM_d18O_851_1850.nc',\n",
    "'evap':'/home/mchoblet/paleoda/data/model_data/upsampled/CCSM_evap_851_1850.nc',\n",
    "'prec':'/home/mchoblet/paleoda/data/model_data/upsampled/CCSM_prec_851_1850.nc',\n",
    "'tsurf':'/home/mchoblet/paleoda/data/model_data/upsampled/CCSM_tsurf_851_1850.nc',\n",
    "       },    \n",
    "'Echam':{'d18O':'/home/mchoblet/paleoda/data/model_data/upsampled/ECHAM5_d18O_850_1849.nc',\n",
    "'evap':'/home/mchoblet/paleoda/data/model_data/upsampled/ECHAM5_evap_850_1849.nc',\n",
    "'prec':'/home/mchoblet/paleoda/data/model_data/upsampled/ECHAM5_prec_850_1849.nc',\n",
    "'tsurf':'/home/mchoblet/paleoda/data/model_data/upsampled/ECHAM5_tsurf_850_1849.nc',\n",
    "       },\n",
    "'GISS':{'d18O':'/home/mchoblet/paleoda/data/model_data/upsampled/GISS_d18O_850_1849.nc',\n",
    "'evap':'/home/mchoblet/paleoda/data/model_data/upsampled/GISS_evap_850_1849.nc',\n",
    "'prec':'/home/mchoblet/paleoda/data/model_data/upsampled/GISS_prec_850_1849.nc',\n",
    "'tsurf':'/home/mchoblet/paleoda/data/model_data/upsampled/GISS_tsurf_850_1849.nc',\n",
    "'slp': '/home/mchoblet/paleoda/data/model_data/upsampled/GISS_slp_850_1849.nc',\n",
    "       },\n",
    "'iHadCM3':{'d18O':'/home/mchoblet/paleoda/data/model_data/upsampled/iHADCM3_d18O_801_1952.nc',\n",
    "'evap':'/home/mchoblet/paleoda/data/model_data/upsampled/iHADCM3_evap_801_1952.nc',\n",
    "'prec':'/home/mchoblet/paleoda/data/model_data/upsampled/iHADCM3_prec_801_1952.nc',\n",
    "'tsurf':'/home/mchoblet/paleoda/data/model_data/upsampled/iHADCM3_tsurf_801_1952.nc',\n",
    "'slp':'/home/mchoblet/paleoda/data/model_data/upsampled/iHADCM3_slp_801_1952.nc',\n",
    "       }\n",
    "}\n"
   ]
  },
  {
   "cell_type": "code",
   "execution_count": 9,
   "id": "20f4f7ec-9260-4702-9ae7-077b2cee74f7",
   "metadata": {
    "collapsed": true,
    "jupyter": {
     "outputs_hidden": true
    },
    "tags": []
   },
   "outputs": [
    {
     "name": "stdout",
     "output_type": "stream",
     "text": [
      "iCESM\n",
      "{'d18O': '/home/mchoblet/paleoda/data/model_data/CESM_d18O_850_1850.nc', 'evap': '/home/mchoblet/paleoda/data/model_data/CESM_evap_850_1850.nc', 'prec': '/home/mchoblet/paleoda/data/model_data/CESM_prec_850_1850.nc', 'tsurf': '/home/mchoblet/paleoda/data/model_data/CESM_tsurf_850_1850.nc'}\n",
      ">>>>>LOADING PROXY DATA\n",
      "COMPUTE TIMERESOLUTION OF PROXIES\n",
      "RESAMPLING THE PROXIES\n",
      "resampling of proxies in each database\n"
     ]
    },
    {
     "name": "stderr",
     "output_type": "stream",
     "text": [
      "100%|██████████| 113/113 [00:19<00:00,  5.90it/s]\n",
      "100%|██████████| 103/103 [00:15<00:00,  6.76it/s]\n"
     ]
    },
    {
     "name": "stdout",
     "output_type": "stream",
     "text": [
      "Load d18O  from  /home/mchoblet/paleoda/data/model_data/CESM_d18O_850_1850.nc\n",
      "computing yearly average\n",
      "Load evap  from  /home/mchoblet/paleoda/data/model_data/CESM_evap_850_1850.nc\n",
      "computing yearly average\n",
      "Load prec  from  /home/mchoblet/paleoda/data/model_data/CESM_prec_850_1850.nc\n",
      "computing yearly average\n",
      "Load tsurf  from  /home/mchoblet/paleoda/data/model_data/CESM_tsurf_850_1850.nc\n",
      "computing yearly average\n",
      "USING SPELEO PSM\n",
      "USING ICECORE PSM\n",
      "COMPUTE ANOMALIES IN MODE: BG+HX\n",
      "Compute anomaly for proxies\n",
      "Start Multitimescale DA loop.\n"
     ]
    },
    {
     "name": "stderr",
     "output_type": "stream",
     "text": [
      "  0%|          | 0/10 [00:00<?, ?it/s]OMP: Info #276: omp_set_nested routine deprecated, please use omp_set_max_active_levels instead.\n",
      "100%|██████████| 10/10 [03:49<00:00, 23.00s/it]\n"
     ]
    },
    {
     "name": "stdout",
     "output_type": "stream",
     "text": [
      "Finished multitimescale DA\n",
      "Save variables\n",
      "Warning: Output written to iCESM_800_1999_0.nc, because iCESM_800_1999.nc already exists\n",
      "isoGSM\n",
      "{'d18O': '/home/mchoblet/paleoda/data/model_data/CCSM_d18O_851_1850.nc', 'evap': '/home/mchoblet/paleoda/data/model_data/CCSM_evap_851_1850.nc', 'prec': '/home/mchoblet/paleoda/data/model_data/CCSM_prec_851_1850.nc', 'tsurf': '/home/mchoblet/paleoda/data/model_data/CCSM_tsurf_851_1850.nc'}\n",
      ">>>>>LOADING PROXY DATA\n",
      "COMPUTE TIMERESOLUTION OF PROXIES\n",
      "RESAMPLING THE PROXIES\n",
      "resampling of proxies in each database\n"
     ]
    },
    {
     "name": "stderr",
     "output_type": "stream",
     "text": [
      "100%|██████████| 113/113 [00:19<00:00,  5.93it/s]\n",
      "100%|██████████| 103/103 [00:15<00:00,  6.74it/s]\n"
     ]
    },
    {
     "name": "stdout",
     "output_type": "stream",
     "text": [
      "Load d18O  from  /home/mchoblet/paleoda/data/model_data/CCSM_d18O_851_1850.nc\n",
      "computing yearly average\n",
      "Load evap  from  /home/mchoblet/paleoda/data/model_data/CCSM_evap_851_1850.nc\n",
      "computing yearly average\n",
      "Load prec  from  /home/mchoblet/paleoda/data/model_data/CCSM_prec_851_1850.nc\n",
      "computing yearly average\n",
      "Load tsurf  from  /home/mchoblet/paleoda/data/model_data/CCSM_tsurf_851_1850.nc\n",
      "computing yearly average\n",
      "USING SPELEO PSM\n",
      "USING ICECORE PSM\n",
      "COMPUTE ANOMALIES IN MODE: BG+HX\n",
      "Compute anomaly for proxies\n",
      "Start Multitimescale DA loop.\n"
     ]
    },
    {
     "name": "stderr",
     "output_type": "stream",
     "text": [
      "100%|██████████| 10/10 [02:47<00:00, 16.73s/it]\n"
     ]
    },
    {
     "name": "stdout",
     "output_type": "stream",
     "text": [
      "Finished multitimescale DA\n",
      "Save variables\n",
      "Warning: Output written to isoGSM_800_1999_0.nc, because isoGSM_800_1999.nc already exists\n",
      "Echam\n",
      "{'d18O': '/home/mchoblet/paleoda/data/model_data/ECHAM5_d18O_850_1849.nc', 'evap': '/home/mchoblet/paleoda/data/model_data/ECHAM5_evap_850_1849.nc', 'prec': '/home/mchoblet/paleoda/data/model_data/ECHAM5_prec_850_1849.nc', 'tsurf': '/home/mchoblet/paleoda/data/model_data/ECHAM5_tsurf_850_1849.nc'}\n",
      ">>>>>LOADING PROXY DATA\n",
      "COMPUTE TIMERESOLUTION OF PROXIES\n",
      "RESAMPLING THE PROXIES\n",
      "resampling of proxies in each database\n"
     ]
    },
    {
     "name": "stderr",
     "output_type": "stream",
     "text": [
      "100%|██████████| 113/113 [00:13<00:00,  8.09it/s]\n",
      "100%|██████████| 103/103 [00:10<00:00,  9.49it/s]\n"
     ]
    },
    {
     "name": "stdout",
     "output_type": "stream",
     "text": [
      "Load d18O  from  /home/mchoblet/paleoda/data/model_data/ECHAM5_d18O_850_1849.nc\n",
      "computing yearly average\n",
      "Load evap  from  /home/mchoblet/paleoda/data/model_data/ECHAM5_evap_850_1849.nc\n",
      "computing yearly average\n",
      "Load prec  from  /home/mchoblet/paleoda/data/model_data/ECHAM5_prec_850_1849.nc\n",
      "computing yearly average\n",
      "Load tsurf  from  /home/mchoblet/paleoda/data/model_data/ECHAM5_tsurf_850_1849.nc\n",
      "computing yearly average\n",
      "USING SPELEO PSM\n",
      "USING ICECORE PSM\n",
      "COMPUTE ANOMALIES IN MODE: BG+HX\n",
      "Compute anomaly for proxies\n",
      "Start Multitimescale DA loop.\n"
     ]
    },
    {
     "name": "stderr",
     "output_type": "stream",
     "text": [
      "100%|██████████| 10/10 [03:54<00:00, 23.49s/it]\n"
     ]
    },
    {
     "name": "stdout",
     "output_type": "stream",
     "text": [
      "Finished multitimescale DA\n",
      "Save variables\n",
      "Warning: Output written to Echam_800_1999_0.nc, because Echam_800_1999.nc already exists\n",
      "GISS\n",
      "{'d18O': '/home/mchoblet/paleoda/data/model_data/GISS_d18O_850_1849.nc', 'evap': '/home/mchoblet/paleoda/data/model_data/GISS_evap_850_1849.nc', 'prec': '/home/mchoblet/paleoda/data/model_data/GISS_prec_850_1849.nc', 'tsurf': '/home/mchoblet/paleoda/data/model_data/GISS_tsurf_850_1849.nc', 'slp': '/home/mchoblet/paleoda/data/model_data/GISS_slp_850_1849.nc'}\n",
      ">>>>>LOADING PROXY DATA\n",
      "COMPUTE TIMERESOLUTION OF PROXIES\n",
      "RESAMPLING THE PROXIES\n",
      "resampling of proxies in each database\n"
     ]
    },
    {
     "name": "stderr",
     "output_type": "stream",
     "text": [
      "100%|██████████| 113/113 [00:19<00:00,  5.85it/s]\n",
      "100%|██████████| 103/103 [00:15<00:00,  6.78it/s]\n"
     ]
    },
    {
     "name": "stdout",
     "output_type": "stream",
     "text": [
      "Load d18O  from  /home/mchoblet/paleoda/data/model_data/GISS_d18O_850_1849.nc\n",
      "computing yearly average\n",
      "Load evap  from  /home/mchoblet/paleoda/data/model_data/GISS_evap_850_1849.nc\n",
      "computing yearly average\n",
      "Load prec  from  /home/mchoblet/paleoda/data/model_data/GISS_prec_850_1849.nc\n",
      "computing yearly average\n",
      "Load tsurf  from  /home/mchoblet/paleoda/data/model_data/GISS_tsurf_850_1849.nc\n",
      "computing yearly average\n",
      "Load slp  from  /home/mchoblet/paleoda/data/model_data/GISS_slp_850_1849.nc\n",
      "computing yearly average\n",
      "USING SPELEO PSM\n",
      "USING ICECORE PSM\n",
      "COMPUTE ANOMALIES IN MODE: BG+HX\n",
      "Compute anomaly for proxies\n",
      "Start Multitimescale DA loop.\n"
     ]
    },
    {
     "name": "stderr",
     "output_type": "stream",
     "text": [
      "100%|██████████| 10/10 [03:53<00:00, 23.34s/it]\n"
     ]
    },
    {
     "name": "stdout",
     "output_type": "stream",
     "text": [
      "Finished multitimescale DA\n",
      "Save variables\n",
      "Warning: Output written to GISS_800_1999_0.nc, because GISS_800_1999.nc already exists\n",
      "iHadCM3\n",
      "{'d18O': '/home/mchoblet/paleoda/data/model_data/iHADCM3_d18O_801_1952.nc', 'evap': '/home/mchoblet/paleoda/data/model_data/iHADCM3_evap_801_1952.nc', 'prec': '/home/mchoblet/paleoda/data/model_data/iHADCM3_prec_801_1952.nc', 'tsurf': '/home/mchoblet/paleoda/data/model_data/iHADCM3_tsurf_801_1952.nc', 'slp': '/home/mchoblet/paleoda/data/model_data/iHADCM3_slp_801_1952.nc'}\n",
      ">>>>>LOADING PROXY DATA\n",
      "COMPUTE TIMERESOLUTION OF PROXIES\n",
      "RESAMPLING THE PROXIES\n",
      "resampling of proxies in each database\n"
     ]
    },
    {
     "name": "stderr",
     "output_type": "stream",
     "text": [
      "100%|██████████| 113/113 [00:19<00:00,  5.85it/s]\n",
      "100%|██████████| 103/103 [00:15<00:00,  6.64it/s]\n"
     ]
    },
    {
     "name": "stdout",
     "output_type": "stream",
     "text": [
      "Load d18O  from  /home/mchoblet/paleoda/data/model_data/iHADCM3_d18O_801_1952.nc\n",
      "computing yearly average\n",
      "Checking prior for nans\n",
      "Only nans in year 1426-01-01 00:00:00 . Replaced values with previous year\n",
      "Only nans in year 1427-01-01 00:00:00 . Replaced values with previous year\n",
      "Only nans in year 1428-01-01 00:00:00 . Replaced values with previous year\n",
      "Load evap  from  /home/mchoblet/paleoda/data/model_data/iHADCM3_evap_801_1952.nc\n",
      "computing yearly average\n",
      "Checking prior for nans\n",
      "Only nans in year 1426-01-01 00:00:00 . Replaced values with previous year\n",
      "Only nans in year 1427-01-01 00:00:00 . Replaced values with previous year\n",
      "Only nans in year 1428-01-01 00:00:00 . Replaced values with previous year\n",
      "Load prec  from  /home/mchoblet/paleoda/data/model_data/iHADCM3_prec_801_1952.nc\n",
      "computing yearly average\n",
      "Checking prior for nans\n",
      "Only nans in year 1426-01-01 00:00:00 . Replaced values with previous year\n",
      "Only nans in year 1427-01-01 00:00:00 . Replaced values with previous year\n",
      "Only nans in year 1428-01-01 00:00:00 . Replaced values with previous year\n",
      "Load tsurf  from  /home/mchoblet/paleoda/data/model_data/iHADCM3_tsurf_801_1952.nc\n",
      "computing yearly average\n",
      "Checking prior for nans\n",
      "Only nans in year 1426-01-01 00:00:00 . Replaced values with previous year\n",
      "Only nans in year 1427-01-01 00:00:00 . Replaced values with previous year\n",
      "Only nans in year 1428-01-01 00:00:00 . Replaced values with previous year\n",
      "Load slp  from  /home/mchoblet/paleoda/data/model_data/iHADCM3_slp_801_1952.nc\n",
      "computing yearly average\n",
      "Checking prior for nans\n",
      "Only nans in year 1426-01-01 00:00:00 . Replaced values with previous year\n",
      "Only nans in year 1427-01-01 00:00:00 . Replaced values with previous year\n",
      "Only nans in year 1428-01-01 00:00:00 . Replaced values with previous year\n",
      "USING SPELEO PSM\n",
      "USING ICECORE PSM\n",
      "COMPUTE ANOMALIES IN MODE: BG+HX\n",
      "Compute anomaly for proxies\n",
      "Start Multitimescale DA loop.\n"
     ]
    },
    {
     "name": "stderr",
     "output_type": "stream",
     "text": [
      "100%|██████████| 10/10 [04:05<00:00, 24.50s/it]\n"
     ]
    },
    {
     "name": "stdout",
     "output_type": "stream",
     "text": [
      "Finished multitimescale DA\n",
      "Save variables\n",
      "Warning: Output written to iHadCM3_800_1999_0.nc, because iHadCM3_800_1999.nc already exists\n",
      ">>>>>LOADING PROXY DATA\n",
      "COMPUTE TIMERESOLUTION OF PROXIES\n",
      "RESAMPLING THE PROXIES\n",
      "resampling of proxies in each database\n"
     ]
    },
    {
     "name": "stderr",
     "output_type": "stream",
     "text": [
      "100%|██████████| 113/113 [00:19<00:00,  5.78it/s]\n",
      "100%|██████████| 103/103 [00:15<00:00,  6.68it/s]\n"
     ]
    },
    {
     "name": "stdout",
     "output_type": "stream",
     "text": [
      "Will compute a multi-model-prior!\n",
      "Load d18O  from  /home/mchoblet/paleoda/data/model_data/upsampled/CESM_d18O_850_1850.nc\n",
      "computing yearly average\n",
      "Load evap  from  /home/mchoblet/paleoda/data/model_data/upsampled/CESM_evap_850_1850.nc\n",
      "computing yearly average\n",
      "Load prec  from  /home/mchoblet/paleoda/data/model_data/upsampled/CESM_prec_850_1850.nc\n",
      "computing yearly average\n",
      "Load tsurf  from  /home/mchoblet/paleoda/data/model_data/upsampled/CESM_tsurf_850_1850.nc\n",
      "computing yearly average\n",
      "USING SPELEO PSM\n",
      "USING ICECORE PSM\n",
      "COMPUTE ANOMALIES IN MODE: BG+HX\n",
      "Load d18O  from  /home/mchoblet/paleoda/data/model_data/upsampled/CCSM_d18O_851_1850.nc\n",
      "computing yearly average\n",
      "Load evap  from  /home/mchoblet/paleoda/data/model_data/upsampled/CCSM_evap_851_1850.nc\n",
      "computing yearly average\n",
      "Load prec  from  /home/mchoblet/paleoda/data/model_data/upsampled/CCSM_prec_851_1850.nc\n",
      "computing yearly average\n",
      "Load tsurf  from  /home/mchoblet/paleoda/data/model_data/upsampled/CCSM_tsurf_851_1850.nc\n",
      "computing yearly average\n",
      "USING SPELEO PSM\n",
      "USING ICECORE PSM\n",
      "COMPUTE ANOMALIES IN MODE: BG+HX\n",
      "Load d18O  from  /home/mchoblet/paleoda/data/model_data/upsampled/ECHAM5_d18O_850_1849.nc\n",
      "computing yearly average\n",
      "Load evap  from  /home/mchoblet/paleoda/data/model_data/upsampled/ECHAM5_evap_850_1849.nc\n",
      "computing yearly average\n",
      "Load prec  from  /home/mchoblet/paleoda/data/model_data/upsampled/ECHAM5_prec_850_1849.nc\n",
      "computing yearly average\n",
      "Load tsurf  from  /home/mchoblet/paleoda/data/model_data/upsampled/ECHAM5_tsurf_850_1849.nc\n",
      "computing yearly average\n",
      "USING SPELEO PSM\n",
      "USING ICECORE PSM\n",
      "COMPUTE ANOMALIES IN MODE: BG+HX\n",
      "Load d18O  from  /home/mchoblet/paleoda/data/model_data/upsampled/GISS_d18O_850_1849.nc\n",
      "computing yearly average\n",
      "Load evap  from  /home/mchoblet/paleoda/data/model_data/upsampled/GISS_evap_850_1849.nc\n",
      "computing yearly average\n",
      "Load prec  from  /home/mchoblet/paleoda/data/model_data/upsampled/GISS_prec_850_1849.nc\n",
      "computing yearly average\n",
      "Load tsurf  from  /home/mchoblet/paleoda/data/model_data/upsampled/GISS_tsurf_850_1849.nc\n",
      "computing yearly average\n",
      "Load slp  from  /home/mchoblet/paleoda/data/model_data/upsampled/GISS_slp_850_1849.nc\n",
      "computing yearly average\n",
      "USING SPELEO PSM\n",
      "USING ICECORE PSM\n",
      "COMPUTE ANOMALIES IN MODE: BG+HX\n",
      "Load d18O  from  /home/mchoblet/paleoda/data/model_data/upsampled/iHADCM3_d18O_801_1952.nc\n",
      "computing yearly average\n",
      "Checking prior for nans\n",
      "Only nans in year 1426-01-01 00:00:00 . Replaced values with previous year\n",
      "Only nans in year 1427-01-01 00:00:00 . Replaced values with previous year\n",
      "Only nans in year 1428-01-01 00:00:00 . Replaced values with previous year\n",
      "Load evap  from  /home/mchoblet/paleoda/data/model_data/upsampled/iHADCM3_evap_801_1952.nc\n",
      "computing yearly average\n",
      "Checking prior for nans\n",
      "Only nans in year 1426-01-01 00:00:00 . Replaced values with previous year\n",
      "Only nans in year 1427-01-01 00:00:00 . Replaced values with previous year\n",
      "Only nans in year 1428-01-01 00:00:00 . Replaced values with previous year\n",
      "Load prec  from  /home/mchoblet/paleoda/data/model_data/upsampled/iHADCM3_prec_801_1952.nc\n",
      "computing yearly average\n",
      "Checking prior for nans\n",
      "Only nans in year 1426-01-01 00:00:00 . Replaced values with previous year\n",
      "Only nans in year 1427-01-01 00:00:00 . Replaced values with previous year\n",
      "Only nans in year 1428-01-01 00:00:00 . Replaced values with previous year\n",
      "Load tsurf  from  /home/mchoblet/paleoda/data/model_data/upsampled/iHADCM3_tsurf_801_1952.nc\n",
      "computing yearly average\n",
      "Checking prior for nans\n",
      "Only nans in year 1426-01-01 00:00:00 . Replaced values with previous year\n",
      "Only nans in year 1427-01-01 00:00:00 . Replaced values with previous year\n",
      "Only nans in year 1428-01-01 00:00:00 . Replaced values with previous year\n",
      "Load slp  from  /home/mchoblet/paleoda/data/model_data/upsampled/iHADCM3_slp_801_1952.nc\n",
      "computing yearly average\n",
      "Checking prior for nans\n",
      "Only nans in year 1426-01-01 00:00:00 . Replaced values with previous year\n",
      "Only nans in year 1427-01-01 00:00:00 . Replaced values with previous year\n",
      "Only nans in year 1428-01-01 00:00:00 . Replaced values with previous year\n",
      "USING SPELEO PSM\n",
      "USING ICECORE PSM\n",
      "COMPUTE ANOMALIES IN MODE: BG+HX\n",
      "Compute anomaly for proxies\n",
      "Start Multitimescale DA loop.\n"
     ]
    },
    {
     "name": "stderr",
     "output_type": "stream",
     "text": [
      "100%|██████████| 10/10 [44:45<00:00, 268.58s/it]\n"
     ]
    },
    {
     "name": "stdout",
     "output_type": "stream",
     "text": [
      "Finished multitimescale DA\n",
      "Save variables\n",
      "Warning: Output written to mme_800_1999_0.nc, because mme_800_1999.nc already exists\n",
      ">>>>>LOADING PROXY DATA\n",
      "COMPUTE TIMERESOLUTION OF PROXIES\n",
      "RESAMPLING THE PROXIES\n",
      "resampling of proxies in each database\n"
     ]
    },
    {
     "name": "stderr",
     "output_type": "stream",
     "text": [
      "100%|██████████| 113/113 [00:19<00:00,  5.87it/s]\n",
      "100%|██████████| 103/103 [00:15<00:00,  6.73it/s]\n"
     ]
    },
    {
     "name": "stdout",
     "output_type": "stream",
     "text": [
      "Will compute a multi-model-prior!\n",
      "Load d18O  from  /home/mchoblet/paleoda/data/model_data/upsampled/CESM_d18O_850_1850.nc\n",
      "computing yearly average\n",
      "Load evap  from  /home/mchoblet/paleoda/data/model_data/upsampled/CESM_evap_850_1850.nc\n",
      "computing yearly average\n",
      "Load prec  from  /home/mchoblet/paleoda/data/model_data/upsampled/CESM_prec_850_1850.nc\n",
      "computing yearly average\n",
      "Load tsurf  from  /home/mchoblet/paleoda/data/model_data/upsampled/CESM_tsurf_850_1850.nc\n",
      "computing yearly average\n",
      "USING SPELEO PSM\n",
      "USING ICECORE PSM\n",
      "COMPUTE ANOMALIES IN MODE: BG+HX\n",
      "Load d18O  from  /home/mchoblet/paleoda/data/model_data/upsampled/CCSM_d18O_851_1850.nc\n",
      "computing yearly average\n",
      "Load evap  from  /home/mchoblet/paleoda/data/model_data/upsampled/CCSM_evap_851_1850.nc\n",
      "computing yearly average\n",
      "Load prec  from  /home/mchoblet/paleoda/data/model_data/upsampled/CCSM_prec_851_1850.nc\n",
      "computing yearly average\n",
      "Load tsurf  from  /home/mchoblet/paleoda/data/model_data/upsampled/CCSM_tsurf_851_1850.nc\n",
      "computing yearly average\n",
      "USING SPELEO PSM\n",
      "USING ICECORE PSM\n",
      "COMPUTE ANOMALIES IN MODE: BG+HX\n",
      "Load d18O  from  /home/mchoblet/paleoda/data/model_data/upsampled/ECHAM5_d18O_850_1849.nc\n",
      "computing yearly average\n",
      "Load evap  from  /home/mchoblet/paleoda/data/model_data/upsampled/ECHAM5_evap_850_1849.nc\n",
      "computing yearly average\n",
      "Load prec  from  /home/mchoblet/paleoda/data/model_data/upsampled/ECHAM5_prec_850_1849.nc\n",
      "computing yearly average\n",
      "Load tsurf  from  /home/mchoblet/paleoda/data/model_data/upsampled/ECHAM5_tsurf_850_1849.nc\n",
      "computing yearly average\n",
      "USING SPELEO PSM\n",
      "USING ICECORE PSM\n",
      "COMPUTE ANOMALIES IN MODE: BG+HX\n",
      "Load d18O  from  /home/mchoblet/paleoda/data/model_data/upsampled/iHADCM3_d18O_801_1952.nc\n",
      "computing yearly average\n",
      "Checking prior for nans\n",
      "Only nans in year 1426-01-01 00:00:00 . Replaced values with previous year\n",
      "Only nans in year 1427-01-01 00:00:00 . Replaced values with previous year\n",
      "Only nans in year 1428-01-01 00:00:00 . Replaced values with previous year\n",
      "Load evap  from  /home/mchoblet/paleoda/data/model_data/upsampled/iHADCM3_evap_801_1952.nc\n",
      "computing yearly average\n",
      "Checking prior for nans\n",
      "Only nans in year 1426-01-01 00:00:00 . Replaced values with previous year\n",
      "Only nans in year 1427-01-01 00:00:00 . Replaced values with previous year\n",
      "Only nans in year 1428-01-01 00:00:00 . Replaced values with previous year\n",
      "Load prec  from  /home/mchoblet/paleoda/data/model_data/upsampled/iHADCM3_prec_801_1952.nc\n",
      "computing yearly average\n",
      "Checking prior for nans\n",
      "Only nans in year 1426-01-01 00:00:00 . Replaced values with previous year\n",
      "Only nans in year 1427-01-01 00:00:00 . Replaced values with previous year\n",
      "Only nans in year 1428-01-01 00:00:00 . Replaced values with previous year\n",
      "Load tsurf  from  /home/mchoblet/paleoda/data/model_data/upsampled/iHADCM3_tsurf_801_1952.nc\n",
      "computing yearly average\n",
      "Checking prior for nans\n",
      "Only nans in year 1426-01-01 00:00:00 . Replaced values with previous year\n",
      "Only nans in year 1427-01-01 00:00:00 . Replaced values with previous year\n",
      "Only nans in year 1428-01-01 00:00:00 . Replaced values with previous year\n",
      "Load slp  from  /home/mchoblet/paleoda/data/model_data/upsampled/iHADCM3_slp_801_1952.nc\n",
      "computing yearly average\n",
      "Checking prior for nans\n",
      "Only nans in year 1426-01-01 00:00:00 . Replaced values with previous year\n",
      "Only nans in year 1427-01-01 00:00:00 . Replaced values with previous year\n",
      "Only nans in year 1428-01-01 00:00:00 . Replaced values with previous year\n",
      "USING SPELEO PSM\n",
      "USING ICECORE PSM\n",
      "COMPUTE ANOMALIES IN MODE: BG+HX\n",
      "Compute anomaly for proxies\n",
      "Start Multitimescale DA loop.\n"
     ]
    },
    {
     "name": "stderr",
     "output_type": "stream",
     "text": [
      "100%|██████████| 10/10 [31:00<00:00, 186.06s/it]\n"
     ]
    },
    {
     "name": "stdout",
     "output_type": "stream",
     "text": [
      "Finished multitimescale DA\n",
      "Save variables\n",
      "Warning: Output written to mme_nogiss_800_1999_0.nc, because mme_nogiss_800_1999.nc already exists\n",
      ">>>>>LOADING PROXY DATA\n",
      "COMPUTE TIMERESOLUTION OF PROXIES\n",
      "RESAMPLING THE PROXIES\n",
      "resampling of proxies in each database\n"
     ]
    },
    {
     "name": "stderr",
     "output_type": "stream",
     "text": [
      "100%|██████████| 113/113 [00:21<00:00,  5.31it/s]\n",
      "100%|██████████| 103/103 [00:15<00:00,  6.59it/s]\n"
     ]
    },
    {
     "name": "stdout",
     "output_type": "stream",
     "text": [
      "Load d18O  from  /home/mchoblet/paleoda/data/model_data/CESM_d18O_850_1850.nc\n",
      "computing yearly average\n",
      "Load evap  from  /home/mchoblet/paleoda/data/model_data/CESM_evap_850_1850.nc\n",
      "computing yearly average\n",
      "Load prec  from  /home/mchoblet/paleoda/data/model_data/CESM_prec_850_1850.nc\n",
      "computing yearly average\n",
      "Load tsurf  from  /home/mchoblet/paleoda/data/model_data/CESM_tsurf_850_1850.nc\n",
      "computing yearly average\n",
      "USING SPELEO PSM\n",
      "USING ICECORE PSM\n",
      "COMPUTE ANOMALIES IN MODE: BG+HX\n",
      "Compute anomaly for proxies\n",
      "Start Multitimescale DA loop.\n"
     ]
    },
    {
     "name": "stderr",
     "output_type": "stream",
     "text": [
      "100%|██████████| 10/10 [04:08<00:00, 24.89s/it]\n"
     ]
    },
    {
     "name": "stdout",
     "output_type": "stream",
     "text": [
      "Finished multitimescale DA\n",
      "Save variables\n",
      "Output written to iCESM_800_1999.nc\n",
      ">>>>>LOADING PROXY DATA\n",
      "COMPUTE TIMERESOLUTION OF PROXIES\n",
      "RESAMPLING THE PROXIES\n",
      "resampling of proxies in each database\n"
     ]
    },
    {
     "name": "stderr",
     "output_type": "stream",
     "text": [
      "100%|██████████| 113/113 [00:20<00:00,  5.39it/s]\n",
      "100%|██████████| 103/103 [00:17<00:00,  6.05it/s]\n"
     ]
    },
    {
     "name": "stdout",
     "output_type": "stream",
     "text": [
      "Load d18O  from  /home/mchoblet/paleoda/data/model_data/CCSM_d18O_851_1850.nc\n",
      "computing yearly average\n",
      "Load evap  from  /home/mchoblet/paleoda/data/model_data/CCSM_evap_851_1850.nc\n",
      "computing yearly average\n",
      "Load prec  from  /home/mchoblet/paleoda/data/model_data/CCSM_prec_851_1850.nc\n",
      "computing yearly average\n",
      "Load tsurf  from  /home/mchoblet/paleoda/data/model_data/CCSM_tsurf_851_1850.nc\n",
      "computing yearly average\n",
      "USING SPELEO PSM\n",
      "USING ICECORE PSM\n",
      "COMPUTE ANOMALIES IN MODE: BG+HX\n",
      "Compute anomaly for proxies\n",
      "Start Multitimescale DA loop.\n"
     ]
    },
    {
     "name": "stderr",
     "output_type": "stream",
     "text": [
      "100%|██████████| 10/10 [04:05<00:00, 24.60s/it]\n"
     ]
    },
    {
     "name": "stdout",
     "output_type": "stream",
     "text": [
      "Finished multitimescale DA\n",
      "Save variables\n",
      "Output written to isoGSM_800_1999.nc\n",
      ">>>>>LOADING PROXY DATA\n",
      "COMPUTE TIMERESOLUTION OF PROXIES\n",
      "RESAMPLING THE PROXIES\n",
      "resampling of proxies in each database\n"
     ]
    },
    {
     "name": "stderr",
     "output_type": "stream",
     "text": [
      "100%|██████████| 113/113 [00:19<00:00,  5.85it/s]\n",
      "100%|██████████| 103/103 [00:15<00:00,  6.63it/s]\n"
     ]
    },
    {
     "name": "stdout",
     "output_type": "stream",
     "text": [
      "Load d18O  from  /home/mchoblet/paleoda/data/model_data/ECHAM5_d18O_850_1849.nc\n",
      "computing yearly average\n",
      "Load evap  from  /home/mchoblet/paleoda/data/model_data/ECHAM5_evap_850_1849.nc\n",
      "computing yearly average\n",
      "Load prec  from  /home/mchoblet/paleoda/data/model_data/ECHAM5_prec_850_1849.nc\n",
      "computing yearly average\n",
      "Load tsurf  from  /home/mchoblet/paleoda/data/model_data/ECHAM5_tsurf_850_1849.nc\n",
      "computing yearly average\n",
      "USING SPELEO PSM\n",
      "USING ICECORE PSM\n",
      "COMPUTE ANOMALIES IN MODE: BG+HX\n",
      "Compute anomaly for proxies\n",
      "Start Multitimescale DA loop.\n"
     ]
    },
    {
     "name": "stderr",
     "output_type": "stream",
     "text": [
      "100%|██████████| 10/10 [04:15<00:00, 25.58s/it]\n"
     ]
    },
    {
     "name": "stdout",
     "output_type": "stream",
     "text": [
      "Finished multitimescale DA\n",
      "Save variables\n",
      "Output written to Echam_800_1999.nc\n",
      ">>>>>LOADING PROXY DATA\n",
      "COMPUTE TIMERESOLUTION OF PROXIES\n",
      "RESAMPLING THE PROXIES\n",
      "resampling of proxies in each database\n"
     ]
    },
    {
     "name": "stderr",
     "output_type": "stream",
     "text": [
      "100%|██████████| 113/113 [00:19<00:00,  5.82it/s]\n",
      "100%|██████████| 103/103 [00:15<00:00,  6.68it/s]\n"
     ]
    },
    {
     "name": "stdout",
     "output_type": "stream",
     "text": [
      "Load d18O  from  /home/mchoblet/paleoda/data/model_data/GISS_d18O_850_1849.nc\n",
      "computing yearly average\n",
      "Load evap  from  /home/mchoblet/paleoda/data/model_data/GISS_evap_850_1849.nc\n",
      "computing yearly average\n",
      "Load prec  from  /home/mchoblet/paleoda/data/model_data/GISS_prec_850_1849.nc\n",
      "computing yearly average\n",
      "Load tsurf  from  /home/mchoblet/paleoda/data/model_data/GISS_tsurf_850_1849.nc\n",
      "computing yearly average\n",
      "Load slp  from  /home/mchoblet/paleoda/data/model_data/GISS_slp_850_1849.nc\n",
      "computing yearly average\n",
      "USING SPELEO PSM\n",
      "USING ICECORE PSM\n",
      "COMPUTE ANOMALIES IN MODE: BG+HX\n",
      "Compute anomaly for proxies\n",
      "Start Multitimescale DA loop.\n"
     ]
    },
    {
     "name": "stderr",
     "output_type": "stream",
     "text": [
      "100%|██████████| 10/10 [04:17<00:00, 25.74s/it]\n"
     ]
    },
    {
     "name": "stdout",
     "output_type": "stream",
     "text": [
      "Finished multitimescale DA\n",
      "Save variables\n",
      "Output written to GISS_800_1999.nc\n",
      ">>>>>LOADING PROXY DATA\n",
      "COMPUTE TIMERESOLUTION OF PROXIES\n",
      "RESAMPLING THE PROXIES\n",
      "resampling of proxies in each database\n"
     ]
    },
    {
     "name": "stderr",
     "output_type": "stream",
     "text": [
      "100%|██████████| 113/113 [00:22<00:00,  5.06it/s]\n",
      "100%|██████████| 103/103 [00:18<00:00,  5.70it/s]\n"
     ]
    },
    {
     "name": "stdout",
     "output_type": "stream",
     "text": [
      "Load d18O  from  /home/mchoblet/paleoda/data/model_data/iHADCM3_d18O_801_1952.nc\n",
      "computing yearly average\n",
      "Checking prior for nans\n",
      "Only nans in year 1426-01-01 00:00:00 . Replaced values with previous year\n",
      "Only nans in year 1427-01-01 00:00:00 . Replaced values with previous year\n",
      "Only nans in year 1428-01-01 00:00:00 . Replaced values with previous year\n",
      "Load evap  from  /home/mchoblet/paleoda/data/model_data/iHADCM3_evap_801_1952.nc\n",
      "computing yearly average\n",
      "Checking prior for nans\n",
      "Only nans in year 1426-01-01 00:00:00 . Replaced values with previous year\n",
      "Only nans in year 1427-01-01 00:00:00 . Replaced values with previous year\n",
      "Only nans in year 1428-01-01 00:00:00 . Replaced values with previous year\n",
      "Load prec  from  /home/mchoblet/paleoda/data/model_data/iHADCM3_prec_801_1952.nc\n",
      "computing yearly average\n",
      "Checking prior for nans\n",
      "Only nans in year 1426-01-01 00:00:00 . Replaced values with previous year\n",
      "Only nans in year 1427-01-01 00:00:00 . Replaced values with previous year\n",
      "Only nans in year 1428-01-01 00:00:00 . Replaced values with previous year\n",
      "Load tsurf  from  /home/mchoblet/paleoda/data/model_data/iHADCM3_tsurf_801_1952.nc\n",
      "computing yearly average\n",
      "Checking prior for nans\n",
      "Only nans in year 1426-01-01 00:00:00 . Replaced values with previous year\n",
      "Only nans in year 1427-01-01 00:00:00 . Replaced values with previous year\n",
      "Only nans in year 1428-01-01 00:00:00 . Replaced values with previous year\n",
      "Load slp  from  /home/mchoblet/paleoda/data/model_data/iHADCM3_slp_801_1952.nc\n",
      "computing yearly average\n",
      "Checking prior for nans\n",
      "Only nans in year 1426-01-01 00:00:00 . Replaced values with previous year\n",
      "Only nans in year 1427-01-01 00:00:00 . Replaced values with previous year\n",
      "Only nans in year 1428-01-01 00:00:00 . Replaced values with previous year\n",
      "USING SPELEO PSM\n",
      "USING ICECORE PSM\n",
      "COMPUTE ANOMALIES IN MODE: BG+HX\n",
      "Compute anomaly for proxies\n",
      "Start Multitimescale DA loop.\n"
     ]
    },
    {
     "name": "stderr",
     "output_type": "stream",
     "text": [
      "100%|██████████| 10/10 [04:06<00:00, 24.67s/it]\n"
     ]
    },
    {
     "name": "stdout",
     "output_type": "stream",
     "text": [
      "Finished multitimescale DA\n",
      "Save variables\n",
      "Output written to iHadCM3_800_1999.nc\n",
      ">>>>>LOADING PROXY DATA\n",
      "COMPUTE TIMERESOLUTION OF PROXIES\n",
      "RESAMPLING THE PROXIES\n",
      "resampling of proxies in each database\n"
     ]
    },
    {
     "name": "stderr",
     "output_type": "stream",
     "text": [
      "100%|██████████| 113/113 [00:19<00:00,  5.74it/s]\n",
      "100%|██████████| 103/103 [00:15<00:00,  6.67it/s]\n"
     ]
    },
    {
     "name": "stdout",
     "output_type": "stream",
     "text": [
      "Will compute a multi-model-prior!\n",
      "Load d18O  from  /home/mchoblet/paleoda/data/model_data/upsampled/CESM_d18O_850_1850.nc\n",
      "computing yearly average\n",
      "Load evap  from  /home/mchoblet/paleoda/data/model_data/upsampled/CESM_evap_850_1850.nc\n",
      "computing yearly average\n",
      "Load prec  from  /home/mchoblet/paleoda/data/model_data/upsampled/CESM_prec_850_1850.nc\n",
      "computing yearly average\n",
      "Load tsurf  from  /home/mchoblet/paleoda/data/model_data/upsampled/CESM_tsurf_850_1850.nc\n",
      "computing yearly average\n",
      "USING SPELEO PSM\n",
      "USING ICECORE PSM\n",
      "COMPUTE ANOMALIES IN MODE: BG+HX\n",
      "Load d18O  from  /home/mchoblet/paleoda/data/model_data/upsampled/CCSM_d18O_851_1850.nc\n",
      "computing yearly average\n",
      "Load evap  from  /home/mchoblet/paleoda/data/model_data/upsampled/CCSM_evap_851_1850.nc\n",
      "computing yearly average\n",
      "Load prec  from  /home/mchoblet/paleoda/data/model_data/upsampled/CCSM_prec_851_1850.nc\n",
      "computing yearly average\n",
      "Load tsurf  from  /home/mchoblet/paleoda/data/model_data/upsampled/CCSM_tsurf_851_1850.nc\n",
      "computing yearly average\n",
      "USING SPELEO PSM\n",
      "USING ICECORE PSM\n",
      "COMPUTE ANOMALIES IN MODE: BG+HX\n",
      "Load d18O  from  /home/mchoblet/paleoda/data/model_data/upsampled/ECHAM5_d18O_850_1849.nc\n",
      "computing yearly average\n",
      "Load evap  from  /home/mchoblet/paleoda/data/model_data/upsampled/ECHAM5_evap_850_1849.nc\n",
      "computing yearly average\n",
      "Load prec  from  /home/mchoblet/paleoda/data/model_data/upsampled/ECHAM5_prec_850_1849.nc\n",
      "computing yearly average\n",
      "Load tsurf  from  /home/mchoblet/paleoda/data/model_data/upsampled/ECHAM5_tsurf_850_1849.nc\n",
      "computing yearly average\n",
      "USING SPELEO PSM\n",
      "USING ICECORE PSM\n",
      "COMPUTE ANOMALIES IN MODE: BG+HX\n",
      "Load d18O  from  /home/mchoblet/paleoda/data/model_data/upsampled/GISS_d18O_850_1849.nc\n",
      "computing yearly average\n",
      "Load evap  from  /home/mchoblet/paleoda/data/model_data/upsampled/GISS_evap_850_1849.nc\n",
      "computing yearly average\n",
      "Load prec  from  /home/mchoblet/paleoda/data/model_data/upsampled/GISS_prec_850_1849.nc\n",
      "computing yearly average\n",
      "Load tsurf  from  /home/mchoblet/paleoda/data/model_data/upsampled/GISS_tsurf_850_1849.nc\n",
      "computing yearly average\n",
      "Load slp  from  /home/mchoblet/paleoda/data/model_data/upsampled/GISS_slp_850_1849.nc\n",
      "computing yearly average\n",
      "USING SPELEO PSM\n",
      "USING ICECORE PSM\n",
      "COMPUTE ANOMALIES IN MODE: BG+HX\n",
      "Load d18O  from  /home/mchoblet/paleoda/data/model_data/upsampled/iHADCM3_d18O_801_1952.nc\n",
      "computing yearly average\n",
      "Checking prior for nans\n",
      "Only nans in year 1426-01-01 00:00:00 . Replaced values with previous year\n",
      "Only nans in year 1427-01-01 00:00:00 . Replaced values with previous year\n",
      "Only nans in year 1428-01-01 00:00:00 . Replaced values with previous year\n",
      "Load evap  from  /home/mchoblet/paleoda/data/model_data/upsampled/iHADCM3_evap_801_1952.nc\n",
      "computing yearly average\n",
      "Checking prior for nans\n",
      "Only nans in year 1426-01-01 00:00:00 . Replaced values with previous year\n",
      "Only nans in year 1427-01-01 00:00:00 . Replaced values with previous year\n",
      "Only nans in year 1428-01-01 00:00:00 . Replaced values with previous year\n",
      "Load prec  from  /home/mchoblet/paleoda/data/model_data/upsampled/iHADCM3_prec_801_1952.nc\n",
      "computing yearly average\n",
      "Checking prior for nans\n",
      "Only nans in year 1426-01-01 00:00:00 . Replaced values with previous year\n",
      "Only nans in year 1427-01-01 00:00:00 . Replaced values with previous year\n",
      "Only nans in year 1428-01-01 00:00:00 . Replaced values with previous year\n",
      "Load tsurf  from  /home/mchoblet/paleoda/data/model_data/upsampled/iHADCM3_tsurf_801_1952.nc\n",
      "computing yearly average\n",
      "Checking prior for nans\n",
      "Only nans in year 1426-01-01 00:00:00 . Replaced values with previous year\n",
      "Only nans in year 1427-01-01 00:00:00 . Replaced values with previous year\n",
      "Only nans in year 1428-01-01 00:00:00 . Replaced values with previous year\n",
      "Load slp  from  /home/mchoblet/paleoda/data/model_data/upsampled/iHADCM3_slp_801_1952.nc\n",
      "computing yearly average\n",
      "Checking prior for nans\n",
      "Only nans in year 1426-01-01 00:00:00 . Replaced values with previous year\n",
      "Only nans in year 1427-01-01 00:00:00 . Replaced values with previous year\n",
      "Only nans in year 1428-01-01 00:00:00 . Replaced values with previous year\n",
      "USING SPELEO PSM\n",
      "USING ICECORE PSM\n",
      "COMPUTE ANOMALIES IN MODE: BG+HX\n",
      "Compute anomaly for proxies\n",
      "Start Multitimescale DA loop.\n"
     ]
    },
    {
     "name": "stderr",
     "output_type": "stream",
     "text": [
      "100%|██████████| 10/10 [34:07<00:00, 204.71s/it]\n"
     ]
    },
    {
     "name": "stdout",
     "output_type": "stream",
     "text": [
      "Finished multitimescale DA\n",
      "Save variables\n",
      "Output written to mme_800_1999.nc\n",
      ">>>>>LOADING PROXY DATA\n",
      "COMPUTE TIMERESOLUTION OF PROXIES\n",
      "RESAMPLING THE PROXIES\n",
      "resampling of proxies in each database\n"
     ]
    },
    {
     "name": "stderr",
     "output_type": "stream",
     "text": [
      "100%|██████████| 113/113 [00:19<00:00,  5.71it/s]\n",
      "100%|██████████| 103/103 [00:16<00:00,  6.15it/s]\n"
     ]
    },
    {
     "name": "stdout",
     "output_type": "stream",
     "text": [
      "Will compute a multi-model-prior!\n",
      "Load d18O  from  /home/mchoblet/paleoda/data/model_data/upsampled/CESM_d18O_850_1850.nc\n",
      "computing yearly average\n",
      "Load evap  from  /home/mchoblet/paleoda/data/model_data/upsampled/CESM_evap_850_1850.nc\n",
      "computing yearly average\n",
      "Load prec  from  /home/mchoblet/paleoda/data/model_data/upsampled/CESM_prec_850_1850.nc\n",
      "computing yearly average\n",
      "Load tsurf  from  /home/mchoblet/paleoda/data/model_data/upsampled/CESM_tsurf_850_1850.nc\n",
      "computing yearly average\n",
      "USING SPELEO PSM\n",
      "USING ICECORE PSM\n",
      "COMPUTE ANOMALIES IN MODE: BG+HX\n",
      "Load d18O  from  /home/mchoblet/paleoda/data/model_data/upsampled/CCSM_d18O_851_1850.nc\n",
      "computing yearly average\n",
      "Load evap  from  /home/mchoblet/paleoda/data/model_data/upsampled/CCSM_evap_851_1850.nc\n",
      "computing yearly average\n",
      "Load prec  from  /home/mchoblet/paleoda/data/model_data/upsampled/CCSM_prec_851_1850.nc\n",
      "computing yearly average\n",
      "Load tsurf  from  /home/mchoblet/paleoda/data/model_data/upsampled/CCSM_tsurf_851_1850.nc\n",
      "computing yearly average\n",
      "USING SPELEO PSM\n",
      "USING ICECORE PSM\n",
      "COMPUTE ANOMALIES IN MODE: BG+HX\n",
      "Load d18O  from  /home/mchoblet/paleoda/data/model_data/upsampled/ECHAM5_d18O_850_1849.nc\n",
      "computing yearly average\n",
      "Load evap  from  /home/mchoblet/paleoda/data/model_data/upsampled/ECHAM5_evap_850_1849.nc\n",
      "computing yearly average\n",
      "Load prec  from  /home/mchoblet/paleoda/data/model_data/upsampled/ECHAM5_prec_850_1849.nc\n",
      "computing yearly average\n",
      "Load tsurf  from  /home/mchoblet/paleoda/data/model_data/upsampled/ECHAM5_tsurf_850_1849.nc\n",
      "computing yearly average\n",
      "USING SPELEO PSM\n",
      "USING ICECORE PSM\n",
      "COMPUTE ANOMALIES IN MODE: BG+HX\n",
      "Load d18O  from  /home/mchoblet/paleoda/data/model_data/upsampled/iHADCM3_d18O_801_1952.nc\n",
      "computing yearly average\n",
      "Checking prior for nans\n",
      "Only nans in year 1426-01-01 00:00:00 . Replaced values with previous year\n",
      "Only nans in year 1427-01-01 00:00:00 . Replaced values with previous year\n",
      "Only nans in year 1428-01-01 00:00:00 . Replaced values with previous year\n",
      "Load evap  from  /home/mchoblet/paleoda/data/model_data/upsampled/iHADCM3_evap_801_1952.nc\n",
      "computing yearly average\n",
      "Checking prior for nans\n",
      "Only nans in year 1426-01-01 00:00:00 . Replaced values with previous year\n",
      "Only nans in year 1427-01-01 00:00:00 . Replaced values with previous year\n",
      "Only nans in year 1428-01-01 00:00:00 . Replaced values with previous year\n",
      "Load prec  from  /home/mchoblet/paleoda/data/model_data/upsampled/iHADCM3_prec_801_1952.nc\n",
      "computing yearly average\n",
      "Checking prior for nans\n",
      "Only nans in year 1426-01-01 00:00:00 . Replaced values with previous year\n",
      "Only nans in year 1427-01-01 00:00:00 . Replaced values with previous year\n",
      "Only nans in year 1428-01-01 00:00:00 . Replaced values with previous year\n",
      "Load tsurf  from  /home/mchoblet/paleoda/data/model_data/upsampled/iHADCM3_tsurf_801_1952.nc\n",
      "computing yearly average\n",
      "Checking prior for nans\n",
      "Only nans in year 1426-01-01 00:00:00 . Replaced values with previous year\n",
      "Only nans in year 1427-01-01 00:00:00 . Replaced values with previous year\n",
      "Only nans in year 1428-01-01 00:00:00 . Replaced values with previous year\n",
      "Load slp  from  /home/mchoblet/paleoda/data/model_data/upsampled/iHADCM3_slp_801_1952.nc\n",
      "computing yearly average\n",
      "Checking prior for nans\n",
      "Only nans in year 1426-01-01 00:00:00 . Replaced values with previous year\n",
      "Only nans in year 1427-01-01 00:00:00 . Replaced values with previous year\n",
      "Only nans in year 1428-01-01 00:00:00 . Replaced values with previous year\n",
      "USING SPELEO PSM\n",
      "USING ICECORE PSM\n",
      "COMPUTE ANOMALIES IN MODE: BG+HX\n",
      "Compute anomaly for proxies\n",
      "Start Multitimescale DA loop.\n"
     ]
    },
    {
     "name": "stderr",
     "output_type": "stream",
     "text": [
      "100%|██████████| 10/10 [03:07<00:00, 18.75s/it]"
     ]
    },
    {
     "name": "stdout",
     "output_type": "stream",
     "text": [
      "Finished multitimescale DA\n",
      "Save variables\n",
      "Output written to mme_nogiss_800_1999.nc\n"
     ]
    },
    {
     "name": "stderr",
     "output_type": "stream",
     "text": [
      "\n"
     ]
    }
   ],
   "source": [
    "experiment_allproxies_gmt(normal_paths,cfg,upsampled_paths,upsampled_paths_nogiss)"
   ]
  },
  {
   "cell_type": "markdown",
   "id": "5a016e36-be54-4b19-b7b0-7116f327d6b1",
   "metadata": {},
   "source": [
    "# Experiments for GISS with covariance localization"
   ]
  },
  {
   "cell_type": "code",
   "execution_count": 16,
   "id": "6ba46bc6-2393-427c-8eae-516c92159037",
   "metadata": {},
   "outputs": [],
   "source": [
    "cfg_giss = {\n",
    "#BASIC PARAMS\n",
    "'vp':{\n",
    "'d18O':'/home/mchoblet/paleoda/data/model_data/GISS_d18O_850_1849.nc',\n",
    "'evap':'/home/mchoblet/paleoda/data/model_data/GISS_evap_850_1849.nc',\n",
    "'prec':'/home/mchoblet/paleoda/data/model_data/GISS_prec_850_1849.nc',\n",
    "'tsurf':'/home/mchoblet/paleoda/data/model_data/GISS_tsurf_850_1849.nc',\n",
    "'slp': '/home/mchoblet/paleoda/data/model_data/GISS_slp_850_1849.nc',\n",
    "},\n",
    "'oro': None,\n",
    "'reconstruct':['tsurf','d18O','prec'], \n",
    "'output_folder':'GMT_from_allproxies_normalres', #in cwd\n",
    "'output_file':'Echam_1_10_20',\n",
    "'multi_model_prior': None, #None or a list where the first entry is a dictionary of dictionaries for the file paths and secord a dictionary with the orography files\n",
    "'avg':None, \n",
    "'seed': 42, \n",
    "'check_nan':False, #mainly needed for iHadCM3, because of its missing years nans are introduced with 'resampled'\n",
    "###PROXYS\n",
    "#'obsdata':['/home/mchoblet/paleoda/data/proxy_dbs/sisal_db.nc'],#['/home/mchoblet/paleoda/data/proxy_dbs/sisal_db.nc'],#,'/home/mchoblet/paleoda/data/proxy_dbs/iso2k_db.nc'],\n",
    "'obsdata':['/home/mchoblet/paleoda/data/proxy_dbs/sisal_1600_1800.nc','/home/mchoblet/paleoda/data/proxy_dbs/iso2k_db_1600_1800.nc'],\n",
    "'obs_var':[['d18O','d18O_precision'],['d18O','d18O_precision']],#,['d18O','d18O_precision']], #name of variables and uncertainties in proxy_db files\n",
    "'proxy_error': [0.1,0.1], #irrelevant for PPE\n",
    "'time_scales': ['median'], \n",
    "'proxy_time':['0800','1999'], \n",
    "'resample': True,#True,\n",
    "'resample_mode': 'linear',#'nearest',\n",
    "'mask': 3, \n",
    "###MULTI-TIMESCALE\n",
    "#'timescales':[1,5,10,20,40], #list of timescales (have to be true divisors of longest timescale (block size)) Timescale 1 always required! \n",
    "#'timescales':[1],\n",
    "'timescales':[1,5,10,20,40],\n",
    "'reuse': True,#True, #e.g if a yearly resolved proxy is also to be used in the 5,10 year mean reconstruction\n",
    "###PSM\n",
    "'psm':['speleo','icecore'], \n",
    "'interpol':None, #None/'dw'\n",
    "'var_psm': ['d18O','d18O'] ,\n",
    "'speleo':{\n",
    "    'weighting': None,#'inf', #None(pure d18O) / prec (d180 prec weighted)/ inf (d18O prec-evap weighted)\n",
    "    'height': False, #height correction: True requires orography of model + proxy_db must have a coordinate 'elev'. Lapse rate assumed -0.28 for isotopes and -0.65 for temperature\n",
    "    'fractionation': False, #requires tsurf (in 'vp')\n",
    "    'fractionation_temp': 'regular', #'regular'\n",
    "    'filter': False, #True: convolution of yearly means with 2.5 year transit time, or float: transit time\n",
    "    't_time': 2.5, #if filter equal true, use this as a transit time\n",
    "},\n",
    "'icecore':{\n",
    "    'weighting':None, #None(pure d18O) / prec (d180 prec weighted)\n",
    "    'height': False, #height correction: True requires orography of model and 'elev' coordinate for proxy_db. Requires that proxy_db has a coordinate 'lapse rate' (e.g. i attributed -0.15 to non polar porxies and -0.28 to polar ones (per 100m)\n",
    "    'filter': False, #If True the PSM-function from PRYSM which takes into account diffusion is applied. \n",
    "},\n",
    "#currently this only works for one Database files, probably at some point that needs to be more flexible\n",
    "'linear':{\n",
    "    'variable': 'tsurf' , #variable to regress against\n",
    "    'type': 'anom' , #absolute value or anomaly\n",
    "    'anom_time': None , #None for full simulation, or time-list \n",
    "    'uniform': None, # if you just want one linear formula to rule them all [slope, intercept]\n",
    "    #names of the regression parameters in the proxy-db\n",
    "    'slope': 'slope' ,\n",
    "    'intercept': 'intercept',\n",
    "    'error': 'error', #make sure that the error in the database info is really the regression error *variance*, not standard error.\n",
    "},\n",
    "###PSEUDOPROXY-EXPERIMENTS (variable comes from var_psm)\n",
    "'ppe': {\n",
    "    'use': False,\n",
    "    'SNR': [5,5], #signal to noise variance ratio\n",
    "    'noise_type': 'w', #'w'/'r'\n",
    "    'red_noise_a': 0.32, #autocorrelation for red noise\n",
    "    'multi_timescale': [[1],[1]], \n",
    "    'source': 'external', #internal/external\n",
    "    'other_model': \n",
    "    {'vp':{'tsurf':'/home/ldap-server/draco/cleaned_data/final/CESM_tsurf_850_1850.nc',\n",
    "    'prec':'/home/ldap-server/draco/cleaned_data/final/CESM_prec_850_1850.nc',\n",
    "    'd18O':'/home/ldap-server/draco/cleaned_data/final/CESM_d18O_850_1850.nc',\n",
    "    'evap': '/home/ldap-server/draco/cleaned_data/final/CESM_evap_850_1850.nc'}},\n",
    "    'oro': '/home/ldap-server/draco/orographies/final/icesm_oro.nc',\n",
    "    'metrics_ppe': ['Corr','p_value','p_bootstrap','eff_p_value','CE','RMSE','RMSPE','MAE','MAPE'],\n",
    "    'psm' : {'speleo':{   'weighting':'inf', #None(pure d18O) / prec (d180 prec weighted)/ inf (d18O prec-evap weighted)\n",
    "    'height': False, #height correction: True requires orography of model + proxy_db must have a coordinate 'elev'. Lapse rate assumed -0.28 for isotopes and -0.65 for temperature\n",
    "    'fractionation':True, #requires tsurf (in 'vp')\n",
    "    'fractionation_temp': 'regular', #'regular'\n",
    "    'filter': False, #True: convolution of yearly means with 2.5 year transit time, or float: transit time\n",
    "    't_time': 2.5, #if filter equal true, use this as a transit time\n",
    "}, 'icecore': None},\n",
    "},\n",
    "    # cfg['ppe']['psm']= {'speleo':None, 'icecore': None} # if the config from above for the psm (which gives the obs-from-model) shall be different for the pseudoproxies.\n",
    "#else just leave it as {'speleo':None, 'icecore': None} \n",
    "    \n",
    "###KALMAN-FILTER\n",
    "'time': ['0800','1999'], #covered by all models\n",
    "'nens':100, #ensemble members\n",
    "'reps':1, #Monte Carlo\n",
    "'full_fields': True, \n",
    "'proxy_frac': None, #choose 100 random proxies\n",
    "'extra_assi': \n",
    "    {\n",
    "        'globalmean': ['tsurf','d18O','prec'], #None or list of variables\n",
    "        'lat_mean': ['tsurf'], #None or list of variables\n",
    "        'regionalmean': None, #None or list of variables\n",
    "        'region':None, #None or list of list [[latS,latN],[latW,latE]] #specify the regions in 0-360 longitude system\n",
    "        'prec_weighted': False, #if you want to get the precipitation weighted d18O\n",
    "    },\n",
    "'error_scale':1, \n",
    "'anomaly': 'BG+HX', #/ 'HX'\n",
    "'anomaly_time': ['1600','1800'],#None,#['1500','1750'],#None,\n",
    "'cov_loc': 12000,\n",
    "#evaluation metrics (which do not rely on a true state)\n",
    "'metrics': [None],#['rank_histogram','rank_histogram_posterior','CD'], #['None']\n",
    "}"
   ]
  },
  {
   "cell_type": "code",
   "execution_count": 14,
   "id": "99a53036-d9e0-421e-a4ac-2861cb8696ce",
   "metadata": {},
   "outputs": [],
   "source": [
    "import xarray as xr\n",
    "import numpy as np\n",
    "from types import SimpleNamespace\n",
    "\n",
    "import dataloader\n",
    "import utils\n",
    "import psm_pseudoproxy\n",
    "import kalman_filters\n",
    "import evaluation\n",
    "\n",
    "import tqdm\n",
    "import os\n",
    "import warnings\n",
    "import copy\n",
    "\n",
    "from numba import njit,prange,vectorize\n",
    "import xskillscore as xss\n",
    "import sys\n",
    "import json"
   ]
  },
  {
   "cell_type": "code",
   "execution_count": 74,
   "id": "c334fa54-c3ee-409f-9815-cfca0bbb6f5a",
   "metadata": {},
   "outputs": [],
   "source": [
    "ano=np.random.randn(1,100,14091)\n",
    "mean=np.random.randn(100,14091)"
   ]
  },
  {
   "cell_type": "code",
   "execution_count": 83,
   "id": "e8bd254b-6ce6-4890-9a36-6f67a69d8546",
   "metadata": {},
   "outputs": [
    {
     "name": "stdout",
     "output_type": "stream",
     "text": [
      "1.35 ms ± 2.34 µs per loop (mean ± std. dev. of 7 runs, 1,000 loops each)\n"
     ]
    }
   ],
   "source": [
    "%%timeit\n",
    "utils.mean_plus_anoms(mean,ano)"
   ]
  },
  {
   "cell_type": "code",
   "execution_count": 84,
   "id": "bffd3fec-f17a-4cd1-a207-0d6b6219a448",
   "metadata": {},
   "outputs": [
    {
     "name": "stdout",
     "output_type": "stream",
     "text": [
      "361 µs ± 258 ns per loop (mean ± std. dev. of 7 runs, 1,000 loops each)\n"
     ]
    }
   ],
   "source": [
    "%%timeit\n",
    "mean+ano"
   ]
  },
  {
   "cell_type": "code",
   "execution_count": 17,
   "id": "2c6bc3be-848e-4dcc-a292-2c68709af363",
   "metadata": {
    "tags": []
   },
   "outputs": [
    {
     "name": "stdout",
     "output_type": "stream",
     "text": [
      ">>>>>LOADING PROXY DATA\n",
      "COMPUTE TIMERESOLUTION OF PROXIES\n",
      "RESAMPLING THE PROXIES\n",
      "resampling of proxies in each database\n"
     ]
    },
    {
     "name": "stderr",
     "output_type": "stream",
     "text": [
      "100%|██████████| 113/113 [00:13<00:00,  8.16it/s]\n",
      "100%|██████████| 103/103 [00:10<00:00,  9.57it/s]\n"
     ]
    },
    {
     "name": "stdout",
     "output_type": "stream",
     "text": [
      "Load d18O  from  /home/mchoblet/paleoda/data/model_data/GISS_d18O_850_1849.nc\n",
      "computing yearly average\n",
      "Load evap  from  /home/mchoblet/paleoda/data/model_data/GISS_evap_850_1849.nc\n",
      "computing yearly average\n",
      "Load prec  from  /home/mchoblet/paleoda/data/model_data/GISS_prec_850_1849.nc\n",
      "computing yearly average\n",
      "Load tsurf  from  /home/mchoblet/paleoda/data/model_data/GISS_tsurf_850_1849.nc\n",
      "computing yearly average\n",
      "Load slp  from  /home/mchoblet/paleoda/data/model_data/GISS_slp_850_1849.nc\n",
      "computing yearly average\n",
      "USING SPELEO PSM\n",
      "USING ICECORE PSM\n",
      "COMPUTE ANOMALIES IN MODE: BG+HX\n",
      "Compute anomaly for proxies\n",
      "Precalculating covariance distance matrices for localization\n",
      "Start Multitimescale DA loop.\n"
     ]
    },
    {
     "name": "stderr",
     "output_type": "stream",
     "text": [
      "100%|██████████| 1/1 [02:44<00:00, 164.96s/it]\n"
     ]
    },
    {
     "name": "stdout",
     "output_type": "stream",
     "text": [
      "Finished multitimescale DA\n",
      "Save variables\n",
      "Warning: Output written to Echam_1_10_20_1.nc, because Echam_1_10_20.nc already exists\n"
     ]
    }
   ],
   "source": [
    "cfg_giss['cov_loc']=12000\n",
    "#cfg_giss['cov_loc']=None\n",
    "\n",
    "giss_joint=wrapper.paleoda_wrapper(cfg_giss)"
   ]
  },
  {
   "cell_type": "code",
   "execution_count": 18,
   "id": "1151d028-b9f5-4a66-aec5-d70ad0deaab9",
   "metadata": {},
   "outputs": [],
   "source": [
    "def quick_filt(ts,cutoff=1/30):\n",
    "    from scipy.signal import butter, lfilter, filtfilt\n",
    "\n",
    "    def butter_lowpass(cutoff, fs, order=6, kf=1.2):\n",
    "        # kf:  scaling factor for the lowpass frequency; 1 = Nyquist, 1.2 =\n",
    "        #' 1.2xNyquist is a tradeoff between reducing variance loss and keeping\n",
    "        #' aliasing small\n",
    "        #fs is basic timestep (min_ts)\n",
    "        #nyquist frequency\n",
    "        nyq = 0.5 * fs \n",
    "        normal_cutoff = cutoff / nyq * kf\n",
    "        b, a = butter(order, normal_cutoff, btype='low', analog=False)\n",
    "        return b, a\n",
    "\n",
    "    def butter_lowpass_filter(data, cutoff, fs, order=6):\n",
    "        #filtfilt does not introduce a time-lag in comparison to butterworth \n",
    "        b, a = butter_lowpass(cutoff, fs, order=order)\n",
    "        y = filtfilt(b, a, data)\n",
    "        #y = lfilter(b, a, data)\n",
    "        return y\n",
    "\n",
    "    return butter_lowpass_filter(ts,cutoff,fs=1,order=4)"
   ]
  },
  {
   "cell_type": "code",
   "execution_count": 6,
   "id": "eed350bc-a7cb-4c3b-81fc-41cbe9193f76",
   "metadata": {},
   "outputs": [],
   "source": [
    "giss_recon=xr.open_dataset('/home/mchoblet/paleoda/results/experiments/GMT_from_allproxies_normalres/Echam_1_10_20_0.nc')"
   ]
  },
  {
   "cell_type": "code",
   "execution_count": 19,
   "id": "bcdada98-af80-4060-8ec5-2ba572640043",
   "metadata": {},
   "outputs": [
    {
     "data": {
      "text/plain": [
       "<matplotlib.legend.Legend at 0x7f53c19e6230>"
      ]
     },
     "execution_count": 19,
     "metadata": {},
     "output_type": "execute_result"
    },
    {
     "data": {
      "image/png": "[encoded data removed]",
      "text/plain": [
       "<Figure size 864x576 with 1 Axes>"
      ]
     },
     "metadata": {
      "needs_background": "light"
     },
     "output_type": "display_data"
    }
   ],
   "source": [
    "plt.figure(figsize=(12,8))\n",
    "plt.plot(quick_filt(utils.globalmean(giss_joint['tsurf_mean']).values),c='red',label='covloc')\n",
    "plt.plot(quick_filt((giss_joint['gm_tsurf']).values),c='blue',label='no covloc')\n",
    "plt.legend()"
   ]
  },
  {
   "cell_type": "code",
   "execution_count": 27,
   "id": "d8770b40-22cf-4416-92f5-c2c0305a6346",
   "metadata": {},
   "outputs": [
    {
     "name": "stdout",
     "output_type": "stream",
     "text": [
      ">>>>>LOADING PROXY DATA\n",
      "COMPUTE TIMERESOLUTION OF PROXIES\n",
      "RESAMPLING THE PROXIES\n",
      "resampling of proxies in each database\n"
     ]
    },
    {
     "name": "stderr",
     "output_type": "stream",
     "text": [
      "100%|██████████| 113/113 [00:13<00:00,  8.45it/s]\n",
      "100%|██████████| 103/103 [00:10<00:00,  9.63it/s]\n"
     ]
    },
    {
     "name": "stdout",
     "output_type": "stream",
     "text": [
      "Will compute a multi-model-prior!\n",
      "Load d18O  from  /home/mchoblet/paleoda/data/model_data/upsampled/CESM_d18O_850_1850.nc\n",
      "computing yearly average\n",
      "Load evap  from  /home/mchoblet/paleoda/data/model_data/upsampled/CESM_evap_850_1850.nc\n",
      "computing yearly average\n",
      "Load prec  from  /home/mchoblet/paleoda/data/model_data/upsampled/CESM_prec_850_1850.nc\n",
      "computing yearly average\n",
      "Load tsurf  from  /home/mchoblet/paleoda/data/model_data/upsampled/CESM_tsurf_850_1850.nc\n",
      "computing yearly average\n",
      "USING SPELEO PSM\n",
      "USING ICECORE PSM\n",
      "COMPUTE ANOMALIES IN MODE: BG+HX\n",
      "Load d18O  from  /home/mchoblet/paleoda/data/model_data/upsampled/CCSM_d18O_851_1850.nc\n",
      "computing yearly average\n",
      "Load evap  from  /home/mchoblet/paleoda/data/model_data/upsampled/CCSM_evap_851_1850.nc\n",
      "computing yearly average\n",
      "Load prec  from  /home/mchoblet/paleoda/data/model_data/upsampled/CCSM_prec_851_1850.nc\n",
      "computing yearly average\n",
      "Load tsurf  from  /home/mchoblet/paleoda/data/model_data/upsampled/CCSM_tsurf_851_1850.nc\n",
      "computing yearly average\n",
      "USING SPELEO PSM\n",
      "USING ICECORE PSM\n",
      "COMPUTE ANOMALIES IN MODE: BG+HX\n",
      "Load d18O  from  /home/mchoblet/paleoda/data/model_data/upsampled/ECHAM5_d18O_850_1849.nc\n",
      "computing yearly average\n",
      "Load evap  from  /home/mchoblet/paleoda/data/model_data/upsampled/ECHAM5_evap_850_1849.nc\n",
      "computing yearly average\n",
      "Load prec  from  /home/mchoblet/paleoda/data/model_data/upsampled/ECHAM5_prec_850_1849.nc\n",
      "computing yearly average\n",
      "Load tsurf  from  /home/mchoblet/paleoda/data/model_data/upsampled/ECHAM5_tsurf_850_1849.nc\n",
      "computing yearly average\n",
      "USING SPELEO PSM\n",
      "USING ICECORE PSM\n",
      "COMPUTE ANOMALIES IN MODE: BG+HX\n",
      "Load d18O  from  /home/mchoblet/paleoda/data/model_data/upsampled/GISS_d18O_850_1849.nc\n",
      "computing yearly average\n",
      "Load evap  from  /home/mchoblet/paleoda/data/model_data/upsampled/GISS_evap_850_1849.nc\n",
      "computing yearly average\n",
      "Load prec  from  /home/mchoblet/paleoda/data/model_data/upsampled/GISS_prec_850_1849.nc\n",
      "computing yearly average\n",
      "Load tsurf  from  /home/mchoblet/paleoda/data/model_data/upsampled/GISS_tsurf_850_1849.nc\n",
      "computing yearly average\n",
      "Load slp  from  /home/mchoblet/paleoda/data/model_data/upsampled/GISS_slp_850_1849.nc\n",
      "computing yearly average\n",
      "USING SPELEO PSM\n",
      "USING ICECORE PSM\n",
      "COMPUTE ANOMALIES IN MODE: BG+HX\n",
      "Load d18O  from  /home/mchoblet/paleoda/data/model_data/upsampled/iHADCM3_d18O_801_1952.nc\n",
      "computing yearly average\n",
      "Checking prior for nans\n",
      "Only nans in year 1426-01-01 00:00:00 . Replaced values with previous year\n",
      "Only nans in year 1427-01-01 00:00:00 . Replaced values with previous year\n",
      "Only nans in year 1428-01-01 00:00:00 . Replaced values with previous year\n",
      "Load evap  from  /home/mchoblet/paleoda/data/model_data/upsampled/iHADCM3_evap_801_1952.nc\n",
      "computing yearly average\n",
      "Checking prior for nans\n",
      "Only nans in year 1426-01-01 00:00:00 . Replaced values with previous year\n",
      "Only nans in year 1427-01-01 00:00:00 . Replaced values with previous year\n",
      "Only nans in year 1428-01-01 00:00:00 . Replaced values with previous year\n",
      "Load prec  from  /home/mchoblet/paleoda/data/model_data/upsampled/iHADCM3_prec_801_1952.nc\n",
      "computing yearly average\n",
      "Checking prior for nans\n",
      "Only nans in year 1426-01-01 00:00:00 . Replaced values with previous year\n",
      "Only nans in year 1427-01-01 00:00:00 . Replaced values with previous year\n",
      "Only nans in year 1428-01-01 00:00:00 . Replaced values with previous year\n",
      "Load tsurf  from  /home/mchoblet/paleoda/data/model_data/upsampled/iHADCM3_tsurf_801_1952.nc\n",
      "computing yearly average\n",
      "Checking prior for nans\n",
      "Only nans in year 1426-01-01 00:00:00 . Replaced values with previous year\n",
      "Only nans in year 1427-01-01 00:00:00 . Replaced values with previous year\n",
      "Only nans in year 1428-01-01 00:00:00 . Replaced values with previous year\n",
      "Load slp  from  /home/mchoblet/paleoda/data/model_data/upsampled/iHADCM3_slp_801_1952.nc\n",
      "computing yearly average\n",
      "Checking prior for nans\n",
      "Only nans in year 1426-01-01 00:00:00 . Replaced values with previous year\n",
      "Only nans in year 1427-01-01 00:00:00 . Replaced values with previous year\n",
      "Only nans in year 1428-01-01 00:00:00 . Replaced values with previous year\n",
      "USING SPELEO PSM\n",
      "USING ICECORE PSM\n",
      "COMPUTE ANOMALIES IN MODE: BG+HX\n",
      "Compute anomaly for proxies\n",
      "Precalculating covariance distance matrices for localization\n",
      "Start Multitimescale DA loop.\n"
     ]
    },
    {
     "name": "stderr",
     "output_type": "stream",
     "text": [
      "100%|██████████| 1/1 [16:31<00:00, 991.44s/it]\n"
     ]
    },
    {
     "name": "stdout",
     "output_type": "stream",
     "text": [
      "Finished multitimescale DA\n",
      "Save variables\n",
      "Warning: Output written to Echam_1_10_20_4.nc, because Echam_1_10_20.nc already exists\n"
     ]
    }
   ],
   "source": [
    "#test cov loc on multi model ensemble\n",
    "cfg['multi_model_prior']=upsampled_paths\n",
    "cfg['cov_loc']=12000\n",
    "cfg['full_fields']=True\n",
    "mme_covloc_joint=wrapper.paleoda_wrapper(cfg)"
   ]
  },
  {
   "cell_type": "code",
   "execution_count": 34,
   "id": "88f76897-2ff3-4230-abb3-d4a7a9214f34",
   "metadata": {},
   "outputs": [
    {
     "data": {
      "text/plain": [
       "[<matplotlib.lines.Line2D at 0x7f53b7c42290>]"
      ]
     },
     "execution_count": 34,
     "metadata": {},
     "output_type": "execute_result"
    },
    {
     "data": {
      "image/png": "[encoded data removed]",
      "text/plain": [
       "<Figure size 432x288 with 1 Axes>"
      ]
     },
     "metadata": {
      "needs_background": "light"
     },
     "output_type": "display_data"
    }
   ],
   "source": [
    "plt.plot(quick_filt(utils.globalmean(mme_covloc_joint['tsurf_mean'])))\n",
    "plt.plot(quick_filt(mme_covloc_joint['gm_tsurf']),color='orange')"
   ]
  },
  {
   "cell_type": "code",
   "execution_count": 28,
   "id": "4b34a3cc-9a08-4f1b-8383-5d90437bdc6c",
   "metadata": {},
   "outputs": [],
   "source": [
    "data=[]\n",
    "sites=[]\n",
    "lons=[]\n",
    "lats=[]\n",
    "\n",
    "\n",
    "for db in pp_y_all:\n",
    "        data.append(db.values)\n",
    "        sites.append(db.site.values.tolist())\n",
    "        lons.append(db.lon.values.tolist())\n",
    "        lats.append(db.lat.values.tolist())\n",
    "        #time_l.append(i.time)\n",
    "\n",
    "ax=db.get_axis_num('site')\n",
    "data=np.concatenate(data,axis=ax)\n",
    "sites=np.concatenate(sites,axis=0)\n",
    "lons=np.concatenate(lons,axis=0)\n",
    "lats=np.concatenate(lats,axis=0)\n",
    "\n",
    "#create dataarray\n",
    "HXfull_all_fin=xr.DataArray(data,coords=dict(time=pp_y_all[0].time.values,site=sites))\n",
    "HXfull_all_fin['lat']=('site',lats)\n",
    "HXfull_all_fin['lon']=('site',lons)"
   ]
  },
  {
   "cell_type": "code",
   "execution_count": 29,
   "id": "452709d8-37e6-4cfe-aa9e-e67da65b59f9",
   "metadata": {},
   "outputs": [],
   "source": [
    "PH_loc, HPH_loc= kalman_filters.covariance_loc(prior['tsurf'],proxy_lat=HXfull_all_fin.lat,proxy_lon=HXfull_all_fin.lon, cov_len=c.cov_loc)"
   ]
  },
  {
   "cell_type": "code",
   "execution_count": 32,
   "id": "5682f6ca-e8de-49a7-8ef1-b064ed6aca65",
   "metadata": {},
   "outputs": [
    {
     "data": {
      "text/plain": [
       "(216, 216)"
      ]
     },
     "execution_count": 32,
     "metadata": {},
     "output_type": "execute_result"
    }
   ],
   "source": [
    "HPH_loc.shape"
   ]
  },
  {
   "cell_type": "code",
   "execution_count": 33,
   "id": "4d0ee730-26ab-441d-b31c-f5e1d6eec5bc",
   "metadata": {},
   "outputs": [
    {
     "data": {
      "text/plain": [
       "False"
      ]
     },
     "execution_count": 33,
     "metadata": {},
     "output_type": "execute_result"
    }
   ],
   "source": [
    "c.full_fields"
   ]
  },
  {
   "cell_type": "code",
   "execution_count": null,
   "id": "9c88cff2-0b58-4e2a-bd26-74dea6160873",
   "metadata": {},
   "outputs": [],
   "source": []
  }
 ],
 "metadata": {
  "kernelspec": {
   "display_name": "paleoda_kernel",
   "language": "python",
   "name": "paleoda_kernel"
  },
  "language_info": {
   "codemirror_mode": {
    "name": "ipython",
    "version": 3
   },
   "file_extension": ".py",
   "mimetype": "text/x-python",
   "name": "python",
   "nbconvert_exporter": "python",
   "pygments_lexer": "ipython3",
   "version": "3.10.4"
  }
 },
 "nbformat": 4,
 "nbformat_minor": 5
}
