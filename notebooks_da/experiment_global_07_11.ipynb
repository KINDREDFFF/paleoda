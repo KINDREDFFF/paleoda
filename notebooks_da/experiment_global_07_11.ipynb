{
 "cells": [
  {
   "cell_type": "markdown",
   "id": "426f05ce-73eb-4ff8-a2a7-d6f8c22ef841",
   "metadata": {},
   "source": [
    "# Global reconstruction\n",
    "\n",
    "Aim: Look into global and regional reconstructions for temperature and precipitation\n",
    "\n",
    "Anomaly/No anomaly, R=0.5, reuse, ts=[1,5,10,20,40]:\n",
    "    - frac/no frac\n",
    "Anomaly/No anomaly, R=0.1 (more weight to proxies!), no reuse, ts=[1,5,10,20,40]:\n",
    "    - frac/no frac\n",
    "\n",
    "- variables: prec/tsurf/evap/slp (when available!)\n",
    "- anomaly period: 1600-1800\n",
    "- models: all five, joined_giss, joined_nogiss\n",
    "- Monte Carlo: 1 single repetition (100 ensemble members should be enough)\n",
    "\n",
    "Aim: \n",
    "- Find consisten patterns between models for global and regional patterns (Europe+Greenland and the Amazon regiion)\n",
    "- does the fractionation really make results inconsistent?\n",
    "\n",
    "    \n",
    "Afterwards:\n",
    "- compare these spatial regions to PHYDA (especially for the amazon there is a clear lack)\n",
    "- Choose one good mode (I think of anomaly, R=0.5, reuse, ts=[1,5,10,20,40]) and for this mode do particular reconstructions: Only with proxies from the region, only icecores/speleothems, look into the influence of carabean proxies into the amazon pattern).\n",
    "\n"
   ]
  },
  {
   "cell_type": "code",
   "execution_count": 1,
   "id": "ad1bde7c-19ae-4e3f-a208-f3e52a8dd600",
   "metadata": {
    "tags": []
   },
   "outputs": [],
   "source": [
    "cfg = {\n",
    "#BASIC PARAMS\n",
    "'vp':{\n",
    "'d18O':'/home/mchoblet/paleoda/data/model_data/ECHAM5_d18O_850_1849.nc',\n",
    "'prec':'/home/mchoblet/paleoda/data/model_data/ECHAM5_prec_850_1849.nc',\n",
    "'tsurf': '/home/mchoblet/paleoda/data/model_data/ECHAM5_tsurf_850_1849.nc',\n",
    "'evap': '/home/mchoblet/paleoda/data/model_data/ECHAM5_evap_850_1849.nc',\n",
    "'slp': None,\n",
    "},\n",
    "'oro': None,\n",
    "'reconstruct':['tsurf','d18O','prec'], \n",
    "'output_folder':'GMT_from_allproxies_normalres', #in cwd\n",
    "'output_file':'Echam_1_10_20',\n",
    "'multi_model_prior': None, #None or a list where the first entry is a dictionary of dictionaries for the file paths and secord a dictionary with the orography files\n",
    "'avg':None, \n",
    "'seed': 42, \n",
    "'check_nan':False, #mainly needed for iHadCM3, because of its missing years nans are introduced with 'resampled'\n",
    "###PROXYS\n",
    "'obsdata':['/home/mchoblet/paleoda/data/proxy_dbs/sisal_1600_1800.nc','/home/mchoblet/paleoda/data/proxy_dbs/iso2k_db_1600_1800.nc'],\n",
    "'obs_var':[['d18O','d18O_precision'],['d18O','d18O_precision']],#,['d18O','d18O_precision']], #name of variables and uncertainties in proxy_db files\n",
    "'proxy_error': [0.1,0.1], #irrelevant for PPE\n",
    "'time_scales': ['median'], \n",
    "'proxy_time':['0800','1999'], \n",
    "    only_regional_proxies'\n",
    "'resample': True,#True,\n",
    "'resample_mode': 'linear',#'nearest',\n",
    "'mask': 3, \n",
    "###MULTI-TIMESCALE\n",
    "#'timescales':[1,5,10,20,40], #list of timescales (have to be true divisors of longest timescale (block size)) Timescale 1 always required! \n",
    "#'timescales':[1],\n",
    "'timescales':[1,5,10,20,40],\n",
    "'reuse': True,#True, #e.g if a yearly resolved proxy is also to be used in the 5,10 year mean reconstruction\n",
    "###PSM\n",
    "'psm':['speleo','icecore'], \n",
    "'interpol':None, #None/'dw'\n",
    "'var_psm': ['d18O','d18O'] ,\n",
    "'speleo':{\n",
    "    'weighting': None,#'inf', #None(pure d18O) / prec (d180 prec weighted)/ inf (d18O prec-evap weighted)\n",
    "    'height': False, #height correction: True requires orography of model + proxy_db must have a coordinate 'elev'. Lapse rate assumed -0.28 for isotopes and -0.65 for temperature\n",
    "    'fractionation': False, #requires tsurf (in 'vp')\n",
    "    'fractionation_temp': 'regular', #'regular'\n",
    "    'filter': False, #True: convolution of yearly means with 2.5 year transit time, or float: transit time\n",
    "    't_time': 2.5, #if filter equal true, use this as a transit time\n",
    "},\n",
    "'icecore':{\n",
    "    'weighting':None, #None(pure d18O) / prec (d180 prec weighted)\n",
    "    'height': False, #height correction: True requires orography of model and 'elev' coordinate for proxy_db. Requires that proxy_db has a coordinate 'lapse rate' (e.g. i attributed -0.15 to non polar porxies and -0.28 to polar ones (per 100m)\n",
    "    'filter': False, #If True the PSM-function from PRYSM which takes into account diffusion is applied. \n",
    "},\n",
    "#currently this only works for one Database files, probably at some point that needs to be more flexible\n",
    "'linear':{\n",
    "    'variable': 'tsurf' , #variable to regress against\n",
    "    'type': 'anom' , #absolute value or anomaly\n",
    "    'anom_time': None , #None for full simulation, or time-list \n",
    "    'uniform': None, # if you just want one linear formula to rule them all [slope, intercept]\n",
    "    #names of the regression parameters in the proxy-db\n",
    "    'slope': 'slope' ,\n",
    "    'intercept': 'intercept',\n",
    "    'error': 'error', #make sure that the error in the database info is really the regression error *variance*, not standard error.\n",
    "},\n",
    "###PSEUDOPROXY-EXPERIMENTS (variable comes from var_psm)\n",
    "'ppe': {\n",
    "    'use': False,\n",
    "    'SNR': [5,5], #signal to noise variance ratio\n",
    "    'noise_type': 'w', #'w'/'r'\n",
    "    'red_noise_a': 0.32, #autocorrelation for red noise\n",
    "    'multi_timescale': [[1],[1]], \n",
    "    'source': 'external', #internal/external\n",
    "    'other_model': \n",
    "    {'vp':{'tsurf':'/home/ldap-server/draco/cleaned_data/final/CESM_tsurf_850_1850.nc',\n",
    "    'prec':'/home/ldap-server/draco/cleaned_data/final/CESM_prec_850_1850.nc',\n",
    "    'd18O':'/home/ldap-server/draco/cleaned_data/final/CESM_d18O_850_1850.nc',\n",
    "    'evap': '/home/ldap-server/draco/cleaned_data/final/CESM_evap_850_1850.nc'}},\n",
    "    'oro': '/home/ldap-server/draco/orographies/final/icesm_oro.nc',\n",
    "    'metrics_ppe': ['Corr','p_value','p_bootstrap','eff_p_value','CE','RMSE','RMSPE','MAE','MAPE'],\n",
    "    'psm' : {'speleo':{   'weighting':'inf', #None(pure d18O) / prec (d180 prec weighted)/ inf (d18O prec-evap weighted)\n",
    "    'height': False, #height correction: True requires orography of model + proxy_db must have a coordinate 'elev'. Lapse rate assumed -0.28 for isotopes and -0.65 for temperature\n",
    "    'fractionation':True, #requires tsurf (in 'vp')\n",
    "    'fractionation_temp': 'regular', #'regular'\n",
    "    'filter': False, #True: convolution of yearly means with 2.5 year transit time, or float: transit time\n",
    "    't_time': 2.5, #if filter equal true, use this as a transit time\n",
    "}, 'icecore': None},\n",
    "},\n",
    "    # cfg['ppe']['psm']= {'speleo':None, 'icecore': None} # if the config from above for the psm (which gives the obs-from-model) shall be different for the pseudoproxies.\n",
    "#else just leave it as {'speleo':None, 'icecore': None} \n",
    "    \n",
    "###KALMAN-FILTER\n",
    "'time': ['0800','1999'], #covered by all models\n",
    "'nens':100, #ensemble members\n",
    "'reps':1, #Monte Carlo\n",
    "'full_fields': True, \n",
    "'proxy_frac': None, #choose 100 random proxies\n",
    "'extra_assi': \n",
    "    {\n",
    "        'globalmean': ['tsurf','d18O','prec'], #None or list of variables\n",
    "        'lat_mean': ['tsurf'], #None or list of variables\n",
    "        'regionalmean': None, #None or list of variables\n",
    "        'region':None, #None or list of list [[latS,latN],[latW,latE]] #specify the regions in 0-360 longitude system\n",
    "        'prec_weighted': False, #if you want to get the precipitation weighted d18O\n",
    "    },\n",
    "'error_scale':1, \n",
    "'anomaly': 'BG+HX', #/ 'HX'\n",
    "'anomaly_time': ['1600','1800'],#None,#['1500','1750'],#None,\n",
    "'cov_loc': None,\n",
    "#evaluation metrics (which do not rely on a true state)\n",
    "'metrics': [None],#['rank_histogram','rank_histogram_posterior','CD'], #['None']\n",
    "}"
   ]
  },
  {
   "cell_type": "code",
   "execution_count": null,
   "id": "ebaa59eb-78ee-4f80-9589-ff60eefeb16a",
   "metadata": {},
   "outputs": [],
   "source": [
    "cfg['ppe']['noise_before_filt']= #The noise is added before filtering"
   ]
  },
  {
   "cell_type": "code",
   "execution_count": 21,
   "id": "c7336254-1109-4d74-b9f8-42500eba2414",
   "metadata": {},
   "outputs": [
    {
     "data": {
      "text/plain": [
       "\"\\noro_dic_up={\\n    'isoGSM':'/home/mchoblet/paleoda/data/orographies/upsampled/ccsm_oro.nc',\\n'Echam': '/home/mchoblet/paleoda/data/orographies/upsampled/echam_oro.nc',\\n'GISS':'/home/mchoblet/paleoda/data/orographies/upsampled/giss_oro.nc',\\n'iHadCM3':'/home/mchoblet/paleoda/data/orographies/upsampled/hadcm3_oro.nc',\\n'iCESM':'/home/mchoblet/paleoda/data/orographies/upsampled/icesm_oro.nc',\\n}\\n\\noro_dic_up_nogiss={\\n    'isoGSM':'/home/mchoblet/paleoda/data/orographies/upsampled/ccsm_oro.nc',\\n'Echam': '/home/mchoblet/paleoda/data/orographies/upsampled/echam_oro.nc',\\n'iHadCM3':'/home/mchoblet/paleoda/data/orographies/upsampled/hadcm3_oro.nc',\\n'iCESM':'/home/mchoblet/paleoda/data/orographies/upsampled/icesm_oro.nc',\\n}\\n\""
      ]
     },
     "execution_count": 21,
     "metadata": {},
     "output_type": "execute_result"
    }
   ],
   "source": [
    "normal_paths={\n",
    "'iCESM':{'d18O':'/home/mchoblet/paleoda/data/model_data/CESM_d18O_850_1850.nc',\n",
    "'evap':'/home/mchoblet/paleoda/data/model_data/CESM_evap_850_1850.nc',\n",
    "'prec':'/home/mchoblet/paleoda/data/model_data/CESM_prec_850_1850.nc',\n",
    "'tsurf':'/home/mchoblet/paleoda/data/model_data/CESM_tsurf_850_1850.nc',\n",
    "       },\n",
    "'isoGSM':{'d18O':'/home/mchoblet/paleoda/data/model_data/CCSM_d18O_851_1850.nc',\n",
    "'evap':'/home/mchoblet/paleoda/data/model_data/CCSM_evap_851_1850.nc',\n",
    "'prec':'/home/mchoblet/paleoda/data/model_data/CCSM_prec_851_1850.nc',\n",
    "'tsurf':'/home/mchoblet/paleoda/data/model_data/CCSM_tsurf_851_1850.nc',\n",
    "       },    \n",
    "'Echam':{'d18O':'/home/mchoblet/paleoda/data/model_data/ECHAM5_d18O_850_1849.nc',\n",
    "'evap':'/home/mchoblet/paleoda/data/model_data/ECHAM5_evap_850_1849.nc',\n",
    "'prec':'/home/mchoblet/paleoda/data/model_data/ECHAM5_prec_850_1849.nc',\n",
    "'tsurf':'/home/mchoblet/paleoda/data/model_data/ECHAM5_tsurf_850_1849.nc',\n",
    "       },\n",
    "'GISS':{'d18O':'/home/mchoblet/paleoda/data/model_data/GISS_d18O_850_1849.nc',\n",
    "'evap':'/home/mchoblet/paleoda/data/model_data/GISS_evap_850_1849.nc',\n",
    "'prec':'/home/mchoblet/paleoda/data/model_data/GISS_prec_850_1849.nc',\n",
    "'tsurf':'/home/mchoblet/paleoda/data/model_data/GISS_tsurf_850_1849.nc',\n",
    "'slp': '/home/mchoblet/paleoda/data/model_data/GISS_slp_850_1849.nc',\n",
    "       },\n",
    "'iHadCM3':{'d18O':'/home/mchoblet/paleoda/data/model_data/iHADCM3_d18O_801_1952.nc',\n",
    "'evap':'/home/mchoblet/paleoda/data/model_data/iHADCM3_evap_801_1952.nc',\n",
    "'prec':'/home/mchoblet/paleoda/data/model_data/iHADCM3_prec_801_1952.nc',\n",
    "'tsurf':'/home/mchoblet/paleoda/data/model_data/iHADCM3_tsurf_801_1952.nc',\n",
    "'slp':'/home/mchoblet/paleoda/data/model_data/iHADCM3_slp_801_1952.nc',\n",
    "       }\n",
    "}\n",
    "\n",
    "upsampled_paths_nogiss=[{\n",
    "'iCESM':{'d18O':'/home/mchoblet/paleoda/data/model_data/upsampled/CESM_d18O_850_1850.nc',\n",
    "'evap':'/home/mchoblet/paleoda/data/model_data/upsampled/CESM_evap_850_1850.nc',\n",
    "'prec':'/home/mchoblet/paleoda/data/model_data/upsampled/CESM_prec_850_1850.nc',\n",
    "'tsurf':'/home/mchoblet/paleoda/data/model_data/upsampled/CESM_tsurf_850_1850.nc',\n",
    "       },\n",
    "'isoGSM':{'d18O':'/home/mchoblet/paleoda/data/model_data/upsampled/CCSM_d18O_851_1850.nc',\n",
    "'evap':'/home/mchoblet/paleoda/data/model_data/upsampled/CCSM_evap_851_1850.nc',\n",
    "'prec':'/home/mchoblet/paleoda/data/model_data/upsampled/CCSM_prec_851_1850.nc',\n",
    "'tsurf':'/home/mchoblet/paleoda/data/model_data/upsampled/CCSM_tsurf_851_1850.nc',\n",
    "       },    \n",
    "'Echam':{'d18O':'/home/mchoblet/paleoda/data/model_data/upsampled/ECHAM5_d18O_850_1849.nc',\n",
    "'evap':'/home/mchoblet/paleoda/data/model_data/upsampled/ECHAM5_evap_850_1849.nc',\n",
    "'prec':'/home/mchoblet/paleoda/data/model_data/upsampled/ECHAM5_prec_850_1849.nc',\n",
    "'tsurf':'/home/mchoblet/paleoda/data/model_data/upsampled/ECHAM5_tsurf_850_1849.nc',\n",
    "       },\n",
    "'iHadCM3':{'d18O':'/home/mchoblet/paleoda/data/model_data/upsampled/iHADCM3_d18O_801_1952.nc',\n",
    "'evap':'/home/mchoblet/paleoda/data/model_data/upsampled/iHADCM3_evap_801_1952.nc',\n",
    "'prec':'/home/mchoblet/paleoda/data/model_data/upsampled/iHADCM3_prec_801_1952.nc',\n",
    "'tsurf':'/home/mchoblet/paleoda/data/model_data/upsampled/iHADCM3_tsurf_801_1952.nc',\n",
    "'slp':'/home/mchoblet/paleoda/data/model_data/upsampled/iHADCM3_slp_801_1952.nc',\n",
    "       }\n",
    "},{\n",
    "    'isoGSM':'/home/mchoblet/paleoda/data/orographies/ccsm_oro.nc',\n",
    "'Echam': '/home/mchoblet/paleoda/data/orographies/echam_oro.nc',\n",
    "'iHadCM3':'/home/mchoblet/paleoda/data/orographies/hadcm3_oro.nc',\n",
    "'iCESM':'/home/mchoblet/paleoda/data/orographies/icesm_oro.nc',\n",
    "}]\n",
    "\n",
    "upsampled_paths=[{\n",
    "'iCESM':{'d18O':'/home/mchoblet/paleoda/data/model_data/upsampled/CESM_d18O_850_1850.nc',\n",
    "'evap':'/home/mchoblet/paleoda/data/model_data/upsampled/CESM_evap_850_1850.nc',\n",
    "'prec':'/home/mchoblet/paleoda/data/model_data/upsampled/CESM_prec_850_1850.nc',\n",
    "'tsurf':'/home/mchoblet/paleoda/data/model_data/upsampled/CESM_tsurf_850_1850.nc',\n",
    "       },\n",
    "'isoGSM':{'d18O':'/home/mchoblet/paleoda/data/model_data/upsampled/CCSM_d18O_851_1850.nc',\n",
    "'evap':'/home/mchoblet/paleoda/data/model_data/upsampled/CCSM_evap_851_1850.nc',\n",
    "'prec':'/home/mchoblet/paleoda/data/model_data/upsampled/CCSM_prec_851_1850.nc',\n",
    "'tsurf':'/home/mchoblet/paleoda/data/model_data/upsampled/CCSM_tsurf_851_1850.nc',\n",
    "       },    \n",
    "'Echam':{'d18O':'/home/mchoblet/paleoda/data/model_data/upsampled/ECHAM5_d18O_850_1849.nc',\n",
    "'evap':'/home/mchoblet/paleoda/data/model_data/upsampled/ECHAM5_evap_850_1849.nc',\n",
    "'prec':'/home/mchoblet/paleoda/data/model_data/upsampled/ECHAM5_prec_850_1849.nc',\n",
    "'tsurf':'/home/mchoblet/paleoda/data/model_data/upsampled/ECHAM5_tsurf_850_1849.nc',\n",
    "       },\n",
    "'GISS':{'d18O':'/home/mchoblet/paleoda/data/model_data/upsampled/GISS_d18O_850_1849.nc',\n",
    "'evap':'/home/mchoblet/paleoda/data/model_data/upsampled/GISS_evap_850_1849.nc',\n",
    "'prec':'/home/mchoblet/paleoda/data/model_data/upsampled/GISS_prec_850_1849.nc',\n",
    "'tsurf':'/home/mchoblet/paleoda/data/model_data/upsampled/GISS_tsurf_850_1849.nc',\n",
    "'slp': '/home/mchoblet/paleoda/data/model_data/upsampled/GISS_slp_850_1849.nc',\n",
    "       },\n",
    "'iHadCM3':{'d18O':'/home/mchoblet/paleoda/data/model_data/upsampled/iHADCM3_d18O_801_1952.nc',\n",
    "'evap':'/home/mchoblet/paleoda/data/model_data/upsampled/iHADCM3_evap_801_1952.nc',\n",
    "'prec':'/home/mchoblet/paleoda/data/model_data/upsampled/iHADCM3_prec_801_1952.nc',\n",
    "'tsurf':'/home/mchoblet/paleoda/data/model_data/upsampled/iHADCM3_tsurf_801_1952.nc',\n",
    "'slp':'/home/mchoblet/paleoda/data/model_data/upsampled/iHADCM3_slp_801_1952.nc',\n",
    "       }\n",
    "},{\n",
    "    'isoGSM':'/home/mchoblet/paleoda/data/orographies/upsampled/ccsm_oro.nc',\n",
    "'Echam': '/home/mchoblet/paleoda/data/orographies/upsampled/echam_oro.nc',\n",
    "'GISS':'/home/mchoblet/paleoda/data/orographies/upsampled/giss_oro.nc',\n",
    "'iHadCM3':'/home/mchoblet/paleoda/data/orographies/upsampled/hadcm3_oro.nc',\n",
    "'iCESM':'/home/mchoblet/paleoda/data/orographies/upsampled/icesm_oro.nc',\n",
    "}]\n",
    "\n",
    "\n",
    "\n",
    "oro_dic={\n",
    "    'isoGSM':'/home/mchoblet/paleoda/data/orographies/ccsm_oro.nc',\n",
    "'Echam': '/home/mchoblet/paleoda/data/orographies/echam_oro.nc',\n",
    "'GISS':'/home/mchoblet/paleoda/data/orographies/giss_oro.nc',\n",
    "'iHadCM3':'/home/mchoblet/paleoda/data/orographies/hadcm3_oro.nc',\n",
    "'iCESM':'/home/mchoblet/paleoda/data/orographies/icesm_oro.nc',\n",
    "}\n",
    "\"\"\"\n",
    "oro_dic_up={\n",
    "    'isoGSM':'/home/mchoblet/paleoda/data/orographies/upsampled/ccsm_oro.nc',\n",
    "'Echam': '/home/mchoblet/paleoda/data/orographies/upsampled/echam_oro.nc',\n",
    "'GISS':'/home/mchoblet/paleoda/data/orographies/upsampled/giss_oro.nc',\n",
    "'iHadCM3':'/home/mchoblet/paleoda/data/orographies/upsampled/hadcm3_oro.nc',\n",
    "'iCESM':'/home/mchoblet/paleoda/data/orographies/upsampled/icesm_oro.nc',\n",
    "}\n",
    "\n",
    "oro_dic_up_nogiss={\n",
    "    'isoGSM':'/home/mchoblet/paleoda/data/orographies/upsampled/ccsm_oro.nc',\n",
    "'Echam': '/home/mchoblet/paleoda/data/orographies/upsampled/echam_oro.nc',\n",
    "'iHadCM3':'/home/mchoblet/paleoda/data/orographies/upsampled/hadcm3_oro.nc',\n",
    "'iCESM':'/home/mchoblet/paleoda/data/orographies/upsampled/icesm_oro.nc',\n",
    "}\n",
    "\"\"\""
   ]
  },
  {
   "cell_type": "code",
   "execution_count": 3,
   "id": "e3c0195e-04b3-4eeb-a40d-ce7010ac2f0e",
   "metadata": {},
   "outputs": [],
   "source": [
    "import sys\n",
    "sys.path.append('/home/mchoblet/paleoda')\n",
    "\n",
    "import xarray as xr\n",
    "import wrapper\n",
    "import dataloader\n",
    "import tqdm\n",
    "import numpy as np\n",
    "\n",
    "import matplotlib.pyplot as plt\n",
    "import seaborn as sns\n",
    "\n",
    "import cartopy.crs as ccrs\n",
    "from cartopy.util import add_cyclic_point\n",
    "import cartopy.feature as cfeature  \n",
    "from matplotlib.offsetbox import AnchoredText    \n",
    "import utils\n",
    "\n",
    "import copy\n",
    "\n",
    "%load_ext autoreload\n",
    "%autoreload 2"
   ]
  },
  {
   "cell_type": "code",
   "execution_count": 30,
   "id": "5c9fc6ac-aac6-4a63-adad-6602705e1185",
   "metadata": {},
   "outputs": [],
   "source": [
    "def global_recon(cfg,name):\n",
    "    \"\"\"\n",
    "    In each folder there will be 14=7*(models/mme) * 2 (ano/_no_ano) files.\n",
    "    Each files contains the reconstructions for 4/5 variables (tsurf,prec,d18O,evap,slp)\n",
    "    The timescales are set to 1,5,10,20,40\n",
    "    \"\"\"\n",
    "    cfg['timescales']=[1,5,10,20,40]\n",
    "    cfg['obsdata']=['/home/mchoblet/paleoda/data/proxy_dbs/sisal_1600_1800.nc','/home/mchoblet/paleoda/data/proxy_dbs/iso2k_db_1600_1800.nc']\n",
    "    cfg['resample_mode']='linear'\n",
    "    cfg['mask']=3 \n",
    "    cfg['var_psm']= ['d18O','d18O'] \n",
    "    cfg['psm']=['speleo','icecore'] \n",
    "    cfg['interpol']= None \n",
    "    cfg['extra_assi']={\n",
    "        'globalmean': ['tsurf','d18O','prec'], #None or list of variables\n",
    "        'lat_mean': ['tsurf','prec'], #None or list of variables\n",
    "        'regionalmean': None, #None or list of variables\n",
    "        'region':None, #None or list of list [[latS,latN],[latW,latE]] #specify the regions in 0-360 longitude system\n",
    "        'prec_weighted': False, #if you want to get the precipitation weighted d18O\n",
    "    }\n",
    "    cfg['error_scale']=1 \n",
    "    \n",
    "    \n",
    "    for i in range(2):\n",
    "        #turn on/off anomaly\n",
    "        if i==0:\n",
    "            cfg['anomaly']='BG+HX'\n",
    "            cfg['anomaly_time']=['1600','1800']\n",
    "            cfg['output_file']=name+'_ano'\n",
    "            cfg['speleo']['height']=False\n",
    "            cfg['icecore']['height']=False\n",
    "        else:\n",
    "            cfg['anomaly']=None\n",
    "            cfg['output_file']=name+'_abs'\n",
    "            cfg['speleo']['height']=True\n",
    "            cfg['icecore']['height']=False\n",
    "            cfg['speleo']['weighting']='inf'\n",
    "            cfg['icecore']['weighting']='prec'\n",
    "        \n",
    "        #no frac, r=0.5, reuse\n",
    "        cfg['output_folder']='800_1999_nofrac_reuse'\n",
    "        cfg['proxy_error']= [0.5,0.5]\n",
    "        cfg['speleo']['fractionation']=False\n",
    "        cfg['reuse']=True\n",
    "        wrapper.paleoda_wrapper(cfg)\n",
    "        \n",
    "        #no frac, r=0.1, no reuse\n",
    "        cfg['output_folder']='800_1999_nofrac_noreuse'\n",
    "        cfg['proxy_error']= [0.1,0.1]\n",
    "        cfg['reuse']=False\n",
    "        wrapper.paleoda_wrapper(cfg)\n",
    "        \n",
    "        #frac, r=0.5, reuse\n",
    "        cfg['output_folder']='800_1999_frac_reuse'\n",
    "        cfg['proxy_error']= [0.5,0.5]\n",
    "        cfg['speleo']['fractionation']=True\n",
    "        cfg['fractionation_temp']='regular'\n",
    "        cfg['reuse']=True\n",
    "        wrapper.paleoda_wrapper(cfg)\n",
    "        \n",
    "        #frac, r=0.1, no reuse\n",
    "        cfg['output_folder']='800_1999_frac_noreuse'\n",
    "        cfg['speleo']['fractionation']=True\n",
    "        cfg['fractionation_temp']='regular'\n",
    "        cfg['proxy_error']= [0.1,0.1]\n",
    "        cfg['reuse']=False\n",
    "        wrapper.paleoda_wrapper(cfg)"
   ]
  },
  {
   "cell_type": "code",
   "execution_count": 31,
   "id": "f29be3db-a26e-4d04-92c7-c84cf43267dd",
   "metadata": {},
   "outputs": [],
   "source": [
    "def loop_models(cfg,paths):\n",
    "    names=list(paths.keys())\n",
    "    #loop over five models:\n",
    "    for na in names:\n",
    "        cfg['vp']=paths[na]\n",
    "        cfg['reconstruct']=list(paths[na].keys())\n",
    "        cfg['oro']=oro_dic[na]\n",
    "        global_recon(cfg,na)\n",
    "    \n",
    "    cfg['reconstruct']=['tsurf','prec','d18O','evap']\n",
    "    #mme(upsampled)\n",
    "    cfg['multi_model_prior']=upsampled_paths\n",
    "    global_recon(cfg,'mme')\n",
    "    \n",
    "    #mme(no-giss)\n",
    "    cfg['multi_model_prior']=upsampled_paths_nogiss\n",
    "    global_recon(cfg,'mme_nogiss')"
   ]
  },
  {
   "cell_type": "code",
   "execution_count": 32,
   "id": "6b3c263f-09ca-4bfd-9c7a-e3f25aff885a",
   "metadata": {},
   "outputs": [
    {
     "name": "stdout",
     "output_type": "stream",
     "text": [
      ">>>>>LOADING PROXY DATA\n",
      "COMPUTE TIMERESOLUTION OF PROXIES\n",
      "RESAMPLING THE PROXIES\n",
      "resampling of proxies in each database\n"
     ]
    },
    {
     "name": "stderr",
     "output_type": "stream",
     "text": [
      "100%|██████████| 113/113 [00:14<00:00,  8.01it/s]\n",
      "100%|██████████| 103/103 [00:10<00:00,  9.36it/s]\n"
     ]
    },
    {
     "name": "stdout",
     "output_type": "stream",
     "text": [
      "Load d18O  from  /home/mchoblet/paleoda/data/model_data/CESM_d18O_850_1850.nc\n",
      "computing yearly average\n",
      "Load evap  from  /home/mchoblet/paleoda/data/model_data/CESM_evap_850_1850.nc\n",
      "computing yearly average\n",
      "Load prec  from  /home/mchoblet/paleoda/data/model_data/CESM_prec_850_1850.nc\n",
      "computing yearly average\n",
      "Load tsurf  from  /home/mchoblet/paleoda/data/model_data/CESM_tsurf_850_1850.nc\n",
      "computing yearly average\n",
      "USING SPELEO PSM\n",
      "USING ICECORE PSM\n",
      "COMPUTE ANOMALIES IN MODE: BG+HX\n",
      "Compute anomaly for proxies\n",
      "Start Multitimescale DA loop.\n"
     ]
    },
    {
     "name": "stderr",
     "output_type": "stream",
     "text": [
      "100%|██████████| 1/1 [02:37<00:00, 157.77s/it]\n"
     ]
    },
    {
     "name": "stdout",
     "output_type": "stream",
     "text": [
      "Finished multitimescale DA\n",
      "Save variables\n",
      "Output written to iCESM_ano.nc\n",
      ">>>>>LOADING PROXY DATA\n",
      "COMPUTE TIMERESOLUTION OF PROXIES\n",
      "RESAMPLING THE PROXIES\n",
      "resampling of proxies in each database\n"
     ]
    },
    {
     "name": "stderr",
     "output_type": "stream",
     "text": [
      "100%|██████████| 113/113 [00:08<00:00, 12.62it/s]\n",
      "100%|██████████| 103/103 [00:05<00:00, 19.77it/s]\n"
     ]
    },
    {
     "name": "stdout",
     "output_type": "stream",
     "text": [
      "Load d18O  from  /home/mchoblet/paleoda/data/model_data/CESM_d18O_850_1850.nc\n",
      "computing yearly average\n",
      "Load evap  from  /home/mchoblet/paleoda/data/model_data/CESM_evap_850_1850.nc\n",
      "computing yearly average\n",
      "Load prec  from  /home/mchoblet/paleoda/data/model_data/CESM_prec_850_1850.nc\n",
      "computing yearly average\n",
      "Load tsurf  from  /home/mchoblet/paleoda/data/model_data/CESM_tsurf_850_1850.nc\n",
      "computing yearly average\n",
      "USING SPELEO PSM\n",
      "USING ICECORE PSM\n",
      "COMPUTE ANOMALIES IN MODE: BG+HX\n",
      "Compute anomaly for proxies\n",
      "Start Multitimescale DA loop.\n"
     ]
    },
    {
     "name": "stderr",
     "output_type": "stream",
     "text": [
      "100%|██████████| 1/1 [02:38<00:00, 158.77s/it]\n"
     ]
    },
    {
     "name": "stdout",
     "output_type": "stream",
     "text": [
      "Finished multitimescale DA\n",
      "Save variables\n",
      "Output written to iCESM_ano.nc\n",
      ">>>>>LOADING PROXY DATA\n",
      "COMPUTE TIMERESOLUTION OF PROXIES\n",
      "RESAMPLING THE PROXIES\n",
      "resampling of proxies in each database\n"
     ]
    },
    {
     "name": "stderr",
     "output_type": "stream",
     "text": [
      "100%|██████████| 113/113 [00:14<00:00,  7.98it/s]\n",
      "100%|██████████| 103/103 [00:10<00:00,  9.38it/s]\n"
     ]
    },
    {
     "name": "stdout",
     "output_type": "stream",
     "text": [
      "Load d18O  from  /home/mchoblet/paleoda/data/model_data/CESM_d18O_850_1850.nc\n",
      "computing yearly average\n",
      "Load evap  from  /home/mchoblet/paleoda/data/model_data/CESM_evap_850_1850.nc\n",
      "computing yearly average\n",
      "Load prec  from  /home/mchoblet/paleoda/data/model_data/CESM_prec_850_1850.nc\n",
      "computing yearly average\n",
      "Load tsurf  from  /home/mchoblet/paleoda/data/model_data/CESM_tsurf_850_1850.nc\n",
      "computing yearly average\n",
      "USING SPELEO PSM\n",
      ">>>>>>>>>>>>>APPLYING FRACTIONATION\n",
      "use time-varying temperature\n",
      "USING ICECORE PSM\n",
      "COMPUTE ANOMALIES IN MODE: BG+HX\n",
      "Compute anomaly for proxies\n",
      "Start Multitimescale DA loop.\n"
     ]
    },
    {
     "name": "stderr",
     "output_type": "stream",
     "text": [
      "100%|██████████| 1/1 [02:38<00:00, 158.42s/it]\n"
     ]
    },
    {
     "name": "stdout",
     "output_type": "stream",
     "text": [
      "Finished multitimescale DA\n",
      "Save variables\n",
      "Output written to iCESM_ano.nc\n",
      ">>>>>LOADING PROXY DATA\n",
      "COMPUTE TIMERESOLUTION OF PROXIES\n",
      "RESAMPLING THE PROXIES\n",
      "resampling of proxies in each database\n"
     ]
    },
    {
     "name": "stderr",
     "output_type": "stream",
     "text": [
      "100%|██████████| 113/113 [00:09<00:00, 12.55it/s]\n",
      "100%|██████████| 103/103 [00:05<00:00, 19.72it/s]\n"
     ]
    },
    {
     "name": "stdout",
     "output_type": "stream",
     "text": [
      "Load d18O  from  /home/mchoblet/paleoda/data/model_data/CESM_d18O_850_1850.nc\n",
      "computing yearly average\n",
      "Load evap  from  /home/mchoblet/paleoda/data/model_data/CESM_evap_850_1850.nc\n",
      "computing yearly average\n",
      "Load prec  from  /home/mchoblet/paleoda/data/model_data/CESM_prec_850_1850.nc\n",
      "computing yearly average\n",
      "Load tsurf  from  /home/mchoblet/paleoda/data/model_data/CESM_tsurf_850_1850.nc\n",
      "computing yearly average\n",
      "USING SPELEO PSM\n",
      ">>>>>>>>>>>>>APPLYING FRACTIONATION\n",
      "use time-varying temperature\n",
      "USING ICECORE PSM\n",
      "COMPUTE ANOMALIES IN MODE: BG+HX\n",
      "Compute anomaly for proxies\n",
      "Start Multitimescale DA loop.\n"
     ]
    },
    {
     "name": "stderr",
     "output_type": "stream",
     "text": [
      "100%|██████████| 1/1 [02:39<00:00, 159.26s/it]\n"
     ]
    },
    {
     "name": "stdout",
     "output_type": "stream",
     "text": [
      "Finished multitimescale DA\n",
      "Save variables\n",
      "Output written to iCESM_ano.nc\n",
      ">>>>>LOADING PROXY DATA\n",
      "COMPUTE TIMERESOLUTION OF PROXIES\n",
      "RESAMPLING THE PROXIES\n",
      "resampling of proxies in each database\n"
     ]
    },
    {
     "name": "stderr",
     "output_type": "stream",
     "text": [
      "100%|██████████| 113/113 [00:14<00:00,  7.90it/s]\n",
      "100%|██████████| 103/103 [00:11<00:00,  9.23it/s]\n"
     ]
    },
    {
     "name": "stdout",
     "output_type": "stream",
     "text": [
      "Load d18O  from  /home/mchoblet/paleoda/data/model_data/CESM_d18O_850_1850.nc\n",
      "computing yearly average\n",
      "Load evap  from  /home/mchoblet/paleoda/data/model_data/CESM_evap_850_1850.nc\n",
      "computing yearly average\n",
      "Load prec  from  /home/mchoblet/paleoda/data/model_data/CESM_prec_850_1850.nc\n",
      "computing yearly average\n",
      "Load tsurf  from  /home/mchoblet/paleoda/data/model_data/CESM_tsurf_850_1850.nc\n",
      "computing yearly average\n",
      "USING SPELEO PSM\n",
      ">>>>>>>>>>>>>GETTING MONTHLY d18O Data\n",
      ">>>>>>>>>>>>>APPLYING HEIGHT CORRECTION\n",
      "USING ICECORE PSM\n",
      "COMPUTE ANOMALIES IN MODE: None\n",
      "Compute anomaly for proxies\n",
      "Start Multitimescale DA loop.\n"
     ]
    },
    {
     "name": "stderr",
     "output_type": "stream",
     "text": [
      "100%|██████████| 1/1 [02:40<00:00, 160.10s/it]\n"
     ]
    },
    {
     "name": "stdout",
     "output_type": "stream",
     "text": [
      "Finished multitimescale DA\n",
      "Save variables\n",
      "Output written to iCESM_abs.nc\n",
      ">>>>>LOADING PROXY DATA\n",
      "COMPUTE TIMERESOLUTION OF PROXIES\n",
      "RESAMPLING THE PROXIES\n",
      "resampling of proxies in each database\n"
     ]
    },
    {
     "name": "stderr",
     "output_type": "stream",
     "text": [
      "100%|██████████| 113/113 [00:08<00:00, 12.69it/s]\n",
      "100%|██████████| 103/103 [00:05<00:00, 19.69it/s]\n"
     ]
    },
    {
     "name": "stdout",
     "output_type": "stream",
     "text": [
      "Load d18O  from  /home/mchoblet/paleoda/data/model_data/CESM_d18O_850_1850.nc\n",
      "computing yearly average\n",
      "Load evap  from  /home/mchoblet/paleoda/data/model_data/CESM_evap_850_1850.nc\n",
      "computing yearly average\n",
      "Load prec  from  /home/mchoblet/paleoda/data/model_data/CESM_prec_850_1850.nc\n",
      "computing yearly average\n",
      "Load tsurf  from  /home/mchoblet/paleoda/data/model_data/CESM_tsurf_850_1850.nc\n",
      "computing yearly average\n",
      "USING SPELEO PSM\n",
      ">>>>>>>>>>>>>GETTING MONTHLY d18O Data\n",
      ">>>>>>>>>>>>>APPLYING HEIGHT CORRECTION\n",
      "USING ICECORE PSM\n",
      "COMPUTE ANOMALIES IN MODE: None\n",
      "Compute anomaly for proxies\n",
      "Start Multitimescale DA loop.\n"
     ]
    },
    {
     "name": "stderr",
     "output_type": "stream",
     "text": [
      "100%|██████████| 1/1 [02:39<00:00, 159.78s/it]\n"
     ]
    },
    {
     "name": "stdout",
     "output_type": "stream",
     "text": [
      "Finished multitimescale DA\n",
      "Save variables\n",
      "Output written to iCESM_abs.nc\n",
      ">>>>>LOADING PROXY DATA\n",
      "COMPUTE TIMERESOLUTION OF PROXIES\n",
      "RESAMPLING THE PROXIES\n",
      "resampling of proxies in each database\n"
     ]
    },
    {
     "name": "stderr",
     "output_type": "stream",
     "text": [
      "100%|██████████| 113/113 [00:14<00:00,  8.00it/s]\n",
      "100%|██████████| 103/103 [00:10<00:00,  9.40it/s]\n"
     ]
    },
    {
     "name": "stdout",
     "output_type": "stream",
     "text": [
      "Load d18O  from  /home/mchoblet/paleoda/data/model_data/CESM_d18O_850_1850.nc\n",
      "computing yearly average\n",
      "Load evap  from  /home/mchoblet/paleoda/data/model_data/CESM_evap_850_1850.nc\n",
      "computing yearly average\n",
      "Load prec  from  /home/mchoblet/paleoda/data/model_data/CESM_prec_850_1850.nc\n",
      "computing yearly average\n",
      "Load tsurf  from  /home/mchoblet/paleoda/data/model_data/CESM_tsurf_850_1850.nc\n",
      "computing yearly average\n",
      "USING SPELEO PSM\n",
      ">>>>>>>>>>>>>GETTING MONTHLY d18O Data\n",
      ">>>>>>>>>>>>>APPLYING HEIGHT CORRECTION\n",
      ">>>>>>>>>>>>>APPLYING FRACTIONATION\n",
      "use time-varying temperature\n",
      "USING ICECORE PSM\n",
      "COMPUTE ANOMALIES IN MODE: None\n",
      "Compute anomaly for proxies\n",
      "Start Multitimescale DA loop.\n"
     ]
    },
    {
     "name": "stderr",
     "output_type": "stream",
     "text": [
      "100%|██████████| 1/1 [02:40<00:00, 160.92s/it]\n"
     ]
    },
    {
     "name": "stdout",
     "output_type": "stream",
     "text": [
      "Finished multitimescale DA\n",
      "Save variables\n",
      "Output written to iCESM_abs.nc\n",
      ">>>>>LOADING PROXY DATA\n",
      "COMPUTE TIMERESOLUTION OF PROXIES\n",
      "RESAMPLING THE PROXIES\n",
      "resampling of proxies in each database\n"
     ]
    },
    {
     "name": "stderr",
     "output_type": "stream",
     "text": [
      "100%|██████████| 113/113 [00:08<00:00, 12.59it/s]\n",
      "100%|██████████| 103/103 [00:05<00:00, 19.53it/s]\n"
     ]
    },
    {
     "name": "stdout",
     "output_type": "stream",
     "text": [
      "Load d18O  from  /home/mchoblet/paleoda/data/model_data/CESM_d18O_850_1850.nc\n",
      "computing yearly average\n",
      "Load evap  from  /home/mchoblet/paleoda/data/model_data/CESM_evap_850_1850.nc\n",
      "computing yearly average\n",
      "Load prec  from  /home/mchoblet/paleoda/data/model_data/CESM_prec_850_1850.nc\n",
      "computing yearly average\n",
      "Load tsurf  from  /home/mchoblet/paleoda/data/model_data/CESM_tsurf_850_1850.nc\n",
      "computing yearly average\n",
      "USING SPELEO PSM\n",
      ">>>>>>>>>>>>>GETTING MONTHLY d18O Data\n",
      ">>>>>>>>>>>>>APPLYING HEIGHT CORRECTION\n",
      ">>>>>>>>>>>>>APPLYING FRACTIONATION\n",
      "use time-varying temperature\n",
      "USING ICECORE PSM\n",
      "COMPUTE ANOMALIES IN MODE: None\n",
      "Compute anomaly for proxies\n",
      "Start Multitimescale DA loop.\n"
     ]
    },
    {
     "name": "stderr",
     "output_type": "stream",
     "text": [
      "100%|██████████| 1/1 [02:39<00:00, 159.72s/it]\n"
     ]
    },
    {
     "name": "stdout",
     "output_type": "stream",
     "text": [
      "Finished multitimescale DA\n",
      "Save variables\n",
      "Output written to iCESM_abs.nc\n",
      ">>>>>LOADING PROXY DATA\n",
      "COMPUTE TIMERESOLUTION OF PROXIES\n",
      "RESAMPLING THE PROXIES\n",
      "resampling of proxies in each database\n"
     ]
    },
    {
     "name": "stderr",
     "output_type": "stream",
     "text": [
      "100%|██████████| 113/113 [00:14<00:00,  7.98it/s]\n",
      "100%|██████████| 103/103 [00:10<00:00,  9.37it/s]\n"
     ]
    },
    {
     "name": "stdout",
     "output_type": "stream",
     "text": [
      "Load d18O  from  /home/mchoblet/paleoda/data/model_data/CCSM_d18O_851_1850.nc\n",
      "computing yearly average\n",
      "Load evap  from  /home/mchoblet/paleoda/data/model_data/CCSM_evap_851_1850.nc\n",
      "computing yearly average\n",
      "Load prec  from  /home/mchoblet/paleoda/data/model_data/CCSM_prec_851_1850.nc\n",
      "computing yearly average\n",
      "Load tsurf  from  /home/mchoblet/paleoda/data/model_data/CCSM_tsurf_851_1850.nc\n",
      "computing yearly average\n",
      "USING SPELEO PSM\n",
      ">>>>>>>>>>>>>GETTING MONTHLY d18O Data\n",
      "USING ICECORE PSM\n",
      "COMPUTE ANOMALIES IN MODE: BG+HX\n",
      "Compute anomaly for proxies\n",
      "Start Multitimescale DA loop.\n"
     ]
    },
    {
     "name": "stderr",
     "output_type": "stream",
     "text": [
      "100%|██████████| 1/1 [03:27<00:00, 207.42s/it]\n"
     ]
    },
    {
     "name": "stdout",
     "output_type": "stream",
     "text": [
      "Finished multitimescale DA\n",
      "Save variables\n",
      "Output written to isoGSM_ano.nc\n",
      ">>>>>LOADING PROXY DATA\n",
      "COMPUTE TIMERESOLUTION OF PROXIES\n",
      "RESAMPLING THE PROXIES\n",
      "resampling of proxies in each database\n"
     ]
    },
    {
     "name": "stderr",
     "output_type": "stream",
     "text": [
      "100%|██████████| 113/113 [00:09<00:00, 12.55it/s]\n",
      "100%|██████████| 103/103 [00:05<00:00, 19.66it/s]\n"
     ]
    },
    {
     "name": "stdout",
     "output_type": "stream",
     "text": [
      "Load d18O  from  /home/mchoblet/paleoda/data/model_data/CCSM_d18O_851_1850.nc\n",
      "computing yearly average\n",
      "Load evap  from  /home/mchoblet/paleoda/data/model_data/CCSM_evap_851_1850.nc\n",
      "computing yearly average\n",
      "Load prec  from  /home/mchoblet/paleoda/data/model_data/CCSM_prec_851_1850.nc\n",
      "computing yearly average\n",
      "Load tsurf  from  /home/mchoblet/paleoda/data/model_data/CCSM_tsurf_851_1850.nc\n",
      "computing yearly average\n",
      "USING SPELEO PSM\n",
      ">>>>>>>>>>>>>GETTING MONTHLY d18O Data\n",
      "USING ICECORE PSM\n",
      "COMPUTE ANOMALIES IN MODE: BG+HX\n",
      "Compute anomaly for proxies\n",
      "Start Multitimescale DA loop.\n"
     ]
    },
    {
     "name": "stderr",
     "output_type": "stream",
     "text": [
      "100%|██████████| 1/1 [03:25<00:00, 205.88s/it]\n"
     ]
    },
    {
     "name": "stdout",
     "output_type": "stream",
     "text": [
      "Finished multitimescale DA\n",
      "Save variables\n",
      "Output written to isoGSM_ano.nc\n",
      ">>>>>LOADING PROXY DATA\n",
      "COMPUTE TIMERESOLUTION OF PROXIES\n",
      "RESAMPLING THE PROXIES\n",
      "resampling of proxies in each database\n"
     ]
    },
    {
     "name": "stderr",
     "output_type": "stream",
     "text": [
      "100%|██████████| 113/113 [00:14<00:00,  8.07it/s]\n",
      "100%|██████████| 103/103 [00:10<00:00,  9.53it/s]\n"
     ]
    },
    {
     "name": "stdout",
     "output_type": "stream",
     "text": [
      "Load d18O  from  /home/mchoblet/paleoda/data/model_data/CCSM_d18O_851_1850.nc\n",
      "computing yearly average\n",
      "Load evap  from  /home/mchoblet/paleoda/data/model_data/CCSM_evap_851_1850.nc\n",
      "computing yearly average\n",
      "Load prec  from  /home/mchoblet/paleoda/data/model_data/CCSM_prec_851_1850.nc\n",
      "computing yearly average\n",
      "Load tsurf  from  /home/mchoblet/paleoda/data/model_data/CCSM_tsurf_851_1850.nc\n",
      "computing yearly average\n",
      "USING SPELEO PSM\n",
      ">>>>>>>>>>>>>GETTING MONTHLY d18O Data\n",
      ">>>>>>>>>>>>>APPLYING FRACTIONATION\n",
      "use time-varying temperature\n",
      "USING ICECORE PSM\n",
      "COMPUTE ANOMALIES IN MODE: BG+HX\n",
      "Compute anomaly for proxies\n",
      "Start Multitimescale DA loop.\n"
     ]
    },
    {
     "name": "stderr",
     "output_type": "stream",
     "text": [
      "100%|██████████| 1/1 [03:26<00:00, 206.22s/it]\n"
     ]
    },
    {
     "name": "stdout",
     "output_type": "stream",
     "text": [
      "Finished multitimescale DA\n",
      "Save variables\n",
      "Output written to isoGSM_ano.nc\n",
      ">>>>>LOADING PROXY DATA\n",
      "COMPUTE TIMERESOLUTION OF PROXIES\n",
      "RESAMPLING THE PROXIES\n",
      "resampling of proxies in each database\n"
     ]
    },
    {
     "name": "stderr",
     "output_type": "stream",
     "text": [
      "100%|██████████| 113/113 [00:08<00:00, 12.69it/s]\n",
      "100%|██████████| 103/103 [00:05<00:00, 19.38it/s]\n"
     ]
    },
    {
     "name": "stdout",
     "output_type": "stream",
     "text": [
      "Load d18O  from  /home/mchoblet/paleoda/data/model_data/CCSM_d18O_851_1850.nc\n",
      "computing yearly average\n",
      "Load evap  from  /home/mchoblet/paleoda/data/model_data/CCSM_evap_851_1850.nc\n",
      "computing yearly average\n",
      "Load prec  from  /home/mchoblet/paleoda/data/model_data/CCSM_prec_851_1850.nc\n",
      "computing yearly average\n",
      "Load tsurf  from  /home/mchoblet/paleoda/data/model_data/CCSM_tsurf_851_1850.nc\n",
      "computing yearly average\n",
      "USING SPELEO PSM\n",
      ">>>>>>>>>>>>>GETTING MONTHLY d18O Data\n",
      ">>>>>>>>>>>>>APPLYING FRACTIONATION\n",
      "use time-varying temperature\n",
      "USING ICECORE PSM\n",
      "COMPUTE ANOMALIES IN MODE: BG+HX\n",
      "Compute anomaly for proxies\n",
      "Start Multitimescale DA loop.\n"
     ]
    },
    {
     "name": "stderr",
     "output_type": "stream",
     "text": [
      "100%|██████████| 1/1 [03:27<00:00, 207.33s/it]\n"
     ]
    },
    {
     "name": "stdout",
     "output_type": "stream",
     "text": [
      "Finished multitimescale DA\n",
      "Save variables\n",
      "Output written to isoGSM_ano.nc\n",
      ">>>>>LOADING PROXY DATA\n",
      "COMPUTE TIMERESOLUTION OF PROXIES\n",
      "RESAMPLING THE PROXIES\n",
      "resampling of proxies in each database\n"
     ]
    },
    {
     "name": "stderr",
     "output_type": "stream",
     "text": [
      "100%|██████████| 113/113 [00:14<00:00,  7.95it/s]\n",
      "100%|██████████| 103/103 [00:11<00:00,  9.32it/s]\n"
     ]
    },
    {
     "name": "stdout",
     "output_type": "stream",
     "text": [
      "Load d18O  from  /home/mchoblet/paleoda/data/model_data/CCSM_d18O_851_1850.nc\n",
      "computing yearly average\n",
      "Load evap  from  /home/mchoblet/paleoda/data/model_data/CCSM_evap_851_1850.nc\n",
      "computing yearly average\n",
      "Load prec  from  /home/mchoblet/paleoda/data/model_data/CCSM_prec_851_1850.nc\n",
      "computing yearly average\n",
      "Load tsurf  from  /home/mchoblet/paleoda/data/model_data/CCSM_tsurf_851_1850.nc\n",
      "computing yearly average\n",
      "USING SPELEO PSM\n",
      ">>>>>>>>>>>>>GETTING MONTHLY d18O Data\n",
      ">>>>>>>>>>>>>APPLYING HEIGHT CORRECTION\n",
      "USING ICECORE PSM\n",
      "COMPUTE ANOMALIES IN MODE: None\n",
      "Compute anomaly for proxies\n",
      "Start Multitimescale DA loop.\n"
     ]
    },
    {
     "name": "stderr",
     "output_type": "stream",
     "text": [
      "100%|██████████| 1/1 [03:27<00:00, 207.50s/it]\n"
     ]
    },
    {
     "name": "stdout",
     "output_type": "stream",
     "text": [
      "Finished multitimescale DA\n",
      "Save variables\n",
      "Output written to isoGSM_abs.nc\n",
      ">>>>>LOADING PROXY DATA\n",
      "COMPUTE TIMERESOLUTION OF PROXIES\n",
      "RESAMPLING THE PROXIES\n",
      "resampling of proxies in each database\n"
     ]
    },
    {
     "name": "stderr",
     "output_type": "stream",
     "text": [
      "100%|██████████| 113/113 [00:08<00:00, 12.68it/s]\n",
      "100%|██████████| 103/103 [00:05<00:00, 19.68it/s]\n"
     ]
    },
    {
     "name": "stdout",
     "output_type": "stream",
     "text": [
      "Load d18O  from  /home/mchoblet/paleoda/data/model_data/CCSM_d18O_851_1850.nc\n",
      "computing yearly average\n",
      "Load evap  from  /home/mchoblet/paleoda/data/model_data/CCSM_evap_851_1850.nc\n",
      "computing yearly average\n",
      "Load prec  from  /home/mchoblet/paleoda/data/model_data/CCSM_prec_851_1850.nc\n",
      "computing yearly average\n",
      "Load tsurf  from  /home/mchoblet/paleoda/data/model_data/CCSM_tsurf_851_1850.nc\n",
      "computing yearly average\n",
      "USING SPELEO PSM\n",
      ">>>>>>>>>>>>>GETTING MONTHLY d18O Data\n",
      ">>>>>>>>>>>>>APPLYING HEIGHT CORRECTION\n",
      "USING ICECORE PSM\n",
      "COMPUTE ANOMALIES IN MODE: None\n",
      "Compute anomaly for proxies\n",
      "Start Multitimescale DA loop.\n"
     ]
    },
    {
     "name": "stderr",
     "output_type": "stream",
     "text": [
      "100%|██████████| 1/1 [03:26<00:00, 206.38s/it]\n"
     ]
    },
    {
     "name": "stdout",
     "output_type": "stream",
     "text": [
      "Finished multitimescale DA\n",
      "Save variables\n",
      "Output written to isoGSM_abs.nc\n",
      ">>>>>LOADING PROXY DATA\n",
      "COMPUTE TIMERESOLUTION OF PROXIES\n",
      "RESAMPLING THE PROXIES\n",
      "resampling of proxies in each database\n"
     ]
    },
    {
     "name": "stderr",
     "output_type": "stream",
     "text": [
      "100%|██████████| 113/113 [00:14<00:00,  7.94it/s]\n",
      "100%|██████████| 103/103 [00:10<00:00,  9.39it/s]\n"
     ]
    },
    {
     "name": "stdout",
     "output_type": "stream",
     "text": [
      "Load d18O  from  /home/mchoblet/paleoda/data/model_data/CCSM_d18O_851_1850.nc\n",
      "computing yearly average\n",
      "Load evap  from  /home/mchoblet/paleoda/data/model_data/CCSM_evap_851_1850.nc\n",
      "computing yearly average\n",
      "Load prec  from  /home/mchoblet/paleoda/data/model_data/CCSM_prec_851_1850.nc\n",
      "computing yearly average\n",
      "Load tsurf  from  /home/mchoblet/paleoda/data/model_data/CCSM_tsurf_851_1850.nc\n",
      "computing yearly average\n",
      "USING SPELEO PSM\n",
      ">>>>>>>>>>>>>GETTING MONTHLY d18O Data\n",
      ">>>>>>>>>>>>>APPLYING HEIGHT CORRECTION\n",
      ">>>>>>>>>>>>>APPLYING FRACTIONATION\n",
      "use time-varying temperature\n",
      "USING ICECORE PSM\n",
      "COMPUTE ANOMALIES IN MODE: None\n",
      "Compute anomaly for proxies\n",
      "Start Multitimescale DA loop.\n"
     ]
    },
    {
     "name": "stderr",
     "output_type": "stream",
     "text": [
      "100%|██████████| 1/1 [03:25<00:00, 205.82s/it]\n"
     ]
    },
    {
     "name": "stdout",
     "output_type": "stream",
     "text": [
      "Finished multitimescale DA\n",
      "Save variables\n",
      "Output written to isoGSM_abs.nc\n",
      ">>>>>LOADING PROXY DATA\n",
      "COMPUTE TIMERESOLUTION OF PROXIES\n",
      "RESAMPLING THE PROXIES\n",
      "resampling of proxies in each database\n"
     ]
    },
    {
     "name": "stderr",
     "output_type": "stream",
     "text": [
      "100%|██████████| 113/113 [00:08<00:00, 12.74it/s]\n",
      "100%|██████████| 103/103 [00:05<00:00, 19.69it/s]\n"
     ]
    },
    {
     "name": "stdout",
     "output_type": "stream",
     "text": [
      "Load d18O  from  /home/mchoblet/paleoda/data/model_data/CCSM_d18O_851_1850.nc\n",
      "computing yearly average\n",
      "Load evap  from  /home/mchoblet/paleoda/data/model_data/CCSM_evap_851_1850.nc\n",
      "computing yearly average\n",
      "Load prec  from  /home/mchoblet/paleoda/data/model_data/CCSM_prec_851_1850.nc\n",
      "computing yearly average\n",
      "Load tsurf  from  /home/mchoblet/paleoda/data/model_data/CCSM_tsurf_851_1850.nc\n",
      "computing yearly average\n",
      "USING SPELEO PSM\n",
      ">>>>>>>>>>>>>GETTING MONTHLY d18O Data\n",
      ">>>>>>>>>>>>>APPLYING HEIGHT CORRECTION\n",
      ">>>>>>>>>>>>>APPLYING FRACTIONATION\n",
      "use time-varying temperature\n",
      "USING ICECORE PSM\n",
      "COMPUTE ANOMALIES IN MODE: None\n",
      "Compute anomaly for proxies\n",
      "Start Multitimescale DA loop.\n"
     ]
    },
    {
     "name": "stderr",
     "output_type": "stream",
     "text": [
      "100%|██████████| 1/1 [03:26<00:00, 206.14s/it]\n"
     ]
    },
    {
     "name": "stdout",
     "output_type": "stream",
     "text": [
      "Finished multitimescale DA\n",
      "Save variables\n",
      "Output written to isoGSM_abs.nc\n",
      ">>>>>LOADING PROXY DATA\n",
      "COMPUTE TIMERESOLUTION OF PROXIES\n",
      "RESAMPLING THE PROXIES\n",
      "resampling of proxies in each database\n"
     ]
    },
    {
     "name": "stderr",
     "output_type": "stream",
     "text": [
      "100%|██████████| 113/113 [00:14<00:00,  7.97it/s]\n",
      "100%|██████████| 103/103 [00:11<00:00,  9.29it/s]\n"
     ]
    },
    {
     "name": "stdout",
     "output_type": "stream",
     "text": [
      "Load d18O  from  /home/mchoblet/paleoda/data/model_data/ECHAM5_d18O_850_1849.nc\n",
      "computing yearly average\n",
      "Load evap  from  /home/mchoblet/paleoda/data/model_data/ECHAM5_evap_850_1849.nc\n",
      "computing yearly average\n",
      "Load prec  from  /home/mchoblet/paleoda/data/model_data/ECHAM5_prec_850_1849.nc\n",
      "computing yearly average\n",
      "Load tsurf  from  /home/mchoblet/paleoda/data/model_data/ECHAM5_tsurf_850_1849.nc\n",
      "computing yearly average\n",
      "USING SPELEO PSM\n",
      ">>>>>>>>>>>>>GETTING MONTHLY d18O Data\n",
      "USING ICECORE PSM\n",
      "COMPUTE ANOMALIES IN MODE: BG+HX\n",
      "Compute anomaly for proxies\n",
      "Start Multitimescale DA loop.\n"
     ]
    },
    {
     "name": "stderr",
     "output_type": "stream",
     "text": [
      "100%|██████████| 1/1 [00:50<00:00, 50.20s/it]\n"
     ]
    },
    {
     "name": "stdout",
     "output_type": "stream",
     "text": [
      "Finished multitimescale DA\n",
      "Save variables\n",
      "Output written to Echam_ano.nc\n",
      ">>>>>LOADING PROXY DATA\n",
      "COMPUTE TIMERESOLUTION OF PROXIES\n",
      "RESAMPLING THE PROXIES\n",
      "resampling of proxies in each database\n"
     ]
    },
    {
     "name": "stderr",
     "output_type": "stream",
     "text": [
      "100%|██████████| 113/113 [00:08<00:00, 12.73it/s]\n",
      "100%|██████████| 103/103 [00:05<00:00, 19.81it/s]\n"
     ]
    },
    {
     "name": "stdout",
     "output_type": "stream",
     "text": [
      "Load d18O  from  /home/mchoblet/paleoda/data/model_data/ECHAM5_d18O_850_1849.nc\n",
      "computing yearly average\n",
      "Load evap  from  /home/mchoblet/paleoda/data/model_data/ECHAM5_evap_850_1849.nc\n",
      "computing yearly average\n",
      "Load prec  from  /home/mchoblet/paleoda/data/model_data/ECHAM5_prec_850_1849.nc\n",
      "computing yearly average\n",
      "Load tsurf  from  /home/mchoblet/paleoda/data/model_data/ECHAM5_tsurf_850_1849.nc\n",
      "computing yearly average\n",
      "USING SPELEO PSM\n",
      ">>>>>>>>>>>>>GETTING MONTHLY d18O Data\n",
      "USING ICECORE PSM\n",
      "COMPUTE ANOMALIES IN MODE: BG+HX\n",
      "Compute anomaly for proxies\n",
      "Start Multitimescale DA loop.\n"
     ]
    },
    {
     "name": "stderr",
     "output_type": "stream",
     "text": [
      "100%|██████████| 1/1 [00:50<00:00, 50.70s/it]\n"
     ]
    },
    {
     "name": "stdout",
     "output_type": "stream",
     "text": [
      "Finished multitimescale DA\n",
      "Save variables\n",
      "Output written to Echam_ano.nc\n",
      ">>>>>LOADING PROXY DATA\n",
      "COMPUTE TIMERESOLUTION OF PROXIES\n",
      "RESAMPLING THE PROXIES\n",
      "resampling of proxies in each database\n"
     ]
    },
    {
     "name": "stderr",
     "output_type": "stream",
     "text": [
      "100%|██████████| 113/113 [00:14<00:00,  7.97it/s]\n",
      "100%|██████████| 103/103 [00:10<00:00,  9.38it/s]\n"
     ]
    },
    {
     "name": "stdout",
     "output_type": "stream",
     "text": [
      "Load d18O  from  /home/mchoblet/paleoda/data/model_data/ECHAM5_d18O_850_1849.nc\n",
      "computing yearly average\n",
      "Load evap  from  /home/mchoblet/paleoda/data/model_data/ECHAM5_evap_850_1849.nc\n",
      "computing yearly average\n",
      "Load prec  from  /home/mchoblet/paleoda/data/model_data/ECHAM5_prec_850_1849.nc\n",
      "computing yearly average\n",
      "Load tsurf  from  /home/mchoblet/paleoda/data/model_data/ECHAM5_tsurf_850_1849.nc\n",
      "computing yearly average\n",
      "USING SPELEO PSM\n",
      ">>>>>>>>>>>>>GETTING MONTHLY d18O Data\n",
      ">>>>>>>>>>>>>APPLYING FRACTIONATION\n",
      "use time-varying temperature\n",
      "USING ICECORE PSM\n",
      "COMPUTE ANOMALIES IN MODE: BG+HX\n",
      "Compute anomaly for proxies\n",
      "Start Multitimescale DA loop.\n"
     ]
    },
    {
     "name": "stderr",
     "output_type": "stream",
     "text": [
      "100%|██████████| 1/1 [00:50<00:00, 50.86s/it]\n"
     ]
    },
    {
     "name": "stdout",
     "output_type": "stream",
     "text": [
      "Finished multitimescale DA\n",
      "Save variables\n",
      "Output written to Echam_ano.nc\n",
      ">>>>>LOADING PROXY DATA\n",
      "COMPUTE TIMERESOLUTION OF PROXIES\n",
      "RESAMPLING THE PROXIES\n",
      "resampling of proxies in each database\n"
     ]
    },
    {
     "name": "stderr",
     "output_type": "stream",
     "text": [
      "100%|██████████| 113/113 [00:08<00:00, 12.99it/s]\n",
      "100%|██████████| 103/103 [00:05<00:00, 19.77it/s]\n"
     ]
    },
    {
     "name": "stdout",
     "output_type": "stream",
     "text": [
      "Load d18O  from  /home/mchoblet/paleoda/data/model_data/ECHAM5_d18O_850_1849.nc\n",
      "computing yearly average\n",
      "Load evap  from  /home/mchoblet/paleoda/data/model_data/ECHAM5_evap_850_1849.nc\n",
      "computing yearly average\n",
      "Load prec  from  /home/mchoblet/paleoda/data/model_data/ECHAM5_prec_850_1849.nc\n",
      "computing yearly average\n",
      "Load tsurf  from  /home/mchoblet/paleoda/data/model_data/ECHAM5_tsurf_850_1849.nc\n",
      "computing yearly average\n",
      "USING SPELEO PSM\n",
      ">>>>>>>>>>>>>GETTING MONTHLY d18O Data\n",
      ">>>>>>>>>>>>>APPLYING FRACTIONATION\n",
      "use time-varying temperature\n",
      "USING ICECORE PSM\n",
      "COMPUTE ANOMALIES IN MODE: BG+HX\n",
      "Compute anomaly for proxies\n",
      "Start Multitimescale DA loop.\n"
     ]
    },
    {
     "name": "stderr",
     "output_type": "stream",
     "text": [
      "100%|██████████| 1/1 [00:50<00:00, 50.32s/it]\n"
     ]
    },
    {
     "name": "stdout",
     "output_type": "stream",
     "text": [
      "Finished multitimescale DA\n",
      "Save variables\n",
      "Output written to Echam_ano.nc\n",
      ">>>>>LOADING PROXY DATA\n",
      "COMPUTE TIMERESOLUTION OF PROXIES\n",
      "RESAMPLING THE PROXIES\n",
      "resampling of proxies in each database\n"
     ]
    },
    {
     "name": "stderr",
     "output_type": "stream",
     "text": [
      "100%|██████████| 113/113 [00:14<00:00,  7.99it/s]\n",
      "100%|██████████| 103/103 [00:10<00:00,  9.46it/s]\n"
     ]
    },
    {
     "name": "stdout",
     "output_type": "stream",
     "text": [
      "Load d18O  from  /home/mchoblet/paleoda/data/model_data/ECHAM5_d18O_850_1849.nc\n",
      "computing yearly average\n",
      "Load evap  from  /home/mchoblet/paleoda/data/model_data/ECHAM5_evap_850_1849.nc\n",
      "computing yearly average\n",
      "Load prec  from  /home/mchoblet/paleoda/data/model_data/ECHAM5_prec_850_1849.nc\n",
      "computing yearly average\n",
      "Load tsurf  from  /home/mchoblet/paleoda/data/model_data/ECHAM5_tsurf_850_1849.nc\n",
      "computing yearly average\n",
      "USING SPELEO PSM\n",
      ">>>>>>>>>>>>>GETTING MONTHLY d18O Data\n",
      ">>>>>>>>>>>>>APPLYING HEIGHT CORRECTION\n",
      "USING ICECORE PSM\n",
      "COMPUTE ANOMALIES IN MODE: None\n",
      "Compute anomaly for proxies\n",
      "Start Multitimescale DA loop.\n"
     ]
    },
    {
     "name": "stderr",
     "output_type": "stream",
     "text": [
      "100%|██████████| 1/1 [00:50<00:00, 50.12s/it]\n"
     ]
    },
    {
     "name": "stdout",
     "output_type": "stream",
     "text": [
      "Finished multitimescale DA\n",
      "Save variables\n",
      "Output written to Echam_abs.nc\n",
      ">>>>>LOADING PROXY DATA\n",
      "COMPUTE TIMERESOLUTION OF PROXIES\n",
      "RESAMPLING THE PROXIES\n",
      "resampling of proxies in each database\n"
     ]
    },
    {
     "name": "stderr",
     "output_type": "stream",
     "text": [
      "100%|██████████| 113/113 [00:08<00:00, 12.58it/s]\n",
      "100%|██████████| 103/103 [00:05<00:00, 19.74it/s]\n"
     ]
    },
    {
     "name": "stdout",
     "output_type": "stream",
     "text": [
      "Load d18O  from  /home/mchoblet/paleoda/data/model_data/ECHAM5_d18O_850_1849.nc\n",
      "computing yearly average\n",
      "Load evap  from  /home/mchoblet/paleoda/data/model_data/ECHAM5_evap_850_1849.nc\n",
      "computing yearly average\n",
      "Load prec  from  /home/mchoblet/paleoda/data/model_data/ECHAM5_prec_850_1849.nc\n",
      "computing yearly average\n",
      "Load tsurf  from  /home/mchoblet/paleoda/data/model_data/ECHAM5_tsurf_850_1849.nc\n",
      "computing yearly average\n",
      "USING SPELEO PSM\n",
      ">>>>>>>>>>>>>GETTING MONTHLY d18O Data\n",
      ">>>>>>>>>>>>>APPLYING HEIGHT CORRECTION\n",
      "USING ICECORE PSM\n",
      "COMPUTE ANOMALIES IN MODE: None\n",
      "Compute anomaly for proxies\n",
      "Start Multitimescale DA loop.\n"
     ]
    },
    {
     "name": "stderr",
     "output_type": "stream",
     "text": [
      "100%|██████████| 1/1 [00:50<00:00, 50.17s/it]\n"
     ]
    },
    {
     "name": "stdout",
     "output_type": "stream",
     "text": [
      "Finished multitimescale DA\n",
      "Save variables\n",
      "Output written to Echam_abs.nc\n",
      ">>>>>LOADING PROXY DATA\n",
      "COMPUTE TIMERESOLUTION OF PROXIES\n",
      "RESAMPLING THE PROXIES\n",
      "resampling of proxies in each database\n"
     ]
    },
    {
     "name": "stderr",
     "output_type": "stream",
     "text": [
      "100%|██████████| 113/113 [00:14<00:00,  7.98it/s]\n",
      "100%|██████████| 103/103 [00:10<00:00,  9.46it/s]\n"
     ]
    },
    {
     "name": "stdout",
     "output_type": "stream",
     "text": [
      "Load d18O  from  /home/mchoblet/paleoda/data/model_data/ECHAM5_d18O_850_1849.nc\n",
      "computing yearly average\n",
      "Load evap  from  /home/mchoblet/paleoda/data/model_data/ECHAM5_evap_850_1849.nc\n",
      "computing yearly average\n",
      "Load prec  from  /home/mchoblet/paleoda/data/model_data/ECHAM5_prec_850_1849.nc\n",
      "computing yearly average\n",
      "Load tsurf  from  /home/mchoblet/paleoda/data/model_data/ECHAM5_tsurf_850_1849.nc\n",
      "computing yearly average\n",
      "USING SPELEO PSM\n",
      ">>>>>>>>>>>>>GETTING MONTHLY d18O Data\n",
      ">>>>>>>>>>>>>APPLYING HEIGHT CORRECTION\n",
      ">>>>>>>>>>>>>APPLYING FRACTIONATION\n",
      "use time-varying temperature\n",
      "USING ICECORE PSM\n",
      "COMPUTE ANOMALIES IN MODE: None\n",
      "Compute anomaly for proxies\n",
      "Start Multitimescale DA loop.\n"
     ]
    },
    {
     "name": "stderr",
     "output_type": "stream",
     "text": [
      "100%|██████████| 1/1 [00:50<00:00, 50.70s/it]\n"
     ]
    },
    {
     "name": "stdout",
     "output_type": "stream",
     "text": [
      "Finished multitimescale DA\n",
      "Save variables\n",
      "Output written to Echam_abs.nc\n",
      ">>>>>LOADING PROXY DATA\n",
      "COMPUTE TIMERESOLUTION OF PROXIES\n",
      "RESAMPLING THE PROXIES\n",
      "resampling of proxies in each database\n"
     ]
    },
    {
     "name": "stderr",
     "output_type": "stream",
     "text": [
      "100%|██████████| 113/113 [00:08<00:00, 12.87it/s]\n",
      "100%|██████████| 103/103 [00:05<00:00, 19.95it/s]\n"
     ]
    },
    {
     "name": "stdout",
     "output_type": "stream",
     "text": [
      "Load d18O  from  /home/mchoblet/paleoda/data/model_data/ECHAM5_d18O_850_1849.nc\n",
      "computing yearly average\n",
      "Load evap  from  /home/mchoblet/paleoda/data/model_data/ECHAM5_evap_850_1849.nc\n",
      "computing yearly average\n",
      "Load prec  from  /home/mchoblet/paleoda/data/model_data/ECHAM5_prec_850_1849.nc\n",
      "computing yearly average\n",
      "Load tsurf  from  /home/mchoblet/paleoda/data/model_data/ECHAM5_tsurf_850_1849.nc\n",
      "computing yearly average\n",
      "USING SPELEO PSM\n",
      ">>>>>>>>>>>>>GETTING MONTHLY d18O Data\n",
      ">>>>>>>>>>>>>APPLYING HEIGHT CORRECTION\n",
      ">>>>>>>>>>>>>APPLYING FRACTIONATION\n",
      "use time-varying temperature\n",
      "USING ICECORE PSM\n",
      "COMPUTE ANOMALIES IN MODE: None\n",
      "Compute anomaly for proxies\n",
      "Start Multitimescale DA loop.\n"
     ]
    },
    {
     "name": "stderr",
     "output_type": "stream",
     "text": [
      "100%|██████████| 1/1 [00:50<00:00, 50.00s/it]\n"
     ]
    },
    {
     "name": "stdout",
     "output_type": "stream",
     "text": [
      "Finished multitimescale DA\n",
      "Save variables\n",
      "Output written to Echam_abs.nc\n",
      ">>>>>LOADING PROXY DATA\n",
      "COMPUTE TIMERESOLUTION OF PROXIES\n",
      "RESAMPLING THE PROXIES\n",
      "resampling of proxies in each database\n"
     ]
    },
    {
     "name": "stderr",
     "output_type": "stream",
     "text": [
      "100%|██████████| 113/113 [00:14<00:00,  8.05it/s]\n",
      "100%|██████████| 103/103 [00:11<00:00,  9.36it/s]\n"
     ]
    },
    {
     "name": "stdout",
     "output_type": "stream",
     "text": [
      "Load d18O  from  /home/mchoblet/paleoda/data/model_data/GISS_d18O_850_1849.nc\n",
      "computing yearly average\n",
      "Load evap  from  /home/mchoblet/paleoda/data/model_data/GISS_evap_850_1849.nc\n",
      "computing yearly average\n",
      "Load prec  from  /home/mchoblet/paleoda/data/model_data/GISS_prec_850_1849.nc\n",
      "computing yearly average\n",
      "Load tsurf  from  /home/mchoblet/paleoda/data/model_data/GISS_tsurf_850_1849.nc\n",
      "computing yearly average\n",
      "Load slp  from  /home/mchoblet/paleoda/data/model_data/GISS_slp_850_1849.nc\n",
      "computing yearly average\n",
      "USING SPELEO PSM\n",
      ">>>>>>>>>>>>>GETTING MONTHLY d18O Data\n",
      "USING ICECORE PSM\n",
      "COMPUTE ANOMALIES IN MODE: BG+HX\n",
      "Compute anomaly for proxies\n",
      "Start Multitimescale DA loop.\n"
     ]
    },
    {
     "name": "stderr",
     "output_type": "stream",
     "text": [
      "100%|██████████| 1/1 [03:06<00:00, 186.48s/it]\n"
     ]
    },
    {
     "name": "stdout",
     "output_type": "stream",
     "text": [
      "Finished multitimescale DA\n",
      "Save variables\n",
      "Output written to GISS_ano.nc\n",
      ">>>>>LOADING PROXY DATA\n",
      "COMPUTE TIMERESOLUTION OF PROXIES\n",
      "RESAMPLING THE PROXIES\n",
      "resampling of proxies in each database\n"
     ]
    },
    {
     "name": "stderr",
     "output_type": "stream",
     "text": [
      "100%|██████████| 113/113 [00:08<00:00, 12.80it/s]\n",
      "100%|██████████| 103/103 [00:05<00:00, 19.64it/s]\n"
     ]
    },
    {
     "name": "stdout",
     "output_type": "stream",
     "text": [
      "Load d18O  from  /home/mchoblet/paleoda/data/model_data/GISS_d18O_850_1849.nc\n",
      "computing yearly average\n",
      "Load evap  from  /home/mchoblet/paleoda/data/model_data/GISS_evap_850_1849.nc\n",
      "computing yearly average\n",
      "Load prec  from  /home/mchoblet/paleoda/data/model_data/GISS_prec_850_1849.nc\n",
      "computing yearly average\n",
      "Load tsurf  from  /home/mchoblet/paleoda/data/model_data/GISS_tsurf_850_1849.nc\n",
      "computing yearly average\n",
      "Load slp  from  /home/mchoblet/paleoda/data/model_data/GISS_slp_850_1849.nc\n",
      "computing yearly average\n",
      "USING SPELEO PSM\n",
      ">>>>>>>>>>>>>GETTING MONTHLY d18O Data\n",
      "USING ICECORE PSM\n",
      "COMPUTE ANOMALIES IN MODE: BG+HX\n",
      "Compute anomaly for proxies\n",
      "Start Multitimescale DA loop.\n"
     ]
    },
    {
     "name": "stderr",
     "output_type": "stream",
     "text": [
      "100%|██████████| 1/1 [03:06<00:00, 186.24s/it]\n"
     ]
    },
    {
     "name": "stdout",
     "output_type": "stream",
     "text": [
      "Finished multitimescale DA\n",
      "Save variables\n",
      "Output written to GISS_ano.nc\n",
      ">>>>>LOADING PROXY DATA\n",
      "COMPUTE TIMERESOLUTION OF PROXIES\n",
      "RESAMPLING THE PROXIES\n",
      "resampling of proxies in each database\n"
     ]
    },
    {
     "name": "stderr",
     "output_type": "stream",
     "text": [
      "100%|██████████| 113/113 [00:14<00:00,  7.99it/s]\n",
      "100%|██████████| 103/103 [00:10<00:00,  9.45it/s]\n"
     ]
    },
    {
     "name": "stdout",
     "output_type": "stream",
     "text": [
      "Load d18O  from  /home/mchoblet/paleoda/data/model_data/GISS_d18O_850_1849.nc\n",
      "computing yearly average\n",
      "Load evap  from  /home/mchoblet/paleoda/data/model_data/GISS_evap_850_1849.nc\n",
      "computing yearly average\n",
      "Load prec  from  /home/mchoblet/paleoda/data/model_data/GISS_prec_850_1849.nc\n",
      "computing yearly average\n",
      "Load tsurf  from  /home/mchoblet/paleoda/data/model_data/GISS_tsurf_850_1849.nc\n",
      "computing yearly average\n",
      "Load slp  from  /home/mchoblet/paleoda/data/model_data/GISS_slp_850_1849.nc\n",
      "computing yearly average\n",
      "USING SPELEO PSM\n",
      ">>>>>>>>>>>>>GETTING MONTHLY d18O Data\n",
      ">>>>>>>>>>>>>APPLYING FRACTIONATION\n",
      "use time-varying temperature\n",
      "USING ICECORE PSM\n",
      "COMPUTE ANOMALIES IN MODE: BG+HX\n",
      "Compute anomaly for proxies\n",
      "Start Multitimescale DA loop.\n"
     ]
    },
    {
     "name": "stderr",
     "output_type": "stream",
     "text": [
      "100%|██████████| 1/1 [03:06<00:00, 186.52s/it]\n"
     ]
    },
    {
     "name": "stdout",
     "output_type": "stream",
     "text": [
      "Finished multitimescale DA\n",
      "Save variables\n",
      "Output written to GISS_ano.nc\n",
      ">>>>>LOADING PROXY DATA\n",
      "COMPUTE TIMERESOLUTION OF PROXIES\n",
      "RESAMPLING THE PROXIES\n",
      "resampling of proxies in each database\n"
     ]
    },
    {
     "name": "stderr",
     "output_type": "stream",
     "text": [
      "100%|██████████| 113/113 [00:08<00:00, 12.65it/s]\n",
      "100%|██████████| 103/103 [00:05<00:00, 19.51it/s]\n"
     ]
    },
    {
     "name": "stdout",
     "output_type": "stream",
     "text": [
      "Load d18O  from  /home/mchoblet/paleoda/data/model_data/GISS_d18O_850_1849.nc\n",
      "computing yearly average\n",
      "Load evap  from  /home/mchoblet/paleoda/data/model_data/GISS_evap_850_1849.nc\n",
      "computing yearly average\n",
      "Load prec  from  /home/mchoblet/paleoda/data/model_data/GISS_prec_850_1849.nc\n",
      "computing yearly average\n",
      "Load tsurf  from  /home/mchoblet/paleoda/data/model_data/GISS_tsurf_850_1849.nc\n",
      "computing yearly average\n",
      "Load slp  from  /home/mchoblet/paleoda/data/model_data/GISS_slp_850_1849.nc\n",
      "computing yearly average\n",
      "USING SPELEO PSM\n",
      ">>>>>>>>>>>>>GETTING MONTHLY d18O Data\n",
      ">>>>>>>>>>>>>APPLYING FRACTIONATION\n",
      "use time-varying temperature\n",
      "USING ICECORE PSM\n",
      "COMPUTE ANOMALIES IN MODE: BG+HX\n",
      "Compute anomaly for proxies\n",
      "Start Multitimescale DA loop.\n"
     ]
    },
    {
     "name": "stderr",
     "output_type": "stream",
     "text": [
      "100%|██████████| 1/1 [03:06<00:00, 186.09s/it]\n"
     ]
    },
    {
     "name": "stdout",
     "output_type": "stream",
     "text": [
      "Finished multitimescale DA\n",
      "Save variables\n",
      "Output written to GISS_ano.nc\n",
      ">>>>>LOADING PROXY DATA\n",
      "COMPUTE TIMERESOLUTION OF PROXIES\n",
      "RESAMPLING THE PROXIES\n",
      "resampling of proxies in each database\n"
     ]
    },
    {
     "name": "stderr",
     "output_type": "stream",
     "text": [
      "100%|██████████| 113/113 [00:14<00:00,  8.01it/s]\n",
      "100%|██████████| 103/103 [00:10<00:00,  9.40it/s]\n"
     ]
    },
    {
     "name": "stdout",
     "output_type": "stream",
     "text": [
      "Load d18O  from  /home/mchoblet/paleoda/data/model_data/GISS_d18O_850_1849.nc\n",
      "computing yearly average\n",
      "Load evap  from  /home/mchoblet/paleoda/data/model_data/GISS_evap_850_1849.nc\n",
      "computing yearly average\n",
      "Load prec  from  /home/mchoblet/paleoda/data/model_data/GISS_prec_850_1849.nc\n",
      "computing yearly average\n",
      "Load tsurf  from  /home/mchoblet/paleoda/data/model_data/GISS_tsurf_850_1849.nc\n",
      "computing yearly average\n",
      "Load slp  from  /home/mchoblet/paleoda/data/model_data/GISS_slp_850_1849.nc\n",
      "computing yearly average\n",
      "USING SPELEO PSM\n",
      ">>>>>>>>>>>>>GETTING MONTHLY d18O Data\n",
      ">>>>>>>>>>>>>APPLYING HEIGHT CORRECTION\n",
      "USING ICECORE PSM\n",
      "COMPUTE ANOMALIES IN MODE: None\n",
      "Compute anomaly for proxies\n",
      "Start Multitimescale DA loop.\n"
     ]
    },
    {
     "name": "stderr",
     "output_type": "stream",
     "text": [
      "100%|██████████| 1/1 [03:06<00:00, 186.61s/it]\n"
     ]
    },
    {
     "name": "stdout",
     "output_type": "stream",
     "text": [
      "Finished multitimescale DA\n",
      "Save variables\n",
      "Output written to GISS_abs.nc\n",
      ">>>>>LOADING PROXY DATA\n",
      "COMPUTE TIMERESOLUTION OF PROXIES\n",
      "RESAMPLING THE PROXIES\n",
      "resampling of proxies in each database\n"
     ]
    },
    {
     "name": "stderr",
     "output_type": "stream",
     "text": [
      "100%|██████████| 113/113 [00:08<00:00, 12.80it/s]\n",
      "100%|██████████| 103/103 [00:05<00:00, 19.73it/s]\n"
     ]
    },
    {
     "name": "stdout",
     "output_type": "stream",
     "text": [
      "Load d18O  from  /home/mchoblet/paleoda/data/model_data/GISS_d18O_850_1849.nc\n",
      "computing yearly average\n",
      "Load evap  from  /home/mchoblet/paleoda/data/model_data/GISS_evap_850_1849.nc\n",
      "computing yearly average\n",
      "Load prec  from  /home/mchoblet/paleoda/data/model_data/GISS_prec_850_1849.nc\n",
      "computing yearly average\n",
      "Load tsurf  from  /home/mchoblet/paleoda/data/model_data/GISS_tsurf_850_1849.nc\n",
      "computing yearly average\n",
      "Load slp  from  /home/mchoblet/paleoda/data/model_data/GISS_slp_850_1849.nc\n",
      "computing yearly average\n",
      "USING SPELEO PSM\n",
      ">>>>>>>>>>>>>GETTING MONTHLY d18O Data\n",
      ">>>>>>>>>>>>>APPLYING HEIGHT CORRECTION\n",
      "USING ICECORE PSM\n",
      "COMPUTE ANOMALIES IN MODE: None\n",
      "Compute anomaly for proxies\n",
      "Start Multitimescale DA loop.\n"
     ]
    },
    {
     "name": "stderr",
     "output_type": "stream",
     "text": [
      "100%|██████████| 1/1 [03:06<00:00, 186.34s/it]\n"
     ]
    },
    {
     "name": "stdout",
     "output_type": "stream",
     "text": [
      "Finished multitimescale DA\n",
      "Save variables\n",
      "Output written to GISS_abs.nc\n",
      ">>>>>LOADING PROXY DATA\n",
      "COMPUTE TIMERESOLUTION OF PROXIES\n",
      "RESAMPLING THE PROXIES\n",
      "resampling of proxies in each database\n"
     ]
    },
    {
     "name": "stderr",
     "output_type": "stream",
     "text": [
      "100%|██████████| 113/113 [00:14<00:00,  8.02it/s]\n",
      "100%|██████████| 103/103 [00:10<00:00,  9.39it/s]\n"
     ]
    },
    {
     "name": "stdout",
     "output_type": "stream",
     "text": [
      "Load d18O  from  /home/mchoblet/paleoda/data/model_data/GISS_d18O_850_1849.nc\n",
      "computing yearly average\n",
      "Load evap  from  /home/mchoblet/paleoda/data/model_data/GISS_evap_850_1849.nc\n",
      "computing yearly average\n",
      "Load prec  from  /home/mchoblet/paleoda/data/model_data/GISS_prec_850_1849.nc\n",
      "computing yearly average\n",
      "Load tsurf  from  /home/mchoblet/paleoda/data/model_data/GISS_tsurf_850_1849.nc\n",
      "computing yearly average\n",
      "Load slp  from  /home/mchoblet/paleoda/data/model_data/GISS_slp_850_1849.nc\n",
      "computing yearly average\n",
      "USING SPELEO PSM\n",
      ">>>>>>>>>>>>>GETTING MONTHLY d18O Data\n",
      ">>>>>>>>>>>>>APPLYING HEIGHT CORRECTION\n",
      ">>>>>>>>>>>>>APPLYING FRACTIONATION\n",
      "use time-varying temperature\n",
      "USING ICECORE PSM\n",
      "COMPUTE ANOMALIES IN MODE: None\n",
      "Compute anomaly for proxies\n",
      "Start Multitimescale DA loop.\n"
     ]
    },
    {
     "name": "stderr",
     "output_type": "stream",
     "text": [
      "100%|██████████| 1/1 [03:07<00:00, 187.10s/it]\n"
     ]
    },
    {
     "name": "stdout",
     "output_type": "stream",
     "text": [
      "Finished multitimescale DA\n",
      "Save variables\n",
      "Output written to GISS_abs.nc\n",
      ">>>>>LOADING PROXY DATA\n",
      "COMPUTE TIMERESOLUTION OF PROXIES\n",
      "RESAMPLING THE PROXIES\n",
      "resampling of proxies in each database\n"
     ]
    },
    {
     "name": "stderr",
     "output_type": "stream",
     "text": [
      "100%|██████████| 113/113 [00:08<00:00, 12.56it/s]\n",
      "100%|██████████| 103/103 [00:05<00:00, 19.91it/s]\n"
     ]
    },
    {
     "name": "stdout",
     "output_type": "stream",
     "text": [
      "Load d18O  from  /home/mchoblet/paleoda/data/model_data/GISS_d18O_850_1849.nc\n",
      "computing yearly average\n",
      "Load evap  from  /home/mchoblet/paleoda/data/model_data/GISS_evap_850_1849.nc\n",
      "computing yearly average\n",
      "Load prec  from  /home/mchoblet/paleoda/data/model_data/GISS_prec_850_1849.nc\n",
      "computing yearly average\n",
      "Load tsurf  from  /home/mchoblet/paleoda/data/model_data/GISS_tsurf_850_1849.nc\n",
      "computing yearly average\n",
      "Load slp  from  /home/mchoblet/paleoda/data/model_data/GISS_slp_850_1849.nc\n",
      "computing yearly average\n",
      "USING SPELEO PSM\n",
      ">>>>>>>>>>>>>GETTING MONTHLY d18O Data\n",
      ">>>>>>>>>>>>>APPLYING HEIGHT CORRECTION\n",
      ">>>>>>>>>>>>>APPLYING FRACTIONATION\n",
      "use time-varying temperature\n",
      "USING ICECORE PSM\n",
      "COMPUTE ANOMALIES IN MODE: None\n",
      "Compute anomaly for proxies\n",
      "Start Multitimescale DA loop.\n"
     ]
    },
    {
     "name": "stderr",
     "output_type": "stream",
     "text": [
      "100%|██████████| 1/1 [03:07<00:00, 187.07s/it]\n"
     ]
    },
    {
     "name": "stdout",
     "output_type": "stream",
     "text": [
      "Finished multitimescale DA\n",
      "Save variables\n",
      "Output written to GISS_abs.nc\n",
      ">>>>>LOADING PROXY DATA\n",
      "COMPUTE TIMERESOLUTION OF PROXIES\n",
      "RESAMPLING THE PROXIES\n",
      "resampling of proxies in each database\n"
     ]
    },
    {
     "name": "stderr",
     "output_type": "stream",
     "text": [
      "100%|██████████| 113/113 [00:14<00:00,  8.06it/s]\n",
      "100%|██████████| 103/103 [00:10<00:00,  9.45it/s]\n"
     ]
    },
    {
     "name": "stdout",
     "output_type": "stream",
     "text": [
      "Load d18O  from  /home/mchoblet/paleoda/data/model_data/iHADCM3_d18O_801_1952.nc\n",
      "computing yearly average\n",
      "Load evap  from  /home/mchoblet/paleoda/data/model_data/iHADCM3_evap_801_1952.nc\n",
      "computing yearly average\n",
      "Load prec  from  /home/mchoblet/paleoda/data/model_data/iHADCM3_prec_801_1952.nc\n",
      "computing yearly average\n",
      "Load tsurf  from  /home/mchoblet/paleoda/data/model_data/iHADCM3_tsurf_801_1952.nc\n",
      "computing yearly average\n",
      "Load slp  from  /home/mchoblet/paleoda/data/model_data/iHADCM3_slp_801_1952.nc\n",
      "computing yearly average\n",
      "USING SPELEO PSM\n",
      ">>>>>>>>>>>>>GETTING MONTHLY d18O Data\n",
      "USING ICECORE PSM\n",
      "COMPUTE ANOMALIES IN MODE: BG+HX\n",
      "Compute anomaly for proxies\n",
      "Start Multitimescale DA loop.\n"
     ]
    },
    {
     "name": "stderr",
     "output_type": "stream",
     "text": [
      "100%|██████████| 1/1 [01:31<00:00, 91.61s/it]\n"
     ]
    },
    {
     "name": "stdout",
     "output_type": "stream",
     "text": [
      "Finished multitimescale DA\n",
      "Save variables\n",
      "Output written to iHadCM3_ano.nc\n",
      ">>>>>LOADING PROXY DATA\n",
      "COMPUTE TIMERESOLUTION OF PROXIES\n",
      "RESAMPLING THE PROXIES\n",
      "resampling of proxies in each database\n"
     ]
    },
    {
     "name": "stderr",
     "output_type": "stream",
     "text": [
      "100%|██████████| 113/113 [00:08<00:00, 12.67it/s]\n",
      "100%|██████████| 103/103 [00:05<00:00, 19.78it/s]\n"
     ]
    },
    {
     "name": "stdout",
     "output_type": "stream",
     "text": [
      "Load d18O  from  /home/mchoblet/paleoda/data/model_data/iHADCM3_d18O_801_1952.nc\n",
      "computing yearly average\n",
      "Load evap  from  /home/mchoblet/paleoda/data/model_data/iHADCM3_evap_801_1952.nc\n",
      "computing yearly average\n",
      "Load prec  from  /home/mchoblet/paleoda/data/model_data/iHADCM3_prec_801_1952.nc\n",
      "computing yearly average\n",
      "Load tsurf  from  /home/mchoblet/paleoda/data/model_data/iHADCM3_tsurf_801_1952.nc\n",
      "computing yearly average\n",
      "Load slp  from  /home/mchoblet/paleoda/data/model_data/iHADCM3_slp_801_1952.nc\n",
      "computing yearly average\n",
      "USING SPELEO PSM\n",
      ">>>>>>>>>>>>>GETTING MONTHLY d18O Data\n",
      "USING ICECORE PSM\n",
      "COMPUTE ANOMALIES IN MODE: BG+HX\n",
      "Compute anomaly for proxies\n",
      "Start Multitimescale DA loop.\n"
     ]
    },
    {
     "name": "stderr",
     "output_type": "stream",
     "text": [
      "100%|██████████| 1/1 [01:32<00:00, 92.10s/it]\n"
     ]
    },
    {
     "name": "stdout",
     "output_type": "stream",
     "text": [
      "Finished multitimescale DA\n",
      "Save variables\n",
      "Output written to iHadCM3_ano.nc\n",
      ">>>>>LOADING PROXY DATA\n",
      "COMPUTE TIMERESOLUTION OF PROXIES\n",
      "RESAMPLING THE PROXIES\n",
      "resampling of proxies in each database\n"
     ]
    },
    {
     "name": "stderr",
     "output_type": "stream",
     "text": [
      "100%|██████████| 113/113 [00:14<00:00,  7.93it/s]\n",
      "100%|██████████| 103/103 [00:11<00:00,  9.35it/s]\n"
     ]
    },
    {
     "name": "stdout",
     "output_type": "stream",
     "text": [
      "Load d18O  from  /home/mchoblet/paleoda/data/model_data/iHADCM3_d18O_801_1952.nc\n",
      "computing yearly average\n",
      "Load evap  from  /home/mchoblet/paleoda/data/model_data/iHADCM3_evap_801_1952.nc\n",
      "computing yearly average\n",
      "Load prec  from  /home/mchoblet/paleoda/data/model_data/iHADCM3_prec_801_1952.nc\n",
      "computing yearly average\n",
      "Load tsurf  from  /home/mchoblet/paleoda/data/model_data/iHADCM3_tsurf_801_1952.nc\n",
      "computing yearly average\n",
      "Load slp  from  /home/mchoblet/paleoda/data/model_data/iHADCM3_slp_801_1952.nc\n",
      "computing yearly average\n",
      "USING SPELEO PSM\n",
      ">>>>>>>>>>>>>GETTING MONTHLY d18O Data\n",
      ">>>>>>>>>>>>>APPLYING FRACTIONATION\n",
      "use time-varying temperature\n",
      "USING ICECORE PSM\n",
      "COMPUTE ANOMALIES IN MODE: BG+HX\n",
      "Compute anomaly for proxies\n",
      "Start Multitimescale DA loop.\n"
     ]
    },
    {
     "name": "stderr",
     "output_type": "stream",
     "text": [
      "100%|██████████| 1/1 [01:31<00:00, 91.93s/it]\n"
     ]
    },
    {
     "name": "stdout",
     "output_type": "stream",
     "text": [
      "Finished multitimescale DA\n",
      "Save variables\n",
      "Output written to iHadCM3_ano.nc\n",
      ">>>>>LOADING PROXY DATA\n",
      "COMPUTE TIMERESOLUTION OF PROXIES\n",
      "RESAMPLING THE PROXIES\n",
      "resampling of proxies in each database\n"
     ]
    },
    {
     "name": "stderr",
     "output_type": "stream",
     "text": [
      "100%|██████████| 113/113 [00:09<00:00, 12.55it/s]\n",
      "100%|██████████| 103/103 [00:05<00:00, 19.89it/s]\n"
     ]
    },
    {
     "name": "stdout",
     "output_type": "stream",
     "text": [
      "Load d18O  from  /home/mchoblet/paleoda/data/model_data/iHADCM3_d18O_801_1952.nc\n",
      "computing yearly average\n",
      "Load evap  from  /home/mchoblet/paleoda/data/model_data/iHADCM3_evap_801_1952.nc\n",
      "computing yearly average\n",
      "Load prec  from  /home/mchoblet/paleoda/data/model_data/iHADCM3_prec_801_1952.nc\n",
      "computing yearly average\n",
      "Load tsurf  from  /home/mchoblet/paleoda/data/model_data/iHADCM3_tsurf_801_1952.nc\n",
      "computing yearly average\n",
      "Load slp  from  /home/mchoblet/paleoda/data/model_data/iHADCM3_slp_801_1952.nc\n",
      "computing yearly average\n",
      "USING SPELEO PSM\n",
      ">>>>>>>>>>>>>GETTING MONTHLY d18O Data\n",
      ">>>>>>>>>>>>>APPLYING FRACTIONATION\n",
      "use time-varying temperature\n",
      "USING ICECORE PSM\n",
      "COMPUTE ANOMALIES IN MODE: BG+HX\n",
      "Compute anomaly for proxies\n",
      "Start Multitimescale DA loop.\n"
     ]
    },
    {
     "name": "stderr",
     "output_type": "stream",
     "text": [
      "100%|██████████| 1/1 [01:31<00:00, 91.98s/it]\n"
     ]
    },
    {
     "name": "stdout",
     "output_type": "stream",
     "text": [
      "Finished multitimescale DA\n",
      "Save variables\n",
      "Output written to iHadCM3_ano.nc\n",
      ">>>>>LOADING PROXY DATA\n",
      "COMPUTE TIMERESOLUTION OF PROXIES\n",
      "RESAMPLING THE PROXIES\n",
      "resampling of proxies in each database\n"
     ]
    },
    {
     "name": "stderr",
     "output_type": "stream",
     "text": [
      "100%|██████████| 113/113 [00:14<00:00,  7.98it/s]\n",
      "100%|██████████| 103/103 [00:11<00:00,  9.31it/s]\n"
     ]
    },
    {
     "name": "stdout",
     "output_type": "stream",
     "text": [
      "Load d18O  from  /home/mchoblet/paleoda/data/model_data/iHADCM3_d18O_801_1952.nc\n",
      "computing yearly average\n",
      "Load evap  from  /home/mchoblet/paleoda/data/model_data/iHADCM3_evap_801_1952.nc\n",
      "computing yearly average\n",
      "Load prec  from  /home/mchoblet/paleoda/data/model_data/iHADCM3_prec_801_1952.nc\n",
      "computing yearly average\n",
      "Load tsurf  from  /home/mchoblet/paleoda/data/model_data/iHADCM3_tsurf_801_1952.nc\n",
      "computing yearly average\n",
      "Load slp  from  /home/mchoblet/paleoda/data/model_data/iHADCM3_slp_801_1952.nc\n",
      "computing yearly average\n",
      "USING SPELEO PSM\n",
      ">>>>>>>>>>>>>GETTING MONTHLY d18O Data\n",
      ">>>>>>>>>>>>>APPLYING HEIGHT CORRECTION\n",
      "USING ICECORE PSM\n",
      "COMPUTE ANOMALIES IN MODE: None\n",
      "Compute anomaly for proxies\n",
      "Start Multitimescale DA loop.\n"
     ]
    },
    {
     "name": "stderr",
     "output_type": "stream",
     "text": [
      "100%|██████████| 1/1 [01:32<00:00, 92.12s/it]\n"
     ]
    },
    {
     "name": "stdout",
     "output_type": "stream",
     "text": [
      "Finished multitimescale DA\n",
      "Save variables\n",
      "Output written to iHadCM3_abs.nc\n",
      ">>>>>LOADING PROXY DATA\n",
      "COMPUTE TIMERESOLUTION OF PROXIES\n",
      "RESAMPLING THE PROXIES\n",
      "resampling of proxies in each database\n"
     ]
    },
    {
     "name": "stderr",
     "output_type": "stream",
     "text": [
      "100%|██████████| 113/113 [00:08<00:00, 12.82it/s]\n",
      "100%|██████████| 103/103 [00:05<00:00, 19.72it/s]\n"
     ]
    },
    {
     "name": "stdout",
     "output_type": "stream",
     "text": [
      "Load d18O  from  /home/mchoblet/paleoda/data/model_data/iHADCM3_d18O_801_1952.nc\n",
      "computing yearly average\n",
      "Load evap  from  /home/mchoblet/paleoda/data/model_data/iHADCM3_evap_801_1952.nc\n",
      "computing yearly average\n",
      "Load prec  from  /home/mchoblet/paleoda/data/model_data/iHADCM3_prec_801_1952.nc\n",
      "computing yearly average\n",
      "Load tsurf  from  /home/mchoblet/paleoda/data/model_data/iHADCM3_tsurf_801_1952.nc\n",
      "computing yearly average\n",
      "Load slp  from  /home/mchoblet/paleoda/data/model_data/iHADCM3_slp_801_1952.nc\n",
      "computing yearly average\n",
      "USING SPELEO PSM\n",
      ">>>>>>>>>>>>>GETTING MONTHLY d18O Data\n",
      ">>>>>>>>>>>>>APPLYING HEIGHT CORRECTION\n",
      "USING ICECORE PSM\n",
      "COMPUTE ANOMALIES IN MODE: None\n",
      "Compute anomaly for proxies\n",
      "Start Multitimescale DA loop.\n"
     ]
    },
    {
     "name": "stderr",
     "output_type": "stream",
     "text": [
      "100%|██████████| 1/1 [01:31<00:00, 91.71s/it]\n"
     ]
    },
    {
     "name": "stdout",
     "output_type": "stream",
     "text": [
      "Finished multitimescale DA\n",
      "Save variables\n",
      "Output written to iHadCM3_abs.nc\n",
      ">>>>>LOADING PROXY DATA\n",
      "COMPUTE TIMERESOLUTION OF PROXIES\n",
      "RESAMPLING THE PROXIES\n",
      "resampling of proxies in each database\n"
     ]
    },
    {
     "name": "stderr",
     "output_type": "stream",
     "text": [
      "100%|██████████| 113/113 [00:14<00:00,  7.94it/s]\n",
      "100%|██████████| 103/103 [00:10<00:00,  9.37it/s]\n"
     ]
    },
    {
     "name": "stdout",
     "output_type": "stream",
     "text": [
      "Load d18O  from  /home/mchoblet/paleoda/data/model_data/iHADCM3_d18O_801_1952.nc\n",
      "computing yearly average\n",
      "Load evap  from  /home/mchoblet/paleoda/data/model_data/iHADCM3_evap_801_1952.nc\n",
      "computing yearly average\n",
      "Load prec  from  /home/mchoblet/paleoda/data/model_data/iHADCM3_prec_801_1952.nc\n",
      "computing yearly average\n",
      "Load tsurf  from  /home/mchoblet/paleoda/data/model_data/iHADCM3_tsurf_801_1952.nc\n",
      "computing yearly average\n",
      "Load slp  from  /home/mchoblet/paleoda/data/model_data/iHADCM3_slp_801_1952.nc\n",
      "computing yearly average\n",
      "USING SPELEO PSM\n",
      ">>>>>>>>>>>>>GETTING MONTHLY d18O Data\n",
      ">>>>>>>>>>>>>APPLYING HEIGHT CORRECTION\n",
      ">>>>>>>>>>>>>APPLYING FRACTIONATION\n",
      "use time-varying temperature\n",
      "USING ICECORE PSM\n",
      "COMPUTE ANOMALIES IN MODE: None\n",
      "Compute anomaly for proxies\n",
      "Start Multitimescale DA loop.\n"
     ]
    },
    {
     "name": "stderr",
     "output_type": "stream",
     "text": [
      "100%|██████████| 1/1 [01:32<00:00, 92.03s/it]\n"
     ]
    },
    {
     "name": "stdout",
     "output_type": "stream",
     "text": [
      "Finished multitimescale DA\n",
      "Save variables\n",
      "Output written to iHadCM3_abs.nc\n",
      ">>>>>LOADING PROXY DATA\n",
      "COMPUTE TIMERESOLUTION OF PROXIES\n",
      "RESAMPLING THE PROXIES\n",
      "resampling of proxies in each database\n"
     ]
    },
    {
     "name": "stderr",
     "output_type": "stream",
     "text": [
      "100%|██████████| 113/113 [00:09<00:00, 12.42it/s]\n",
      "100%|██████████| 103/103 [00:05<00:00, 19.78it/s]\n"
     ]
    },
    {
     "name": "stdout",
     "output_type": "stream",
     "text": [
      "Load d18O  from  /home/mchoblet/paleoda/data/model_data/iHADCM3_d18O_801_1952.nc\n",
      "computing yearly average\n",
      "Load evap  from  /home/mchoblet/paleoda/data/model_data/iHADCM3_evap_801_1952.nc\n",
      "computing yearly average\n",
      "Load prec  from  /home/mchoblet/paleoda/data/model_data/iHADCM3_prec_801_1952.nc\n",
      "computing yearly average\n",
      "Load tsurf  from  /home/mchoblet/paleoda/data/model_data/iHADCM3_tsurf_801_1952.nc\n",
      "computing yearly average\n",
      "Load slp  from  /home/mchoblet/paleoda/data/model_data/iHADCM3_slp_801_1952.nc\n",
      "computing yearly average\n",
      "USING SPELEO PSM\n",
      ">>>>>>>>>>>>>GETTING MONTHLY d18O Data\n",
      ">>>>>>>>>>>>>APPLYING HEIGHT CORRECTION\n",
      ">>>>>>>>>>>>>APPLYING FRACTIONATION\n",
      "use time-varying temperature\n",
      "USING ICECORE PSM\n",
      "COMPUTE ANOMALIES IN MODE: None\n",
      "Compute anomaly for proxies\n",
      "Start Multitimescale DA loop.\n"
     ]
    },
    {
     "name": "stderr",
     "output_type": "stream",
     "text": [
      "100%|██████████| 1/1 [01:31<00:00, 91.76s/it]\n"
     ]
    },
    {
     "name": "stdout",
     "output_type": "stream",
     "text": [
      "Finished multitimescale DA\n",
      "Save variables\n",
      "Output written to iHadCM3_abs.nc\n",
      ">>>>>LOADING PROXY DATA\n",
      "COMPUTE TIMERESOLUTION OF PROXIES\n",
      "RESAMPLING THE PROXIES\n",
      "resampling of proxies in each database\n"
     ]
    },
    {
     "name": "stderr",
     "output_type": "stream",
     "text": [
      "100%|██████████| 113/113 [00:14<00:00,  8.03it/s]\n",
      "100%|██████████| 103/103 [00:10<00:00,  9.42it/s]\n"
     ]
    },
    {
     "name": "stdout",
     "output_type": "stream",
     "text": [
      "Will compute a multi-model-prior!\n",
      "Load d18O  from  /home/mchoblet/paleoda/data/model_data/upsampled/CESM_d18O_850_1850.nc\n",
      "computing yearly average\n",
      "Load evap  from  /home/mchoblet/paleoda/data/model_data/upsampled/CESM_evap_850_1850.nc\n",
      "computing yearly average\n",
      "Load prec  from  /home/mchoblet/paleoda/data/model_data/upsampled/CESM_prec_850_1850.nc\n",
      "computing yearly average\n",
      "Load tsurf  from  /home/mchoblet/paleoda/data/model_data/upsampled/CESM_tsurf_850_1850.nc\n",
      "computing yearly average\n",
      "USING SPELEO PSM\n",
      ">>>>>>>>>>>>>GETTING MONTHLY d18O Data\n",
      "USING ICECORE PSM\n",
      "COMPUTE ANOMALIES IN MODE: BG+HX\n"
     ]
    },
    {
     "ename": "KeyError",
     "evalue": "'slp'",
     "output_type": "error",
     "traceback": [
      "\u001b[0;31m---------------------------------------------------------------------------\u001b[0m",
      "\u001b[0;31mKeyError\u001b[0m                                  Traceback (most recent call last)",
      "File \u001b[0;32m~/miniconda3/envs/paleoda/lib/python3.10/site-packages/xarray/core/dataset.py:1317\u001b[0m, in \u001b[0;36mDataset._construct_dataarray\u001b[0;34m(self, name)\u001b[0m\n\u001b[1;32m   1316\u001b[0m \u001b[38;5;28;01mtry\u001b[39;00m:\n\u001b[0;32m-> 1317\u001b[0m     variable \u001b[38;5;241m=\u001b[39m \u001b[38;5;28;43mself\u001b[39;49m\u001b[38;5;241;43m.\u001b[39;49m\u001b[43m_variables\u001b[49m\u001b[43m[\u001b[49m\u001b[43mname\u001b[49m\u001b[43m]\u001b[49m\n\u001b[1;32m   1318\u001b[0m \u001b[38;5;28;01mexcept\u001b[39;00m \u001b[38;5;167;01mKeyError\u001b[39;00m:\n",
      "\u001b[0;31mKeyError\u001b[0m: 'slp'",
      "\nDuring handling of the above exception, another exception occurred:\n",
      "\u001b[0;31mKeyError\u001b[0m                                  Traceback (most recent call last)",
      "Input \u001b[0;32mIn [32]\u001b[0m, in \u001b[0;36m<cell line: 1>\u001b[0;34m()\u001b[0m\n\u001b[0;32m----> 1\u001b[0m \u001b[43mloop_models\u001b[49m\u001b[43m(\u001b[49m\u001b[43mcfg\u001b[49m\u001b[43m,\u001b[49m\u001b[43mnormal_paths\u001b[49m\u001b[43m)\u001b[49m\n",
      "Input \u001b[0;32mIn [31]\u001b[0m, in \u001b[0;36mloop_models\u001b[0;34m(cfg, paths)\u001b[0m\n\u001b[1;32m     10\u001b[0m \u001b[38;5;66;03m#mme(upsampled)\u001b[39;00m\n\u001b[1;32m     11\u001b[0m cfg[\u001b[38;5;124m'\u001b[39m\u001b[38;5;124mmulti_model_prior\u001b[39m\u001b[38;5;124m'\u001b[39m]\u001b[38;5;241m=\u001b[39mupsampled_paths\n\u001b[0;32m---> 12\u001b[0m \u001b[43mglobal_recon\u001b[49m\u001b[43m(\u001b[49m\u001b[43mcfg\u001b[49m\u001b[43m,\u001b[49m\u001b[38;5;124;43m'\u001b[39;49m\u001b[38;5;124;43mmme\u001b[39;49m\u001b[38;5;124;43m'\u001b[39;49m\u001b[43m)\u001b[49m\n\u001b[1;32m     14\u001b[0m \u001b[38;5;66;03m#mme(no-giss)\u001b[39;00m\n\u001b[1;32m     15\u001b[0m cfg[\u001b[38;5;124m'\u001b[39m\u001b[38;5;124mmulti_model_prior\u001b[39m\u001b[38;5;124m'\u001b[39m]\u001b[38;5;241m=\u001b[39mupsampled_paths_nogiss\n",
      "Input \u001b[0;32mIn [30]\u001b[0m, in \u001b[0;36mglobal_recon\u001b[0;34m(cfg, name)\u001b[0m\n\u001b[1;32m     43\u001b[0m cfg[\u001b[38;5;124m'\u001b[39m\u001b[38;5;124mspeleo\u001b[39m\u001b[38;5;124m'\u001b[39m][\u001b[38;5;124m'\u001b[39m\u001b[38;5;124mfractionation\u001b[39m\u001b[38;5;124m'\u001b[39m]\u001b[38;5;241m=\u001b[39m\u001b[38;5;28;01mFalse\u001b[39;00m\n\u001b[1;32m     44\u001b[0m cfg[\u001b[38;5;124m'\u001b[39m\u001b[38;5;124mreuse\u001b[39m\u001b[38;5;124m'\u001b[39m]\u001b[38;5;241m=\u001b[39m\u001b[38;5;28;01mTrue\u001b[39;00m\n\u001b[0;32m---> 45\u001b[0m \u001b[43mwrapper\u001b[49m\u001b[38;5;241;43m.\u001b[39;49m\u001b[43mpaleoda_wrapper\u001b[49m\u001b[43m(\u001b[49m\u001b[43mcfg\u001b[49m\u001b[43m)\u001b[49m\n\u001b[1;32m     47\u001b[0m \u001b[38;5;66;03m#no frac, r=0.1, no reuse\u001b[39;00m\n\u001b[1;32m     48\u001b[0m cfg[\u001b[38;5;124m'\u001b[39m\u001b[38;5;124moutput_folder\u001b[39m\u001b[38;5;124m'\u001b[39m]\u001b[38;5;241m=\u001b[39m\u001b[38;5;124m'\u001b[39m\u001b[38;5;124m800_1999_nofrac_noreuse\u001b[39m\u001b[38;5;124m'\u001b[39m\n",
      "File \u001b[0;32m~/paleoda/wrapper.py:198\u001b[0m, in \u001b[0;36mpaleoda_wrapper\u001b[0;34m(cfg)\u001b[0m\n\u001b[1;32m    196\u001b[0m #for v in prior_stacked:\n\u001b[1;32m    197\u001b[0m for v in c2.reconstruct:\n\u001b[0;32m--> 198\u001b[0m     values.append(prior_stacked[v].values)\n\u001b[1;32m    199\u001b[0m values=np.concatenate(values,axis=-1)\n\u001b[1;32m    200\u001b[0m \n",
      "File \u001b[0;32m~/miniconda3/envs/paleoda/lib/python3.10/site-packages/xarray/core/dataset.py:1410\u001b[0m, in \u001b[0;36mDataset.__getitem__\u001b[0;34m(self, key)\u001b[0m\n\u001b[1;32m   1408\u001b[0m     \u001b[38;5;28;01mreturn\u001b[39;00m \u001b[38;5;28mself\u001b[39m\u001b[38;5;241m.\u001b[39misel(\u001b[38;5;241m*\u001b[39m\u001b[38;5;241m*\u001b[39mkey)\n\u001b[1;32m   1409\u001b[0m \u001b[38;5;28;01mif\u001b[39;00m utils\u001b[38;5;241m.\u001b[39mhashable(key):\n\u001b[0;32m-> 1410\u001b[0m     \u001b[38;5;28;01mreturn\u001b[39;00m \u001b[38;5;28;43mself\u001b[39;49m\u001b[38;5;241;43m.\u001b[39;49m\u001b[43m_construct_dataarray\u001b[49m\u001b[43m(\u001b[49m\u001b[43mkey\u001b[49m\u001b[43m)\u001b[49m\n\u001b[1;32m   1411\u001b[0m \u001b[38;5;28;01mif\u001b[39;00m utils\u001b[38;5;241m.\u001b[39miterable_of_hashable(key):\n\u001b[1;32m   1412\u001b[0m     \u001b[38;5;28;01mreturn\u001b[39;00m \u001b[38;5;28mself\u001b[39m\u001b[38;5;241m.\u001b[39m_copy_listed(key)\n",
      "File \u001b[0;32m~/miniconda3/envs/paleoda/lib/python3.10/site-packages/xarray/core/dataset.py:1319\u001b[0m, in \u001b[0;36mDataset._construct_dataarray\u001b[0;34m(self, name)\u001b[0m\n\u001b[1;32m   1317\u001b[0m     variable \u001b[38;5;241m=\u001b[39m \u001b[38;5;28mself\u001b[39m\u001b[38;5;241m.\u001b[39m_variables[name]\n\u001b[1;32m   1318\u001b[0m \u001b[38;5;28;01mexcept\u001b[39;00m \u001b[38;5;167;01mKeyError\u001b[39;00m:\n\u001b[0;32m-> 1319\u001b[0m     _, name, variable \u001b[38;5;241m=\u001b[39m \u001b[43m_get_virtual_variable\u001b[49m\u001b[43m(\u001b[49m\u001b[38;5;28;43mself\u001b[39;49m\u001b[38;5;241;43m.\u001b[39;49m\u001b[43m_variables\u001b[49m\u001b[43m,\u001b[49m\u001b[43m \u001b[49m\u001b[43mname\u001b[49m\u001b[43m,\u001b[49m\u001b[43m \u001b[49m\u001b[38;5;28;43mself\u001b[39;49m\u001b[38;5;241;43m.\u001b[39;49m\u001b[43mdims\u001b[49m\u001b[43m)\u001b[49m\n\u001b[1;32m   1321\u001b[0m needed_dims \u001b[38;5;241m=\u001b[39m \u001b[38;5;28mset\u001b[39m(variable\u001b[38;5;241m.\u001b[39mdims)\n\u001b[1;32m   1323\u001b[0m coords: \u001b[38;5;28mdict\u001b[39m[Hashable, Variable] \u001b[38;5;241m=\u001b[39m {}\n",
      "File \u001b[0;32m~/miniconda3/envs/paleoda/lib/python3.10/site-packages/xarray/core/dataset.py:175\u001b[0m, in \u001b[0;36m_get_virtual_variable\u001b[0;34m(variables, key, dim_sizes)\u001b[0m\n\u001b[1;32m    173\u001b[0m split_key \u001b[38;5;241m=\u001b[39m key\u001b[38;5;241m.\u001b[39msplit(\u001b[38;5;124m\"\u001b[39m\u001b[38;5;124m.\u001b[39m\u001b[38;5;124m\"\u001b[39m, \u001b[38;5;241m1\u001b[39m)\n\u001b[1;32m    174\u001b[0m \u001b[38;5;28;01mif\u001b[39;00m \u001b[38;5;28mlen\u001b[39m(split_key) \u001b[38;5;241m!=\u001b[39m \u001b[38;5;241m2\u001b[39m:\n\u001b[0;32m--> 175\u001b[0m     \u001b[38;5;28;01mraise\u001b[39;00m \u001b[38;5;167;01mKeyError\u001b[39;00m(key)\n\u001b[1;32m    177\u001b[0m ref_name, var_name \u001b[38;5;241m=\u001b[39m split_key\n\u001b[1;32m    178\u001b[0m ref_var \u001b[38;5;241m=\u001b[39m variables[ref_name]\n",
      "\u001b[0;31mKeyError\u001b[0m: 'slp'"
     ]
    }
   ],
   "source": [
    "loop_models(cfg,normal_paths)"
   ]
  },
  {
   "cell_type": "code",
   "execution_count": 6,
   "id": "43da9e4e-85a1-4b90-9ef9-690be6dc9922",
   "metadata": {},
   "outputs": [],
   "source": [
    "iso2k=xr.open_dataset('/home/mchoblet/paleoda/data/proxy_dbs/iso2k_db_1600_1800.nc')"
   ]
  },
  {
   "cell_type": "code",
   "execution_count": 16,
   "id": "a7918a06-0488-43fe-8a26-ddb5823384fd",
   "metadata": {},
   "outputs": [],
   "source": [
    "sites=iso2k['d18O'].where((iso2k['d18O'].lat>75) & (iso2k.lon>10)& (iso2k.lon<25),drop=True)"
   ]
  },
  {
   "cell_type": "code",
   "execution_count": 18,
   "id": "26903daf-8878-4e34-be65-d1833aedc3f0",
   "metadata": {},
   "outputs": [
    {
     "data": {
      "text/plain": [
       "[<matplotlib.lines.Line2D at 0x7fee6632bdc0>]"
      ]
     },
     "execution_count": 18,
     "metadata": {},
     "output_type": "execute_result"
    },
    {
     "data": {
      "image/png": "[encoded data removed]",
      "text/plain": [
       "<Figure size 432x288 with 1 Axes>"
      ]
     },
     "metadata": {
      "needs_background": "light"
     },
     "output_type": "display_data"
    }
   ],
   "source": [
    "sites[:,0].plot()"
   ]
  },
  {
   "cell_type": "code",
   "execution_count": 19,
   "id": "b139aa0e-7605-4d0c-96f9-36111e87e898",
   "metadata": {},
   "outputs": [
    {
     "data": {
      "text/plain": [
       "[<matplotlib.lines.Line2D at 0x7fee144dd4b0>]"
      ]
     },
     "execution_count": 19,
     "metadata": {},
     "output_type": "execute_result"
    },
    {
     "data": {
      "image/png": "[encoded data removed]",
      "text/plain": [
       "<Figure size 432x288 with 1 Axes>"
      ]
     },
     "metadata": {
      "needs_background": "light"
     },
     "output_type": "display_data"
    }
   ],
   "source": [
    "sites[:,1].plot()"
   ]
  },
  {
   "cell_type": "code",
   "execution_count": null,
   "id": "71430881-617d-49a5-8df4-ce0eb232dbc0",
   "metadata": {},
   "outputs": [],
   "source": []
  }
 ],
 "metadata": {
  "kernelspec": {
   "display_name": "paleoda_kernel",
   "language": "python",
   "name": "paleoda_kernel"
  },
  "language_info": {
   "codemirror_mode": {
    "name": "ipython",
    "version": 3
   },
   "file_extension": ".py",
   "mimetype": "text/x-python",
   "name": "python",
   "nbconvert_exporter": "python",
   "pygments_lexer": "ipython3",
   "version": "3.10.4"
  }
 },
 "nbformat": 4,
 "nbformat_minor": 5
}
