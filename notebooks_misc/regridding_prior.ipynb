{
 "cells": [
  {
   "cell_type": "markdown",
   "metadata": {},
   "source": [
    "**Aim:** Regridding prior model data to a common grid. Both downsampling to Echam and upsampling\n",
    "**Date:** 09.09.22\n",
    "**Resource:** xesmf package (apaarently it doesn't work on windows. There is some simple example in the docs https://xesmf.readthedocs.io/en/latest/notebooks/Dataset.html, or some explanations in Ryan Abernatheys great jupyter book: https://earth-env-data-science.github.io/lectures/working_with_gcm_data.html#part-1-model-validation-comparing-a-state-estimate-to-observations.\n",
    "https://xesmf.readthedocs.io/en/latest/notebooks/Reuse_regridder.html explains how to use the regridder to save time.\n",
    "**Method:** I start with bilinear interpolation, Ryans blogpost contains come ideas for what one should think about when using different methods. At first, bilinear interpolation is probably good enough. I also think of using upsampling to the highest resolution, because I think it could be useful for keeping more spatial degrees of freedom in the covariance patterns (I will have justify that of course).\n",
    "\n",
    "Update: 'Bilinear' method seems to work without introducing zeroes.\n",
    "\n",
    "\n",
    "**Data:** Cleaned model simulations for each variable. Also orographies!.\n",
    "\n",
    "**Computational effort** To be estimated. Probably not that much.\n",
    "\n",
    "----\n",
    "Collection of thoughts about the superprior:\n",
    "- which variables should be reproduced.\n",
    "- superprior gives us more ensemble members to choose from, so I could use 5*100 instead of 100 from one simulation. Note, that in the parsons 2021 paper they did use the whole 850-1849 range for the prior, this is something I can not do due to the block-approach.\n",
    "\n",
    "- The distribution of values will of course be subclustered into the different priors.\n",
    "- I need to compute the prior estimates for each superprior member, therefore it's better to use a regridded orography.\n",
    "\n",
    "- what are main changes for the code:\n",
    "    - load all models and take average states\n",
    "    - run psm through all models\n",
    "    - create a values/names/--- vector for each model\n",
    "    - create a prior-block for each model and then concatenate these in a smart way.\n",
    "    - saving the prior estimates is probablya bit differen (need to check that)\n",
    "    \n",
    "    - when using pseudoproxies:\n",
    "        - there is no way I can compute pseudoproxies from the superiprior itself, I just get a posterior.\n",
    "        - still, I can set the model source to external and select one model and do the "
   ]
  },
  {
   "cell_type": "code",
   "execution_count": 1,
   "metadata": {},
   "outputs": [],
   "source": [
    "import xesmf as xe\n",
    "import xarray as xr\n",
    "import os\n",
    "import tqdm\n",
    "\n",
    "import matplotlib.pyplot as plt\n",
    "import matplotlib as mpl\n",
    "import seaborn as sns\n",
    "\n",
    "import cartopy.crs as ccrs\n",
    "from scipy.stats import linregress\n",
    "from cartopy.util import add_cyclic_point\n",
    "import cartopy.feature as cfeature  \n",
    "\n",
    "import glob\n",
    "import tqdm"
   ]
  },
  {
   "cell_type": "code",
   "execution_count": 2,
   "metadata": {},
   "outputs": [
    {
     "data": {
      "text/html": [
       "<style>.container { width:100% !important; }</style>"
      ],
      "text/plain": [
       "<IPython.core.display.HTML object>"
      ]
     },
     "metadata": {},
     "output_type": "display_data"
    }
   ],
   "source": [
    "from IPython.display import display, HTML\n",
    "display(HTML(\"<style>.container { width:100% !important; }</style>\"))\n",
    "\n",
    "%load_ext autoreload\n",
    "%autoreload 2"
   ]
  },
  {
   "cell_type": "code",
   "execution_count": 46,
   "metadata": {},
   "outputs": [],
   "source": [
    "ccsm='/home/ldap-server/draco/cleaned_data/final/CCSM_d18O_851_1850.nc'\n",
    "cesm='/home/ldap-server/draco/cleaned_data/final/CESM_d18O_850_1850.nc'\n",
    "echam='/home/ldap-server/draco/cleaned_data/final/ECHAM5_d18O_850_1849.nc'\n",
    "giss='/home/ldap-server/draco/cleaned_data/final/GISS_d18O_850_1849.nc'\n",
    "ihad='/home/ldap-server/draco/cleaned_data/final/iHADCM3_d18O_801_1952.nc'"
   ]
  },
  {
   "cell_type": "code",
   "execution_count": 6,
   "metadata": {},
   "outputs": [
    {
     "name": "stdout",
     "output_type": "stream",
     "text": [
      "ccsm: (12000, 94, 192)\n",
      "cesm: (12000, 96, 144)\n",
      "echam: (12000, 48, 96)\n",
      "giss: (12000, 90, 144)\n",
      "ihad: (13778, 73, 96)\n"
     ]
    }
   ],
   "source": [
    "print('ccsm:',xr.open_dataset(ccsm)['d18O'].shape)\n",
    "print('cesm:',xr.open_dataset(cesm)['d18O'].shape)\n",
    "print('echam:',xr.open_dataset(echam)['d18O'].shape)\n",
    "print('giss:',xr.open_dataset(giss)['d18O'].shape)\n",
    "print('ihad:',xr.open_dataset(ihad)['d18O'].shape)"
   ]
  },
  {
   "cell_type": "code",
   "execution_count": 12,
   "metadata": {},
   "outputs": [],
   "source": [
    "paths={\n",
    "'cesm':{'d18O':'/home/ldap-server/draco/cleaned_data/final/CESM_d18O_850_1850.nc',\n",
    "'evap':'/home/ldap-server/draco/cleaned_data/final/CESM_evap_850_1850.nc',\n",
    "'prec':'/home/ldap-server/draco/cleaned_data/final/CESM_prec_850_1850.nc',\n",
    "'tsurf':'/home/ldap-server/draco/cleaned_data/final/CESM_tsurf_850_1850.nc',\n",
    "'oro':'/home/ldap-server/draco/orographies/final/icesm_oro.nc'\n",
    "       },\n",
    "'ccsm':{'d18O':'/home/ldap-server/draco/cleaned_data/final/CCSM_d18O_851_1850.nc',\n",
    "'evap':'/home/ldap-server/draco/cleaned_data/final/CCSM_evap_851_1850.nc',\n",
    "'prec':'/home/ldap-server/draco/cleaned_data/final/CCSM_prec_851_1850.nc',\n",
    "'tsurf':'/home/ldap-server/draco/cleaned_data/final/CCSM_tsurf_851_1850.nc',\n",
    "'oro':'/home/ldap-server/draco/orographies/final/ccsm_oro.nc'\n",
    "       },    \n",
    "'echam':{'d18O':'/home/ldap-server/draco/cleaned_data/final/ECHAM5_d18O_850_1849.nc',\n",
    "'evap':'/home/ldap-server/draco/cleaned_data/final/ECHAM5_evap_850_1849.nc',\n",
    "'prec':'/home/ldap-server/draco/cleaned_data/final/ECHAM5_prec_850_1849.nc',\n",
    "'tsurf':'/home/ldap-server/draco/cleaned_data/final/ECHAM5_tsurf_850_1849.nc',\n",
    "'oro':'/home/ldap-server/draco/orographies/final/echam_oro.nc'\n",
    "       },\n",
    "'giss':{'d18O':'/home/ldap-server/draco/cleaned_data/final/GISS_d18O_850_1849.nc',\n",
    "'evap':'/home/ldap-server/draco/cleaned_data/final/GISS_evap_850_1849.nc',\n",
    "'prec':'/home/ldap-server/draco/cleaned_data/final/GISS_prec_850_1849.nc',\n",
    "'tsurf':'/home/ldap-server/draco/cleaned_data/final/GISS_tsurf_850_1849.nc',\n",
    "'slp': '/home/ldap-server/draco/cleaned_data/final/GISS_slp_850_1849.nc',\n",
    "'oro':'/home/ldap-server/draco/orographies/final/giss_oro.nc'\n",
    "       },\n",
    "'ihad':{'d18O':'/home/ldap-server/draco/cleaned_data/final/iHADCM3_d18O_801_1952.nc',\n",
    "'evap':'/home/ldap-server/draco/cleaned_data/final/iHADCM3_evap_801_1952.nc',\n",
    "'prec':'/home/ldap-server/draco/cleaned_data/final/iHADCM3_prec_801_1952.nc',\n",
    "'tsurf':'/home/ldap-server/draco/cleaned_data/final/iHADCM3_tsurf_801_1952.nc',\n",
    "'slp':'/home/ldap-server/draco/cleaned_data/final/iHADCM3_slp_801_1952.nc',\n",
    "'oro':'/home/ldap-server/draco/orographies/final/hadcm3_oro.nc'\n",
    "       }\n",
    "}   \n",
    "    "
   ]
  },
  {
   "cell_type": "code",
   "execution_count": 3,
   "metadata": {
    "collapsed": true,
    "jupyter": {
     "outputs_hidden": true
    }
   },
   "outputs": [
    {
     "name": "stdout",
     "output_type": "stream",
     "text": [
      "d18O\n",
      "<xarray.Dataset>\n",
      "Dimensions:      (time: 12000, lon: 192, lat: 94)\n",
      "Coordinates:\n",
      "  * time         (time) object 0851-01-31 00:00:00 ... 1850-12-31 00:00:00\n",
      "  * lon          (lon) float64 0.0 1.875 3.75 5.625 ... 352.5 354.4 356.2 358.1\n",
      "  * lat          (lat) float64 88.54 86.65 84.75 82.85 ... -84.75 -86.65 -88.54\n",
      "Data variables:\n",
      "    d18O         (time, lat, lon) float32 ...\n",
      "    spatial_ref  int64 ...\n",
      "Attributes:\n",
      "    CDI:          Climate Data Interface version ?? (http://mpimet.mpg.de/cdi)\n",
      "    Conventions:  COARDS\n",
      "    history:      Mon Nov 15 18:42:31 2021: cdo setname,dO18 CCSM_d18O_851_18...\n",
      "    calendar:     standard\n",
      "    comments:     file created by grads using lats4d available from http://da...\n",
      "    model:        geos/das\n",
      "    center:       gsfc\n",
      "    CDO:          Climate Data Operators version 1.9.3 (http://mpimet.mpg.de/...\n",
      "\n",
      "evap\n",
      "<xarray.Dataset>\n",
      "Dimensions:  (time: 12000, lon: 192, lat: 94)\n",
      "Coordinates:\n",
      "  * time     (time) object 0851-01-31 00:00:00 ... 1850-12-31 00:00:00\n",
      "  * lon      (lon) float64 0.0 1.875 3.75 5.625 7.5 ... 352.5 354.4 356.2 358.1\n",
      "  * lat      (lat) float64 88.54 86.65 84.75 82.85 ... -84.75 -86.65 -88.54\n",
      "Data variables:\n",
      "    evap     (time, lat, lon) float64 ...\n",
      "Attributes:\n",
      "    CDI:          Climate Data Interface version ?? (http://mpimet.mpg.de/cdi)\n",
      "    Conventions:  COARDS\n",
      "    history:      Tue Dec 29 20:58:41 2020: cdo selyear,850/1850 flxmon-lhtfl...\n",
      "    calendar:     standard\n",
      "    comments:     file created by grads using lats4d available from http://da...\n",
      "    model:        geos/das\n",
      "    center:       gsfc\n",
      "    CDO:          Climate Data Operators version 1.9.3 (http://mpimet.mpg.de/...\n",
      "\n",
      "prec\n",
      "<xarray.Dataset>\n",
      "Dimensions:  (time: 12000, lon: 192, lat: 94)\n",
      "Coordinates:\n",
      "  * time     (time) object 0851-01-31 00:00:00 ... 1850-12-31 00:00:00\n",
      "  * lon      (lon) float64 0.0 1.875 3.75 5.625 7.5 ... 352.5 354.4 356.2 358.1\n",
      "  * lat      (lat) float64 88.54 86.65 84.75 82.85 ... -84.75 -86.65 -88.54\n",
      "Data variables:\n",
      "    prec     (time, lat, lon) float64 ...\n",
      "Attributes:\n",
      "    CDI:          Climate Data Interface version ?? (http://mpimet.mpg.de/cdi)\n",
      "    Conventions:  COARDS\n",
      "    history:      Tue Dec 29 20:59:02 2020: cdo selyear,850/1850 flxmon-prate...\n",
      "    calendar:     standard\n",
      "    comments:     file created by grads using lats4d available from http://da...\n",
      "    model:        geos/das\n",
      "    center:       gsfc\n",
      "    CDO:          Climate Data Operators version 1.9.3 (http://mpimet.mpg.de/...\n",
      "\n",
      "tsurf\n",
      "<xarray.Dataset>\n",
      "Dimensions:  (time: 12000, lon: 192, lat: 94)\n",
      "Coordinates:\n",
      "  * time     (time) object 0851-01-31 00:00:00 ... 1850-12-31 00:00:00\n",
      "  * lon      (lon) float64 0.0 1.875 3.75 5.625 7.5 ... 352.5 354.4 356.2 358.1\n",
      "  * lat      (lat) float64 88.54 86.65 84.75 82.85 ... -84.75 -86.65 -88.54\n",
      "Data variables:\n",
      "    tsurf    (time, lat, lon) float32 ...\n",
      "Attributes:\n",
      "    CDI:          Climate Data Interface version 1.9.9rc1 (https://mpimet.mpg...\n",
      "    Conventions:  COARDS\n",
      "    history:      Mon Nov 15 18:16:38 2021: cdo selyear,851/1850, flxmon_tmps...\n",
      "    calendar:     standard\n",
      "    comments:     file created by grads using lats4d available from http://da...\n",
      "    model:        geos/das\n",
      "    center:       gsfc\n",
      "    CDO:          Climate Data Operators version 1.9.9rc1 (https://mpimet.mpg...\n",
      "\n",
      "oro\n",
      "<xarray.Dataset>\n",
      "Dimensions:  (lon: 192, lat: 94)\n",
      "Coordinates:\n",
      "    time     datetime64[ns] ...\n",
      "  * lon      (lon) float32 0.0 1.875 3.75 5.625 7.5 ... 352.5 354.4 356.2 358.1\n",
      "  * lat      (lat) float32 88.54 86.65 84.75 82.85 ... -84.75 -86.65 -88.54\n",
      "Data variables:\n",
      "    oro      (lat, lon) float32 ...\n",
      "\n"
     ]
    }
   ],
   "source": [
    "for i,p in paths['ccsm'].items():\n",
    "    print(i)\n",
    "    print(xr.open_dataset(p))\n",
    "    print('')"
   ]
  },
  {
   "cell_type": "code",
   "execution_count": null,
   "metadata": {},
   "outputs": [],
   "source": [
    "### METHOD\n",
    "#create regridder once\n",
    "#run a loop over all echam files and the orofile\n",
    "#regrid\n",
    "#save + put result into a dictionary such that it can be inspected\n",
    "\n",
    "#do this for each model except ccsm.\n",
    "\n",
    "#repeat the same thing the other way round for ECHAM\n"
   ]
  },
  {
   "cell_type": "code",
   "execution_count": 10,
   "metadata": {},
   "outputs": [
    {
     "data": {
      "text/plain": [
       "{'long_name': 'd18O in precipitation',\n",
       " 'comments': 'Unknown1 variable comment',\n",
       " 'grid_name': 'grid-1',\n",
       " 'level_description': 'Earth surface',\n",
       " 'time_statistic': 'instantaneous',\n",
       " 'units': 'per mil',\n",
       " 'grid_mapping': 'spatial_ref'}"
      ]
     },
     "execution_count": 10,
     "metadata": {},
     "output_type": "execute_result"
    }
   ],
   "source": [
    "xr.open_dataset('/home/ldap-server/draco/cleaned_data/final/CCSM_d18O_851_1850.nc')['d18O'].attrs"
   ]
  },
  {
   "cell_type": "code",
   "execution_count": 13,
   "metadata": {},
   "outputs": [
    {
     "name": "stderr",
     "output_type": "stream",
     "text": [
      " 20%|██        | 1/5 [01:12<04:48, 72.15s/it]"
     ]
    },
    {
     "name": "stdout",
     "output_type": "stream",
     "text": [
      "Check model:  cesm oro\n"
     ]
    },
    {
     "name": "stderr",
     "output_type": "stream",
     "text": [
      "100%|██████████| 5/5 [03:54<00:00, 46.86s/it]\n"
     ]
    }
   ],
   "source": [
    "#upsampling!\n",
    "\n",
    "ccsm=xr.open_dataset('/home/ldap-server/draco/cleaned_data/final/CCSM_d18O_851_1850.nc')\n",
    "\n",
    "new_folder='/home/ldap-server/draco/cleaned_data/final/upsampled/'\n",
    "new_folder_oro='/home/ldap-server/draco/orographies/final/upsampled/'\n",
    "\n",
    "#try except only because I had to rerun the things several times and it doesn't let me overwrite the \n",
    "#old files somehow\n",
    "\n",
    "\n",
    "for model, p in tqdm.tqdm(paths.items()):\n",
    "    if model!='ccsm':\n",
    "        current_mod=xr.open_dataset(p['d18O'])\n",
    "        regridder=xe.Regridder(current_mod,ccsm,'bilinear',periodic=True) #ds_in, ds_out        \n",
    "        for var,path in p.items():\n",
    "            file=xr.open_dataset(path)\n",
    "            try:\n",
    "                regrided=regridder(file)\n",
    "                #regrided=regrided.to_dataset(name=var)\n",
    "\n",
    "                if var!='oro':\n",
    "                    #useful to carry the original units\n",
    "                    regrided[var].attrs=file[var].attrs\n",
    "                    tail=os.path.split(path)[1]\n",
    "                    new_path=new_folder+tail\n",
    "                    regrided.to_netcdf(new_path)\n",
    "                else:\n",
    "                    tail=os.path.split(path)[1]\n",
    "                    new_path=new_folder_oro+tail\n",
    "                    regrided.to_netcdf(new_path)\n",
    "            except:\n",
    "                print('Check model: ',model, var)\n",
    "\n",
    "#copy ccsm files into new folder directly\n"
   ]
  },
  {
   "cell_type": "code",
   "execution_count": 22,
   "metadata": {
    "collapsed": true,
    "jupyter": {
     "outputs_hidden": true
    }
   },
   "outputs": [
    {
     "name": "stdout",
     "output_type": "stream",
     "text": [
      "/home/ldap-server/draco/cleaned_data/final/upsampled/iHADCM3_slp_801_1952.nc\n",
      "Frozen({'time': 13778, 'lat': 94, 'lon': 192})\n",
      "\n",
      "/home/ldap-server/draco/cleaned_data/final/upsampled/iHADCM3_d18O_801_1952.nc\n",
      "Frozen({'time': 13778, 'lat': 94, 'lon': 192})\n",
      "\n",
      "/home/ldap-server/draco/cleaned_data/final/upsampled/CESM_prec_850_1850.nc\n",
      "Frozen({'time': 12000, 'lat': 94, 'lon': 192})\n",
      "\n",
      "/home/ldap-server/draco/cleaned_data/final/upsampled/ECHAM5_d18O_850_1849.nc\n",
      "Frozen({'time': 12000, 'lat': 94, 'lon': 192})\n",
      "\n",
      "/home/ldap-server/draco/cleaned_data/final/upsampled/CESM_evap_850_1850.nc\n",
      "Frozen({'time': 12000, 'lat': 94, 'lon': 192})\n",
      "\n",
      "/home/ldap-server/draco/cleaned_data/final/upsampled/CESM_d18O_850_1850.nc\n",
      "Frozen({'time': 12000, 'lat': 94, 'lon': 192})\n",
      "\n",
      "/home/ldap-server/draco/cleaned_data/final/upsampled/GISS_slp_850_1849.nc\n",
      "Frozen({'time': 12000, 'lat': 94, 'lon': 192})\n",
      "\n",
      "/home/ldap-server/draco/cleaned_data/final/upsampled/CCSM_d18O_851_1850.nc\n",
      "Frozen({'time': 12000, 'lon': 192, 'lat': 94})\n",
      "\n",
      "/home/ldap-server/draco/cleaned_data/final/upsampled/CCSM_tsurf_851_1850.nc\n",
      "Frozen({'time': 12000, 'lon': 192, 'lat': 94})\n",
      "\n",
      "/home/ldap-server/draco/cleaned_data/final/upsampled/iHADCM3_tsurf_801_1952.nc\n",
      "Frozen({'time': 13778, 'lat': 94, 'lon': 192})\n",
      "\n",
      "/home/ldap-server/draco/cleaned_data/final/upsampled/GISS_tsurf_850_1849.nc\n",
      "Frozen({'time': 12000, 'lat': 94, 'lon': 192})\n",
      "\n",
      "/home/ldap-server/draco/cleaned_data/final/upsampled/GISS_d18O_850_1849.nc\n",
      "Frozen({'time': 12000, 'lat': 94, 'lon': 192})\n",
      "\n",
      "/home/ldap-server/draco/cleaned_data/final/upsampled/ECHAM5_prec_850_1849.nc\n",
      "Frozen({'time': 12000, 'lat': 94, 'lon': 192})\n",
      "\n",
      "/home/ldap-server/draco/cleaned_data/final/upsampled/ECHAM5_evap_850_1849.nc\n",
      "Frozen({'time': 12000, 'lat': 94, 'lon': 192})\n",
      "\n",
      "/home/ldap-server/draco/cleaned_data/final/upsampled/CCSM_evap_851_1850.nc\n",
      "Frozen({'time': 12000, 'lon': 192, 'lat': 94})\n",
      "\n",
      "/home/ldap-server/draco/cleaned_data/final/upsampled/CESM_tsurf_850_1850.nc\n",
      "Frozen({'time': 12000, 'lat': 94, 'lon': 192})\n",
      "\n",
      "/home/ldap-server/draco/cleaned_data/final/upsampled/GISS_prec_850_1849.nc\n",
      "Frozen({'time': 12000, 'lat': 94, 'lon': 192})\n",
      "\n",
      "/home/ldap-server/draco/cleaned_data/final/upsampled/iHADCM3_prec_801_1952.nc\n",
      "Frozen({'time': 13778, 'lat': 94, 'lon': 192})\n",
      "\n",
      "/home/ldap-server/draco/cleaned_data/final/upsampled/CCSM_prec_851_1850.nc\n",
      "Frozen({'time': 12000, 'lon': 192, 'lat': 94})\n",
      "\n",
      "/home/ldap-server/draco/cleaned_data/final/upsampled/ECHAM5_tsurf_850_1849.nc\n",
      "Frozen({'time': 12000, 'lat': 94, 'lon': 192})\n",
      "\n",
      "/home/ldap-server/draco/cleaned_data/final/upsampled/iHADCM3_evap_801_1952.nc\n",
      "Frozen({'time': 13778, 'surface': 1, 'lat': 94, 'lon': 192})\n",
      "\n",
      "/home/ldap-server/draco/cleaned_data/final/upsampled/GISS_evap_850_1849.nc\n",
      "Frozen({'time': 12000, 'lat': 94, 'lon': 192})\n",
      "\n"
     ]
    }
   ],
   "source": [
    "\n",
    "#print dimensions\n",
    "for p in glob.glob('/home/ldap-server/draco/cleaned_data/final/upsampled/*'):\n",
    "    print(p)\n",
    "    print(xr.open_dataset(p).dims)\n",
    "    print('')"
   ]
  },
  {
   "cell_type": "code",
   "execution_count": 19,
   "metadata": {},
   "outputs": [
    {
     "name": "stdout",
     "output_type": "stream",
     "text": [
      "/home/ldap-server/draco/orographies/final/upsampled/giss_oro.nc\n",
      "Frozen({'lat': 94, 'lon': 192})\n",
      "\n",
      "/home/ldap-server/draco/orographies/final/upsampled/ccsm_oro.nc\n",
      "Frozen({'lon': 192, 'lat': 94})\n",
      "\n",
      "/home/ldap-server/draco/orographies/final/upsampled/echam_oro.nc\n",
      "Frozen({'lat': 94, 'lon': 192})\n",
      "\n",
      "/home/ldap-server/draco/orographies/final/upsampled/icesm_oro.nc\n",
      "Frozen({'lat': 48, 'lon': 96})\n",
      "\n",
      "/home/ldap-server/draco/orographies/final/upsampled/hadcm3_oro.nc\n",
      "Frozen({'lat': 94, 'lon': 192})\n",
      "\n"
     ]
    }
   ],
   "source": [
    "#print dimensions\n",
    "#print(glob.glob(\"/home/ldap-server/draco/orographies/final/upsampled/*\"))\n",
    "for p in glob.glob(\"/home/ldap-server/draco/orographies/final/upsampled/*\"):\n",
    "    print(p)\n",
    "    print(xr.open_dataset(p).dims)\n",
    "    print('')    "
   ]
  },
  {
   "cell_type": "code",
   "execution_count": 14,
   "metadata": {},
   "outputs": [
    {
     "name": "stderr",
     "output_type": "stream",
     "text": [
      "100%|██████████| 5/5 [00:59<00:00, 11.92s/it]\n"
     ]
    }
   ],
   "source": [
    "#downsampling!\n",
    "echam=xr.open_dataset('/home/ldap-server/draco/cleaned_data/final/ECHAM5_d18O_850_1849.nc')\n",
    "\n",
    "new_folder='/home/ldap-server/draco/cleaned_data/final/downsampled/'\n",
    "new_folder_oro='/home/ldap-server/draco/orographies/final/downsampled/'\n",
    "\n",
    "for model, p in tqdm.tqdm(paths.items()):\n",
    "    if model!='echam':\n",
    "        current_mod=xr.open_dataset(p['d18O'])\n",
    "        regridder=xe.Regridder(current_mod,echam,'bilinear',periodic=True) #ds_in, ds_out        \n",
    "        for var,path in p.items():\n",
    "            file=xr.open_dataset(path)\n",
    "            regrided=regridder(file)\n",
    "            #regrided=regrided.to_dataset(name=var)\n",
    "            if var!='oro':\n",
    "                regrided[var].attrs=file[var].attrs\n",
    "                tail=os.path.split(path)[1]\n",
    "                new_path=new_folder+tail\n",
    "                regrided.to_netcdf(new_path)\n",
    "            else:\n",
    "                tail=os.path.split(path)[1]\n",
    "                new_path=new_folder_oro+tail\n",
    "                regrided.to_netcdf(new_path)\n",
    "#copy echam files into new folder directly"
   ]
  },
  {
   "cell_type": "code",
   "execution_count": 24,
   "metadata": {
    "collapsed": true,
    "jupyter": {
     "outputs_hidden": true
    }
   },
   "outputs": [
    {
     "name": "stdout",
     "output_type": "stream",
     "text": [
      "/home/ldap-server/draco/cleaned_data/final/downsampled/iHADCM3_slp_801_1952.nc\n",
      "Frozen({'time': 13778, 'lat': 48, 'lon': 96})\n",
      "\n",
      "/home/ldap-server/draco/cleaned_data/final/downsampled/iHADCM3_d18O_801_1952.nc\n",
      "Frozen({'time': 13778, 'lat': 48, 'lon': 96})\n",
      "\n",
      "/home/ldap-server/draco/cleaned_data/final/downsampled/CESM_prec_850_1850.nc\n",
      "Frozen({'time': 12000, 'lat': 48, 'lon': 96})\n",
      "\n",
      "/home/ldap-server/draco/cleaned_data/final/downsampled/ECHAM5_d18O_850_1849.nc\n",
      "Frozen({'time': 12000, 'lon': 96, 'lat': 48})\n",
      "\n",
      "/home/ldap-server/draco/cleaned_data/final/downsampled/CESM_evap_850_1850.nc\n",
      "Frozen({'time': 12000, 'lat': 48, 'lon': 96})\n",
      "\n",
      "/home/ldap-server/draco/cleaned_data/final/downsampled/CESM_d18O_850_1850.nc\n",
      "Frozen({'time': 12000, 'lat': 48, 'lon': 96})\n",
      "\n",
      "/home/ldap-server/draco/cleaned_data/final/downsampled/GISS_slp_850_1849.nc\n",
      "Frozen({'time': 12000, 'lat': 48, 'lon': 96})\n",
      "\n",
      "/home/ldap-server/draco/cleaned_data/final/downsampled/CCSM_d18O_851_1850.nc\n",
      "Frozen({'time': 12000, 'lat': 48, 'lon': 96})\n",
      "\n",
      "/home/ldap-server/draco/cleaned_data/final/downsampled/CCSM_tsurf_851_1850.nc\n",
      "Frozen({'time': 12000, 'lat': 48, 'lon': 96})\n",
      "\n",
      "/home/ldap-server/draco/cleaned_data/final/downsampled/iHADCM3_tsurf_801_1952.nc\n",
      "Frozen({'time': 13778, 'lat': 48, 'lon': 96})\n",
      "\n",
      "/home/ldap-server/draco/cleaned_data/final/downsampled/GISS_tsurf_850_1849.nc\n",
      "Frozen({'time': 12000, 'lat': 48, 'lon': 96})\n",
      "\n",
      "/home/ldap-server/draco/cleaned_data/final/downsampled/GISS_d18O_850_1849.nc\n",
      "Frozen({'time': 12000, 'lat': 48, 'lon': 96})\n",
      "\n",
      "/home/ldap-server/draco/cleaned_data/final/downsampled/ECHAM5_prec_850_1849.nc\n",
      "Frozen({'time': 12000, 'lon': 96, 'lat': 48})\n",
      "\n",
      "/home/ldap-server/draco/cleaned_data/final/downsampled/ECHAM5_evap_850_1849.nc\n",
      "Frozen({'time': 12000, 'lon': 96, 'lat': 48})\n",
      "\n",
      "/home/ldap-server/draco/cleaned_data/final/downsampled/CCSM_evap_851_1850.nc\n",
      "Frozen({'time': 12000, 'lat': 48, 'lon': 96})\n",
      "\n",
      "/home/ldap-server/draco/cleaned_data/final/downsampled/CESM_tsurf_850_1850.nc\n",
      "Frozen({'time': 12000, 'lat': 48, 'lon': 96})\n",
      "\n",
      "/home/ldap-server/draco/cleaned_data/final/downsampled/GISS_prec_850_1849.nc\n",
      "Frozen({'time': 12000, 'lat': 48, 'lon': 96})\n",
      "\n",
      "/home/ldap-server/draco/cleaned_data/final/downsampled/iHADCM3_prec_801_1952.nc\n",
      "Frozen({'time': 13778, 'lat': 48, 'lon': 96})\n",
      "\n",
      "/home/ldap-server/draco/cleaned_data/final/downsampled/CCSM_prec_851_1850.nc\n",
      "Frozen({'time': 12000, 'lat': 48, 'lon': 96})\n",
      "\n",
      "/home/ldap-server/draco/cleaned_data/final/downsampled/ECHAM5_tsurf_850_1849.nc\n",
      "Frozen({'time': 12000, 'lon': 96, 'lat': 48})\n",
      "\n",
      "/home/ldap-server/draco/cleaned_data/final/downsampled/iHADCM3_evap_801_1952.nc\n",
      "Frozen({'time': 13778, 'surface': 1, 'lat': 48, 'lon': 96})\n",
      "\n",
      "/home/ldap-server/draco/cleaned_data/final/downsampled/GISS_evap_850_1849.nc\n",
      "Frozen({'time': 12000, 'lat': 48, 'lon': 96})\n",
      "\n"
     ]
    }
   ],
   "source": [
    "#print dimensions\n",
    "for p in glob.glob('/home/ldap-server/draco/cleaned_data/final/downsampled/*'):\n",
    "    print(p)\n",
    "    print(xr.open_dataset(p).dims)\n",
    "    print('')"
   ]
  },
  {
   "cell_type": "code",
   "execution_count": 21,
   "metadata": {},
   "outputs": [
    {
     "name": "stdout",
     "output_type": "stream",
     "text": [
      "/home/ldap-server/draco/orographies/final/downsampled/giss_oro.nc\n",
      "Frozen({'lat': 48, 'lon': 96})\n",
      "\n",
      "/home/ldap-server/draco/orographies/final/downsampled/ccsm_oro.nc\n",
      "Frozen({'lat': 48, 'lon': 96})\n",
      "\n",
      "/home/ldap-server/draco/orographies/final/downsampled/echam_oro.nc\n",
      "Frozen({'lat': 48, 'lon': 96})\n",
      "\n",
      "/home/ldap-server/draco/orographies/final/downsampled/icesm_oro.nc\n",
      "Frozen({'lat': 48, 'lon': 96})\n",
      "\n",
      "/home/ldap-server/draco/orographies/final/downsampled/hadcm3_oro.nc\n",
      "Frozen({'lat': 48, 'lon': 96})\n",
      "\n"
     ]
    }
   ],
   "source": [
    "#print dimensions\n",
    "\n",
    "#print(glob.glob(\"/home/ldap-server/draco/orographies/final/upsampled/*\"))\n",
    "for p in glob.glob(\"/home/ldap-server/draco/orographies/final/downsampled/*\"):\n",
    "    print(p)\n",
    "    print(xr.open_dataset(p).dims)\n",
    "    print('')    "
   ]
  }
 ],
 "metadata": {
  "kernelspec": {
   "display_name": "paleoda_kernel",
   "language": "python",
   "name": "paleoda_kernel"
  },
  "language_info": {
   "codemirror_mode": {
    "name": "ipython",
    "version": 3
   },
   "file_extension": ".py",
   "mimetype": "text/x-python",
   "name": "python",
   "nbconvert_exporter": "python",
   "pygments_lexer": "ipython3",
   "version": "3.10.4"
  }
 },
 "nbformat": 4,
 "nbformat_minor": 4
}
