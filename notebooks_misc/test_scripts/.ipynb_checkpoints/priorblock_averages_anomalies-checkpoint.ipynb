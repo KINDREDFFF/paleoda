{
 "cells": [
  {
   "cell_type": "markdown",
   "metadata": {},
   "source": [
    "This notebook contains code_snippets for:\n",
    "\n",
    "- creating the priorblock depending on the maximum time resolution\n",
    "- Computing means and anomalies over these blocks and its x-year sublocks\n",
    "\n",
    "They are tested here before being used as functions in the final Dataassimilation wrapper\n",
    "\n",
    "Efficiency:\n",
    "\n",
    "  - The priorblock is created in each MonteCarlo repetition instead of once in the beginning, because accesstimes would be slow anyways when havin a really large priorblock containing all possible ensemble members\n",
    "  - Mean and Annomaly calculation: \n",
    "      - For assimilating the x-year mean in the multitimescale approach, we need to compute averages and annomalies over very large arrays (gridpoints*ensemblemembers) over and over again    \n",
    "      - computing the annomalies is more costly than the simple average\n",
    "      - Along the blocksize-axis (e.g. length 20) we need to calculate the 2,5,10... year averages, so we need to split the array/go through the array section\n",
    "        \n",
    "      - **np.mean is not parallelized** which would make sense for arrays of length ~10⁶ that we have. The calculations on the long axis are independent from each other. I therefore implemented the mean and anomaly calculation with a naive for loop and numba @njit(parallel=True\n",
    "        \n",
    "      - On my current machine this gives an improvement of 4-10 with respect to the numpy solution, on the new machine numpy on one core is much more efficient, such that the time-advantage is only 1.5 - 2. Curiously, the parallelized code is a bit faster on the old machine (5-10ms).\n",
    "      - The new machine is improves copying large arrays by a factor of ~ 5\n",
    "\n",
    "Test-Data:\n",
    "* iCESM has the highest spatial resolution (192*94 = 18048 gridpoints). So we test all algorithms on that data. Probably improvements in annomaly calculation are better for this model than for others\n",
    "\n",
    "**Further improvements in the future:**\n",
    "- Initially I though of using Dask for this task, but it didn't seem to speed up the calculation\n",
    "- I asked for advice on Stackoverflow: https://stackoverflow.com/questions/73214684/optimize-computation-of-anomaly-from-mean-along-one-axis-for-large-arrays\n",
    "And not so surprisingly the answer I got suggested using tensorflow on a GPU if I can\n",
    "- I could probably transition parts of my DA code (the actual Kalman Filter parts) to tensorflow, but one would need to check if all operations actually profit of this.\n",
    "- As all I do in the end is only linear Algebra, I think it should be possible to try this out, but it would require some testing and learning how the loading on the GPU overhead can be minimized\n",
    "\n",
    "\n"
   ]
  },
  {
   "cell_type": "code",
   "execution_count": 3,
   "metadata": {},
   "outputs": [
    {
     "data": {
      "text/html": [
       "<style>.container { width:100% !important; }</style>"
      ],
      "text/plain": [
       "<IPython.core.display.HTML object>"
      ]
     },
     "metadata": {},
     "output_type": "display_data"
    },
    {
     "name": "stdout",
     "output_type": "stream",
     "text": [
      "The autoreload extension is already loaded. To reload it, use:\n",
      "  %reload_ext autoreload\n"
     ]
    }
   ],
   "source": [
    "from IPython.display import display, HTML\n",
    "display(HTML(\"<style>.container { width:100% !important; }</style>\"))\n",
    "\n",
    "%load_ext autoreload\n",
    "%autoreload 2\n",
    "\n",
    "#ENABLE SMOOTH SCROLLING"
   ]
  },
  {
   "cell_type": "code",
   "execution_count": 4,
   "metadata": {},
   "outputs": [
    {
     "data": {
      "application/javascript": [
       "Jupyter.keyboard_manager.command_shortcuts.remove_shortcut('up');\n",
       "Jupyter.keyboard_manager.command_shortcuts.remove_shortcut('down');\n"
      ],
      "text/plain": [
       "<IPython.core.display.Javascript object>"
      ]
     },
     "metadata": {},
     "output_type": "display_data"
    }
   ],
   "source": [
    "%%javascript\n",
    "Jupyter.keyboard_manager.command_shortcuts.remove_shortcut('up');\n",
    "Jupyter.keyboard_manager.command_shortcuts.remove_shortcut('down');"
   ]
  },
  {
   "cell_type": "code",
   "execution_count": 5,
   "metadata": {},
   "outputs": [
    {
     "name": "stdout",
     "output_type": "stream",
     "text": [
      "/home/ldap-server/draco/notebooks/paleoda/paleoda\n",
      "/home/ldap-server/draco/notebooks/paleoda/paleoda/notebooks/test_scripts\n"
     ]
    }
   ],
   "source": [
    "%cd /home/ldap-server/draco/notebooks/paleoda/paleoda\n",
    "\n",
    "import xarray as xr\n",
    "import numpy as np\n",
    "\n",
    "import dataloader\n",
    "from numba import jit,njit,prange\n",
    "\n",
    "%cd /home/ldap-server/draco/notebooks/paleoda/paleoda/notebooks/test_scripts"
   ]
  },
  {
   "cell_type": "code",
   "execution_count": 6,
   "metadata": {},
   "outputs": [],
   "source": [
    "#Test data is from ccsm\n",
    "ccsm=xr.open_dataset('/home/ldap-server/draco/cleaned_data/final/CCSM_d18O_851_1850.nc')\n",
    "ccsm_m=dataloader.annual_mean(ccsm['d18O'])\n",
    "#load d18O and stack it\n",
    "d18O_=ccsm_m.stack(z=('lat','lon')).values"
   ]
  },
  {
   "cell_type": "markdown",
   "metadata": {},
   "source": [
    "# Block creation\n",
    "\n",
    "We ad a new axis with the blocksize as size, such that the stacked vectors with size (Ne,Nx) become (N_bs,Ne,Nx).\n",
    "\n",
    "For facilitating things we go towards using pure numpy arrays instead of xarrays."
   ]
  },
  {
   "cell_type": "code",
   "execution_count": 7,
   "metadata": {},
   "outputs": [],
   "source": [
    "bs=20\n",
    "reps=5\n",
    "nens=100\n",
    "MC_idx=dataloader.random_indices(nens,ccsm_m.time.shape[0]-bs-1,reps,seed=None)\n"
   ]
  },
  {
   "cell_type": "code",
   "execution_count": 8,
   "metadata": {},
   "outputs": [
    {
     "name": "stdout",
     "output_type": "stream",
     "text": [
      "Old shape (1000, 18048)\n",
      "New shape (100, 18048)\n"
     ]
    }
   ],
   "source": [
    "#reduce d18O to the years for this MonteCarlo-Index \n",
    "rep=0\n",
    "d18O_red=d18O_[MC_idx[rep],:]\n",
    "print('Old shape',d18O_.shape)\n",
    "print('New shape',d18O_red.shape)\n"
   ]
  },
  {
   "cell_type": "code",
   "execution_count": 141,
   "metadata": {},
   "outputs": [
    {
     "name": "stdout",
     "output_type": "stream",
     "text": [
      "CPU times: user 42.4 ms, sys: 25 ms, total: 67.4 ms\n",
      "Wall time: 66.9 ms\n"
     ]
    }
   ],
   "source": [
    "%%time\n",
    "\n",
    "\n",
    "prior_block=np.empty((bs,nens,d18O_red.shape[1]))\n",
    "\n",
    "l=[]\n",
    "for i in range(bs):\n",
    "    prior_block[i]=d18O_[MC_idx[rep]+i,:]\n",
    "    #l.append(d18O_[MC_idx[rep]+i,:])"
   ]
  },
  {
   "cell_type": "code",
   "execution_count": 146,
   "metadata": {
    "scrolled": true
   },
   "outputs": [
    {
     "data": {
      "text/plain": [
       "18048"
      ]
     },
     "execution_count": 146,
     "metadata": {},
     "output_type": "execute_result"
    }
   ],
   "source": [
    "d18O_red.shape[1]"
   ]
  },
  {
   "cell_type": "code",
   "execution_count": 188,
   "metadata": {},
   "outputs": [
    {
     "data": {
      "text/plain": [
       "(1000, 18048)"
      ]
     },
     "execution_count": 188,
     "metadata": {},
     "output_type": "execute_result"
    }
   ],
   "source": [
    "d18O_.shape"
   ]
  },
  {
   "cell_type": "code",
   "execution_count": null,
   "metadata": {},
   "outputs": [],
   "source": [
    "MC=MC_idx[rep]"
   ]
  },
  {
   "cell_type": "code",
   "execution_count": 187,
   "metadata": {},
   "outputs": [
    {
     "name": "stdout",
     "output_type": "stream",
     "text": [
      "CPU times: user 11 µs, sys: 14 µs, total: 25 µs\n",
      "Wall time: 28.1 µs\n"
     ]
    }
   ],
   "source": [
    "%%time\n",
    "block=np.empty((bs,nens,18048))"
   ]
  },
  {
   "cell_type": "code",
   "execution_count": 24,
   "metadata": {},
   "outputs": [],
   "source": [
    "def prior_block_nonumba(prior,nens,stack_size,bs,MC_idx):\n",
    "    block=np.empty((bs,nens,stack_size))\n",
    "    for i in range(bs):\n",
    "        block[i]=prior[MC_idx+i,:]\n",
    "    return block"
   ]
  },
  {
   "cell_type": "code",
   "execution_count": 132,
   "metadata": {},
   "outputs": [],
   "source": [
    "@njit(parallel=True,fastmath=True)\n",
    "def prior_block(prior,nens,stack_size,bs,MC):\n",
    "    block=np.empty((bs,nens,stack_size))\n",
    "    for i in prange(bs):\n",
    "        #for j in prange(nens):\n",
    "        #M=MC+i\n",
    "        for k in prange(stack_size):\n",
    "            for j in prange(nens):\n",
    "                block[i,j,k]=prior[MC[j]+i,k]\n",
    "    return block"
   ]
  },
  {
   "cell_type": "code",
   "execution_count": 135,
   "metadata": {},
   "outputs": [
    {
     "name": "stdout",
     "output_type": "stream",
     "text": [
      "39.6 ms ± 395 µs per loop (mean ± std. dev. of 10 runs, 10 loops each)\n"
     ]
    }
   ],
   "source": [
    "%%timeit -n 10 -r 10\n",
    "b=prior_block(d18O_,100,18048,20,MC_idx[0])"
   ]
  },
  {
   "cell_type": "code",
   "execution_count": 136,
   "metadata": {},
   "outputs": [
    {
     "name": "stdout",
     "output_type": "stream",
     "text": [
      "62.1 ms ± 84.1 µs per loop (mean ± std. dev. of 10 runs, 10 loops each)\n"
     ]
    }
   ],
   "source": [
    "%%timeit  -n 10 -r 10\n",
    "b2=prior_block_nonumba(d18O_,100,18048,20,MC_idx[0])"
   ]
  },
  {
   "cell_type": "code",
   "execution_count": 11,
   "metadata": {},
   "outputs": [],
   "source": [
    "@njit(parallel=True,fastmath=True)\n",
    "def prior_block_stack(prior,nens,stack_size,bs,MC_idx):\n",
    "    block=[]\n",
    "    for i in prange(bs):\n",
    "        block.append(prior[MC_idx+i,:])\n",
    "    return block"
   ]
  },
  {
   "cell_type": "code",
   "execution_count": 18,
   "metadata": {},
   "outputs": [
    {
     "name": "stdout",
     "output_type": "stream",
     "text": [
      "CPU times: user 206 ms, sys: 27.9 ms, total: 234 ms\n",
      "Wall time: 81.5 ms\n"
     ]
    }
   ],
   "source": [
    "%%time\n",
    "be=prior_block_stack(d18O_,100,18048,20,MC_idx[0])\n",
    "b=np.stack(be)"
   ]
  },
  {
   "cell_type": "markdown",
   "metadata": {},
   "source": [
    "# Means and Annomalies over prior block\n",
    "\n",
    "* We reshape the prior block to (bs,gridpoints*nens), and do the operations over axis0. Reshaping is a matter of nanoseconds\n",
    "\n",
    "The link to my Stackoverflow question:\n",
    "https://stackoverflow.com/questions/73214684/optimize-computation-of-anomaly-from-mean-along-one-axis-for-large-arrays\n",
    "\n",
    "- I also though of using np.add.reduceat (https://stackoverflow.com/questions/53178018/average-of-elements-in-a-subarray, response with 4 upvotes) for vectorising my code, but i dont think it is more efficient. Naive intents of vectorising the computation did not bring benefits. Up to now the numba solution is the best i came up with\n",
    "\n",
    "- Numba discussion for axis keyword in np mean: https://github.com/numba/numba/issues/1269\n"
   ]
  },
  {
   "cell_type": "code",
   "execution_count": 52,
   "metadata": {},
   "outputs": [
    {
     "name": "stdout",
     "output_type": "stream",
     "text": [
      "139 ns ± 0.0658 ns per loop (mean ± std. dev. of 7 runs, 10,000,000 loops each)\n"
     ]
    }
   ],
   "source": [
    "%%timeit\n",
    "prior_block_res=prior_block.reshape(20,-1)"
   ]
  },
  {
   "cell_type": "code",
   "execution_count": 142,
   "metadata": {},
   "outputs": [],
   "source": [
    "prior_block_res=prior_block.reshape(20,-1)"
   ]
  },
  {
   "cell_type": "code",
   "execution_count": 56,
   "metadata": {},
   "outputs": [
    {
     "name": "stdout",
     "output_type": "stream",
     "text": [
      "279 ms ± 39.9 ms per loop (mean ± std. dev. of 7 runs, 1 loop each)\n"
     ]
    }
   ],
   "source": [
    "%%timeit\n",
    "prior_ano=prior_block_res-prior_block_res.mean(axis=0)"
   ]
  },
  {
   "cell_type": "code",
   "execution_count": 139,
   "metadata": {},
   "outputs": [],
   "source": [
    "def numpy_no_numba(array_in,size):\n",
    "    s=array_in.shape\n",
    "    #number of subarrays along axis0\n",
    "    number=s[0]//size\n",
    "\n",
    "    mean=np.empty((number,s[1]))\n",
    "    anom=np.empty_like(array_in)\n",
    "\n",
    "    #loop over the subarrays\n",
    "    for i in range(number):\n",
    "        block=array_in[i*size:(i+1)*size,:]\n",
    "        block_mean=block.mean(axis=0)\n",
    "        mean[i]=block_mean\n",
    "        anom[i*size:(i+1)*size,:]=block-block_mean\n",
    "    \n",
    "    return mean,anom\n",
    "\n",
    "@njit(parallel=True)\n",
    "def numpy_with_numba(array_in,size):\n",
    "\n",
    "    s=array_in.shape\n",
    "    number=s[0]//size\n",
    "    \n",
    "    #Initialize array for mean and anomaly (latter has original size)\n",
    "    mean=np.empty((number,s[1]))\n",
    "    anom=np.empty_like(array_in)\n",
    "    \n",
    "    #looping over blocks if size!=s[0]\n",
    "    if number>1:\n",
    "        #loop over all points along axis1\n",
    "        for i in prange(s[1]):\n",
    "            for j in prange(number):\n",
    "                vals=array_in[j*size:(j+1)*size,i]\n",
    "                m=vals.mean()\n",
    "                mean[j,i]=m\n",
    "                anom[j*size:(j+1)*size,i]=vals-m\n",
    "    else:\n",
    "        for i in prange(s[1]):\n",
    "            vals=array_in[:,i]\n",
    "            m=vals.mean()\n",
    "            mean[0,i]=m\n",
    "            anom[:,i]=vals-m\n",
    "            \n",
    "    return mean,anom\n"
   ]
  },
  {
   "cell_type": "code",
   "execution_count": 104,
   "metadata": {},
   "outputs": [],
   "source": [
    "\n",
    "def numpy_no_numba_split(array_in,size):\n",
    "    \"\"\"\n",
    "    Input:\n",
    "        array: numpy array of size (A,B,C,...). A is the axis where the mean is taken\n",
    "        size: Integer which denominates size of block (along axis0) over which annomaly and mean is calcuation\n",
    "    \"\"\"\n",
    "    s=array_in.shape\n",
    "    #number of subarrays along axis0\n",
    "    number=s[0]//size\n",
    "       \n",
    "    if number!=1:\n",
    "        #Initialize array for mean and annomalies \n",
    "        mean=np.empty((number,s[1]))\n",
    "        anom=np.empty((number,size,s[1]))\n",
    "        #split input array along axis0\n",
    "        array_in_split=np.split(array_in,number,axis=0)\n",
    "\n",
    "        for i,a in enumerate(array_in_split):\n",
    "            m=a.mean(axis=0)\n",
    "            mean[i]=m\n",
    "            anom[i]=a-m\n",
    "        \n",
    "    else:\n",
    "        mean=array_in.mean(axis=0)\n",
    "        anom=array_in - mean\n",
    "        \n",
    "    return mean,anom.reshape(s[0],-1)"
   ]
  },
  {
   "cell_type": "code",
   "execution_count": 106,
   "metadata": {},
   "outputs": [
    {
     "name": "stdout",
     "output_type": "stream",
     "text": [
      "323 ms ± 31.2 ms per loop (mean ± std. dev. of 10 runs, 10 loops each)\n"
     ]
    }
   ],
   "source": [
    "%%timeit -r 10 -n 10\n",
    "m1,a1=numpy_no_numba_split(prior_block_res,2)"
   ]
  },
  {
   "cell_type": "code",
   "execution_count": 107,
   "metadata": {},
   "outputs": [
    {
     "name": "stdout",
     "output_type": "stream",
     "text": [
      "330 ms ± 15 ms per loop (mean ± std. dev. of 10 runs, 10 loops each)\n"
     ]
    }
   ],
   "source": [
    "%%timeit -r 10 -n 10\n",
    "m1,a1=numpy_no_numba(prior_block_res,2)"
   ]
  },
  {
   "cell_type": "code",
   "execution_count": 108,
   "metadata": {},
   "outputs": [
    {
     "name": "stdout",
     "output_type": "stream",
     "text": [
      "53.8 ms ± 426 µs per loop (mean ± std. dev. of 10 runs, 10 loops each)\n"
     ]
    }
   ],
   "source": [
    "%%timeit -r 10 -n 10\n",
    "m1,a1=numpy_with_numba(prior_block_res,2)"
   ]
  },
  {
   "cell_type": "code",
   "execution_count": 112,
   "metadata": {},
   "outputs": [
    {
     "name": "stdout",
     "output_type": "stream",
     "text": [
      "394 ms ± 18 ms per loop (mean ± std. dev. of 10 runs, 10 loops each)\n"
     ]
    }
   ],
   "source": [
    "%%timeit -r 10 -n 10\n",
    "m1,a1=numpy_no_numba_split(prior_block_res,5)"
   ]
  },
  {
   "cell_type": "code",
   "execution_count": 113,
   "metadata": {},
   "outputs": [
    {
     "name": "stdout",
     "output_type": "stream",
     "text": [
      "375 ms ± 4.49 ms per loop (mean ± std. dev. of 10 runs, 10 loops each)\n"
     ]
    }
   ],
   "source": [
    "%%timeit -r 10 -n 10\n",
    "m1,a1=numpy_no_numba(prior_block_res,5)"
   ]
  },
  {
   "cell_type": "code",
   "execution_count": 114,
   "metadata": {},
   "outputs": [
    {
     "name": "stdout",
     "output_type": "stream",
     "text": [
      "42.6 ms ± 467 µs per loop (mean ± std. dev. of 10 runs, 10 loops each)\n"
     ]
    }
   ],
   "source": [
    "%%timeit -r 10 -n 10\n",
    "m1,a1=numpy_with_numba(prior_block_res,5)"
   ]
  },
  {
   "cell_type": "code",
   "execution_count": 115,
   "metadata": {},
   "outputs": [
    {
     "name": "stdout",
     "output_type": "stream",
     "text": [
      "343 ms ± 18.3 ms per loop (mean ± std. dev. of 10 runs, 10 loops each)\n"
     ]
    }
   ],
   "source": [
    "%%timeit -r 10 -n 10\n",
    "m1,a1=numpy_no_numba_split(prior_block_res,10)"
   ]
  },
  {
   "cell_type": "code",
   "execution_count": 116,
   "metadata": {},
   "outputs": [
    {
     "name": "stdout",
     "output_type": "stream",
     "text": [
      "338 ms ± 6.01 ms per loop (mean ± std. dev. of 10 runs, 10 loops each)\n"
     ]
    }
   ],
   "source": [
    "%%timeit -r 10 -n 10\n",
    "m1,a1=numpy_no_numba(prior_block_res,10)"
   ]
  },
  {
   "cell_type": "code",
   "execution_count": 117,
   "metadata": {},
   "outputs": [
    {
     "name": "stdout",
     "output_type": "stream",
     "text": [
      "36.7 ms ± 536 µs per loop (mean ± std. dev. of 10 runs, 10 loops each)\n"
     ]
    }
   ],
   "source": [
    "%%timeit -r 10 -n 10\n",
    "m1,a1=numpy_with_numba(prior_block_res,10)"
   ]
  },
  {
   "cell_type": "code",
   "execution_count": 150,
   "metadata": {},
   "outputs": [
    {
     "name": "stdout",
     "output_type": "stream",
     "text": [
      "88 ms ± 471 µs per loop (mean ± std. dev. of 7 runs, 10 loops each)\n"
     ]
    }
   ],
   "source": [
    "%%timeit\n",
    "### ADD Back the mean\n",
    "\n",
    "m1,a1=numpy_with_numba(prior_block_res,10)\n",
    "new_prior=a1[:10]+m1[0]\n",
    "new_prior=a1[10:]+m1[1]"
   ]
  },
  {
   "cell_type": "code",
   "execution_count": 164,
   "metadata": {},
   "outputs": [
    {
     "name": "stdout",
     "output_type": "stream",
     "text": [
      "CPU times: user 153 ms, sys: 124 ms, total: 277 ms\n",
      "Wall time: 92.4 ms\n"
     ]
    }
   ],
   "source": [
    "%%time\n",
    "m1,a1=numpy_with_numba(prior_block_res,20)\n",
    "new_prior=m1+a1"
   ]
  },
  {
   "cell_type": "code",
   "execution_count": 198,
   "metadata": {},
   "outputs": [
    {
     "name": "stdout",
     "output_type": "stream",
     "text": [
      "CPU times: user 195 ms, sys: 132 ms, total: 327 ms\n",
      "Wall time: 111 ms\n"
     ]
    }
   ],
   "source": [
    "%%time\n",
    "m1,a1=numpy_with_numba(prior_block_res,10)\n",
    "b[:10]=a1[:10]+m1[0]\n",
    "b[10:20]=a1[10:]+m1[1]"
   ]
  },
  {
   "cell_type": "code",
   "execution_count": 182,
   "metadata": {},
   "outputs": [],
   "source": [
    "b=a1.copy()"
   ]
  },
  {
   "cell_type": "code",
   "execution_count": 199,
   "metadata": {},
   "outputs": [
    {
     "name": "stdout",
     "output_type": "stream",
     "text": [
      "CPU times: user 215 ms, sys: 125 ms, total: 340 ms\n",
      "Wall time: 114 ms\n"
     ]
    }
   ],
   "source": [
    "%%time\n",
    "m1,a1=numpy_with_numba(prior_block_res,5)\n",
    "b[:5]=a1[:5]+m1[0]\n",
    "b[5:10]=a1[5:10]+m1[1]\n",
    "b[10:15]=a1[10:15]+m1[1]\n",
    "b[15:20]=a1[15:20]+m1[1]"
   ]
  },
  {
   "cell_type": "code",
   "execution_count": 181,
   "metadata": {},
   "outputs": [
    {
     "data": {
      "text/plain": [
       "<function ndarray.copy>"
      ]
     },
     "execution_count": 181,
     "metadata": {},
     "output_type": "execute_result"
    }
   ],
   "source": [
    "b"
   ]
  },
  {
   "cell_type": "code",
   "execution_count": 146,
   "metadata": {},
   "outputs": [
    {
     "data": {
      "text/plain": [
       "(20, 1804800)"
      ]
     },
     "execution_count": 146,
     "metadata": {},
     "output_type": "execute_result"
    }
   ],
   "source": [
    "a1.shape"
   ]
  },
  {
   "cell_type": "code",
   "execution_count": null,
   "metadata": {},
   "outputs": [],
   "source": []
  },
  {
   "cell_type": "code",
   "execution_count": 88,
   "metadata": {},
   "outputs": [],
   "source": [
    "a=[prior_block_res+i for i in range(100)]"
   ]
  },
  {
   "cell_type": "code",
   "execution_count": 90,
   "metadata": {},
   "outputs": [
    {
     "name": "stdout",
     "output_type": "stream",
     "text": [
      "CPU times: user 10.7 s, sys: 12.7 s, total: 23.4 s\n",
      "Wall time: 23.4 s\n"
     ]
    }
   ],
   "source": [
    "%%time\n",
    "for i in range(100):\n",
    "    numpy_no_numba(a[i],5)"
   ]
  },
  {
   "cell_type": "code",
   "execution_count": 87,
   "metadata": {},
   "outputs": [
    {
     "name": "stdout",
     "output_type": "stream",
     "text": [
      "CPU times: user 10.8 ms, sys: 202 ms, total: 213 ms\n",
      "Wall time: 214 ms\n"
     ]
    },
    {
     "data": {
      "text/plain": [
       "array([[79.93955803, 79.93955803, 79.93955803, ..., 67.00354906,\n",
       "        67.00354906, 67.00354906],\n",
       "       [78.12277429, 78.12277429, 78.12277429, ..., 65.71694239,\n",
       "        65.71694239, 65.71694239],\n",
       "       [78.08883397, 78.08883397, 78.08883397, ..., 66.16226338,\n",
       "        66.16226338, 66.16226338],\n",
       "       ...,\n",
       "       [78.27077827, 78.27077827, 78.27077827, ..., 66.21571485,\n",
       "        66.21571485, 66.21571485],\n",
       "       [79.77113025, 79.77113025, 79.77113025, ..., 65.44080601,\n",
       "        65.44080601, 65.44080601],\n",
       "       [78.76716189, 78.76716189, 78.76716189, ..., 64.84271099,\n",
       "        64.84271099, 64.84271099]])"
      ]
     },
     "execution_count": 87,
     "metadata": {},
     "output_type": "execute_result"
    }
   ],
   "source": [
    "%%time\n",
    "prior_block_res+i"
   ]
  },
  {
   "cell_type": "code",
   "execution_count": null,
   "metadata": {},
   "outputs": [],
   "source": [
    "### Playing around with functions for mean calculation ...\n",
    "@njit\n",
    "def mean_calc(a):\n",
    "    \"\"\"\n",
    "    Input numpy array\n",
    "    \"\"\"\n",
    "    bs=a.shape[0]\n",
    "    l=a.shape[1]\n",
    "    #\n",
    "    m=np.empty(l)\n",
    "    for i in range(l):\n",
    "        m[i]=a[:,i].mean() \n",
    "    return m\n",
    "\n",
    "#explicitely parallelized\n",
    "@njit(parallel=True)\n",
    "def mean_calc_p(a):\n",
    "    \"\"\"\n",
    "    Input numpy array\n",
    "    \"\"\"\n",
    "    bs=a.shape[0]\n",
    "    l=a.shape[1]\n",
    "    #\n",
    "    m=np.empty(l)\n",
    "    for i in prange(l):\n",
    "        m[i]=a[:,i].mean() \n",
    "        #m[i]=a[:,i].sum()/bs\n",
    "    return m\n",
    "\n",
    "#explicitely fastmath\n",
    "@njit(fastmath=True)\n",
    "def mean_calc_fm(a):\n",
    "    \"\"\"\n",
    "    Input numpy array\n",
    "    \"\"\"\n",
    "    bs=a.shape[0]\n",
    "    l=a.shape[1]\n",
    "    #\n",
    "    m=np.empty(l)\n",
    "    for i in range(l):\n",
    "        m[i]=a[:,i].mean() \n",
    "    return m\n",
    "\n",
    "#explicitely fastmath\n",
    "@vectorize(target=\"parallel\")\n",
    "def mean_calc_vec(a):\n",
    "    \"\"\"\n",
    "    Input numpy array\n",
    "    \"\"\"\n",
    "    bs=a.shape[0]\n",
    "    l=a.shape[1]\n",
    "    #\n",
    "    m=np.empty(l)\n",
    "    for i in prange(l):\n",
    "        m[i]=a[:,i].mean() \n",
    "    return m"
   ]
  }
 ],
 "metadata": {
  "kernelspec": {
   "display_name": "paleoda_clean_kernel",
   "language": "python",
   "name": "paleoda_clean_kernel"
  },
  "language_info": {
   "codemirror_mode": {
    "name": "ipython",
    "version": 3
   },
   "file_extension": ".py",
   "mimetype": "text/x-python",
   "name": "python",
   "nbconvert_exporter": "python",
   "pygments_lexer": "ipython3",
   "version": "3.10.4"
  }
 },
 "nbformat": 4,
 "nbformat_minor": 4
}
